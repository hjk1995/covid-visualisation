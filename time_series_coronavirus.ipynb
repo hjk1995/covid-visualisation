{
 "cells": [
  {
   "cell_type": "code",
   "execution_count": 182,
   "metadata": {
    "slideshow": {
     "slide_type": "slide"
    }
   },
   "outputs": [],
   "source": [
    "import numpy as np\n",
    "import pandas as pd\n",
    "import requests\n",
    "import io\n",
    "import plotly.express as px\n",
    "import qgrid\n",
    "import plotly.graph_objects as go"
   ]
  },
  {
   "cell_type": "code",
   "execution_count": 183,
   "metadata": {
    "slideshow": {
     "slide_type": "subslide"
    }
   },
   "outputs": [],
   "source": [
    "RECOVERED='Recovered'\n",
    "DEATH='Deaths'\n",
    "CONFIRMED='Confirmed'\n",
    "INFECTED='Infected'"
   ]
  },
  {
   "cell_type": "code",
   "execution_count": 184,
   "metadata": {},
   "outputs": [],
   "source": [
    "confirmed_url='https://raw.githubusercontent.com/CSSEGISandData/COVID-19/master/csse_covid_19_data/csse_covid_19_time_series/time_series_covid19_confirmed_global.csv'\n",
    "confirmed_data=pd.read_csv(confirmed_url)\n",
    "confirmed_data.to_csv('confirmed_data.csv')\n",
    "\n",
    "death_url='https://raw.githubusercontent.com/CSSEGISandData/COVID-19/master/csse_covid_19_data/csse_covid_19_time_series/time_series_covid19_deaths_global.csv'\n",
    "death_data=pd.read_csv(death_url)\n",
    "death_data.to_csv('death_data.csv')\n",
    "\n",
    "recovered_url='https://raw.githubusercontent.com/CSSEGISandData/COVID-19/master/csse_covid_19_data/csse_covid_19_time_series/time_series_covid19_recovered_global.csv'\n",
    "recovered_data=pd.read_csv(recovered_url)\n",
    "recovered_data.to_csv('recovered_data.csv')\n",
    "\n",
    "LAST_COLUMN=confirmed_data.columns[-1]\n",
    "\n",
    "# confirmed_data.info()"
   ]
  },
  {
   "cell_type": "code",
   "execution_count": 185,
   "metadata": {},
   "outputs": [],
   "source": [
    "def extractDataFromCountry(dataset,country):\n",
    "    country_data = dataset[dataset['Country/Region']==country]\n",
    "    return country_data"
   ]
  },
  {
   "cell_type": "code",
   "execution_count": 186,
   "metadata": {},
   "outputs": [],
   "source": [
    "confirm_dataset=pd.DataFrame(confirmed_data,columns=['Province/State','Country/Region','Lat','Long',LAST_COLUMN]).rename(columns={LAST_COLUMN:CONFIRMED})\n",
    "death_dataset=pd.DataFrame(death_data,columns=['Province/State','Country/Region','Lat','Long',LAST_COLUMN]).rename(columns={LAST_COLUMN:DEATH})\n",
    "recover_dataset=pd.DataFrame(recovered_data,columns=['Province/State','Country/Region','Lat','Long',LAST_COLUMN]).rename(columns={LAST_COLUMN:RECOVERED})\n",
    "merged_dataset=confirm_dataset.merge(death_dataset,on=['Province/State','Country/Region','Lat','Long']).merge(recover_dataset,on=['Province/State','Country/Region','Lat','Long'])\n",
    "\n",
    "merged_dataset[INFECTED] = merged_dataset[CONFIRMED] - merged_dataset[DEATH] -merged_dataset[RECOVERED]\n",
    "merged_dataset['Country/Region'] = merged_dataset['Country/Region'].replace('Mainland China', 'China')\n",
    "merged_dataset[['Province/State']] = merged_dataset[['Province/State']].fillna('NA')\n",
    "merged_dataset[[CONFIRMED, DEATH, RECOVERED, INFECTED]] = merged_dataset[[CONFIRMED, DEATH, RECOVERED, INFECTED]].fillna(0)\n"
   ]
  },
  {
   "cell_type": "code",
   "execution_count": 187,
   "metadata": {},
   "outputs": [
    {
     "data": {
      "text/html": [
       "<div>\n",
       "<style scoped>\n",
       "    .dataframe tbody tr th:only-of-type {\n",
       "        vertical-align: middle;\n",
       "    }\n",
       "\n",
       "    .dataframe tbody tr th {\n",
       "        vertical-align: top;\n",
       "    }\n",
       "\n",
       "    .dataframe thead th {\n",
       "        text-align: right;\n",
       "    }\n",
       "</style>\n",
       "<table border=\"1\" class=\"dataframe\">\n",
       "  <thead>\n",
       "    <tr style=\"text-align: right;\">\n",
       "      <th></th>\n",
       "      <th>Country/Region</th>\n",
       "      <th>Lat</th>\n",
       "      <th>Long</th>\n",
       "      <th>Confirmed</th>\n",
       "      <th>Deaths</th>\n",
       "      <th>Recovered</th>\n",
       "      <th>Infected</th>\n",
       "    </tr>\n",
       "  </thead>\n",
       "  <tbody>\n",
       "    <tr>\n",
       "      <th>0</th>\n",
       "      <td>Afghanistan</td>\n",
       "      <td>33.0000</td>\n",
       "      <td>65.0000</td>\n",
       "      <td>120</td>\n",
       "      <td>4</td>\n",
       "      <td>2</td>\n",
       "      <td>114</td>\n",
       "    </tr>\n",
       "    <tr>\n",
       "      <th>1</th>\n",
       "      <td>Albania</td>\n",
       "      <td>41.1533</td>\n",
       "      <td>20.1683</td>\n",
       "      <td>212</td>\n",
       "      <td>10</td>\n",
       "      <td>33</td>\n",
       "      <td>169</td>\n",
       "    </tr>\n",
       "    <tr>\n",
       "      <th>2</th>\n",
       "      <td>Algeria</td>\n",
       "      <td>28.0339</td>\n",
       "      <td>1.6596</td>\n",
       "      <td>511</td>\n",
       "      <td>31</td>\n",
       "      <td>31</td>\n",
       "      <td>449</td>\n",
       "    </tr>\n",
       "    <tr>\n",
       "      <th>3</th>\n",
       "      <td>Andorra</td>\n",
       "      <td>42.5063</td>\n",
       "      <td>1.5218</td>\n",
       "      <td>334</td>\n",
       "      <td>6</td>\n",
       "      <td>1</td>\n",
       "      <td>327</td>\n",
       "    </tr>\n",
       "    <tr>\n",
       "      <th>4</th>\n",
       "      <td>Angola</td>\n",
       "      <td>-11.2027</td>\n",
       "      <td>17.8739</td>\n",
       "      <td>7</td>\n",
       "      <td>2</td>\n",
       "      <td>0</td>\n",
       "      <td>5</td>\n",
       "    </tr>\n",
       "    <tr>\n",
       "      <th>...</th>\n",
       "      <td>...</td>\n",
       "      <td>...</td>\n",
       "      <td>...</td>\n",
       "      <td>...</td>\n",
       "      <td>...</td>\n",
       "      <td>...</td>\n",
       "      <td>...</td>\n",
       "    </tr>\n",
       "    <tr>\n",
       "      <th>168</th>\n",
       "      <td>Venezuela</td>\n",
       "      <td>6.4238</td>\n",
       "      <td>-66.5897</td>\n",
       "      <td>119</td>\n",
       "      <td>2</td>\n",
       "      <td>39</td>\n",
       "      <td>78</td>\n",
       "    </tr>\n",
       "    <tr>\n",
       "      <th>169</th>\n",
       "      <td>Vietnam</td>\n",
       "      <td>16.0000</td>\n",
       "      <td>108.0000</td>\n",
       "      <td>188</td>\n",
       "      <td>0</td>\n",
       "      <td>25</td>\n",
       "      <td>163</td>\n",
       "    </tr>\n",
       "    <tr>\n",
       "      <th>170</th>\n",
       "      <td>West Bank and Gaza</td>\n",
       "      <td>31.9522</td>\n",
       "      <td>35.2332</td>\n",
       "      <td>109</td>\n",
       "      <td>1</td>\n",
       "      <td>18</td>\n",
       "      <td>90</td>\n",
       "    </tr>\n",
       "    <tr>\n",
       "      <th>171</th>\n",
       "      <td>Zambia</td>\n",
       "      <td>-15.4167</td>\n",
       "      <td>28.2833</td>\n",
       "      <td>29</td>\n",
       "      <td>0</td>\n",
       "      <td>0</td>\n",
       "      <td>29</td>\n",
       "    </tr>\n",
       "    <tr>\n",
       "      <th>172</th>\n",
       "      <td>Zimbabwe</td>\n",
       "      <td>-20.0000</td>\n",
       "      <td>30.0000</td>\n",
       "      <td>7</td>\n",
       "      <td>1</td>\n",
       "      <td>0</td>\n",
       "      <td>6</td>\n",
       "    </tr>\n",
       "  </tbody>\n",
       "</table>\n",
       "<p>173 rows × 7 columns</p>\n",
       "</div>"
      ],
      "text/plain": [
       "         Country/Region      Lat      Long  Confirmed  Deaths  Recovered  \\\n",
       "0           Afghanistan  33.0000   65.0000        120       4          2   \n",
       "1               Albania  41.1533   20.1683        212      10         33   \n",
       "2               Algeria  28.0339    1.6596        511      31         31   \n",
       "3               Andorra  42.5063    1.5218        334       6          1   \n",
       "4                Angola -11.2027   17.8739          7       2          0   \n",
       "..                  ...      ...       ...        ...     ...        ...   \n",
       "168           Venezuela   6.4238  -66.5897        119       2         39   \n",
       "169             Vietnam  16.0000  108.0000        188       0         25   \n",
       "170  West Bank and Gaza  31.9522   35.2332        109       1         18   \n",
       "171              Zambia -15.4167   28.2833         29       0          0   \n",
       "172            Zimbabwe -20.0000   30.0000          7       1          0   \n",
       "\n",
       "     Infected  \n",
       "0         114  \n",
       "1         169  \n",
       "2         449  \n",
       "3         327  \n",
       "4           5  \n",
       "..        ...  \n",
       "168        78  \n",
       "169       163  \n",
       "170        90  \n",
       "171        29  \n",
       "172         6  \n",
       "\n",
       "[173 rows x 7 columns]"
      ]
     },
     "execution_count": 187,
     "metadata": {},
     "output_type": "execute_result"
    }
   ],
   "source": [
    "merged_dataset_latest = merged_dataset.groupby('Country/Region').sum().reset_index()\n",
    "# merged_dataset_latest=merged_dataset[merged_dataset['Country/Region']=='Canada']\n",
    "merged_dataset_latest\n",
    "# confirmed_data_latest.head(100)"
   ]
  },
  {
   "cell_type": "code",
   "execution_count": 188,
   "metadata": {},
   "outputs": [
    {
     "data": {
      "text/html": [
       "<div>\n",
       "<style scoped>\n",
       "    .dataframe tbody tr th:only-of-type {\n",
       "        vertical-align: middle;\n",
       "    }\n",
       "\n",
       "    .dataframe tbody tr th {\n",
       "        vertical-align: top;\n",
       "    }\n",
       "\n",
       "    .dataframe thead th {\n",
       "        text-align: right;\n",
       "    }\n",
       "</style>\n",
       "<table border=\"1\" class=\"dataframe\">\n",
       "  <thead>\n",
       "    <tr style=\"text-align: right;\">\n",
       "      <th></th>\n",
       "      <th>Province/State</th>\n",
       "      <th>Country/Region</th>\n",
       "      <th>Lat</th>\n",
       "      <th>Long</th>\n",
       "      <th>Confirmed</th>\n",
       "      <th>Deaths</th>\n",
       "      <th>Recovered</th>\n",
       "      <th>Infected</th>\n",
       "    </tr>\n",
       "  </thead>\n",
       "  <tbody>\n",
       "  </tbody>\n",
       "</table>\n",
       "</div>"
      ],
      "text/plain": [
       "Empty DataFrame\n",
       "Columns: [Province/State, Country/Region, Lat, Long, Confirmed, Deaths, Recovered, Infected]\n",
       "Index: []"
      ]
     },
     "execution_count": 188,
     "metadata": {},
     "output_type": "execute_result"
    }
   ],
   "source": [
    "# extractDataFromCountry(merged_dataset,'India')\n",
    "extractDataFromCountry(merged_dataset,'Canada')"
   ]
  },
  {
   "cell_type": "code",
   "execution_count": 195,
   "metadata": {},
   "outputs": [
    {
     "name": "stderr",
     "output_type": "stream",
     "text": [
      "C:\\Users\\harsh\\Anaconda3\\envs\\anomaly-detection\\lib\\site-packages\\ipykernel_launcher.py:1: FutureWarning:\n",
      "\n",
      "Indexing with multiple keys (implicitly converted to a tuple of keys) will be deprecated, use a list instead.\n",
      "\n",
      "C:\\Users\\harsh\\Anaconda3\\envs\\anomaly-detection\\lib\\site-packages\\ipykernel_launcher.py:2: FutureWarning:\n",
      "\n",
      "Indexing with multiple keys (implicitly converted to a tuple of keys) will be deprecated, use a list instead.\n",
      "\n"
     ]
    },
    {
     "data": {
      "text/html": [
       "<div>\n",
       "<style scoped>\n",
       "    .dataframe tbody tr th:only-of-type {\n",
       "        vertical-align: middle;\n",
       "    }\n",
       "\n",
       "    .dataframe tbody tr th {\n",
       "        vertical-align: top;\n",
       "    }\n",
       "\n",
       "    .dataframe thead th {\n",
       "        text-align: right;\n",
       "    }\n",
       "</style>\n",
       "<table border=\"1\" class=\"dataframe\">\n",
       "  <thead>\n",
       "    <tr style=\"text-align: right;\">\n",
       "      <th></th>\n",
       "      <th>Country/Region</th>\n",
       "      <th>Confirmed</th>\n",
       "      <th>Deaths</th>\n",
       "      <th>Recovered</th>\n",
       "      <th>Infected</th>\n",
       "      <th>Outcome Cases</th>\n",
       "      <th>Death Rate</th>\n",
       "      <th>Recovery Rate</th>\n",
       "    </tr>\n",
       "  </thead>\n",
       "  <tbody>\n",
       "    <tr>\n",
       "      <th>75</th>\n",
       "      <td>India</td>\n",
       "      <td>1024</td>\n",
       "      <td>27</td>\n",
       "      <td>95</td>\n",
       "      <td>902</td>\n",
       "      <td>122</td>\n",
       "      <td>22.131148</td>\n",
       "      <td>77.868852</td>\n",
       "    </tr>\n",
       "  </tbody>\n",
       "</table>\n",
       "</div>"
      ],
      "text/plain": [
       "   Country/Region  Confirmed  Deaths  Recovered  Infected  Outcome Cases  \\\n",
       "75          India       1024      27         95       902            122   \n",
       "\n",
       "    Death Rate  Recovery Rate  \n",
       "75   22.131148      77.868852  "
      ]
     },
     "execution_count": 195,
     "metadata": {},
     "output_type": "execute_result"
    }
   ],
   "source": [
    "dataset_copy = merged_dataset.groupby(['Province/State','Country/Region','Lat','Long'])[CONFIRMED,DEATH,RECOVERED,INFECTED].sum().reset_index()\n",
    "stats = merged_dataset.groupby(['Country/Region'])[CONFIRMED,DEATH,RECOVERED,INFECTED].sum().reset_index()\n",
    "# dataset_copy=dataset_copy.sort_values('Recovery Rate',ascending=False)\n",
    "dataset_copy['size'] = dataset_copy['Confirmed'].pow(0.5)\n",
    "# dataset_copy=dataset_copy.reset_index()\n",
    "dataset_copy['HoverName'] = dataset_copy.apply(lambda x: (x[0]+' , '+x[1]) if x[0]!= 'NA' else (x[1]), axis=1)\n",
    "dataset_copy['Outcome Cases']=dataset_copy['Confirmed']-dataset_copy['Infected']\n",
    "dataset_copy['Death Rate']= (dataset_copy['Deaths']/dataset_copy['Outcome Cases'])*100\n",
    "dataset_copy['Recovery Rate']= (dataset_copy['Recovered']/dataset_copy['Outcome Cases'])*100\n",
    "dataset_copy=dataset_copy.sort_values('Recovery Rate',ascending=False)\n",
    "stats['Outcome Cases']=stats['Confirmed']-stats['Infected']\n",
    "stats['Death Rate']= (stats['Deaths']/stats['Outcome Cases'])*100\n",
    "stats['Recovery Rate']= (stats['Recovered']/stats['Outcome Cases'])*100\n",
    "stats=stats.sort_values('Recovery Rate',ascending=False)\n",
    "stats=stats[stats['Country/Region']=='India']\n",
    "stats"
   ]
  },
  {
   "cell_type": "code",
   "execution_count": 190,
   "metadata": {},
   "outputs": [
    {
     "data": {
      "text/html": [
       "<style  type=\"text/css\" >\n",
       "</style><table id=\"T_8593b4ba_722e_11ea_a8d0_ee5c688607f7\" ><caption>Coronavirus Stats</caption><thead>    <tr>        <th class=\"blank level0\" ></th>        <th class=\"col_heading level0 col0\" >Country/Region</th>        <th class=\"col_heading level0 col1\" >Confirmed</th>        <th class=\"col_heading level0 col2\" >Deaths</th>        <th class=\"col_heading level0 col3\" >Recovered</th>        <th class=\"col_heading level0 col4\" >Infected</th>        <th class=\"col_heading level0 col5\" >Outcome Cases</th>        <th class=\"col_heading level0 col6\" >Death Rate</th>        <th class=\"col_heading level0 col7\" >Recovery Rate</th>    </tr></thead><tbody>\n",
       "        </tbody></table>"
      ],
      "text/plain": [
       "<pandas.io.formats.style.Styler at 0x1bcfdfdecc8>"
      ]
     },
     "execution_count": 190,
     "metadata": {},
     "output_type": "execute_result"
    }
   ],
   "source": [
    "stats.style.background_gradient(cmap='Pastel1_r')\\\n",
    "    .set_properties(**{'max-width': '80px', 'font-size': '10pt'})\\\n",
    "    .set_caption(\"Coronavirus Stats\")\\\n",
    "    .set_precision(2)"
   ]
  },
  {
   "cell_type": "code",
   "execution_count": 191,
   "metadata": {},
   "outputs": [
    {
     "data": {
      "application/vnd.plotly.v1+json": {
       "config": {
        "plotlyServerURL": "https://plot.ly"
       },
       "data": [
        {
         "customdata": [
          [
           142,
           0,
           27,
           115,
           0,
           100
          ],
          [
           314,
           0,
           2,
           312,
           0,
           100
          ],
          [
           1,
           0,
           1,
           0,
           0,
           100
          ],
          [
           9,
           0,
           1,
           8,
           0,
           100
          ],
          [
           167,
           0,
           23,
           144,
           0,
           100
          ],
          [
           5,
           0,
           1,
           4,
           0,
           100
          ],
          [
           644,
           0,
           631,
           13,
           0,
           100
          ],
          [
           11,
           0,
           2,
           9,
           0,
           100
          ],
          [
           5,
           0,
           2,
           3,
           0,
           100
          ],
          [
           37,
           0,
           10,
           27,
           0,
           100
          ],
          [
           151,
           0,
           2,
           149,
           0,
           100
          ],
          [
           17,
           0,
           13,
           4,
           0,
           100
          ],
          [
           347,
           0,
           1,
           346,
           0,
           100
          ],
          [
           255,
           0,
           67,
           188,
           0,
           100
          ],
          [
           50,
           0,
           1,
           49,
           0,
           100
          ],
          [
           15,
           0,
           1,
           14,
           0,
           100
          ],
          [
           91,
           0,
           18,
           73,
           0,
           100
          ],
          [
           21,
           0,
           1,
           20,
           0,
           100
          ],
          [
           103,
           0,
           21,
           82,
           0,
           100
          ],
          [
           11,
           0,
           1,
           10,
           0,
           100
          ],
          [
           94,
           0,
           32,
           62,
           0,
           100
          ],
          [
           14,
           0,
           1,
           13,
           0,
           100
          ],
          [
           299,
           0,
           6,
           293,
           0,
           100
          ],
          [
           75,
           0,
           75,
           0,
           0,
           100
          ],
          [
           77,
           0,
           2,
           75,
           0,
           100
          ],
          [
           1,
           0,
           1,
           0,
           0,
           100
          ],
          [
           18,
           0,
           18,
           0,
           0,
           100
          ],
          [
           10,
           0,
           2,
           8,
           0,
           100
          ],
          [
           22,
           0,
           2,
           20,
           0,
           100
          ],
          [
           65,
           0,
           14,
           51,
           0,
           100
          ],
          [
           183,
           0,
           1,
           182,
           0,
           100
          ],
          [
           188,
           0,
           25,
           163,
           0,
           100
          ],
          [
           28,
           0,
           6,
           22,
           0,
           100
          ],
          [
           159,
           0,
           70,
           89,
           0,
           100
          ],
          [
           136,
           0,
           133,
           3,
           0,
           100
          ],
          [
           66,
           0,
           5,
           61,
           0,
           100
          ],
          [
           1254,
           1,
           1225,
           28,
           0.08156606851549755,
           99.9184339314845
          ],
          [
           937,
           1,
           934,
           2,
           0.10695187165775401,
           99.89304812834224
          ],
          [
           338,
           1,
           295,
           42,
           0.33783783783783783,
           99.66216216216216
          ],
          [
           1018,
           4,
           1014,
           0,
           0.3929273084479371,
           99.60707269155206
          ],
          [
           550,
           3,
           536,
           11,
           0.5565862708719851,
           99.44341372912801
          ],
          [
           1475,
           8,
           1349,
           118,
           0.5895357406042742,
           99.41046425939572
          ],
          [
           990,
           6,
           984,
           0,
           0.6060606060606061,
           99.39393939393939
          ],
          [
           254,
           2,
           250,
           2,
           0.7936507936507936,
           99.20634920634922
          ],
          [
           772,
           7,
           752,
           13,
           0.922266139657444,
           99.07773386034255
          ],
          [
           579,
           6,
           570,
           3,
           1.0416666666666665,
           98.95833333333334
          ],
          [
           98,
           1,
           92,
           5,
           1.0752688172043012,
           98.9247311827957
          ],
          [
           180,
           2,
           172,
           6,
           1.1494252873563218,
           98.85057471264368
          ],
          [
           253,
           3,
           242,
           8,
           1.2244897959183674,
           98.77551020408163
          ],
          [
           95,
           1,
           74,
           20,
           1.3333333333333335,
           98.66666666666667
          ],
          [
           146,
           2,
           144,
           0,
           1.36986301369863,
           98.63013698630137
          ],
          [
           844,
           3,
           212,
           629,
           1.3953488372093024,
           98.6046511627907
          ],
          [
           499,
           4,
           272,
           223,
           1.4492753623188406,
           98.55072463768117
          ],
          [
           1020,
           2,
           135,
           883,
           1.4598540145985401,
           98.54014598540147
          ],
          [
           492,
           5,
           334,
           153,
           1.4749262536873156,
           98.52507374631269
          ],
          [
           138,
           2,
           125,
           11,
           1.574803149606299,
           98.4251968503937
          ],
          [
           134,
           2,
           124,
           8,
           1.5873015873015872,
           98.4126984126984
          ],
          [
           712,
           10,
           603,
           99,
           1.631321370309951,
           98.36867862969005
          ],
          [
           1276,
           22,
           1251,
           3,
           1.728201099764336,
           98.27179890023567
          ],
          [
           514,
           1,
           56,
           457,
           1.7543859649122806,
           98.24561403508771
          ],
          [
           319,
           6,
           310,
           3,
           1.89873417721519,
           98.10126582278481
          ],
          [
           577,
           8,
           412,
           157,
           1.9047619047619049,
           98.09523809523809
          ],
          [
           634,
           1,
           48,
           585,
           2.0408163265306123,
           97.95918367346938
          ],
          [
           769,
           4,
           191,
           574,
           2.051282051282051,
           97.94871794871794
          ],
          [
           166,
           3,
           133,
           30,
           2.2058823529411766,
           97.79411764705883
          ],
          [
           484,
           13,
           469,
           2,
           2.6970954356846475,
           97.30290456431536
          ],
          [
           126,
           1,
           34,
           91,
           2.857142857142857,
           97.14285714285714
          ],
          [
           9583,
           152,
           5033,
           4398,
           2.931533269045323,
           97.06846673095467
          ],
          [
           168,
           6,
           168,
           -6,
           3.4482758620689653,
           96.55172413793103
          ],
          [
           641,
           4,
           112,
           525,
           3.4482758620689653,
           96.55172413793103
          ],
          [
           76,
           3,
           73,
           0,
           3.9473684210526314,
           96.05263157894737
          ],
          [
           284,
           1,
           20,
           263,
           4.761904761904762,
           95.23809523809523
          ],
          [
           67801,
           3182,
           62570,
           2049,
           4.839396520257939,
           95.16060347974205
          ],
          [
           119,
           2,
           39,
           78,
           4.878048780487805,
           95.1219512195122
          ],
          [
           570,
           3,
           58,
           509,
           4.918032786885246,
           95.08196721311475
          ],
          [
           109,
           1,
           18,
           90,
           5.263157894736842,
           94.73684210526315
          ],
          [
           62095,
           533,
           9211,
           52351,
           5.470032840722496,
           94.5299671592775
          ],
          [
           1280,
           2,
           31,
           1247,
           6.0606060606060606,
           93.93939393939394
          ],
          [
           298,
           2,
           30,
           266,
           6.25,
           93.75
          ],
          [
           311,
           2,
           28,
           281,
           6.666666666666667,
           93.33333333333333
          ],
          [
           1388,
           7,
           97,
           1284,
           6.730769230769231,
           93.26923076923077
          ],
          [
           2470,
           35,
           388,
           2047,
           8.274231678486997,
           91.725768321513
          ],
          [
           117,
           1,
           11,
           105,
           8.333333333333332,
           91.66666666666666
          ],
          [
           2139,
           7,
           75,
           2057,
           8.536585365853659,
           91.46341463414635
          ],
          [
           424,
           3,
           30,
           391,
           9.090909090909092,
           90.9090909090909
          ],
          [
           34,
           1,
           10,
           23,
           9.090909090909092,
           90.9090909090909
          ],
          [
           4247,
           15,
           132,
           4100,
           10.204081632653061,
           89.79591836734694
          ],
          [
           713,
           6,
           52,
           655,
           10.344827586206897,
           89.65517241379311
          ],
          [
           1299,
           8,
           66,
           1225,
           10.81081081081081,
           89.1891891891892
          ],
          [
           1534,
           8,
           64,
           1462,
           11.11111111111111,
           88.88888888888889
          ],
          [
           1866,
           54,
           424,
           1388,
           11.297071129707113,
           88.70292887029288
          ],
          [
           679,
           3,
           20,
           656,
           13.043478260869565,
           86.95652173913044
          ],
          [
           259,
           3,
           18,
           238,
           14.285714285714285,
           85.71428571428571
          ],
          [
           8788,
           86,
           479,
           8223,
           15.221238938053098,
           84.77876106194691
          ],
          [
           14829,
           300,
           1595,
           12934,
           15.8311345646438,
           84.1688654353562
          ],
          [
           1815,
           43,
           206,
           1566,
           17.269076305220885,
           82.73092369477911
          ],
          [
           38309,
           2640,
           12391,
           23278,
           17.56370168318808,
           82.43629831681191
          ],
          [
           106,
           4,
           17,
           85,
           19.047619047619047,
           80.95238095238095
          ],
          [
           165,
           1,
           4,
           160,
           20,
           80
          ],
          [
           656,
           2,
           8,
           646,
           20,
           80
          ],
          [
           745,
           19,
           72,
           654,
           20.87912087912088,
           79.12087912087912
          ],
          [
           209,
           4,
           15,
           190,
           21.052631578947366,
           78.94736842105263
          ],
          [
           1024,
           27,
           95,
           902,
           22.131147540983605,
           77.8688524590164
          ],
          [
           144,
           2,
           7,
           135,
           22.22222222222222,
           77.77777777777779
          ],
          [
           547,
           42,
           143,
           362,
           22.702702702702705,
           77.29729729729729
          ],
          [
           609,
           40,
           132,
           437,
           23.25581395348837,
           76.74418604651163
          ],
          [
           212,
           10,
           33,
           169,
           23.25581395348837,
           76.74418604651163
          ],
          [
           10836,
           431,
           1359,
           9046,
           24.078212290502794,
           75.9217877094972
          ],
          [
           48,
           5,
           15,
           28,
           25,
           75
          ],
          [
           111,
           1,
           3,
           107,
           25,
           75
          ],
          [
           214,
           5,
           15,
           194,
           25,
           75
          ],
          [
           438,
           10,
           30,
           398,
           25,
           75
          ],
          [
           40174,
           2606,
           7202,
           30366,
           26.57014681892333,
           73.42985318107668
          ],
          [
           408,
           13,
           34,
           361,
           27.659574468085108,
           72.3404255319149
          ],
          [
           80110,
           6803,
           14709,
           58598,
           31.624209743399035,
           68.37579025660096
          ],
          [
           1597,
           14,
           29,
           1554,
           32.55813953488372,
           67.44186046511628
          ],
          [
           8,
           1,
           2,
           5,
           33.33333333333333,
           66.66666666666666
          ],
          [
           32,
           1,
           2,
           29,
           33.33333333333333,
           66.66666666666666
          ],
          [
           222,
           12,
           23,
           187,
           34.285714285714285,
           65.71428571428571
          ],
          [
           1950,
           21,
           40,
           1889,
           34.42622950819672,
           65.57377049180327
          ],
          [
           346,
           8,
           14,
           324,
           36.36363636363637,
           63.63636363636363
          ],
          [
           314,
           2,
           3,
           309,
           40,
           60
          ],
          [
           1156,
           38,
           52,
           1066,
           42.22222222222222,
           57.77777777777777
          ],
          [
           323,
           6,
           8,
           309,
           42.857142857142854,
           57.14285714285714
          ],
          [
           139,
           3,
           4,
           132,
           42.857142857142854,
           57.14285714285714
          ],
          [
           97689,
           10779,
           13030,
           73880,
           45.272796001512035,
           54.72720399848797
          ],
          [
           140886,
           2467,
           2665,
           135754,
           48.0709275136399,
           51.9290724863601
          ],
          [
           511,
           31,
           31,
           449,
           50,
           50
          ],
          [
           25,
           1,
           1,
           23,
           50,
           50
          ],
          [
           42,
           1,
           1,
           40,
           50,
           50
          ],
          [
           702,
           10,
           10,
           682,
           50,
           50
          ],
          [
           263,
           2,
           2,
           259,
           50,
           50
          ],
          [
           110,
           3,
           3,
           104,
           50,
           50
          ],
          [
           46,
           1,
           1,
           44,
           50,
           50
          ],
          [
           94,
           1,
           1,
           92,
           50,
           50
          ],
          [
           730,
           11,
           10,
           709,
           52.38095238095239,
           47.61904761904761
          ],
          [
           1240,
           11,
           10,
           1219,
           52.38095238095239,
           47.61904761904761
          ],
          [
           852,
           18,
           16,
           818,
           52.94117647058824,
           47.05882352941176
          ],
          [
           139,
           6,
           5,
           128,
           54.54545454545454,
           45.45454545454545
          ],
          [
           9217,
           131,
           105,
           8981,
           55.50847457627118,
           44.49152542372881
          ],
          [
           2817,
           16,
           11,
           2790,
           59.25925925925925,
           40.74074074074074
          ],
          [
           475,
           10,
           6,
           459,
           62.5,
           37.5
          ],
          [
           1418,
           71,
           42,
           1305,
           62.83185840707964,
           37.16814159292036
          ],
          [
           1285,
           114,
           64,
           1107,
           64.04494382022472,
           35.95505617977528
          ],
          [
           479,
           26,
           13,
           440,
           66.66666666666666,
           33.33333333333333
          ],
          [
           1791,
           8,
           4,
           1779,
           66.66666666666666,
           33.33333333333333
          ],
          [
           120,
           4,
           2,
           114,
           66.66666666666666,
           33.33333333333333
          ],
          [
           259,
           6,
           3,
           250,
           66.66666666666666,
           33.33333333333333
          ],
          [
           152,
           5,
           2,
           145,
           71.42857142857143,
           28.57142857142857
          ],
          [
           5962,
           119,
           43,
           5800,
           73.4567901234568,
           26.543209876543212
          ],
          [
           65,
           6,
           2,
           57,
           75,
           25
          ],
          [
           59,
           3,
           1,
           55,
           75,
           25
          ],
          [
           78,
           3,
           1,
           74,
           75,
           25
          ],
          [
           10866,
           771,
           250,
           9845,
           75.51420176297748,
           24.48579823702253
          ],
          [
           1862,
           22,
           7,
           1833,
           75.86206896551724,
           24.137931034482758
          ],
          [
           4284,
           25,
           7,
           4252,
           78.125,
           21.875
          ],
          [
           224,
           22,
           6,
           196,
           78.57142857142857,
           21.428571428571427
          ],
          [
           312,
           8,
           2,
           302,
           80,
           20
          ],
          [
           848,
           16,
           4,
           828,
           80,
           20
          ],
          [
           901,
           17,
           4,
           880,
           80.95238095238095,
           19.047619047619047
          ],
          [
           334,
           6,
           1,
           327,
           85.71428571428571,
           14.285714285714285
          ],
          [
           3700,
           110,
           16,
           3574,
           87.3015873015873,
           12.698412698412698
          ],
          [
           460,
           7,
           1,
           452,
           87.5,
           12.5
          ],
          [
           19522,
           1228,
           135,
           18159,
           90.0953778429934,
           9.904622157006603
          ],
          [
           2615,
           46,
           5,
           2564,
           90.19607843137256,
           9.803921568627452
          ],
          [
           859,
           39,
           3,
           817,
           92.85714285714286,
           7.142857142857142
          ],
          [
           1924,
           58,
           3,
           1863,
           95.08196721311475,
           4.918032786885246
          ],
          [
           4256,
           136,
           6,
           4114,
           95.77464788732394,
           4.225352112676056
          ],
          [
           2395,
           72,
           1,
           2322,
           98.63013698630137,
           1.36986301369863
          ],
          [
           6,
           1,
           0,
           5,
           100,
           0
          ],
          [
           4,
           1,
           0,
           3,
           100,
           0
          ],
          [
           8,
           1,
           0,
           7,
           100,
           0
          ],
          [
           108,
           2,
           0,
           106,
           100,
           0
          ],
          [
           81,
           1,
           0,
           80,
           100,
           0
          ],
          [
           18,
           1,
           0,
           17,
           100,
           0
          ],
          [
           8,
           1,
           0,
           7,
           100,
           0
          ],
          [
           107,
           3,
           0,
           104,
           100,
           0
          ],
          [
           93,
           1,
           0,
           92,
           100,
           0
          ],
          [
           18,
           1,
           0,
           17,
           100,
           0
          ],
          [
           85,
           1,
           0,
           84,
           100,
           0
          ],
          [
           7,
           1,
           0,
           6,
           100,
           0
          ],
          [
           7,
           1,
           0,
           6,
           100,
           0
          ],
          [
           4,
           1,
           0,
           3,
           100,
           0
          ],
          [
           741,
           13,
           0,
           728,
           100,
           0
          ],
          [
           304,
           1,
           0,
           303,
           100,
           0
          ],
          [
           6,
           1,
           0,
           5,
           100,
           0
          ],
          [
           7,
           2,
           0,
           5,
           100,
           0
          ],
          [
           2,
           0,
           0,
           2,
           null,
           null
          ],
          [
           2,
           0,
           0,
           2,
           null,
           null
          ],
          [
           30,
           0,
           0,
           30,
           null,
           null
          ],
          [
           42,
           0,
           0,
           42,
           null,
           null
          ],
          [
           63,
           0,
           0,
           63,
           null,
           null
          ],
          [
           5,
           0,
           0,
           5,
           null,
           null
          ],
          [
           7,
           0,
           0,
           7,
           null,
           null
          ],
          [
           33,
           0,
           0,
           33,
           null,
           null
          ],
          [
           2,
           0,
           0,
           2,
           null,
           null
          ],
          [
           6,
           0,
           0,
           6,
           null,
           null
          ],
          [
           4,
           0,
           0,
           4,
           null,
           null
          ],
          [
           10,
           0,
           0,
           10,
           null,
           null
          ],
          [
           3,
           0,
           0,
           3,
           null,
           null
          ],
          [
           3,
           0,
           0,
           3,
           null,
           null
          ],
          [
           19,
           0,
           0,
           19,
           null,
           null
          ],
          [
           18,
           0,
           0,
           18,
           null,
           null
          ],
          [
           11,
           0,
           0,
           11,
           null,
           null
          ],
          [
           24,
           0,
           0,
           24,
           null,
           null
          ],
          [
           12,
           0,
           0,
           12,
           null,
           null
          ],
          [
           12,
           0,
           0,
           12,
           null,
           null
          ],
          [
           9,
           0,
           0,
           9,
           null,
           null
          ],
          [
           5,
           0,
           0,
           5,
           null,
           null
          ],
          [
           9,
           0,
           0,
           9,
           null,
           null
          ],
          [
           16,
           0,
           0,
           16,
           null,
           null
          ],
          [
           2,
           0,
           0,
           2,
           null,
           null
          ],
          [
           6,
           0,
           0,
           6,
           null,
           null
          ],
          [
           84,
           0,
           0,
           84,
           null,
           null
          ],
          [
           8,
           0,
           0,
           8,
           null,
           null
          ],
          [
           3,
           0,
           0,
           3,
           null,
           null
          ],
          [
           8,
           0,
           0,
           8,
           null,
           null
          ],
          [
           56,
           0,
           0,
           56,
           null,
           null
          ],
          [
           2,
           0,
           0,
           2,
           null,
           null
          ],
          [
           39,
           0,
           0,
           39,
           null,
           null
          ],
          [
           12,
           0,
           0,
           12,
           null,
           null
          ],
          [
           1,
           0,
           0,
           1,
           null,
           null
          ],
          [
           70,
           0,
           0,
           70,
           null,
           null
          ],
          [
           2,
           0,
           0,
           2,
           null,
           null
          ],
          [
           8,
           0,
           0,
           8,
           null,
           null
          ],
          [
           3,
           0,
           0,
           3,
           null,
           null
          ],
          [
           8,
           0,
           0,
           8,
           null,
           null
          ],
          [
           33,
           0,
           0,
           33,
           null,
           null
          ],
          [
           29,
           0,
           0,
           29,
           null,
           null
          ],
          [
           15,
           0,
           0,
           15,
           null,
           null
          ],
          [
           15,
           0,
           0,
           15,
           null,
           null
          ],
          [
           5,
           0,
           0,
           5,
           null,
           null
          ],
          [
           6,
           0,
           0,
           6,
           null,
           null
          ],
          [
           11,
           0,
           0,
           11,
           null,
           null
          ],
          [
           4,
           0,
           0,
           4,
           null,
           null
          ]
         ],
         "geo": "geo",
         "hoverlabel": {
          "namelength": 0
         },
         "hovertemplate": "<b>%{hovertext}</b><br><br>size=%{marker.color}<br>Confirmed=%{customdata[0]}<br>Deaths=%{customdata[1]}<br>Recovered=%{customdata[2]}<br>Infected=%{customdata[3]}<br>Death Rate=%{customdata[4]}<br>Recovery Rate=%{customdata[5]}<br>Lat=%{lat}<br>Long=%{lon}",
         "hovertext": [
          "Senegal",
          "Slovakia",
          "Saint Vincent and the Grenadines",
          "Saint Lucia",
          "Oman",
          "Nepal",
          "Jiangsu , China",
          "Namibia",
          "Mauritania",
          "Macau , China",
          "Malta",
          "Maldives",
          "Latvia",
          "Kuwait",
          "Aruba , Netherlands",
          "Haiti",
          "Georgia",
          "Ethiopia",
          "Cambodia",
          "Bahamas",
          "Belarus",
          "Tanzania",
          "South Australia , Australia",
          "Ningxia , China",
          "Australian Capital Territory , Australia",
          "Tibet , China",
          "Qinghai , China",
          "Greenland , Denmark",
          "Bermuda , United Kingdom",
          "Gibraltar , United Kingdom",
          "Reunion , France",
          "Vietnam",
          "French Guiana , France",
          "Faroe Islands , Denmark",
          "Shanxi , China",
          "Tasmania , Australia",
          "Zhejiang , China",
          "Jiangxi , China",
          "Fujian , China",
          "Hunan , China",
          "Sichuan , China",
          "Guangdong , China",
          "Anhui , China",
          "Guangxi , China",
          "Shandong , China",
          "Chongqing , China",
          "Jilin , China",
          "Yunnan , China",
          "Shaanxi , China",
          "Inner Mongolia , China",
          "Guizhou , China",
          "Singapore",
          "Bahrain",
          "Iceland",
          "Shanghai , China",
          "Gansu , China",
          "Liaoning , China",
          "Diamond Princess",
          "Henan , China",
          "New Zealand",
          "Hebei , China",
          "Beijing , China",
          "Qatar",
          "Victoria , Australia",
          "Tianjin , China",
          "Heilongjiang , China",
          "Brunei",
          "Korea, South",
          "Hainan , China",
          "Hong Kong , China",
          "Xinjiang , China",
          "Kazakhstan",
          "Hubei , China",
          "Venezuela",
          "United Arab Emirates",
          "West Bank and Gaza",
          "Germany",
          "South Africa",
          "Taiwan*",
          "Western Australia , Australia",
          "Thailand",
          "Malaysia",
          "Sri Lanka",
          "Chile",
          "Armenia",
          "Guatemala",
          "Israel",
          "Croatia",
          "Saudi Arabia",
          "Russia",
          "Japan",
          "Estonia",
          "Jordan",
          "Austria",
          "Switzerland",
          "Romania",
          "Iran",
          "Guadeloupe , France",
          "Cote d'Ivoire",
          "Queensland , Australia",
          "Argentina",
          "Azerbaijan",
          "India",
          "Uzbekistan",
          "Iraq",
          "Egypt",
          "Albania",
          "Belgium",
          "Bangladesh",
          "Nigeria",
          "Cyprus",
          "Lebanon",
          "France",
          "Hungary",
          "Spain",
          "Pakistan",
          "Curacao , Netherlands",
          "Jamaica",
          "Burkina Faso",
          "Luxembourg",
          "Bulgaria",
          "Costa Rica",
          "Greece",
          "Bosnia and Herzegovina",
          "Cuba",
          "Italy",
          "US",
          "Algeria",
          "Togo",
          "Kenya",
          "Colombia",
          "Moldova",
          "Honduras",
          "Monaco",
          "Kosovo",
          "Slovenia",
          "Finland",
          "Peru",
          "Cameroon",
          "Turkey",
          "Czechia",
          "Ukraine",
          "Philippines",
          "Indonesia",
          "Morocco",
          "New South Wales , Australia",
          "Afghanistan",
          "North Macedonia",
          "Ghana",
          "Portugal",
          "Congo (Kinshasa)",
          "Paraguay",
          "Trinidad and Tobago",
          "Netherlands",
          "Poland",
          "Norway",
          "San Marino",
          "Tunisia",
          "Mexico",
          "Panama",
          "Andorra",
          "Sweden",
          "Lithuania",
          "United Kingdom",
          "Ireland",
          "Dominican Republic",
          "Ecuador",
          "Brazil",
          "Denmark",
          "Cabo Verde",
          "Nicaragua",
          "Cayman Islands , United Kingdom",
          "Channel Islands , United Kingdom",
          "Bolivia",
          "Niger",
          "Guyana",
          "Mauritius",
          "Martinique , France",
          "Mali",
          "Montenegro",
          "Zimbabwe",
          "Gabon",
          "Gambia",
          "Serbia",
          "Uruguay",
          "Sudan",
          "Angola",
          "Anguilla , United Kingdom",
          "British Virgin Islands , United Kingdom",
          "French Polynesia , France",
          "Isle of Man , United Kingdom",
          "Mayotte , France",
          "Montserrat , United Kingdom",
          "Antigua and Barbuda",
          "Barbados",
          "Belize",
          "Benin",
          "Bhutan",
          "Burma",
          "Central African Republic",
          "Chad",
          "Congo (Brazzaville)",
          "Djibouti",
          "Dominica",
          "El Salvador",
          "Equatorial Guinea",
          "Eritrea",
          "Eswatini",
          "Fiji",
          "Grenada",
          "Guinea",
          "Guinea-Bissau",
          "Holy See",
          "Kyrgyzstan",
          "Laos",
          "Liberia",
          "Libya",
          "Liechtenstein",
          "MS Zaandam",
          "Madagascar",
          "Mongolia",
          "Papua New Guinea",
          "Rwanda",
          "Saint Kitts and Nevis",
          "Seychelles",
          "Somalia",
          "Suriname",
          "Uganda",
          "Zambia",
          "New Caledonia , France",
          "Northern Territory , Australia",
          "Saint Barthelemy , France",
          "Sint Maarten , Netherlands",
          "St Martin , France",
          "Turks and Caicos Islands , United Kingdom"
         ],
         "lat": [
          14.4974,
          48.669,
          12.9843,
          13.9094,
          21,
          28.1667,
          32.9711,
          -22.9576,
          21.0079,
          22.1667,
          35.9375,
          3.2028,
          56.8796,
          29.5,
          12.5186,
          18.9712,
          42.3154,
          9.145,
          11.55,
          25.0343,
          53.7098,
          -6.369,
          -34.9285,
          37.2692,
          -35.4735,
          31.6927,
          35.7452,
          71.7069,
          32.3078,
          36.1408,
          -21.1351,
          16,
          3.9339,
          61.8926,
          37.5777,
          -41.4545,
          29.1832,
          27.614,
          26.0789,
          27.6104,
          30.6171,
          23.3417,
          31.8257,
          23.8298,
          36.3427,
          30.0572,
          43.6661,
          24.974,
          35.1917,
          44.0935,
          26.8154,
          1.2833,
          26.0275,
          64.9631,
          31.201999999999998,
          37.8099,
          41.2956,
          0,
          33.882,
          -40.9006,
          39.549,
          40.1824,
          25.3548,
          -37.8136,
          39.3054,
          47.861999999999995,
          4.5353,
          36,
          19.1959,
          22.3,
          41.1129,
          48.0196,
          30.9756,
          6.4238,
          24,
          31.9522,
          51,
          -30.5595,
          23.7,
          -31.9505,
          15,
          2.5,
          7,
          -35.6751,
          40.0691,
          15.7835,
          31,
          45.1,
          24,
          60,
          36,
          58.5953,
          31.24,
          47.5162,
          46.8182,
          45.9432,
          32,
          16.25,
          7.54,
          -28.0167,
          -38.4161,
          40.1431,
          21,
          41.3775,
          33,
          26,
          41.1533,
          50.8333,
          23.685,
          9.082,
          35.1264,
          33.8547,
          46.2276,
          47.1625,
          40,
          30.3753,
          12.1696,
          18.1096,
          12.2383,
          49.8153,
          42.7339,
          9.7489,
          39.0742,
          43.9159,
          22,
          43,
          37.0902,
          28.0339,
          8.6195,
          -0.0236,
          4.5709,
          47.4116,
          15.2,
          43.7333,
          42.602636,
          46.1512,
          64,
          -9.19,
          3.8480000000000003,
          38.9637,
          49.8175,
          48.3794,
          13,
          -0.7893,
          31.7917,
          -33.8688,
          33,
          41.6086,
          7.9465,
          39.3999,
          -4.0383,
          -23.4425,
          10.6918,
          52.1326,
          51.9194,
          60.472,
          43.9424,
          34,
          23.6345,
          8.538,
          42.5063,
          63,
          55.1694,
          55.3781,
          53.1424,
          18.7357,
          -1.8312,
          -14.235,
          56.2639,
          16.5388,
          12.8654,
          19.3133,
          49.3723,
          -16.2902,
          17.6078,
          5,
          -20.2,
          14.6415,
          17.570692,
          42.5,
          -20,
          -0.8037,
          13.4432,
          44.0165,
          -32.5228,
          12.8628,
          -11.2027,
          18.2206,
          18.4207,
          -17.6797,
          54.2361,
          -12.8275,
          16.7425,
          17.0608,
          13.1939,
          13.1939,
          9.3077,
          27.5142,
          21.9162,
          6.6111,
          15.4542,
          -4.0383,
          11.8251,
          15.415,
          13.7942,
          1.5,
          15.1794,
          -26.5225,
          -17.7134,
          12.1165,
          9.9456,
          11.8037,
          41.9029,
          41.2044,
          19.856270000000002,
          6.4281,
          26.3351,
          47.14,
          0,
          -18.7669,
          46.8625,
          -6.315,
          -1.9403,
          17.357822,
          -4.6796,
          5.1521,
          3.9193,
          1,
          -15.4167,
          -20.9043,
          -12.4634,
          17.9,
          18.0425,
          18.0708,
          21.69400000000001
         ],
         "legendgroup": "",
         "lon": [
          -14.4524,
          19.699,
          -61.2872,
          -60.9789,
          57,
          84.25,
          119.455,
          18.4904,
          10.9408,
          113.55,
          14.3754,
          73.2207,
          24.6032,
          47.75,
          -70.0358,
          -72.2852,
          43.3569,
          40.4897,
          104.9167,
          -77.3963,
          27.9534,
          34.8888,
          138.6007,
          106.1655,
          149.0124,
          88.0924,
          95.9956,
          -42.6043,
          -64.7505,
          -5.3536,
          55.2471,
          108,
          -53.1258,
          -6.9118,
          112.2922,
          145.9707,
          120.0934,
          115.7221,
          117.9874,
          111.7088,
          102.7103,
          113.4244,
          117.2264,
          108.7881,
          118.1498,
          107.874,
          126.1923,
          101.48700000000001,
          108.8701,
          113.9448,
          106.8748,
          103.8333,
          50.55,
          -19.0208,
          121.4491,
          101.0583,
          122.6085,
          0,
          113.61399999999999,
          174.886,
          116.1306,
          116.4142,
          51.1839,
          144.9631,
          117.323,
          127.7615,
          114.7277,
          128,
          109.7453,
          114.2,
          85.2401,
          66.9237,
          112.2707,
          -66.5897,
          54,
          35.2332,
          9,
          22.9375,
          121,
          115.8605,
          101,
          112.5,
          81,
          -71.543,
          45.0382,
          -90.2308,
          35,
          15.2,
          45,
          90,
          138,
          25.0136,
          36.51,
          14.5501,
          8.2275,
          24.9668,
          53,
          -61.5833,
          -5.5471,
          153.4,
          -63.6167,
          47.5769,
          78,
          64.5853,
          44,
          30,
          20.1683,
          4,
          90.3563,
          8.6753,
          33.4299,
          35.8623,
          2.2137,
          19.5033,
          -4,
          69.3451,
          -68.99,
          -77.2975,
          -1.5616,
          6.1296,
          25.4858,
          -83.7534,
          21.8243,
          17.6791,
          -80,
          12,
          -95.7129,
          1.6596,
          0.8248,
          37.9062,
          -74.2973,
          28.3699,
          -86.2419,
          7.4167,
          20.902977,
          14.9955,
          26,
          -75.0152,
          11.5021,
          35.2433,
          15.472999999999999,
          31.1656,
          122,
          113.9213,
          -7.0926,
          151.2093,
          65,
          21.7453,
          -1.0232,
          -8.2245,
          21.7587,
          -58.4438,
          -61.2225,
          5.2913,
          19.1451,
          8.4689,
          12.4578,
          9,
          -102.5528,
          -80.7821,
          1.5218,
          16,
          23.8813,
          -3.4360000000000004,
          -7.6921,
          -70.1627,
          -78.1834,
          -51.9253,
          9.5018,
          -23.0418,
          -85.2072,
          -81.2546,
          -2.3644,
          -63.5887,
          8.0817,
          -58.75,
          57.5,
          -61.0242,
          -3.996166000000001,
          19.3,
          30,
          11.6094,
          -15.3101,
          21.0059,
          -55.7658,
          30.2176,
          17.8739,
          -63.0686,
          -64.64,
          149.4068,
          -4.5481,
          45.1662,
          -62.1874,
          -61.7964,
          -59.5432,
          -59.5432,
          2.3158,
          90.4336,
          95.956,
          20.9394,
          18.7322,
          21.7587,
          42.5903,
          -61.371,
          -88.8965,
          10,
          39.7823,
          31.4659,
          178.065,
          -61.678999999999995,
          -9.6966,
          -15.1804,
          12.4534,
          74.7661,
          102.495496,
          -9.4295,
          17.228331,
          9.55,
          0,
          46.8691,
          103.8467,
          143.9555,
          29.8739,
          -62.782998,
          55.492,
          46.1996,
          -56.0278,
          32,
          28.2833,
          165.618,
          130.8456,
          -62.8333,
          -63.0548,
          -63.0501,
          -71.7979
         ],
         "marker": {
          "color": [
           11.916375287812984,
           17.72004514666935,
           1,
           3,
           12.922847983320086,
           2.23606797749979,
           25.37715508089904,
           3.3166247903554,
           2.23606797749979,
           6.082762530298219,
           12.288205727444508,
           4.123105625617661,
           18.627936010197157,
           15.968719422671311,
           7.0710678118654755,
           3.872983346207417,
           9.539392014169456,
           4.58257569495584,
           10.14889156509222,
           3.3166247903554,
           9.695359714832659,
           3.7416573867739413,
           17.291616465790582,
           8.660254037844387,
           8.774964387392123,
           1,
           4.242640687119285,
           3.1622776601683795,
           4.69041575982343,
           8.06225774829855,
           13.527749258468683,
           13.711309200802088,
           5.291502622129181,
           12.609520212918492,
           11.661903789690601,
           8.12403840463596,
           35.41186241925155,
           30.610455730027933,
           18.384776310850235,
           31.906112267087632,
           23.452078799117146,
           38.40572873934304,
           31.464265445104548,
           15.937377450509228,
           27.784887978899608,
           24.06241883103193,
           9.899494936611665,
           13.416407864998739,
           15.905973720586866,
           9.746794344808963,
           12.083045973594572,
           29.0516780926679,
           22.338307903688676,
           31.937438845342623,
           22.181073012818835,
           11.74734012447073,
           11.575836902790225,
           26.68332812825267,
           35.7211421989835,
           22.67156809750927,
           17.86057109949175,
           24.020824298928627,
           25.179356624028344,
           27.730849247724095,
           12.884098726725126,
           22,
           11.224972160321824,
           97.89279850938985,
           12.96148139681572,
           25.317977802344327,
           8.717797887081348,
           16.852299546352718,
           260.3862515571819,
           10.908712114635714,
           23.874672772626646,
           10.44030650891055,
           249.18868353117483,
           35.77708763999664,
           17.26267650163207,
           17.635192088548397,
           37.255872020394314,
           49.69909455915671,
           10.816653826391969,
           46.24932431938871,
           20.591260281974,
           5.830951894845301,
           65.16901104052447,
           26.70205984563738,
           36.0416425818802,
           39.16631205513228,
           43.197222132910355,
           26.057628441590765,
           16.09347693943108,
           93.74433316206373,
           121.77438154226036,
           42.60281680828159,
           195.7268504830137,
           10.295630140987,
           12.84523257866513,
           25.612496949731394,
           27.294688127912362,
           14.45683229480096,
           32,
           12,
           23.388031127053,
           24.677925358506133,
           14.560219778561036,
           104.09610943738484,
           6.928203230275509,
           10.535653752852738,
           14.628738838327793,
           20.92844953645635,
           200.4345279636221,
           20.199009876724155,
           283.037100041673,
           39.96248240537617,
           2.8284271247461903,
           5.656854249492381,
           14.89966442575134,
           44.15880433163923,
           18.601075237738275,
           17.72004514666935,
           34,
           17.97220075561143,
           11.789826122551595,
           312.5523956075205,
           375.3478386776724,
           22.60530911091463,
           5,
           6.48074069840786,
           26.49528259898354,
           16.217274740226856,
           10.488088481701515,
           6.782329983125268,
           9.695359714832659,
           27.018512172212592,
           35.21363372331802,
           29.189039038652847,
           11.789826122551595,
           96.00520819205592,
           53.075418038862395,
           21.79449471770337,
           37.656340767525464,
           35.84689665786984,
           21.88606862823929,
           42.320207938997655,
           10.954451150103322,
           16.09347693943108,
           12.328828005937952,
           77.21398836998384,
           8.06225774829855,
           7.681145747868608,
           8.831760866327848,
           104.2401074443038,
           43.15089802078283,
           65.45227268781429,
           14.966629547095765,
           17.663521732655695,
           29.120439557122072,
           30.01666203960727,
           18.275666882497067,
           60.8276253029822,
           21.447610589527216,
           139.7211508684351,
           51.137070702182385,
           29.30870177950569,
           43.86342439892262,
           65.23802572120036,
           48.938737212968626,
           2.449489742783178,
           2,
           2.8284271247461903,
           10.392304845413264,
           9,
           4.242640687119285,
           2.8284271247461903,
           10.344080432788601,
           9.643650760992955,
           4.242640687119285,
           9.219544457292887,
           2.6457513110645907,
           2.6457513110645907,
           2,
           27.2213151776324,
           17.435595774162696,
           2.449489742783178,
           2.6457513110645907,
           1.4142135623730951,
           1.4142135623730951,
           5.477225575051661,
           6.48074069840786,
           7.937253933193772,
           2.23606797749979,
           2.6457513110645907,
           5.744562646538029,
           1.4142135623730951,
           2.449489742783178,
           2,
           3.1622776601683795,
           1.7320508075688772,
           1.7320508075688772,
           4.358898943540674,
           4.242640687119285,
           3.3166247903554,
           4.898979485566356,
           3.4641016151377544,
           3.4641016151377544,
           3,
           2.23606797749979,
           3,
           4,
           1.4142135623730951,
           2.449489742783178,
           9.16515138991168,
           2.8284271247461903,
           1.7320508075688772,
           2.8284271247461903,
           7.483314773547883,
           1.4142135623730951,
           6.244997998398398,
           3.4641016151377544,
           1,
           8.366600265340756,
           1.4142135623730951,
           2.8284271247461903,
           1.7320508075688772,
           2.8284271247461903,
           5.744562646538029,
           5.385164807134504,
           3.872983346207417,
           3.872983346207417,
           2.23606797749979,
           2.449489742783178,
           3.3166247903554,
           2
          ],
          "coloraxis": "coloraxis",
          "size": [
           11.916375287812984,
           17.72004514666935,
           1,
           3,
           12.922847983320086,
           2.23606797749979,
           25.37715508089904,
           3.3166247903554,
           2.23606797749979,
           6.082762530298219,
           12.288205727444508,
           4.123105625617661,
           18.627936010197157,
           15.968719422671311,
           7.0710678118654755,
           3.872983346207417,
           9.539392014169456,
           4.58257569495584,
           10.14889156509222,
           3.3166247903554,
           9.695359714832659,
           3.7416573867739413,
           17.291616465790582,
           8.660254037844387,
           8.774964387392123,
           1,
           4.242640687119285,
           3.1622776601683795,
           4.69041575982343,
           8.06225774829855,
           13.527749258468683,
           13.711309200802088,
           5.291502622129181,
           12.609520212918492,
           11.661903789690601,
           8.12403840463596,
           35.41186241925155,
           30.610455730027933,
           18.384776310850235,
           31.906112267087632,
           23.452078799117146,
           38.40572873934304,
           31.464265445104548,
           15.937377450509228,
           27.784887978899608,
           24.06241883103193,
           9.899494936611665,
           13.416407864998739,
           15.905973720586866,
           9.746794344808963,
           12.083045973594572,
           29.0516780926679,
           22.338307903688676,
           31.937438845342623,
           22.181073012818835,
           11.74734012447073,
           11.575836902790225,
           26.68332812825267,
           35.7211421989835,
           22.67156809750927,
           17.86057109949175,
           24.020824298928627,
           25.179356624028344,
           27.730849247724095,
           12.884098726725126,
           22,
           11.224972160321824,
           97.89279850938985,
           12.96148139681572,
           25.317977802344327,
           8.717797887081348,
           16.852299546352718,
           260.3862515571819,
           10.908712114635714,
           23.874672772626646,
           10.44030650891055,
           249.18868353117483,
           35.77708763999664,
           17.26267650163207,
           17.635192088548397,
           37.255872020394314,
           49.69909455915671,
           10.816653826391969,
           46.24932431938871,
           20.591260281974,
           5.830951894845301,
           65.16901104052447,
           26.70205984563738,
           36.0416425818802,
           39.16631205513228,
           43.197222132910355,
           26.057628441590765,
           16.09347693943108,
           93.74433316206373,
           121.77438154226036,
           42.60281680828159,
           195.7268504830137,
           10.295630140987,
           12.84523257866513,
           25.612496949731394,
           27.294688127912362,
           14.45683229480096,
           32,
           12,
           23.388031127053,
           24.677925358506133,
           14.560219778561036,
           104.09610943738484,
           6.928203230275509,
           10.535653752852738,
           14.628738838327793,
           20.92844953645635,
           200.4345279636221,
           20.199009876724155,
           283.037100041673,
           39.96248240537617,
           2.8284271247461903,
           5.656854249492381,
           14.89966442575134,
           44.15880433163923,
           18.601075237738275,
           17.72004514666935,
           34,
           17.97220075561143,
           11.789826122551595,
           312.5523956075205,
           375.3478386776724,
           22.60530911091463,
           5,
           6.48074069840786,
           26.49528259898354,
           16.217274740226856,
           10.488088481701515,
           6.782329983125268,
           9.695359714832659,
           27.018512172212592,
           35.21363372331802,
           29.189039038652847,
           11.789826122551595,
           96.00520819205592,
           53.075418038862395,
           21.79449471770337,
           37.656340767525464,
           35.84689665786984,
           21.88606862823929,
           42.320207938997655,
           10.954451150103322,
           16.09347693943108,
           12.328828005937952,
           77.21398836998384,
           8.06225774829855,
           7.681145747868608,
           8.831760866327848,
           104.2401074443038,
           43.15089802078283,
           65.45227268781429,
           14.966629547095765,
           17.663521732655695,
           29.120439557122072,
           30.01666203960727,
           18.275666882497067,
           60.8276253029822,
           21.447610589527216,
           139.7211508684351,
           51.137070702182385,
           29.30870177950569,
           43.86342439892262,
           65.23802572120036,
           48.938737212968626,
           2.449489742783178,
           2,
           2.8284271247461903,
           10.392304845413264,
           9,
           4.242640687119285,
           2.8284271247461903,
           10.344080432788601,
           9.643650760992955,
           4.242640687119285,
           9.219544457292887,
           2.6457513110645907,
           2.6457513110645907,
           2,
           27.2213151776324,
           17.435595774162696,
           2.449489742783178,
           2.6457513110645907,
           1.4142135623730951,
           1.4142135623730951,
           5.477225575051661,
           6.48074069840786,
           7.937253933193772,
           2.23606797749979,
           2.6457513110645907,
           5.744562646538029,
           1.4142135623730951,
           2.449489742783178,
           2,
           3.1622776601683795,
           1.7320508075688772,
           1.7320508075688772,
           4.358898943540674,
           4.242640687119285,
           3.3166247903554,
           4.898979485566356,
           3.4641016151377544,
           3.4641016151377544,
           3,
           2.23606797749979,
           3,
           4,
           1.4142135623730951,
           2.449489742783178,
           9.16515138991168,
           2.8284271247461903,
           1.7320508075688772,
           2.8284271247461903,
           7.483314773547883,
           1.4142135623730951,
           6.244997998398398,
           3.4641016151377544,
           1,
           8.366600265340756,
           1.4142135623730951,
           2.8284271247461903,
           1.7320508075688772,
           2.8284271247461903,
           5.744562646538029,
           5.385164807134504,
           3.872983346207417,
           3.872983346207417,
           2.23606797749979,
           2.449489742783178,
           3.3166247903554,
           2
          ],
          "sizemode": "area",
          "sizeref": 0.9383695966941811
         },
         "name": "",
         "showlegend": false,
         "type": "scattergeo"
        }
       ],
       "layout": {
        "coloraxis": {
         "colorbar": {
          "title": {
           "text": "size"
          }
         },
         "colorscale": [
          [
           0,
           "#0d0887"
          ],
          [
           0.1111111111111111,
           "#46039f"
          ],
          [
           0.2222222222222222,
           "#7201a8"
          ],
          [
           0.3333333333333333,
           "#9c179e"
          ],
          [
           0.4444444444444444,
           "#bd3786"
          ],
          [
           0.5555555555555556,
           "#d8576b"
          ],
          [
           0.6666666666666666,
           "#ed7953"
          ],
          [
           0.7777777777777778,
           "#fb9f3a"
          ],
          [
           0.8888888888888888,
           "#fdca26"
          ],
          [
           1,
           "#f0f921"
          ]
         ],
         "showscale": false
        },
        "geo": {
         "center": {},
         "domain": {
          "x": [
           0,
           1
          ],
          "y": [
           0,
           1
          ]
         },
         "projection": {
          "type": "orthographic"
         }
        },
        "legend": {
         "itemsizing": "constant",
         "tracegroupgap": 0
        },
        "template": {
         "data": {
          "bar": [
           {
            "error_x": {
             "color": "#2a3f5f"
            },
            "error_y": {
             "color": "#2a3f5f"
            },
            "marker": {
             "line": {
              "color": "#E5ECF6",
              "width": 0.5
             }
            },
            "type": "bar"
           }
          ],
          "barpolar": [
           {
            "marker": {
             "line": {
              "color": "#E5ECF6",
              "width": 0.5
             }
            },
            "type": "barpolar"
           }
          ],
          "carpet": [
           {
            "aaxis": {
             "endlinecolor": "#2a3f5f",
             "gridcolor": "white",
             "linecolor": "white",
             "minorgridcolor": "white",
             "startlinecolor": "#2a3f5f"
            },
            "baxis": {
             "endlinecolor": "#2a3f5f",
             "gridcolor": "white",
             "linecolor": "white",
             "minorgridcolor": "white",
             "startlinecolor": "#2a3f5f"
            },
            "type": "carpet"
           }
          ],
          "choropleth": [
           {
            "colorbar": {
             "outlinewidth": 0,
             "ticks": ""
            },
            "type": "choropleth"
           }
          ],
          "contour": [
           {
            "colorbar": {
             "outlinewidth": 0,
             "ticks": ""
            },
            "colorscale": [
             [
              0,
              "#0d0887"
             ],
             [
              0.1111111111111111,
              "#46039f"
             ],
             [
              0.2222222222222222,
              "#7201a8"
             ],
             [
              0.3333333333333333,
              "#9c179e"
             ],
             [
              0.4444444444444444,
              "#bd3786"
             ],
             [
              0.5555555555555556,
              "#d8576b"
             ],
             [
              0.6666666666666666,
              "#ed7953"
             ],
             [
              0.7777777777777778,
              "#fb9f3a"
             ],
             [
              0.8888888888888888,
              "#fdca26"
             ],
             [
              1,
              "#f0f921"
             ]
            ],
            "type": "contour"
           }
          ],
          "contourcarpet": [
           {
            "colorbar": {
             "outlinewidth": 0,
             "ticks": ""
            },
            "type": "contourcarpet"
           }
          ],
          "heatmap": [
           {
            "colorbar": {
             "outlinewidth": 0,
             "ticks": ""
            },
            "colorscale": [
             [
              0,
              "#0d0887"
             ],
             [
              0.1111111111111111,
              "#46039f"
             ],
             [
              0.2222222222222222,
              "#7201a8"
             ],
             [
              0.3333333333333333,
              "#9c179e"
             ],
             [
              0.4444444444444444,
              "#bd3786"
             ],
             [
              0.5555555555555556,
              "#d8576b"
             ],
             [
              0.6666666666666666,
              "#ed7953"
             ],
             [
              0.7777777777777778,
              "#fb9f3a"
             ],
             [
              0.8888888888888888,
              "#fdca26"
             ],
             [
              1,
              "#f0f921"
             ]
            ],
            "type": "heatmap"
           }
          ],
          "heatmapgl": [
           {
            "colorbar": {
             "outlinewidth": 0,
             "ticks": ""
            },
            "colorscale": [
             [
              0,
              "#0d0887"
             ],
             [
              0.1111111111111111,
              "#46039f"
             ],
             [
              0.2222222222222222,
              "#7201a8"
             ],
             [
              0.3333333333333333,
              "#9c179e"
             ],
             [
              0.4444444444444444,
              "#bd3786"
             ],
             [
              0.5555555555555556,
              "#d8576b"
             ],
             [
              0.6666666666666666,
              "#ed7953"
             ],
             [
              0.7777777777777778,
              "#fb9f3a"
             ],
             [
              0.8888888888888888,
              "#fdca26"
             ],
             [
              1,
              "#f0f921"
             ]
            ],
            "type": "heatmapgl"
           }
          ],
          "histogram": [
           {
            "marker": {
             "colorbar": {
              "outlinewidth": 0,
              "ticks": ""
             }
            },
            "type": "histogram"
           }
          ],
          "histogram2d": [
           {
            "colorbar": {
             "outlinewidth": 0,
             "ticks": ""
            },
            "colorscale": [
             [
              0,
              "#0d0887"
             ],
             [
              0.1111111111111111,
              "#46039f"
             ],
             [
              0.2222222222222222,
              "#7201a8"
             ],
             [
              0.3333333333333333,
              "#9c179e"
             ],
             [
              0.4444444444444444,
              "#bd3786"
             ],
             [
              0.5555555555555556,
              "#d8576b"
             ],
             [
              0.6666666666666666,
              "#ed7953"
             ],
             [
              0.7777777777777778,
              "#fb9f3a"
             ],
             [
              0.8888888888888888,
              "#fdca26"
             ],
             [
              1,
              "#f0f921"
             ]
            ],
            "type": "histogram2d"
           }
          ],
          "histogram2dcontour": [
           {
            "colorbar": {
             "outlinewidth": 0,
             "ticks": ""
            },
            "colorscale": [
             [
              0,
              "#0d0887"
             ],
             [
              0.1111111111111111,
              "#46039f"
             ],
             [
              0.2222222222222222,
              "#7201a8"
             ],
             [
              0.3333333333333333,
              "#9c179e"
             ],
             [
              0.4444444444444444,
              "#bd3786"
             ],
             [
              0.5555555555555556,
              "#d8576b"
             ],
             [
              0.6666666666666666,
              "#ed7953"
             ],
             [
              0.7777777777777778,
              "#fb9f3a"
             ],
             [
              0.8888888888888888,
              "#fdca26"
             ],
             [
              1,
              "#f0f921"
             ]
            ],
            "type": "histogram2dcontour"
           }
          ],
          "mesh3d": [
           {
            "colorbar": {
             "outlinewidth": 0,
             "ticks": ""
            },
            "type": "mesh3d"
           }
          ],
          "parcoords": [
           {
            "line": {
             "colorbar": {
              "outlinewidth": 0,
              "ticks": ""
             }
            },
            "type": "parcoords"
           }
          ],
          "pie": [
           {
            "automargin": true,
            "type": "pie"
           }
          ],
          "scatter": [
           {
            "marker": {
             "colorbar": {
              "outlinewidth": 0,
              "ticks": ""
             }
            },
            "type": "scatter"
           }
          ],
          "scatter3d": [
           {
            "line": {
             "colorbar": {
              "outlinewidth": 0,
              "ticks": ""
             }
            },
            "marker": {
             "colorbar": {
              "outlinewidth": 0,
              "ticks": ""
             }
            },
            "type": "scatter3d"
           }
          ],
          "scattercarpet": [
           {
            "marker": {
             "colorbar": {
              "outlinewidth": 0,
              "ticks": ""
             }
            },
            "type": "scattercarpet"
           }
          ],
          "scattergeo": [
           {
            "marker": {
             "colorbar": {
              "outlinewidth": 0,
              "ticks": ""
             }
            },
            "type": "scattergeo"
           }
          ],
          "scattergl": [
           {
            "marker": {
             "colorbar": {
              "outlinewidth": 0,
              "ticks": ""
             }
            },
            "type": "scattergl"
           }
          ],
          "scattermapbox": [
           {
            "marker": {
             "colorbar": {
              "outlinewidth": 0,
              "ticks": ""
             }
            },
            "type": "scattermapbox"
           }
          ],
          "scatterpolar": [
           {
            "marker": {
             "colorbar": {
              "outlinewidth": 0,
              "ticks": ""
             }
            },
            "type": "scatterpolar"
           }
          ],
          "scatterpolargl": [
           {
            "marker": {
             "colorbar": {
              "outlinewidth": 0,
              "ticks": ""
             }
            },
            "type": "scatterpolargl"
           }
          ],
          "scatterternary": [
           {
            "marker": {
             "colorbar": {
              "outlinewidth": 0,
              "ticks": ""
             }
            },
            "type": "scatterternary"
           }
          ],
          "surface": [
           {
            "colorbar": {
             "outlinewidth": 0,
             "ticks": ""
            },
            "colorscale": [
             [
              0,
              "#0d0887"
             ],
             [
              0.1111111111111111,
              "#46039f"
             ],
             [
              0.2222222222222222,
              "#7201a8"
             ],
             [
              0.3333333333333333,
              "#9c179e"
             ],
             [
              0.4444444444444444,
              "#bd3786"
             ],
             [
              0.5555555555555556,
              "#d8576b"
             ],
             [
              0.6666666666666666,
              "#ed7953"
             ],
             [
              0.7777777777777778,
              "#fb9f3a"
             ],
             [
              0.8888888888888888,
              "#fdca26"
             ],
             [
              1,
              "#f0f921"
             ]
            ],
            "type": "surface"
           }
          ],
          "table": [
           {
            "cells": {
             "fill": {
              "color": "#EBF0F8"
             },
             "line": {
              "color": "white"
             }
            },
            "header": {
             "fill": {
              "color": "#C8D4E3"
             },
             "line": {
              "color": "white"
             }
            },
            "type": "table"
           }
          ]
         },
         "layout": {
          "annotationdefaults": {
           "arrowcolor": "#2a3f5f",
           "arrowhead": 0,
           "arrowwidth": 1
          },
          "coloraxis": {
           "colorbar": {
            "outlinewidth": 0,
            "ticks": ""
           }
          },
          "colorscale": {
           "diverging": [
            [
             0,
             "#8e0152"
            ],
            [
             0.1,
             "#c51b7d"
            ],
            [
             0.2,
             "#de77ae"
            ],
            [
             0.3,
             "#f1b6da"
            ],
            [
             0.4,
             "#fde0ef"
            ],
            [
             0.5,
             "#f7f7f7"
            ],
            [
             0.6,
             "#e6f5d0"
            ],
            [
             0.7,
             "#b8e186"
            ],
            [
             0.8,
             "#7fbc41"
            ],
            [
             0.9,
             "#4d9221"
            ],
            [
             1,
             "#276419"
            ]
           ],
           "sequential": [
            [
             0,
             "#0d0887"
            ],
            [
             0.1111111111111111,
             "#46039f"
            ],
            [
             0.2222222222222222,
             "#7201a8"
            ],
            [
             0.3333333333333333,
             "#9c179e"
            ],
            [
             0.4444444444444444,
             "#bd3786"
            ],
            [
             0.5555555555555556,
             "#d8576b"
            ],
            [
             0.6666666666666666,
             "#ed7953"
            ],
            [
             0.7777777777777778,
             "#fb9f3a"
            ],
            [
             0.8888888888888888,
             "#fdca26"
            ],
            [
             1,
             "#f0f921"
            ]
           ],
           "sequentialminus": [
            [
             0,
             "#0d0887"
            ],
            [
             0.1111111111111111,
             "#46039f"
            ],
            [
             0.2222222222222222,
             "#7201a8"
            ],
            [
             0.3333333333333333,
             "#9c179e"
            ],
            [
             0.4444444444444444,
             "#bd3786"
            ],
            [
             0.5555555555555556,
             "#d8576b"
            ],
            [
             0.6666666666666666,
             "#ed7953"
            ],
            [
             0.7777777777777778,
             "#fb9f3a"
            ],
            [
             0.8888888888888888,
             "#fdca26"
            ],
            [
             1,
             "#f0f921"
            ]
           ]
          },
          "colorway": [
           "#636efa",
           "#EF553B",
           "#00cc96",
           "#ab63fa",
           "#FFA15A",
           "#19d3f3",
           "#FF6692",
           "#B6E880",
           "#FF97FF",
           "#FECB52"
          ],
          "font": {
           "color": "#2a3f5f"
          },
          "geo": {
           "bgcolor": "white",
           "lakecolor": "white",
           "landcolor": "#E5ECF6",
           "showlakes": true,
           "showland": true,
           "subunitcolor": "white"
          },
          "hoverlabel": {
           "align": "left"
          },
          "hovermode": "closest",
          "mapbox": {
           "style": "light"
          },
          "paper_bgcolor": "white",
          "plot_bgcolor": "#E5ECF6",
          "polar": {
           "angularaxis": {
            "gridcolor": "white",
            "linecolor": "white",
            "ticks": ""
           },
           "bgcolor": "#E5ECF6",
           "radialaxis": {
            "gridcolor": "white",
            "linecolor": "white",
            "ticks": ""
           }
          },
          "scene": {
           "xaxis": {
            "backgroundcolor": "#E5ECF6",
            "gridcolor": "white",
            "gridwidth": 2,
            "linecolor": "white",
            "showbackground": true,
            "ticks": "",
            "zerolinecolor": "white"
           },
           "yaxis": {
            "backgroundcolor": "#E5ECF6",
            "gridcolor": "white",
            "gridwidth": 2,
            "linecolor": "white",
            "showbackground": true,
            "ticks": "",
            "zerolinecolor": "white"
           },
           "zaxis": {
            "backgroundcolor": "#E5ECF6",
            "gridcolor": "white",
            "gridwidth": 2,
            "linecolor": "white",
            "showbackground": true,
            "ticks": "",
            "zerolinecolor": "white"
           }
          },
          "shapedefaults": {
           "line": {
            "color": "#2a3f5f"
           }
          },
          "ternary": {
           "aaxis": {
            "gridcolor": "white",
            "linecolor": "white",
            "ticks": ""
           },
           "baxis": {
            "gridcolor": "white",
            "linecolor": "white",
            "ticks": ""
           },
           "bgcolor": "#E5ECF6",
           "caxis": {
            "gridcolor": "white",
            "linecolor": "white",
            "ticks": ""
           }
          },
          "title": {
           "x": 0.05
          },
          "xaxis": {
           "automargin": true,
           "gridcolor": "white",
           "linecolor": "white",
           "ticks": "",
           "title": {
            "standoff": 15
           },
           "zerolinecolor": "white",
           "zerolinewidth": 2
          },
          "yaxis": {
           "automargin": true,
           "gridcolor": "white",
           "linecolor": "white",
           "ticks": "",
           "title": {
            "standoff": 15
           },
           "zerolinecolor": "white",
           "zerolinewidth": 2
          }
         }
        },
        "title": {
         "text": "Spread in World over time | orthographic"
        }
       }
      },
      "text/html": [
       "<div>\n",
       "        \n",
       "        \n",
       "            <div id=\"f95edc2f-082f-4560-8e28-ce2d658de56e\" class=\"plotly-graph-div\" style=\"height:525px; width:100%;\"></div>\n",
       "            <script type=\"text/javascript\">\n",
       "                require([\"plotly\"], function(Plotly) {\n",
       "                    window.PLOTLYENV=window.PLOTLYENV || {};\n",
       "                    \n",
       "                if (document.getElementById(\"f95edc2f-082f-4560-8e28-ce2d658de56e\")) {\n",
       "                    Plotly.newPlot(\n",
       "                        'f95edc2f-082f-4560-8e28-ce2d658de56e',\n",
       "                        [{\"customdata\": [[142.0, 0.0, 27.0, 115.0, 0.0, 100.0], [314.0, 0.0, 2.0, 312.0, 0.0, 100.0], [1.0, 0.0, 1.0, 0.0, 0.0, 100.0], [9.0, 0.0, 1.0, 8.0, 0.0, 100.0], [167.0, 0.0, 23.0, 144.0, 0.0, 100.0], [5.0, 0.0, 1.0, 4.0, 0.0, 100.0], [644.0, 0.0, 631.0, 13.0, 0.0, 100.0], [11.0, 0.0, 2.0, 9.0, 0.0, 100.0], [5.0, 0.0, 2.0, 3.0, 0.0, 100.0], [37.0, 0.0, 10.0, 27.0, 0.0, 100.0], [151.0, 0.0, 2.0, 149.0, 0.0, 100.0], [17.0, 0.0, 13.0, 4.0, 0.0, 100.0], [347.0, 0.0, 1.0, 346.0, 0.0, 100.0], [255.0, 0.0, 67.0, 188.0, 0.0, 100.0], [50.0, 0.0, 1.0, 49.0, 0.0, 100.0], [15.0, 0.0, 1.0, 14.0, 0.0, 100.0], [91.0, 0.0, 18.0, 73.0, 0.0, 100.0], [21.0, 0.0, 1.0, 20.0, 0.0, 100.0], [103.0, 0.0, 21.0, 82.0, 0.0, 100.0], [11.0, 0.0, 1.0, 10.0, 0.0, 100.0], [94.0, 0.0, 32.0, 62.0, 0.0, 100.0], [14.0, 0.0, 1.0, 13.0, 0.0, 100.0], [299.0, 0.0, 6.0, 293.0, 0.0, 100.0], [75.0, 0.0, 75.0, 0.0, 0.0, 100.0], [77.0, 0.0, 2.0, 75.0, 0.0, 100.0], [1.0, 0.0, 1.0, 0.0, 0.0, 100.0], [18.0, 0.0, 18.0, 0.0, 0.0, 100.0], [10.0, 0.0, 2.0, 8.0, 0.0, 100.0], [22.0, 0.0, 2.0, 20.0, 0.0, 100.0], [65.0, 0.0, 14.0, 51.0, 0.0, 100.0], [183.0, 0.0, 1.0, 182.0, 0.0, 100.0], [188.0, 0.0, 25.0, 163.0, 0.0, 100.0], [28.0, 0.0, 6.0, 22.0, 0.0, 100.0], [159.0, 0.0, 70.0, 89.0, 0.0, 100.0], [136.0, 0.0, 133.0, 3.0, 0.0, 100.0], [66.0, 0.0, 5.0, 61.0, 0.0, 100.0], [1254.0, 1.0, 1225.0, 28.0, 0.08156606851549755, 99.9184339314845], [937.0, 1.0, 934.0, 2.0, 0.10695187165775401, 99.89304812834224], [338.0, 1.0, 295.0, 42.0, 0.33783783783783783, 99.66216216216216], [1018.0, 4.0, 1014.0, 0.0, 0.3929273084479371, 99.60707269155206], [550.0, 3.0, 536.0, 11.0, 0.5565862708719851, 99.44341372912801], [1475.0, 8.0, 1349.0, 118.0, 0.5895357406042742, 99.41046425939572], [990.0, 6.0, 984.0, 0.0, 0.6060606060606061, 99.39393939393939], [254.0, 2.0, 250.0, 2.0, 0.7936507936507936, 99.20634920634922], [772.0, 7.0, 752.0, 13.0, 0.922266139657444, 99.07773386034255], [579.0, 6.0, 570.0, 3.0, 1.0416666666666665, 98.95833333333334], [98.0, 1.0, 92.0, 5.0, 1.0752688172043012, 98.9247311827957], [180.0, 2.0, 172.0, 6.0, 1.1494252873563218, 98.85057471264368], [253.0, 3.0, 242.0, 8.0, 1.2244897959183674, 98.77551020408163], [95.0, 1.0, 74.0, 20.0, 1.3333333333333335, 98.66666666666667], [146.0, 2.0, 144.0, 0.0, 1.36986301369863, 98.63013698630137], [844.0, 3.0, 212.0, 629.0, 1.3953488372093024, 98.6046511627907], [499.0, 4.0, 272.0, 223.0, 1.4492753623188406, 98.55072463768117], [1020.0, 2.0, 135.0, 883.0, 1.4598540145985401, 98.54014598540147], [492.0, 5.0, 334.0, 153.0, 1.4749262536873156, 98.52507374631269], [138.0, 2.0, 125.0, 11.0, 1.574803149606299, 98.4251968503937], [134.0, 2.0, 124.0, 8.0, 1.5873015873015872, 98.4126984126984], [712.0, 10.0, 603.0, 99.0, 1.631321370309951, 98.36867862969005], [1276.0, 22.0, 1251.0, 3.0, 1.728201099764336, 98.27179890023567], [514.0, 1.0, 56.0, 457.0, 1.7543859649122806, 98.24561403508771], [319.0, 6.0, 310.0, 3.0, 1.89873417721519, 98.10126582278481], [577.0, 8.0, 412.0, 157.0, 1.9047619047619049, 98.09523809523809], [634.0, 1.0, 48.0, 585.0, 2.0408163265306123, 97.95918367346938], [769.0, 4.0, 191.0, 574.0, 2.051282051282051, 97.94871794871794], [166.0, 3.0, 133.0, 30.0, 2.2058823529411766, 97.79411764705883], [484.0, 13.0, 469.0, 2.0, 2.6970954356846475, 97.30290456431536], [126.0, 1.0, 34.0, 91.0, 2.857142857142857, 97.14285714285714], [9583.0, 152.0, 5033.0, 4398.0, 2.931533269045323, 97.06846673095467], [168.0, 6.0, 168.0, -6.0, 3.4482758620689653, 96.55172413793103], [641.0, 4.0, 112.0, 525.0, 3.4482758620689653, 96.55172413793103], [76.0, 3.0, 73.0, 0.0, 3.9473684210526314, 96.05263157894737], [284.0, 1.0, 20.0, 263.0, 4.761904761904762, 95.23809523809523], [67801.0, 3182.0, 62570.0, 2049.0, 4.839396520257939, 95.16060347974205], [119.0, 2.0, 39.0, 78.0, 4.878048780487805, 95.1219512195122], [570.0, 3.0, 58.0, 509.0, 4.918032786885246, 95.08196721311475], [109.0, 1.0, 18.0, 90.0, 5.263157894736842, 94.73684210526315], [62095.0, 533.0, 9211.0, 52351.0, 5.470032840722496, 94.5299671592775], [1280.0, 2.0, 31.0, 1247.0, 6.0606060606060606, 93.93939393939394], [298.0, 2.0, 30.0, 266.0, 6.25, 93.75], [311.0, 2.0, 28.0, 281.0, 6.666666666666667, 93.33333333333333], [1388.0, 7.0, 97.0, 1284.0, 6.730769230769231, 93.26923076923077], [2470.0, 35.0, 388.0, 2047.0, 8.274231678486997, 91.725768321513], [117.0, 1.0, 11.0, 105.0, 8.333333333333332, 91.66666666666666], [2139.0, 7.0, 75.0, 2057.0, 8.536585365853659, 91.46341463414635], [424.0, 3.0, 30.0, 391.0, 9.090909090909092, 90.9090909090909], [34.0, 1.0, 10.0, 23.0, 9.090909090909092, 90.9090909090909], [4247.0, 15.0, 132.0, 4100.0, 10.204081632653061, 89.79591836734694], [713.0, 6.0, 52.0, 655.0, 10.344827586206897, 89.65517241379311], [1299.0, 8.0, 66.0, 1225.0, 10.81081081081081, 89.1891891891892], [1534.0, 8.0, 64.0, 1462.0, 11.11111111111111, 88.88888888888889], [1866.0, 54.0, 424.0, 1388.0, 11.297071129707113, 88.70292887029288], [679.0, 3.0, 20.0, 656.0, 13.043478260869565, 86.95652173913044], [259.0, 3.0, 18.0, 238.0, 14.285714285714285, 85.71428571428571], [8788.0, 86.0, 479.0, 8223.0, 15.221238938053098, 84.77876106194691], [14829.0, 300.0, 1595.0, 12934.0, 15.8311345646438, 84.1688654353562], [1815.0, 43.0, 206.0, 1566.0, 17.269076305220885, 82.73092369477911], [38309.0, 2640.0, 12391.0, 23278.0, 17.56370168318808, 82.43629831681191], [106.0, 4.0, 17.0, 85.0, 19.047619047619047, 80.95238095238095], [165.0, 1.0, 4.0, 160.0, 20.0, 80.0], [656.0, 2.0, 8.0, 646.0, 20.0, 80.0], [745.0, 19.0, 72.0, 654.0, 20.87912087912088, 79.12087912087912], [209.0, 4.0, 15.0, 190.0, 21.052631578947366, 78.94736842105263], [1024.0, 27.0, 95.0, 902.0, 22.131147540983605, 77.8688524590164], [144.0, 2.0, 7.0, 135.0, 22.22222222222222, 77.77777777777779], [547.0, 42.0, 143.0, 362.0, 22.702702702702705, 77.29729729729729], [609.0, 40.0, 132.0, 437.0, 23.25581395348837, 76.74418604651163], [212.0, 10.0, 33.0, 169.0, 23.25581395348837, 76.74418604651163], [10836.0, 431.0, 1359.0, 9046.0, 24.078212290502794, 75.9217877094972], [48.0, 5.0, 15.0, 28.0, 25.0, 75.0], [111.0, 1.0, 3.0, 107.0, 25.0, 75.0], [214.0, 5.0, 15.0, 194.0, 25.0, 75.0], [438.0, 10.0, 30.0, 398.0, 25.0, 75.0], [40174.0, 2606.0, 7202.0, 30366.0, 26.57014681892333, 73.42985318107668], [408.0, 13.0, 34.0, 361.0, 27.659574468085108, 72.3404255319149], [80110.0, 6803.0, 14709.0, 58598.0, 31.624209743399035, 68.37579025660096], [1597.0, 14.0, 29.0, 1554.0, 32.55813953488372, 67.44186046511628], [8.0, 1.0, 2.0, 5.0, 33.33333333333333, 66.66666666666666], [32.0, 1.0, 2.0, 29.0, 33.33333333333333, 66.66666666666666], [222.0, 12.0, 23.0, 187.0, 34.285714285714285, 65.71428571428571], [1950.0, 21.0, 40.0, 1889.0, 34.42622950819672, 65.57377049180327], [346.0, 8.0, 14.0, 324.0, 36.36363636363637, 63.63636363636363], [314.0, 2.0, 3.0, 309.0, 40.0, 60.0], [1156.0, 38.0, 52.0, 1066.0, 42.22222222222222, 57.77777777777777], [323.0, 6.0, 8.0, 309.0, 42.857142857142854, 57.14285714285714], [139.0, 3.0, 4.0, 132.0, 42.857142857142854, 57.14285714285714], [97689.0, 10779.0, 13030.0, 73880.0, 45.272796001512035, 54.72720399848797], [140886.0, 2467.0, 2665.0, 135754.0, 48.0709275136399, 51.9290724863601], [511.0, 31.0, 31.0, 449.0, 50.0, 50.0], [25.0, 1.0, 1.0, 23.0, 50.0, 50.0], [42.0, 1.0, 1.0, 40.0, 50.0, 50.0], [702.0, 10.0, 10.0, 682.0, 50.0, 50.0], [263.0, 2.0, 2.0, 259.0, 50.0, 50.0], [110.0, 3.0, 3.0, 104.0, 50.0, 50.0], [46.0, 1.0, 1.0, 44.0, 50.0, 50.0], [94.0, 1.0, 1.0, 92.0, 50.0, 50.0], [730.0, 11.0, 10.0, 709.0, 52.38095238095239, 47.61904761904761], [1240.0, 11.0, 10.0, 1219.0, 52.38095238095239, 47.61904761904761], [852.0, 18.0, 16.0, 818.0, 52.94117647058824, 47.05882352941176], [139.0, 6.0, 5.0, 128.0, 54.54545454545454, 45.45454545454545], [9217.0, 131.0, 105.0, 8981.0, 55.50847457627118, 44.49152542372881], [2817.0, 16.0, 11.0, 2790.0, 59.25925925925925, 40.74074074074074], [475.0, 10.0, 6.0, 459.0, 62.5, 37.5], [1418.0, 71.0, 42.0, 1305.0, 62.83185840707964, 37.16814159292036], [1285.0, 114.0, 64.0, 1107.0, 64.04494382022472, 35.95505617977528], [479.0, 26.0, 13.0, 440.0, 66.66666666666666, 33.33333333333333], [1791.0, 8.0, 4.0, 1779.0, 66.66666666666666, 33.33333333333333], [120.0, 4.0, 2.0, 114.0, 66.66666666666666, 33.33333333333333], [259.0, 6.0, 3.0, 250.0, 66.66666666666666, 33.33333333333333], [152.0, 5.0, 2.0, 145.0, 71.42857142857143, 28.57142857142857], [5962.0, 119.0, 43.0, 5800.0, 73.4567901234568, 26.543209876543212], [65.0, 6.0, 2.0, 57.0, 75.0, 25.0], [59.0, 3.0, 1.0, 55.0, 75.0, 25.0], [78.0, 3.0, 1.0, 74.0, 75.0, 25.0], [10866.0, 771.0, 250.0, 9845.0, 75.51420176297748, 24.48579823702253], [1862.0, 22.0, 7.0, 1833.0, 75.86206896551724, 24.137931034482758], [4284.0, 25.0, 7.0, 4252.0, 78.125, 21.875], [224.0, 22.0, 6.0, 196.0, 78.57142857142857, 21.428571428571427], [312.0, 8.0, 2.0, 302.0, 80.0, 20.0], [848.0, 16.0, 4.0, 828.0, 80.0, 20.0], [901.0, 17.0, 4.0, 880.0, 80.95238095238095, 19.047619047619047], [334.0, 6.0, 1.0, 327.0, 85.71428571428571, 14.285714285714285], [3700.0, 110.0, 16.0, 3574.0, 87.3015873015873, 12.698412698412698], [460.0, 7.0, 1.0, 452.0, 87.5, 12.5], [19522.0, 1228.0, 135.0, 18159.0, 90.0953778429934, 9.904622157006603], [2615.0, 46.0, 5.0, 2564.0, 90.19607843137256, 9.803921568627452], [859.0, 39.0, 3.0, 817.0, 92.85714285714286, 7.142857142857142], [1924.0, 58.0, 3.0, 1863.0, 95.08196721311475, 4.918032786885246], [4256.0, 136.0, 6.0, 4114.0, 95.77464788732394, 4.225352112676056], [2395.0, 72.0, 1.0, 2322.0, 98.63013698630137, 1.36986301369863], [6.0, 1.0, 0.0, 5.0, 100.0, 0.0], [4.0, 1.0, 0.0, 3.0, 100.0, 0.0], [8.0, 1.0, 0.0, 7.0, 100.0, 0.0], [108.0, 2.0, 0.0, 106.0, 100.0, 0.0], [81.0, 1.0, 0.0, 80.0, 100.0, 0.0], [18.0, 1.0, 0.0, 17.0, 100.0, 0.0], [8.0, 1.0, 0.0, 7.0, 100.0, 0.0], [107.0, 3.0, 0.0, 104.0, 100.0, 0.0], [93.0, 1.0, 0.0, 92.0, 100.0, 0.0], [18.0, 1.0, 0.0, 17.0, 100.0, 0.0], [85.0, 1.0, 0.0, 84.0, 100.0, 0.0], [7.0, 1.0, 0.0, 6.0, 100.0, 0.0], [7.0, 1.0, 0.0, 6.0, 100.0, 0.0], [4.0, 1.0, 0.0, 3.0, 100.0, 0.0], [741.0, 13.0, 0.0, 728.0, 100.0, 0.0], [304.0, 1.0, 0.0, 303.0, 100.0, 0.0], [6.0, 1.0, 0.0, 5.0, 100.0, 0.0], [7.0, 2.0, 0.0, 5.0, 100.0, 0.0], [2.0, 0.0, 0.0, 2.0, null, null], [2.0, 0.0, 0.0, 2.0, null, null], [30.0, 0.0, 0.0, 30.0, null, null], [42.0, 0.0, 0.0, 42.0, null, null], [63.0, 0.0, 0.0, 63.0, null, null], [5.0, 0.0, 0.0, 5.0, null, null], [7.0, 0.0, 0.0, 7.0, null, null], [33.0, 0.0, 0.0, 33.0, null, null], [2.0, 0.0, 0.0, 2.0, null, null], [6.0, 0.0, 0.0, 6.0, null, null], [4.0, 0.0, 0.0, 4.0, null, null], [10.0, 0.0, 0.0, 10.0, null, null], [3.0, 0.0, 0.0, 3.0, null, null], [3.0, 0.0, 0.0, 3.0, null, null], [19.0, 0.0, 0.0, 19.0, null, null], [18.0, 0.0, 0.0, 18.0, null, null], [11.0, 0.0, 0.0, 11.0, null, null], [24.0, 0.0, 0.0, 24.0, null, null], [12.0, 0.0, 0.0, 12.0, null, null], [12.0, 0.0, 0.0, 12.0, null, null], [9.0, 0.0, 0.0, 9.0, null, null], [5.0, 0.0, 0.0, 5.0, null, null], [9.0, 0.0, 0.0, 9.0, null, null], [16.0, 0.0, 0.0, 16.0, null, null], [2.0, 0.0, 0.0, 2.0, null, null], [6.0, 0.0, 0.0, 6.0, null, null], [84.0, 0.0, 0.0, 84.0, null, null], [8.0, 0.0, 0.0, 8.0, null, null], [3.0, 0.0, 0.0, 3.0, null, null], [8.0, 0.0, 0.0, 8.0, null, null], [56.0, 0.0, 0.0, 56.0, null, null], [2.0, 0.0, 0.0, 2.0, null, null], [39.0, 0.0, 0.0, 39.0, null, null], [12.0, 0.0, 0.0, 12.0, null, null], [1.0, 0.0, 0.0, 1.0, null, null], [70.0, 0.0, 0.0, 70.0, null, null], [2.0, 0.0, 0.0, 2.0, null, null], [8.0, 0.0, 0.0, 8.0, null, null], [3.0, 0.0, 0.0, 3.0, null, null], [8.0, 0.0, 0.0, 8.0, null, null], [33.0, 0.0, 0.0, 33.0, null, null], [29.0, 0.0, 0.0, 29.0, null, null], [15.0, 0.0, 0.0, 15.0, null, null], [15.0, 0.0, 0.0, 15.0, null, null], [5.0, 0.0, 0.0, 5.0, null, null], [6.0, 0.0, 0.0, 6.0, null, null], [11.0, 0.0, 0.0, 11.0, null, null], [4.0, 0.0, 0.0, 4.0, null, null]], \"geo\": \"geo\", \"hoverlabel\": {\"namelength\": 0}, \"hovertemplate\": \"<b>%{hovertext}</b><br><br>size=%{marker.color}<br>Confirmed=%{customdata[0]}<br>Deaths=%{customdata[1]}<br>Recovered=%{customdata[2]}<br>Infected=%{customdata[3]}<br>Death Rate=%{customdata[4]}<br>Recovery Rate=%{customdata[5]}<br>Lat=%{lat}<br>Long=%{lon}\", \"hovertext\": [\"Senegal\", \"Slovakia\", \"Saint Vincent and the Grenadines\", \"Saint Lucia\", \"Oman\", \"Nepal\", \"Jiangsu , China\", \"Namibia\", \"Mauritania\", \"Macau , China\", \"Malta\", \"Maldives\", \"Latvia\", \"Kuwait\", \"Aruba , Netherlands\", \"Haiti\", \"Georgia\", \"Ethiopia\", \"Cambodia\", \"Bahamas\", \"Belarus\", \"Tanzania\", \"South Australia , Australia\", \"Ningxia , China\", \"Australian Capital Territory , Australia\", \"Tibet , China\", \"Qinghai , China\", \"Greenland , Denmark\", \"Bermuda , United Kingdom\", \"Gibraltar , United Kingdom\", \"Reunion , France\", \"Vietnam\", \"French Guiana , France\", \"Faroe Islands , Denmark\", \"Shanxi , China\", \"Tasmania , Australia\", \"Zhejiang , China\", \"Jiangxi , China\", \"Fujian , China\", \"Hunan , China\", \"Sichuan , China\", \"Guangdong , China\", \"Anhui , China\", \"Guangxi , China\", \"Shandong , China\", \"Chongqing , China\", \"Jilin , China\", \"Yunnan , China\", \"Shaanxi , China\", \"Inner Mongolia , China\", \"Guizhou , China\", \"Singapore\", \"Bahrain\", \"Iceland\", \"Shanghai , China\", \"Gansu , China\", \"Liaoning , China\", \"Diamond Princess\", \"Henan , China\", \"New Zealand\", \"Hebei , China\", \"Beijing , China\", \"Qatar\", \"Victoria , Australia\", \"Tianjin , China\", \"Heilongjiang , China\", \"Brunei\", \"Korea, South\", \"Hainan , China\", \"Hong Kong , China\", \"Xinjiang , China\", \"Kazakhstan\", \"Hubei , China\", \"Venezuela\", \"United Arab Emirates\", \"West Bank and Gaza\", \"Germany\", \"South Africa\", \"Taiwan*\", \"Western Australia , Australia\", \"Thailand\", \"Malaysia\", \"Sri Lanka\", \"Chile\", \"Armenia\", \"Guatemala\", \"Israel\", \"Croatia\", \"Saudi Arabia\", \"Russia\", \"Japan\", \"Estonia\", \"Jordan\", \"Austria\", \"Switzerland\", \"Romania\", \"Iran\", \"Guadeloupe , France\", \"Cote d'Ivoire\", \"Queensland , Australia\", \"Argentina\", \"Azerbaijan\", \"India\", \"Uzbekistan\", \"Iraq\", \"Egypt\", \"Albania\", \"Belgium\", \"Bangladesh\", \"Nigeria\", \"Cyprus\", \"Lebanon\", \"France\", \"Hungary\", \"Spain\", \"Pakistan\", \"Curacao , Netherlands\", \"Jamaica\", \"Burkina Faso\", \"Luxembourg\", \"Bulgaria\", \"Costa Rica\", \"Greece\", \"Bosnia and Herzegovina\", \"Cuba\", \"Italy\", \"US\", \"Algeria\", \"Togo\", \"Kenya\", \"Colombia\", \"Moldova\", \"Honduras\", \"Monaco\", \"Kosovo\", \"Slovenia\", \"Finland\", \"Peru\", \"Cameroon\", \"Turkey\", \"Czechia\", \"Ukraine\", \"Philippines\", \"Indonesia\", \"Morocco\", \"New South Wales , Australia\", \"Afghanistan\", \"North Macedonia\", \"Ghana\", \"Portugal\", \"Congo (Kinshasa)\", \"Paraguay\", \"Trinidad and Tobago\", \"Netherlands\", \"Poland\", \"Norway\", \"San Marino\", \"Tunisia\", \"Mexico\", \"Panama\", \"Andorra\", \"Sweden\", \"Lithuania\", \"United Kingdom\", \"Ireland\", \"Dominican Republic\", \"Ecuador\", \"Brazil\", \"Denmark\", \"Cabo Verde\", \"Nicaragua\", \"Cayman Islands , United Kingdom\", \"Channel Islands , United Kingdom\", \"Bolivia\", \"Niger\", \"Guyana\", \"Mauritius\", \"Martinique , France\", \"Mali\", \"Montenegro\", \"Zimbabwe\", \"Gabon\", \"Gambia\", \"Serbia\", \"Uruguay\", \"Sudan\", \"Angola\", \"Anguilla , United Kingdom\", \"British Virgin Islands , United Kingdom\", \"French Polynesia , France\", \"Isle of Man , United Kingdom\", \"Mayotte , France\", \"Montserrat , United Kingdom\", \"Antigua and Barbuda\", \"Barbados\", \"Belize\", \"Benin\", \"Bhutan\", \"Burma\", \"Central African Republic\", \"Chad\", \"Congo (Brazzaville)\", \"Djibouti\", \"Dominica\", \"El Salvador\", \"Equatorial Guinea\", \"Eritrea\", \"Eswatini\", \"Fiji\", \"Grenada\", \"Guinea\", \"Guinea-Bissau\", \"Holy See\", \"Kyrgyzstan\", \"Laos\", \"Liberia\", \"Libya\", \"Liechtenstein\", \"MS Zaandam\", \"Madagascar\", \"Mongolia\", \"Papua New Guinea\", \"Rwanda\", \"Saint Kitts and Nevis\", \"Seychelles\", \"Somalia\", \"Suriname\", \"Uganda\", \"Zambia\", \"New Caledonia , France\", \"Northern Territory , Australia\", \"Saint Barthelemy , France\", \"Sint Maarten , Netherlands\", \"St Martin , France\", \"Turks and Caicos Islands , United Kingdom\"], \"lat\": [14.4974, 48.669, 12.9843, 13.9094, 21.0, 28.1667, 32.9711, -22.9576, 21.0079, 22.1667, 35.9375, 3.2028, 56.8796, 29.5, 12.5186, 18.9712, 42.3154, 9.145, 11.55, 25.0343, 53.7098, -6.369, -34.9285, 37.2692, -35.4735, 31.6927, 35.7452, 71.7069, 32.3078, 36.1408, -21.1351, 16.0, 3.9339, 61.8926, 37.5777, -41.4545, 29.1832, 27.614, 26.0789, 27.6104, 30.6171, 23.3417, 31.8257, 23.8298, 36.3427, 30.0572, 43.6661, 24.974, 35.1917, 44.0935, 26.8154, 1.2833, 26.0275, 64.9631, 31.201999999999998, 37.8099, 41.2956, 0.0, 33.882, -40.9006, 39.549, 40.1824, 25.3548, -37.8136, 39.3054, 47.861999999999995, 4.5353, 36.0, 19.1959, 22.3, 41.1129, 48.0196, 30.9756, 6.4238, 24.0, 31.9522, 51.0, -30.5595, 23.7, -31.9505, 15.0, 2.5, 7.0, -35.6751, 40.0691, 15.7835, 31.0, 45.1, 24.0, 60.0, 36.0, 58.5953, 31.24, 47.5162, 46.8182, 45.9432, 32.0, 16.25, 7.54, -28.0167, -38.4161, 40.1431, 21.0, 41.3775, 33.0, 26.0, 41.1533, 50.8333, 23.685, 9.082, 35.1264, 33.8547, 46.2276, 47.1625, 40.0, 30.3753, 12.1696, 18.1096, 12.2383, 49.8153, 42.7339, 9.7489, 39.0742, 43.9159, 22.0, 43.0, 37.0902, 28.0339, 8.6195, -0.0236, 4.5709, 47.4116, 15.2, 43.7333, 42.602636, 46.1512, 64.0, -9.19, 3.8480000000000003, 38.9637, 49.8175, 48.3794, 13.0, -0.7893, 31.7917, -33.8688, 33.0, 41.6086, 7.9465, 39.3999, -4.0383, -23.4425, 10.6918, 52.1326, 51.9194, 60.472, 43.9424, 34.0, 23.6345, 8.538, 42.5063, 63.0, 55.1694, 55.3781, 53.1424, 18.7357, -1.8312, -14.235, 56.2639, 16.5388, 12.8654, 19.3133, 49.3723, -16.2902, 17.6078, 5.0, -20.2, 14.6415, 17.570692, 42.5, -20.0, -0.8037, 13.4432, 44.0165, -32.5228, 12.8628, -11.2027, 18.2206, 18.4207, -17.6797, 54.2361, -12.8275, 16.7425, 17.0608, 13.1939, 13.1939, 9.3077, 27.5142, 21.9162, 6.6111, 15.4542, -4.0383, 11.8251, 15.415, 13.7942, 1.5, 15.1794, -26.5225, -17.7134, 12.1165, 9.9456, 11.8037, 41.9029, 41.2044, 19.856270000000002, 6.4281, 26.3351, 47.14, 0.0, -18.7669, 46.8625, -6.315, -1.9403, 17.357822, -4.6796, 5.1521, 3.9193, 1.0, -15.4167, -20.9043, -12.4634, 17.9, 18.0425, 18.0708, 21.69400000000001], \"legendgroup\": \"\", \"lon\": [-14.4524, 19.699, -61.2872, -60.9789, 57.0, 84.25, 119.455, 18.4904, 10.9408, 113.55, 14.3754, 73.2207, 24.6032, 47.75, -70.0358, -72.2852, 43.3569, 40.4897, 104.9167, -77.3963, 27.9534, 34.8888, 138.6007, 106.1655, 149.0124, 88.0924, 95.9956, -42.6043, -64.7505, -5.3536, 55.2471, 108.0, -53.1258, -6.9118, 112.2922, 145.9707, 120.0934, 115.7221, 117.9874, 111.7088, 102.7103, 113.4244, 117.2264, 108.7881, 118.1498, 107.874, 126.1923, 101.48700000000001, 108.8701, 113.9448, 106.8748, 103.8333, 50.55, -19.0208, 121.4491, 101.0583, 122.6085, 0.0, 113.61399999999999, 174.886, 116.1306, 116.4142, 51.1839, 144.9631, 117.323, 127.7615, 114.7277, 128.0, 109.7453, 114.2, 85.2401, 66.9237, 112.2707, -66.5897, 54.0, 35.2332, 9.0, 22.9375, 121.0, 115.8605, 101.0, 112.5, 81.0, -71.543, 45.0382, -90.2308, 35.0, 15.2, 45.0, 90.0, 138.0, 25.0136, 36.51, 14.5501, 8.2275, 24.9668, 53.0, -61.5833, -5.5471, 153.4, -63.6167, 47.5769, 78.0, 64.5853, 44.0, 30.0, 20.1683, 4.0, 90.3563, 8.6753, 33.4299, 35.8623, 2.2137, 19.5033, -4.0, 69.3451, -68.99, -77.2975, -1.5616, 6.1296, 25.4858, -83.7534, 21.8243, 17.6791, -80.0, 12.0, -95.7129, 1.6596, 0.8248, 37.9062, -74.2973, 28.3699, -86.2419, 7.4167, 20.902977, 14.9955, 26.0, -75.0152, 11.5021, 35.2433, 15.472999999999999, 31.1656, 122.0, 113.9213, -7.0926, 151.2093, 65.0, 21.7453, -1.0232, -8.2245, 21.7587, -58.4438, -61.2225, 5.2913, 19.1451, 8.4689, 12.4578, 9.0, -102.5528, -80.7821, 1.5218, 16.0, 23.8813, -3.4360000000000004, -7.6921, -70.1627, -78.1834, -51.9253, 9.5018, -23.0418, -85.2072, -81.2546, -2.3644, -63.5887, 8.0817, -58.75, 57.5, -61.0242, -3.996166000000001, 19.3, 30.0, 11.6094, -15.3101, 21.0059, -55.7658, 30.2176, 17.8739, -63.0686, -64.64, 149.4068, -4.5481, 45.1662, -62.1874, -61.7964, -59.5432, -59.5432, 2.3158, 90.4336, 95.956, 20.9394, 18.7322, 21.7587, 42.5903, -61.371, -88.8965, 10.0, 39.7823, 31.4659, 178.065, -61.678999999999995, -9.6966, -15.1804, 12.4534, 74.7661, 102.495496, -9.4295, 17.228331, 9.55, 0.0, 46.8691, 103.8467, 143.9555, 29.8739, -62.782998, 55.492, 46.1996, -56.0278, 32.0, 28.2833, 165.618, 130.8456, -62.8333, -63.0548, -63.0501, -71.7979], \"marker\": {\"color\": [11.916375287812984, 17.72004514666935, 1.0, 3.0, 12.922847983320086, 2.23606797749979, 25.37715508089904, 3.3166247903554, 2.23606797749979, 6.082762530298219, 12.288205727444508, 4.123105625617661, 18.627936010197157, 15.968719422671311, 7.0710678118654755, 3.872983346207417, 9.539392014169456, 4.58257569495584, 10.14889156509222, 3.3166247903554, 9.695359714832659, 3.7416573867739413, 17.291616465790582, 8.660254037844387, 8.774964387392123, 1.0, 4.242640687119285, 3.1622776601683795, 4.69041575982343, 8.06225774829855, 13.527749258468683, 13.711309200802088, 5.291502622129181, 12.609520212918492, 11.661903789690601, 8.12403840463596, 35.41186241925155, 30.610455730027933, 18.384776310850235, 31.906112267087632, 23.452078799117146, 38.40572873934304, 31.464265445104548, 15.937377450509228, 27.784887978899608, 24.06241883103193, 9.899494936611665, 13.416407864998739, 15.905973720586866, 9.746794344808963, 12.083045973594572, 29.0516780926679, 22.338307903688676, 31.937438845342623, 22.181073012818835, 11.74734012447073, 11.575836902790225, 26.68332812825267, 35.7211421989835, 22.67156809750927, 17.86057109949175, 24.020824298928627, 25.179356624028344, 27.730849247724095, 12.884098726725126, 22.0, 11.224972160321824, 97.89279850938985, 12.96148139681572, 25.317977802344327, 8.717797887081348, 16.852299546352718, 260.3862515571819, 10.908712114635714, 23.874672772626646, 10.44030650891055, 249.18868353117483, 35.77708763999664, 17.26267650163207, 17.635192088548397, 37.255872020394314, 49.69909455915671, 10.816653826391969, 46.24932431938871, 20.591260281974, 5.830951894845301, 65.16901104052447, 26.70205984563738, 36.0416425818802, 39.16631205513228, 43.197222132910355, 26.057628441590765, 16.09347693943108, 93.74433316206373, 121.77438154226036, 42.60281680828159, 195.7268504830137, 10.295630140987, 12.84523257866513, 25.612496949731394, 27.294688127912362, 14.45683229480096, 32.0, 12.0, 23.388031127053, 24.677925358506133, 14.560219778561036, 104.09610943738484, 6.928203230275509, 10.535653752852738, 14.628738838327793, 20.92844953645635, 200.4345279636221, 20.199009876724155, 283.037100041673, 39.96248240537617, 2.8284271247461903, 5.656854249492381, 14.89966442575134, 44.15880433163923, 18.601075237738275, 17.72004514666935, 34.0, 17.97220075561143, 11.789826122551595, 312.5523956075205, 375.3478386776724, 22.60530911091463, 5.0, 6.48074069840786, 26.49528259898354, 16.217274740226856, 10.488088481701515, 6.782329983125268, 9.695359714832659, 27.018512172212592, 35.21363372331802, 29.189039038652847, 11.789826122551595, 96.00520819205592, 53.075418038862395, 21.79449471770337, 37.656340767525464, 35.84689665786984, 21.88606862823929, 42.320207938997655, 10.954451150103322, 16.09347693943108, 12.328828005937952, 77.21398836998384, 8.06225774829855, 7.681145747868608, 8.831760866327848, 104.2401074443038, 43.15089802078283, 65.45227268781429, 14.966629547095765, 17.663521732655695, 29.120439557122072, 30.01666203960727, 18.275666882497067, 60.8276253029822, 21.447610589527216, 139.7211508684351, 51.137070702182385, 29.30870177950569, 43.86342439892262, 65.23802572120036, 48.938737212968626, 2.449489742783178, 2.0, 2.8284271247461903, 10.392304845413264, 9.0, 4.242640687119285, 2.8284271247461903, 10.344080432788601, 9.643650760992955, 4.242640687119285, 9.219544457292887, 2.6457513110645907, 2.6457513110645907, 2.0, 27.2213151776324, 17.435595774162696, 2.449489742783178, 2.6457513110645907, 1.4142135623730951, 1.4142135623730951, 5.477225575051661, 6.48074069840786, 7.937253933193772, 2.23606797749979, 2.6457513110645907, 5.744562646538029, 1.4142135623730951, 2.449489742783178, 2.0, 3.1622776601683795, 1.7320508075688772, 1.7320508075688772, 4.358898943540674, 4.242640687119285, 3.3166247903554, 4.898979485566356, 3.4641016151377544, 3.4641016151377544, 3.0, 2.23606797749979, 3.0, 4.0, 1.4142135623730951, 2.449489742783178, 9.16515138991168, 2.8284271247461903, 1.7320508075688772, 2.8284271247461903, 7.483314773547883, 1.4142135623730951, 6.244997998398398, 3.4641016151377544, 1.0, 8.366600265340756, 1.4142135623730951, 2.8284271247461903, 1.7320508075688772, 2.8284271247461903, 5.744562646538029, 5.385164807134504, 3.872983346207417, 3.872983346207417, 2.23606797749979, 2.449489742783178, 3.3166247903554, 2.0], \"coloraxis\": \"coloraxis\", \"size\": [11.916375287812984, 17.72004514666935, 1.0, 3.0, 12.922847983320086, 2.23606797749979, 25.37715508089904, 3.3166247903554, 2.23606797749979, 6.082762530298219, 12.288205727444508, 4.123105625617661, 18.627936010197157, 15.968719422671311, 7.0710678118654755, 3.872983346207417, 9.539392014169456, 4.58257569495584, 10.14889156509222, 3.3166247903554, 9.695359714832659, 3.7416573867739413, 17.291616465790582, 8.660254037844387, 8.774964387392123, 1.0, 4.242640687119285, 3.1622776601683795, 4.69041575982343, 8.06225774829855, 13.527749258468683, 13.711309200802088, 5.291502622129181, 12.609520212918492, 11.661903789690601, 8.12403840463596, 35.41186241925155, 30.610455730027933, 18.384776310850235, 31.906112267087632, 23.452078799117146, 38.40572873934304, 31.464265445104548, 15.937377450509228, 27.784887978899608, 24.06241883103193, 9.899494936611665, 13.416407864998739, 15.905973720586866, 9.746794344808963, 12.083045973594572, 29.0516780926679, 22.338307903688676, 31.937438845342623, 22.181073012818835, 11.74734012447073, 11.575836902790225, 26.68332812825267, 35.7211421989835, 22.67156809750927, 17.86057109949175, 24.020824298928627, 25.179356624028344, 27.730849247724095, 12.884098726725126, 22.0, 11.224972160321824, 97.89279850938985, 12.96148139681572, 25.317977802344327, 8.717797887081348, 16.852299546352718, 260.3862515571819, 10.908712114635714, 23.874672772626646, 10.44030650891055, 249.18868353117483, 35.77708763999664, 17.26267650163207, 17.635192088548397, 37.255872020394314, 49.69909455915671, 10.816653826391969, 46.24932431938871, 20.591260281974, 5.830951894845301, 65.16901104052447, 26.70205984563738, 36.0416425818802, 39.16631205513228, 43.197222132910355, 26.057628441590765, 16.09347693943108, 93.74433316206373, 121.77438154226036, 42.60281680828159, 195.7268504830137, 10.295630140987, 12.84523257866513, 25.612496949731394, 27.294688127912362, 14.45683229480096, 32.0, 12.0, 23.388031127053, 24.677925358506133, 14.560219778561036, 104.09610943738484, 6.928203230275509, 10.535653752852738, 14.628738838327793, 20.92844953645635, 200.4345279636221, 20.199009876724155, 283.037100041673, 39.96248240537617, 2.8284271247461903, 5.656854249492381, 14.89966442575134, 44.15880433163923, 18.601075237738275, 17.72004514666935, 34.0, 17.97220075561143, 11.789826122551595, 312.5523956075205, 375.3478386776724, 22.60530911091463, 5.0, 6.48074069840786, 26.49528259898354, 16.217274740226856, 10.488088481701515, 6.782329983125268, 9.695359714832659, 27.018512172212592, 35.21363372331802, 29.189039038652847, 11.789826122551595, 96.00520819205592, 53.075418038862395, 21.79449471770337, 37.656340767525464, 35.84689665786984, 21.88606862823929, 42.320207938997655, 10.954451150103322, 16.09347693943108, 12.328828005937952, 77.21398836998384, 8.06225774829855, 7.681145747868608, 8.831760866327848, 104.2401074443038, 43.15089802078283, 65.45227268781429, 14.966629547095765, 17.663521732655695, 29.120439557122072, 30.01666203960727, 18.275666882497067, 60.8276253029822, 21.447610589527216, 139.7211508684351, 51.137070702182385, 29.30870177950569, 43.86342439892262, 65.23802572120036, 48.938737212968626, 2.449489742783178, 2.0, 2.8284271247461903, 10.392304845413264, 9.0, 4.242640687119285, 2.8284271247461903, 10.344080432788601, 9.643650760992955, 4.242640687119285, 9.219544457292887, 2.6457513110645907, 2.6457513110645907, 2.0, 27.2213151776324, 17.435595774162696, 2.449489742783178, 2.6457513110645907, 1.4142135623730951, 1.4142135623730951, 5.477225575051661, 6.48074069840786, 7.937253933193772, 2.23606797749979, 2.6457513110645907, 5.744562646538029, 1.4142135623730951, 2.449489742783178, 2.0, 3.1622776601683795, 1.7320508075688772, 1.7320508075688772, 4.358898943540674, 4.242640687119285, 3.3166247903554, 4.898979485566356, 3.4641016151377544, 3.4641016151377544, 3.0, 2.23606797749979, 3.0, 4.0, 1.4142135623730951, 2.449489742783178, 9.16515138991168, 2.8284271247461903, 1.7320508075688772, 2.8284271247461903, 7.483314773547883, 1.4142135623730951, 6.244997998398398, 3.4641016151377544, 1.0, 8.366600265340756, 1.4142135623730951, 2.8284271247461903, 1.7320508075688772, 2.8284271247461903, 5.744562646538029, 5.385164807134504, 3.872983346207417, 3.872983346207417, 2.23606797749979, 2.449489742783178, 3.3166247903554, 2.0], \"sizemode\": \"area\", \"sizeref\": 0.9383695966941811}, \"name\": \"\", \"showlegend\": false, \"type\": \"scattergeo\"}],\n",
       "                        {\"coloraxis\": {\"colorbar\": {\"title\": {\"text\": \"size\"}}, \"colorscale\": [[0.0, \"#0d0887\"], [0.1111111111111111, \"#46039f\"], [0.2222222222222222, \"#7201a8\"], [0.3333333333333333, \"#9c179e\"], [0.4444444444444444, \"#bd3786\"], [0.5555555555555556, \"#d8576b\"], [0.6666666666666666, \"#ed7953\"], [0.7777777777777778, \"#fb9f3a\"], [0.8888888888888888, \"#fdca26\"], [1.0, \"#f0f921\"]], \"showscale\": false}, \"geo\": {\"center\": {}, \"domain\": {\"x\": [0.0, 1.0], \"y\": [0.0, 1.0]}, \"projection\": {\"type\": \"orthographic\"}}, \"legend\": {\"itemsizing\": \"constant\", \"tracegroupgap\": 0}, \"template\": {\"data\": {\"bar\": [{\"error_x\": {\"color\": \"#2a3f5f\"}, \"error_y\": {\"color\": \"#2a3f5f\"}, \"marker\": {\"line\": {\"color\": \"#E5ECF6\", \"width\": 0.5}}, \"type\": \"bar\"}], \"barpolar\": [{\"marker\": {\"line\": {\"color\": \"#E5ECF6\", \"width\": 0.5}}, \"type\": \"barpolar\"}], \"carpet\": [{\"aaxis\": {\"endlinecolor\": \"#2a3f5f\", \"gridcolor\": \"white\", \"linecolor\": \"white\", \"minorgridcolor\": \"white\", \"startlinecolor\": \"#2a3f5f\"}, \"baxis\": {\"endlinecolor\": \"#2a3f5f\", \"gridcolor\": \"white\", \"linecolor\": \"white\", \"minorgridcolor\": \"white\", \"startlinecolor\": \"#2a3f5f\"}, \"type\": \"carpet\"}], \"choropleth\": [{\"colorbar\": {\"outlinewidth\": 0, \"ticks\": \"\"}, \"type\": \"choropleth\"}], \"contour\": [{\"colorbar\": {\"outlinewidth\": 0, \"ticks\": \"\"}, \"colorscale\": [[0.0, \"#0d0887\"], [0.1111111111111111, \"#46039f\"], [0.2222222222222222, \"#7201a8\"], [0.3333333333333333, \"#9c179e\"], [0.4444444444444444, \"#bd3786\"], [0.5555555555555556, \"#d8576b\"], [0.6666666666666666, \"#ed7953\"], [0.7777777777777778, \"#fb9f3a\"], [0.8888888888888888, \"#fdca26\"], [1.0, \"#f0f921\"]], \"type\": \"contour\"}], \"contourcarpet\": [{\"colorbar\": {\"outlinewidth\": 0, \"ticks\": \"\"}, \"type\": \"contourcarpet\"}], \"heatmap\": [{\"colorbar\": {\"outlinewidth\": 0, \"ticks\": \"\"}, \"colorscale\": [[0.0, \"#0d0887\"], [0.1111111111111111, \"#46039f\"], [0.2222222222222222, \"#7201a8\"], [0.3333333333333333, \"#9c179e\"], [0.4444444444444444, \"#bd3786\"], [0.5555555555555556, \"#d8576b\"], [0.6666666666666666, \"#ed7953\"], [0.7777777777777778, \"#fb9f3a\"], [0.8888888888888888, \"#fdca26\"], [1.0, \"#f0f921\"]], \"type\": \"heatmap\"}], \"heatmapgl\": [{\"colorbar\": {\"outlinewidth\": 0, \"ticks\": \"\"}, \"colorscale\": [[0.0, \"#0d0887\"], [0.1111111111111111, \"#46039f\"], [0.2222222222222222, \"#7201a8\"], [0.3333333333333333, \"#9c179e\"], [0.4444444444444444, \"#bd3786\"], [0.5555555555555556, \"#d8576b\"], [0.6666666666666666, \"#ed7953\"], [0.7777777777777778, \"#fb9f3a\"], [0.8888888888888888, \"#fdca26\"], [1.0, \"#f0f921\"]], \"type\": \"heatmapgl\"}], \"histogram\": [{\"marker\": {\"colorbar\": {\"outlinewidth\": 0, \"ticks\": \"\"}}, \"type\": \"histogram\"}], \"histogram2d\": [{\"colorbar\": {\"outlinewidth\": 0, \"ticks\": \"\"}, \"colorscale\": [[0.0, \"#0d0887\"], [0.1111111111111111, \"#46039f\"], [0.2222222222222222, \"#7201a8\"], [0.3333333333333333, \"#9c179e\"], [0.4444444444444444, \"#bd3786\"], [0.5555555555555556, \"#d8576b\"], [0.6666666666666666, \"#ed7953\"], [0.7777777777777778, \"#fb9f3a\"], [0.8888888888888888, \"#fdca26\"], [1.0, \"#f0f921\"]], \"type\": \"histogram2d\"}], \"histogram2dcontour\": [{\"colorbar\": {\"outlinewidth\": 0, \"ticks\": \"\"}, \"colorscale\": [[0.0, \"#0d0887\"], [0.1111111111111111, \"#46039f\"], [0.2222222222222222, \"#7201a8\"], [0.3333333333333333, \"#9c179e\"], [0.4444444444444444, \"#bd3786\"], [0.5555555555555556, \"#d8576b\"], [0.6666666666666666, \"#ed7953\"], [0.7777777777777778, \"#fb9f3a\"], [0.8888888888888888, \"#fdca26\"], [1.0, \"#f0f921\"]], \"type\": \"histogram2dcontour\"}], \"mesh3d\": [{\"colorbar\": {\"outlinewidth\": 0, \"ticks\": \"\"}, \"type\": \"mesh3d\"}], \"parcoords\": [{\"line\": {\"colorbar\": {\"outlinewidth\": 0, \"ticks\": \"\"}}, \"type\": \"parcoords\"}], \"pie\": [{\"automargin\": true, \"type\": \"pie\"}], \"scatter\": [{\"marker\": {\"colorbar\": {\"outlinewidth\": 0, \"ticks\": \"\"}}, \"type\": \"scatter\"}], \"scatter3d\": [{\"line\": {\"colorbar\": {\"outlinewidth\": 0, \"ticks\": \"\"}}, \"marker\": {\"colorbar\": {\"outlinewidth\": 0, \"ticks\": \"\"}}, \"type\": \"scatter3d\"}], \"scattercarpet\": [{\"marker\": {\"colorbar\": {\"outlinewidth\": 0, \"ticks\": \"\"}}, \"type\": \"scattercarpet\"}], \"scattergeo\": [{\"marker\": {\"colorbar\": {\"outlinewidth\": 0, \"ticks\": \"\"}}, \"type\": \"scattergeo\"}], \"scattergl\": [{\"marker\": {\"colorbar\": {\"outlinewidth\": 0, \"ticks\": \"\"}}, \"type\": \"scattergl\"}], \"scattermapbox\": [{\"marker\": {\"colorbar\": {\"outlinewidth\": 0, \"ticks\": \"\"}}, \"type\": \"scattermapbox\"}], \"scatterpolar\": [{\"marker\": {\"colorbar\": {\"outlinewidth\": 0, \"ticks\": \"\"}}, \"type\": \"scatterpolar\"}], \"scatterpolargl\": [{\"marker\": {\"colorbar\": {\"outlinewidth\": 0, \"ticks\": \"\"}}, \"type\": \"scatterpolargl\"}], \"scatterternary\": [{\"marker\": {\"colorbar\": {\"outlinewidth\": 0, \"ticks\": \"\"}}, \"type\": \"scatterternary\"}], \"surface\": [{\"colorbar\": {\"outlinewidth\": 0, \"ticks\": \"\"}, \"colorscale\": [[0.0, \"#0d0887\"], [0.1111111111111111, \"#46039f\"], [0.2222222222222222, \"#7201a8\"], [0.3333333333333333, \"#9c179e\"], [0.4444444444444444, \"#bd3786\"], [0.5555555555555556, \"#d8576b\"], [0.6666666666666666, \"#ed7953\"], [0.7777777777777778, \"#fb9f3a\"], [0.8888888888888888, \"#fdca26\"], [1.0, \"#f0f921\"]], \"type\": \"surface\"}], \"table\": [{\"cells\": {\"fill\": {\"color\": \"#EBF0F8\"}, \"line\": {\"color\": \"white\"}}, \"header\": {\"fill\": {\"color\": \"#C8D4E3\"}, \"line\": {\"color\": \"white\"}}, \"type\": \"table\"}]}, \"layout\": {\"annotationdefaults\": {\"arrowcolor\": \"#2a3f5f\", \"arrowhead\": 0, \"arrowwidth\": 1}, \"coloraxis\": {\"colorbar\": {\"outlinewidth\": 0, \"ticks\": \"\"}}, \"colorscale\": {\"diverging\": [[0, \"#8e0152\"], [0.1, \"#c51b7d\"], [0.2, \"#de77ae\"], [0.3, \"#f1b6da\"], [0.4, \"#fde0ef\"], [0.5, \"#f7f7f7\"], [0.6, \"#e6f5d0\"], [0.7, \"#b8e186\"], [0.8, \"#7fbc41\"], [0.9, \"#4d9221\"], [1, \"#276419\"]], \"sequential\": [[0.0, \"#0d0887\"], [0.1111111111111111, \"#46039f\"], [0.2222222222222222, \"#7201a8\"], [0.3333333333333333, \"#9c179e\"], [0.4444444444444444, \"#bd3786\"], [0.5555555555555556, \"#d8576b\"], [0.6666666666666666, \"#ed7953\"], [0.7777777777777778, \"#fb9f3a\"], [0.8888888888888888, \"#fdca26\"], [1.0, \"#f0f921\"]], \"sequentialminus\": [[0.0, \"#0d0887\"], [0.1111111111111111, \"#46039f\"], [0.2222222222222222, \"#7201a8\"], [0.3333333333333333, \"#9c179e\"], [0.4444444444444444, \"#bd3786\"], [0.5555555555555556, \"#d8576b\"], [0.6666666666666666, \"#ed7953\"], [0.7777777777777778, \"#fb9f3a\"], [0.8888888888888888, \"#fdca26\"], [1.0, \"#f0f921\"]]}, \"colorway\": [\"#636efa\", \"#EF553B\", \"#00cc96\", \"#ab63fa\", \"#FFA15A\", \"#19d3f3\", \"#FF6692\", \"#B6E880\", \"#FF97FF\", \"#FECB52\"], \"font\": {\"color\": \"#2a3f5f\"}, \"geo\": {\"bgcolor\": \"white\", \"lakecolor\": \"white\", \"landcolor\": \"#E5ECF6\", \"showlakes\": true, \"showland\": true, \"subunitcolor\": \"white\"}, \"hoverlabel\": {\"align\": \"left\"}, \"hovermode\": \"closest\", \"mapbox\": {\"style\": \"light\"}, \"paper_bgcolor\": \"white\", \"plot_bgcolor\": \"#E5ECF6\", \"polar\": {\"angularaxis\": {\"gridcolor\": \"white\", \"linecolor\": \"white\", \"ticks\": \"\"}, \"bgcolor\": \"#E5ECF6\", \"radialaxis\": {\"gridcolor\": \"white\", \"linecolor\": \"white\", \"ticks\": \"\"}}, \"scene\": {\"xaxis\": {\"backgroundcolor\": \"#E5ECF6\", \"gridcolor\": \"white\", \"gridwidth\": 2, \"linecolor\": \"white\", \"showbackground\": true, \"ticks\": \"\", \"zerolinecolor\": \"white\"}, \"yaxis\": {\"backgroundcolor\": \"#E5ECF6\", \"gridcolor\": \"white\", \"gridwidth\": 2, \"linecolor\": \"white\", \"showbackground\": true, \"ticks\": \"\", \"zerolinecolor\": \"white\"}, \"zaxis\": {\"backgroundcolor\": \"#E5ECF6\", \"gridcolor\": \"white\", \"gridwidth\": 2, \"linecolor\": \"white\", \"showbackground\": true, \"ticks\": \"\", \"zerolinecolor\": \"white\"}}, \"shapedefaults\": {\"line\": {\"color\": \"#2a3f5f\"}}, \"ternary\": {\"aaxis\": {\"gridcolor\": \"white\", \"linecolor\": \"white\", \"ticks\": \"\"}, \"baxis\": {\"gridcolor\": \"white\", \"linecolor\": \"white\", \"ticks\": \"\"}, \"bgcolor\": \"#E5ECF6\", \"caxis\": {\"gridcolor\": \"white\", \"linecolor\": \"white\", \"ticks\": \"\"}}, \"title\": {\"x\": 0.05}, \"xaxis\": {\"automargin\": true, \"gridcolor\": \"white\", \"linecolor\": \"white\", \"ticks\": \"\", \"title\": {\"standoff\": 15}, \"zerolinecolor\": \"white\", \"zerolinewidth\": 2}, \"yaxis\": {\"automargin\": true, \"gridcolor\": \"white\", \"linecolor\": \"white\", \"ticks\": \"\", \"title\": {\"standoff\": 15}, \"zerolinecolor\": \"white\", \"zerolinewidth\": 2}}}, \"title\": {\"text\": \"Spread in World over time | orthographic\"}},\n",
       "                        {\"responsive\": true}\n",
       "                    ).then(function(){\n",
       "                            \n",
       "var gd = document.getElementById('f95edc2f-082f-4560-8e28-ce2d658de56e');\n",
       "var x = new MutationObserver(function (mutations, observer) {{\n",
       "        var display = window.getComputedStyle(gd).display;\n",
       "        if (!display || display === 'none') {{\n",
       "            console.log([gd, 'removed!']);\n",
       "            Plotly.purge(gd);\n",
       "            observer.disconnect();\n",
       "        }}\n",
       "}});\n",
       "\n",
       "// Listen for the removal of the full notebook cells\n",
       "var notebookContainer = gd.closest('#notebook-container');\n",
       "if (notebookContainer) {{\n",
       "    x.observe(notebookContainer, {childList: true});\n",
       "}}\n",
       "\n",
       "// Listen for the clearing of the current output cell\n",
       "var outputEl = gd.closest('.output');\n",
       "if (outputEl) {{\n",
       "    x.observe(outputEl, {childList: true});\n",
       "}}\n",
       "\n",
       "                        })\n",
       "                };\n",
       "                });\n",
       "            </script>\n",
       "        </div>"
      ]
     },
     "metadata": {},
     "output_type": "display_data"
    },
    {
     "data": {
      "application/vnd.plotly.v1+json": {
       "config": {
        "plotlyServerURL": "https://plot.ly"
       },
       "data": [
        {
         "customdata": [
          [
           142,
           0,
           27,
           115,
           0,
           100
          ],
          [
           314,
           0,
           2,
           312,
           0,
           100
          ],
          [
           1,
           0,
           1,
           0,
           0,
           100
          ],
          [
           9,
           0,
           1,
           8,
           0,
           100
          ],
          [
           167,
           0,
           23,
           144,
           0,
           100
          ],
          [
           5,
           0,
           1,
           4,
           0,
           100
          ],
          [
           644,
           0,
           631,
           13,
           0,
           100
          ],
          [
           11,
           0,
           2,
           9,
           0,
           100
          ],
          [
           5,
           0,
           2,
           3,
           0,
           100
          ],
          [
           37,
           0,
           10,
           27,
           0,
           100
          ],
          [
           151,
           0,
           2,
           149,
           0,
           100
          ],
          [
           17,
           0,
           13,
           4,
           0,
           100
          ],
          [
           347,
           0,
           1,
           346,
           0,
           100
          ],
          [
           255,
           0,
           67,
           188,
           0,
           100
          ],
          [
           50,
           0,
           1,
           49,
           0,
           100
          ],
          [
           15,
           0,
           1,
           14,
           0,
           100
          ],
          [
           91,
           0,
           18,
           73,
           0,
           100
          ],
          [
           21,
           0,
           1,
           20,
           0,
           100
          ],
          [
           103,
           0,
           21,
           82,
           0,
           100
          ],
          [
           11,
           0,
           1,
           10,
           0,
           100
          ],
          [
           94,
           0,
           32,
           62,
           0,
           100
          ],
          [
           14,
           0,
           1,
           13,
           0,
           100
          ],
          [
           299,
           0,
           6,
           293,
           0,
           100
          ],
          [
           75,
           0,
           75,
           0,
           0,
           100
          ],
          [
           77,
           0,
           2,
           75,
           0,
           100
          ],
          [
           1,
           0,
           1,
           0,
           0,
           100
          ],
          [
           18,
           0,
           18,
           0,
           0,
           100
          ],
          [
           10,
           0,
           2,
           8,
           0,
           100
          ],
          [
           22,
           0,
           2,
           20,
           0,
           100
          ],
          [
           65,
           0,
           14,
           51,
           0,
           100
          ],
          [
           183,
           0,
           1,
           182,
           0,
           100
          ],
          [
           188,
           0,
           25,
           163,
           0,
           100
          ],
          [
           28,
           0,
           6,
           22,
           0,
           100
          ],
          [
           159,
           0,
           70,
           89,
           0,
           100
          ],
          [
           136,
           0,
           133,
           3,
           0,
           100
          ],
          [
           66,
           0,
           5,
           61,
           0,
           100
          ],
          [
           1254,
           1,
           1225,
           28,
           0.08156606851549755,
           99.9184339314845
          ],
          [
           937,
           1,
           934,
           2,
           0.10695187165775401,
           99.89304812834224
          ],
          [
           338,
           1,
           295,
           42,
           0.33783783783783783,
           99.66216216216216
          ],
          [
           1018,
           4,
           1014,
           0,
           0.3929273084479371,
           99.60707269155206
          ],
          [
           550,
           3,
           536,
           11,
           0.5565862708719851,
           99.44341372912801
          ],
          [
           1475,
           8,
           1349,
           118,
           0.5895357406042742,
           99.41046425939572
          ],
          [
           990,
           6,
           984,
           0,
           0.6060606060606061,
           99.39393939393939
          ],
          [
           254,
           2,
           250,
           2,
           0.7936507936507936,
           99.20634920634922
          ],
          [
           772,
           7,
           752,
           13,
           0.922266139657444,
           99.07773386034255
          ],
          [
           579,
           6,
           570,
           3,
           1.0416666666666665,
           98.95833333333334
          ],
          [
           98,
           1,
           92,
           5,
           1.0752688172043012,
           98.9247311827957
          ],
          [
           180,
           2,
           172,
           6,
           1.1494252873563218,
           98.85057471264368
          ],
          [
           253,
           3,
           242,
           8,
           1.2244897959183674,
           98.77551020408163
          ],
          [
           95,
           1,
           74,
           20,
           1.3333333333333335,
           98.66666666666667
          ],
          [
           146,
           2,
           144,
           0,
           1.36986301369863,
           98.63013698630137
          ],
          [
           844,
           3,
           212,
           629,
           1.3953488372093024,
           98.6046511627907
          ],
          [
           499,
           4,
           272,
           223,
           1.4492753623188406,
           98.55072463768117
          ],
          [
           1020,
           2,
           135,
           883,
           1.4598540145985401,
           98.54014598540147
          ],
          [
           492,
           5,
           334,
           153,
           1.4749262536873156,
           98.52507374631269
          ],
          [
           138,
           2,
           125,
           11,
           1.574803149606299,
           98.4251968503937
          ],
          [
           134,
           2,
           124,
           8,
           1.5873015873015872,
           98.4126984126984
          ],
          [
           712,
           10,
           603,
           99,
           1.631321370309951,
           98.36867862969005
          ],
          [
           1276,
           22,
           1251,
           3,
           1.728201099764336,
           98.27179890023567
          ],
          [
           514,
           1,
           56,
           457,
           1.7543859649122806,
           98.24561403508771
          ],
          [
           319,
           6,
           310,
           3,
           1.89873417721519,
           98.10126582278481
          ],
          [
           577,
           8,
           412,
           157,
           1.9047619047619049,
           98.09523809523809
          ],
          [
           634,
           1,
           48,
           585,
           2.0408163265306123,
           97.95918367346938
          ],
          [
           769,
           4,
           191,
           574,
           2.051282051282051,
           97.94871794871794
          ],
          [
           166,
           3,
           133,
           30,
           2.2058823529411766,
           97.79411764705883
          ],
          [
           484,
           13,
           469,
           2,
           2.6970954356846475,
           97.30290456431536
          ],
          [
           126,
           1,
           34,
           91,
           2.857142857142857,
           97.14285714285714
          ],
          [
           9583,
           152,
           5033,
           4398,
           2.931533269045323,
           97.06846673095467
          ],
          [
           168,
           6,
           168,
           -6,
           3.4482758620689653,
           96.55172413793103
          ],
          [
           641,
           4,
           112,
           525,
           3.4482758620689653,
           96.55172413793103
          ],
          [
           76,
           3,
           73,
           0,
           3.9473684210526314,
           96.05263157894737
          ],
          [
           284,
           1,
           20,
           263,
           4.761904761904762,
           95.23809523809523
          ],
          [
           67801,
           3182,
           62570,
           2049,
           4.839396520257939,
           95.16060347974205
          ],
          [
           119,
           2,
           39,
           78,
           4.878048780487805,
           95.1219512195122
          ],
          [
           570,
           3,
           58,
           509,
           4.918032786885246,
           95.08196721311475
          ],
          [
           109,
           1,
           18,
           90,
           5.263157894736842,
           94.73684210526315
          ],
          [
           62095,
           533,
           9211,
           52351,
           5.470032840722496,
           94.5299671592775
          ],
          [
           1280,
           2,
           31,
           1247,
           6.0606060606060606,
           93.93939393939394
          ],
          [
           298,
           2,
           30,
           266,
           6.25,
           93.75
          ],
          [
           311,
           2,
           28,
           281,
           6.666666666666667,
           93.33333333333333
          ],
          [
           1388,
           7,
           97,
           1284,
           6.730769230769231,
           93.26923076923077
          ],
          [
           2470,
           35,
           388,
           2047,
           8.274231678486997,
           91.725768321513
          ],
          [
           117,
           1,
           11,
           105,
           8.333333333333332,
           91.66666666666666
          ],
          [
           2139,
           7,
           75,
           2057,
           8.536585365853659,
           91.46341463414635
          ],
          [
           424,
           3,
           30,
           391,
           9.090909090909092,
           90.9090909090909
          ],
          [
           34,
           1,
           10,
           23,
           9.090909090909092,
           90.9090909090909
          ],
          [
           4247,
           15,
           132,
           4100,
           10.204081632653061,
           89.79591836734694
          ],
          [
           713,
           6,
           52,
           655,
           10.344827586206897,
           89.65517241379311
          ],
          [
           1299,
           8,
           66,
           1225,
           10.81081081081081,
           89.1891891891892
          ],
          [
           1534,
           8,
           64,
           1462,
           11.11111111111111,
           88.88888888888889
          ],
          [
           1866,
           54,
           424,
           1388,
           11.297071129707113,
           88.70292887029288
          ],
          [
           679,
           3,
           20,
           656,
           13.043478260869565,
           86.95652173913044
          ],
          [
           259,
           3,
           18,
           238,
           14.285714285714285,
           85.71428571428571
          ],
          [
           8788,
           86,
           479,
           8223,
           15.221238938053098,
           84.77876106194691
          ],
          [
           14829,
           300,
           1595,
           12934,
           15.8311345646438,
           84.1688654353562
          ],
          [
           1815,
           43,
           206,
           1566,
           17.269076305220885,
           82.73092369477911
          ],
          [
           38309,
           2640,
           12391,
           23278,
           17.56370168318808,
           82.43629831681191
          ],
          [
           106,
           4,
           17,
           85,
           19.047619047619047,
           80.95238095238095
          ],
          [
           165,
           1,
           4,
           160,
           20,
           80
          ],
          [
           656,
           2,
           8,
           646,
           20,
           80
          ],
          [
           745,
           19,
           72,
           654,
           20.87912087912088,
           79.12087912087912
          ],
          [
           209,
           4,
           15,
           190,
           21.052631578947366,
           78.94736842105263
          ],
          [
           1024,
           27,
           95,
           902,
           22.131147540983605,
           77.8688524590164
          ],
          [
           144,
           2,
           7,
           135,
           22.22222222222222,
           77.77777777777779
          ],
          [
           547,
           42,
           143,
           362,
           22.702702702702705,
           77.29729729729729
          ],
          [
           609,
           40,
           132,
           437,
           23.25581395348837,
           76.74418604651163
          ],
          [
           212,
           10,
           33,
           169,
           23.25581395348837,
           76.74418604651163
          ],
          [
           10836,
           431,
           1359,
           9046,
           24.078212290502794,
           75.9217877094972
          ],
          [
           48,
           5,
           15,
           28,
           25,
           75
          ],
          [
           111,
           1,
           3,
           107,
           25,
           75
          ],
          [
           214,
           5,
           15,
           194,
           25,
           75
          ],
          [
           438,
           10,
           30,
           398,
           25,
           75
          ],
          [
           40174,
           2606,
           7202,
           30366,
           26.57014681892333,
           73.42985318107668
          ],
          [
           408,
           13,
           34,
           361,
           27.659574468085108,
           72.3404255319149
          ],
          [
           80110,
           6803,
           14709,
           58598,
           31.624209743399035,
           68.37579025660096
          ],
          [
           1597,
           14,
           29,
           1554,
           32.55813953488372,
           67.44186046511628
          ],
          [
           8,
           1,
           2,
           5,
           33.33333333333333,
           66.66666666666666
          ],
          [
           32,
           1,
           2,
           29,
           33.33333333333333,
           66.66666666666666
          ],
          [
           222,
           12,
           23,
           187,
           34.285714285714285,
           65.71428571428571
          ],
          [
           1950,
           21,
           40,
           1889,
           34.42622950819672,
           65.57377049180327
          ],
          [
           346,
           8,
           14,
           324,
           36.36363636363637,
           63.63636363636363
          ],
          [
           314,
           2,
           3,
           309,
           40,
           60
          ],
          [
           1156,
           38,
           52,
           1066,
           42.22222222222222,
           57.77777777777777
          ],
          [
           323,
           6,
           8,
           309,
           42.857142857142854,
           57.14285714285714
          ],
          [
           139,
           3,
           4,
           132,
           42.857142857142854,
           57.14285714285714
          ],
          [
           97689,
           10779,
           13030,
           73880,
           45.272796001512035,
           54.72720399848797
          ],
          [
           140886,
           2467,
           2665,
           135754,
           48.0709275136399,
           51.9290724863601
          ],
          [
           511,
           31,
           31,
           449,
           50,
           50
          ],
          [
           25,
           1,
           1,
           23,
           50,
           50
          ],
          [
           42,
           1,
           1,
           40,
           50,
           50
          ],
          [
           702,
           10,
           10,
           682,
           50,
           50
          ],
          [
           263,
           2,
           2,
           259,
           50,
           50
          ],
          [
           110,
           3,
           3,
           104,
           50,
           50
          ],
          [
           46,
           1,
           1,
           44,
           50,
           50
          ],
          [
           94,
           1,
           1,
           92,
           50,
           50
          ],
          [
           730,
           11,
           10,
           709,
           52.38095238095239,
           47.61904761904761
          ],
          [
           1240,
           11,
           10,
           1219,
           52.38095238095239,
           47.61904761904761
          ],
          [
           852,
           18,
           16,
           818,
           52.94117647058824,
           47.05882352941176
          ],
          [
           139,
           6,
           5,
           128,
           54.54545454545454,
           45.45454545454545
          ],
          [
           9217,
           131,
           105,
           8981,
           55.50847457627118,
           44.49152542372881
          ],
          [
           2817,
           16,
           11,
           2790,
           59.25925925925925,
           40.74074074074074
          ],
          [
           475,
           10,
           6,
           459,
           62.5,
           37.5
          ],
          [
           1418,
           71,
           42,
           1305,
           62.83185840707964,
           37.16814159292036
          ],
          [
           1285,
           114,
           64,
           1107,
           64.04494382022472,
           35.95505617977528
          ],
          [
           479,
           26,
           13,
           440,
           66.66666666666666,
           33.33333333333333
          ],
          [
           1791,
           8,
           4,
           1779,
           66.66666666666666,
           33.33333333333333
          ],
          [
           120,
           4,
           2,
           114,
           66.66666666666666,
           33.33333333333333
          ],
          [
           259,
           6,
           3,
           250,
           66.66666666666666,
           33.33333333333333
          ],
          [
           152,
           5,
           2,
           145,
           71.42857142857143,
           28.57142857142857
          ],
          [
           5962,
           119,
           43,
           5800,
           73.4567901234568,
           26.543209876543212
          ],
          [
           65,
           6,
           2,
           57,
           75,
           25
          ],
          [
           59,
           3,
           1,
           55,
           75,
           25
          ],
          [
           78,
           3,
           1,
           74,
           75,
           25
          ],
          [
           10866,
           771,
           250,
           9845,
           75.51420176297748,
           24.48579823702253
          ],
          [
           1862,
           22,
           7,
           1833,
           75.86206896551724,
           24.137931034482758
          ],
          [
           4284,
           25,
           7,
           4252,
           78.125,
           21.875
          ],
          [
           224,
           22,
           6,
           196,
           78.57142857142857,
           21.428571428571427
          ],
          [
           312,
           8,
           2,
           302,
           80,
           20
          ],
          [
           848,
           16,
           4,
           828,
           80,
           20
          ],
          [
           901,
           17,
           4,
           880,
           80.95238095238095,
           19.047619047619047
          ],
          [
           334,
           6,
           1,
           327,
           85.71428571428571,
           14.285714285714285
          ],
          [
           3700,
           110,
           16,
           3574,
           87.3015873015873,
           12.698412698412698
          ],
          [
           460,
           7,
           1,
           452,
           87.5,
           12.5
          ],
          [
           19522,
           1228,
           135,
           18159,
           90.0953778429934,
           9.904622157006603
          ],
          [
           2615,
           46,
           5,
           2564,
           90.19607843137256,
           9.803921568627452
          ],
          [
           859,
           39,
           3,
           817,
           92.85714285714286,
           7.142857142857142
          ],
          [
           1924,
           58,
           3,
           1863,
           95.08196721311475,
           4.918032786885246
          ],
          [
           4256,
           136,
           6,
           4114,
           95.77464788732394,
           4.225352112676056
          ],
          [
           2395,
           72,
           1,
           2322,
           98.63013698630137,
           1.36986301369863
          ],
          [
           6,
           1,
           0,
           5,
           100,
           0
          ],
          [
           4,
           1,
           0,
           3,
           100,
           0
          ],
          [
           8,
           1,
           0,
           7,
           100,
           0
          ],
          [
           108,
           2,
           0,
           106,
           100,
           0
          ],
          [
           81,
           1,
           0,
           80,
           100,
           0
          ],
          [
           18,
           1,
           0,
           17,
           100,
           0
          ],
          [
           8,
           1,
           0,
           7,
           100,
           0
          ],
          [
           107,
           3,
           0,
           104,
           100,
           0
          ],
          [
           93,
           1,
           0,
           92,
           100,
           0
          ],
          [
           18,
           1,
           0,
           17,
           100,
           0
          ],
          [
           85,
           1,
           0,
           84,
           100,
           0
          ],
          [
           7,
           1,
           0,
           6,
           100,
           0
          ],
          [
           7,
           1,
           0,
           6,
           100,
           0
          ],
          [
           4,
           1,
           0,
           3,
           100,
           0
          ],
          [
           741,
           13,
           0,
           728,
           100,
           0
          ],
          [
           304,
           1,
           0,
           303,
           100,
           0
          ],
          [
           6,
           1,
           0,
           5,
           100,
           0
          ],
          [
           7,
           2,
           0,
           5,
           100,
           0
          ],
          [
           2,
           0,
           0,
           2,
           null,
           null
          ],
          [
           2,
           0,
           0,
           2,
           null,
           null
          ],
          [
           30,
           0,
           0,
           30,
           null,
           null
          ],
          [
           42,
           0,
           0,
           42,
           null,
           null
          ],
          [
           63,
           0,
           0,
           63,
           null,
           null
          ],
          [
           5,
           0,
           0,
           5,
           null,
           null
          ],
          [
           7,
           0,
           0,
           7,
           null,
           null
          ],
          [
           33,
           0,
           0,
           33,
           null,
           null
          ],
          [
           2,
           0,
           0,
           2,
           null,
           null
          ],
          [
           6,
           0,
           0,
           6,
           null,
           null
          ],
          [
           4,
           0,
           0,
           4,
           null,
           null
          ],
          [
           10,
           0,
           0,
           10,
           null,
           null
          ],
          [
           3,
           0,
           0,
           3,
           null,
           null
          ],
          [
           3,
           0,
           0,
           3,
           null,
           null
          ],
          [
           19,
           0,
           0,
           19,
           null,
           null
          ],
          [
           18,
           0,
           0,
           18,
           null,
           null
          ],
          [
           11,
           0,
           0,
           11,
           null,
           null
          ],
          [
           24,
           0,
           0,
           24,
           null,
           null
          ],
          [
           12,
           0,
           0,
           12,
           null,
           null
          ],
          [
           12,
           0,
           0,
           12,
           null,
           null
          ],
          [
           9,
           0,
           0,
           9,
           null,
           null
          ],
          [
           5,
           0,
           0,
           5,
           null,
           null
          ],
          [
           9,
           0,
           0,
           9,
           null,
           null
          ],
          [
           16,
           0,
           0,
           16,
           null,
           null
          ],
          [
           2,
           0,
           0,
           2,
           null,
           null
          ],
          [
           6,
           0,
           0,
           6,
           null,
           null
          ],
          [
           84,
           0,
           0,
           84,
           null,
           null
          ],
          [
           8,
           0,
           0,
           8,
           null,
           null
          ],
          [
           3,
           0,
           0,
           3,
           null,
           null
          ],
          [
           8,
           0,
           0,
           8,
           null,
           null
          ],
          [
           56,
           0,
           0,
           56,
           null,
           null
          ],
          [
           2,
           0,
           0,
           2,
           null,
           null
          ],
          [
           39,
           0,
           0,
           39,
           null,
           null
          ],
          [
           12,
           0,
           0,
           12,
           null,
           null
          ],
          [
           1,
           0,
           0,
           1,
           null,
           null
          ],
          [
           70,
           0,
           0,
           70,
           null,
           null
          ],
          [
           2,
           0,
           0,
           2,
           null,
           null
          ],
          [
           8,
           0,
           0,
           8,
           null,
           null
          ],
          [
           3,
           0,
           0,
           3,
           null,
           null
          ],
          [
           8,
           0,
           0,
           8,
           null,
           null
          ],
          [
           33,
           0,
           0,
           33,
           null,
           null
          ],
          [
           29,
           0,
           0,
           29,
           null,
           null
          ],
          [
           15,
           0,
           0,
           15,
           null,
           null
          ],
          [
           15,
           0,
           0,
           15,
           null,
           null
          ],
          [
           5,
           0,
           0,
           5,
           null,
           null
          ],
          [
           6,
           0,
           0,
           6,
           null,
           null
          ],
          [
           11,
           0,
           0,
           11,
           null,
           null
          ],
          [
           4,
           0,
           0,
           4,
           null,
           null
          ]
         ],
         "geo": "geo",
         "hoverlabel": {
          "namelength": 0
         },
         "hovertemplate": "<b>%{hovertext}</b><br><br>size=%{marker.color}<br>Confirmed=%{customdata[0]}<br>Deaths=%{customdata[1]}<br>Recovered=%{customdata[2]}<br>Infected=%{customdata[3]}<br>Death Rate=%{customdata[4]}<br>Recovery Rate=%{customdata[5]}<br>Lat=%{lat}<br>Long=%{lon}",
         "hovertext": [
          "Senegal",
          "Slovakia",
          "Saint Vincent and the Grenadines",
          "Saint Lucia",
          "Oman",
          "Nepal",
          "Jiangsu , China",
          "Namibia",
          "Mauritania",
          "Macau , China",
          "Malta",
          "Maldives",
          "Latvia",
          "Kuwait",
          "Aruba , Netherlands",
          "Haiti",
          "Georgia",
          "Ethiopia",
          "Cambodia",
          "Bahamas",
          "Belarus",
          "Tanzania",
          "South Australia , Australia",
          "Ningxia , China",
          "Australian Capital Territory , Australia",
          "Tibet , China",
          "Qinghai , China",
          "Greenland , Denmark",
          "Bermuda , United Kingdom",
          "Gibraltar , United Kingdom",
          "Reunion , France",
          "Vietnam",
          "French Guiana , France",
          "Faroe Islands , Denmark",
          "Shanxi , China",
          "Tasmania , Australia",
          "Zhejiang , China",
          "Jiangxi , China",
          "Fujian , China",
          "Hunan , China",
          "Sichuan , China",
          "Guangdong , China",
          "Anhui , China",
          "Guangxi , China",
          "Shandong , China",
          "Chongqing , China",
          "Jilin , China",
          "Yunnan , China",
          "Shaanxi , China",
          "Inner Mongolia , China",
          "Guizhou , China",
          "Singapore",
          "Bahrain",
          "Iceland",
          "Shanghai , China",
          "Gansu , China",
          "Liaoning , China",
          "Diamond Princess",
          "Henan , China",
          "New Zealand",
          "Hebei , China",
          "Beijing , China",
          "Qatar",
          "Victoria , Australia",
          "Tianjin , China",
          "Heilongjiang , China",
          "Brunei",
          "Korea, South",
          "Hainan , China",
          "Hong Kong , China",
          "Xinjiang , China",
          "Kazakhstan",
          "Hubei , China",
          "Venezuela",
          "United Arab Emirates",
          "West Bank and Gaza",
          "Germany",
          "South Africa",
          "Taiwan*",
          "Western Australia , Australia",
          "Thailand",
          "Malaysia",
          "Sri Lanka",
          "Chile",
          "Armenia",
          "Guatemala",
          "Israel",
          "Croatia",
          "Saudi Arabia",
          "Russia",
          "Japan",
          "Estonia",
          "Jordan",
          "Austria",
          "Switzerland",
          "Romania",
          "Iran",
          "Guadeloupe , France",
          "Cote d'Ivoire",
          "Queensland , Australia",
          "Argentina",
          "Azerbaijan",
          "India",
          "Uzbekistan",
          "Iraq",
          "Egypt",
          "Albania",
          "Belgium",
          "Bangladesh",
          "Nigeria",
          "Cyprus",
          "Lebanon",
          "France",
          "Hungary",
          "Spain",
          "Pakistan",
          "Curacao , Netherlands",
          "Jamaica",
          "Burkina Faso",
          "Luxembourg",
          "Bulgaria",
          "Costa Rica",
          "Greece",
          "Bosnia and Herzegovina",
          "Cuba",
          "Italy",
          "US",
          "Algeria",
          "Togo",
          "Kenya",
          "Colombia",
          "Moldova",
          "Honduras",
          "Monaco",
          "Kosovo",
          "Slovenia",
          "Finland",
          "Peru",
          "Cameroon",
          "Turkey",
          "Czechia",
          "Ukraine",
          "Philippines",
          "Indonesia",
          "Morocco",
          "New South Wales , Australia",
          "Afghanistan",
          "North Macedonia",
          "Ghana",
          "Portugal",
          "Congo (Kinshasa)",
          "Paraguay",
          "Trinidad and Tobago",
          "Netherlands",
          "Poland",
          "Norway",
          "San Marino",
          "Tunisia",
          "Mexico",
          "Panama",
          "Andorra",
          "Sweden",
          "Lithuania",
          "United Kingdom",
          "Ireland",
          "Dominican Republic",
          "Ecuador",
          "Brazil",
          "Denmark",
          "Cabo Verde",
          "Nicaragua",
          "Cayman Islands , United Kingdom",
          "Channel Islands , United Kingdom",
          "Bolivia",
          "Niger",
          "Guyana",
          "Mauritius",
          "Martinique , France",
          "Mali",
          "Montenegro",
          "Zimbabwe",
          "Gabon",
          "Gambia",
          "Serbia",
          "Uruguay",
          "Sudan",
          "Angola",
          "Anguilla , United Kingdom",
          "British Virgin Islands , United Kingdom",
          "French Polynesia , France",
          "Isle of Man , United Kingdom",
          "Mayotte , France",
          "Montserrat , United Kingdom",
          "Antigua and Barbuda",
          "Barbados",
          "Belize",
          "Benin",
          "Bhutan",
          "Burma",
          "Central African Republic",
          "Chad",
          "Congo (Brazzaville)",
          "Djibouti",
          "Dominica",
          "El Salvador",
          "Equatorial Guinea",
          "Eritrea",
          "Eswatini",
          "Fiji",
          "Grenada",
          "Guinea",
          "Guinea-Bissau",
          "Holy See",
          "Kyrgyzstan",
          "Laos",
          "Liberia",
          "Libya",
          "Liechtenstein",
          "MS Zaandam",
          "Madagascar",
          "Mongolia",
          "Papua New Guinea",
          "Rwanda",
          "Saint Kitts and Nevis",
          "Seychelles",
          "Somalia",
          "Suriname",
          "Uganda",
          "Zambia",
          "New Caledonia , France",
          "Northern Territory , Australia",
          "Saint Barthelemy , France",
          "Sint Maarten , Netherlands",
          "St Martin , France",
          "Turks and Caicos Islands , United Kingdom"
         ],
         "lat": [
          14.4974,
          48.669,
          12.9843,
          13.9094,
          21,
          28.1667,
          32.9711,
          -22.9576,
          21.0079,
          22.1667,
          35.9375,
          3.2028,
          56.8796,
          29.5,
          12.5186,
          18.9712,
          42.3154,
          9.145,
          11.55,
          25.0343,
          53.7098,
          -6.369,
          -34.9285,
          37.2692,
          -35.4735,
          31.6927,
          35.7452,
          71.7069,
          32.3078,
          36.1408,
          -21.1351,
          16,
          3.9339,
          61.8926,
          37.5777,
          -41.4545,
          29.1832,
          27.614,
          26.0789,
          27.6104,
          30.6171,
          23.3417,
          31.8257,
          23.8298,
          36.3427,
          30.0572,
          43.6661,
          24.974,
          35.1917,
          44.0935,
          26.8154,
          1.2833,
          26.0275,
          64.9631,
          31.201999999999998,
          37.8099,
          41.2956,
          0,
          33.882,
          -40.9006,
          39.549,
          40.1824,
          25.3548,
          -37.8136,
          39.3054,
          47.861999999999995,
          4.5353,
          36,
          19.1959,
          22.3,
          41.1129,
          48.0196,
          30.9756,
          6.4238,
          24,
          31.9522,
          51,
          -30.5595,
          23.7,
          -31.9505,
          15,
          2.5,
          7,
          -35.6751,
          40.0691,
          15.7835,
          31,
          45.1,
          24,
          60,
          36,
          58.5953,
          31.24,
          47.5162,
          46.8182,
          45.9432,
          32,
          16.25,
          7.54,
          -28.0167,
          -38.4161,
          40.1431,
          21,
          41.3775,
          33,
          26,
          41.1533,
          50.8333,
          23.685,
          9.082,
          35.1264,
          33.8547,
          46.2276,
          47.1625,
          40,
          30.3753,
          12.1696,
          18.1096,
          12.2383,
          49.8153,
          42.7339,
          9.7489,
          39.0742,
          43.9159,
          22,
          43,
          37.0902,
          28.0339,
          8.6195,
          -0.0236,
          4.5709,
          47.4116,
          15.2,
          43.7333,
          42.602636,
          46.1512,
          64,
          -9.19,
          3.8480000000000003,
          38.9637,
          49.8175,
          48.3794,
          13,
          -0.7893,
          31.7917,
          -33.8688,
          33,
          41.6086,
          7.9465,
          39.3999,
          -4.0383,
          -23.4425,
          10.6918,
          52.1326,
          51.9194,
          60.472,
          43.9424,
          34,
          23.6345,
          8.538,
          42.5063,
          63,
          55.1694,
          55.3781,
          53.1424,
          18.7357,
          -1.8312,
          -14.235,
          56.2639,
          16.5388,
          12.8654,
          19.3133,
          49.3723,
          -16.2902,
          17.6078,
          5,
          -20.2,
          14.6415,
          17.570692,
          42.5,
          -20,
          -0.8037,
          13.4432,
          44.0165,
          -32.5228,
          12.8628,
          -11.2027,
          18.2206,
          18.4207,
          -17.6797,
          54.2361,
          -12.8275,
          16.7425,
          17.0608,
          13.1939,
          13.1939,
          9.3077,
          27.5142,
          21.9162,
          6.6111,
          15.4542,
          -4.0383,
          11.8251,
          15.415,
          13.7942,
          1.5,
          15.1794,
          -26.5225,
          -17.7134,
          12.1165,
          9.9456,
          11.8037,
          41.9029,
          41.2044,
          19.856270000000002,
          6.4281,
          26.3351,
          47.14,
          0,
          -18.7669,
          46.8625,
          -6.315,
          -1.9403,
          17.357822,
          -4.6796,
          5.1521,
          3.9193,
          1,
          -15.4167,
          -20.9043,
          -12.4634,
          17.9,
          18.0425,
          18.0708,
          21.69400000000001
         ],
         "legendgroup": "",
         "lon": [
          -14.4524,
          19.699,
          -61.2872,
          -60.9789,
          57,
          84.25,
          119.455,
          18.4904,
          10.9408,
          113.55,
          14.3754,
          73.2207,
          24.6032,
          47.75,
          -70.0358,
          -72.2852,
          43.3569,
          40.4897,
          104.9167,
          -77.3963,
          27.9534,
          34.8888,
          138.6007,
          106.1655,
          149.0124,
          88.0924,
          95.9956,
          -42.6043,
          -64.7505,
          -5.3536,
          55.2471,
          108,
          -53.1258,
          -6.9118,
          112.2922,
          145.9707,
          120.0934,
          115.7221,
          117.9874,
          111.7088,
          102.7103,
          113.4244,
          117.2264,
          108.7881,
          118.1498,
          107.874,
          126.1923,
          101.48700000000001,
          108.8701,
          113.9448,
          106.8748,
          103.8333,
          50.55,
          -19.0208,
          121.4491,
          101.0583,
          122.6085,
          0,
          113.61399999999999,
          174.886,
          116.1306,
          116.4142,
          51.1839,
          144.9631,
          117.323,
          127.7615,
          114.7277,
          128,
          109.7453,
          114.2,
          85.2401,
          66.9237,
          112.2707,
          -66.5897,
          54,
          35.2332,
          9,
          22.9375,
          121,
          115.8605,
          101,
          112.5,
          81,
          -71.543,
          45.0382,
          -90.2308,
          35,
          15.2,
          45,
          90,
          138,
          25.0136,
          36.51,
          14.5501,
          8.2275,
          24.9668,
          53,
          -61.5833,
          -5.5471,
          153.4,
          -63.6167,
          47.5769,
          78,
          64.5853,
          44,
          30,
          20.1683,
          4,
          90.3563,
          8.6753,
          33.4299,
          35.8623,
          2.2137,
          19.5033,
          -4,
          69.3451,
          -68.99,
          -77.2975,
          -1.5616,
          6.1296,
          25.4858,
          -83.7534,
          21.8243,
          17.6791,
          -80,
          12,
          -95.7129,
          1.6596,
          0.8248,
          37.9062,
          -74.2973,
          28.3699,
          -86.2419,
          7.4167,
          20.902977,
          14.9955,
          26,
          -75.0152,
          11.5021,
          35.2433,
          15.472999999999999,
          31.1656,
          122,
          113.9213,
          -7.0926,
          151.2093,
          65,
          21.7453,
          -1.0232,
          -8.2245,
          21.7587,
          -58.4438,
          -61.2225,
          5.2913,
          19.1451,
          8.4689,
          12.4578,
          9,
          -102.5528,
          -80.7821,
          1.5218,
          16,
          23.8813,
          -3.4360000000000004,
          -7.6921,
          -70.1627,
          -78.1834,
          -51.9253,
          9.5018,
          -23.0418,
          -85.2072,
          -81.2546,
          -2.3644,
          -63.5887,
          8.0817,
          -58.75,
          57.5,
          -61.0242,
          -3.996166000000001,
          19.3,
          30,
          11.6094,
          -15.3101,
          21.0059,
          -55.7658,
          30.2176,
          17.8739,
          -63.0686,
          -64.64,
          149.4068,
          -4.5481,
          45.1662,
          -62.1874,
          -61.7964,
          -59.5432,
          -59.5432,
          2.3158,
          90.4336,
          95.956,
          20.9394,
          18.7322,
          21.7587,
          42.5903,
          -61.371,
          -88.8965,
          10,
          39.7823,
          31.4659,
          178.065,
          -61.678999999999995,
          -9.6966,
          -15.1804,
          12.4534,
          74.7661,
          102.495496,
          -9.4295,
          17.228331,
          9.55,
          0,
          46.8691,
          103.8467,
          143.9555,
          29.8739,
          -62.782998,
          55.492,
          46.1996,
          -56.0278,
          32,
          28.2833,
          165.618,
          130.8456,
          -62.8333,
          -63.0548,
          -63.0501,
          -71.7979
         ],
         "marker": {
          "color": [
           11.916375287812984,
           17.72004514666935,
           1,
           3,
           12.922847983320086,
           2.23606797749979,
           25.37715508089904,
           3.3166247903554,
           2.23606797749979,
           6.082762530298219,
           12.288205727444508,
           4.123105625617661,
           18.627936010197157,
           15.968719422671311,
           7.0710678118654755,
           3.872983346207417,
           9.539392014169456,
           4.58257569495584,
           10.14889156509222,
           3.3166247903554,
           9.695359714832659,
           3.7416573867739413,
           17.291616465790582,
           8.660254037844387,
           8.774964387392123,
           1,
           4.242640687119285,
           3.1622776601683795,
           4.69041575982343,
           8.06225774829855,
           13.527749258468683,
           13.711309200802088,
           5.291502622129181,
           12.609520212918492,
           11.661903789690601,
           8.12403840463596,
           35.41186241925155,
           30.610455730027933,
           18.384776310850235,
           31.906112267087632,
           23.452078799117146,
           38.40572873934304,
           31.464265445104548,
           15.937377450509228,
           27.784887978899608,
           24.06241883103193,
           9.899494936611665,
           13.416407864998739,
           15.905973720586866,
           9.746794344808963,
           12.083045973594572,
           29.0516780926679,
           22.338307903688676,
           31.937438845342623,
           22.181073012818835,
           11.74734012447073,
           11.575836902790225,
           26.68332812825267,
           35.7211421989835,
           22.67156809750927,
           17.86057109949175,
           24.020824298928627,
           25.179356624028344,
           27.730849247724095,
           12.884098726725126,
           22,
           11.224972160321824,
           97.89279850938985,
           12.96148139681572,
           25.317977802344327,
           8.717797887081348,
           16.852299546352718,
           260.3862515571819,
           10.908712114635714,
           23.874672772626646,
           10.44030650891055,
           249.18868353117483,
           35.77708763999664,
           17.26267650163207,
           17.635192088548397,
           37.255872020394314,
           49.69909455915671,
           10.816653826391969,
           46.24932431938871,
           20.591260281974,
           5.830951894845301,
           65.16901104052447,
           26.70205984563738,
           36.0416425818802,
           39.16631205513228,
           43.197222132910355,
           26.057628441590765,
           16.09347693943108,
           93.74433316206373,
           121.77438154226036,
           42.60281680828159,
           195.7268504830137,
           10.295630140987,
           12.84523257866513,
           25.612496949731394,
           27.294688127912362,
           14.45683229480096,
           32,
           12,
           23.388031127053,
           24.677925358506133,
           14.560219778561036,
           104.09610943738484,
           6.928203230275509,
           10.535653752852738,
           14.628738838327793,
           20.92844953645635,
           200.4345279636221,
           20.199009876724155,
           283.037100041673,
           39.96248240537617,
           2.8284271247461903,
           5.656854249492381,
           14.89966442575134,
           44.15880433163923,
           18.601075237738275,
           17.72004514666935,
           34,
           17.97220075561143,
           11.789826122551595,
           312.5523956075205,
           375.3478386776724,
           22.60530911091463,
           5,
           6.48074069840786,
           26.49528259898354,
           16.217274740226856,
           10.488088481701515,
           6.782329983125268,
           9.695359714832659,
           27.018512172212592,
           35.21363372331802,
           29.189039038652847,
           11.789826122551595,
           96.00520819205592,
           53.075418038862395,
           21.79449471770337,
           37.656340767525464,
           35.84689665786984,
           21.88606862823929,
           42.320207938997655,
           10.954451150103322,
           16.09347693943108,
           12.328828005937952,
           77.21398836998384,
           8.06225774829855,
           7.681145747868608,
           8.831760866327848,
           104.2401074443038,
           43.15089802078283,
           65.45227268781429,
           14.966629547095765,
           17.663521732655695,
           29.120439557122072,
           30.01666203960727,
           18.275666882497067,
           60.8276253029822,
           21.447610589527216,
           139.7211508684351,
           51.137070702182385,
           29.30870177950569,
           43.86342439892262,
           65.23802572120036,
           48.938737212968626,
           2.449489742783178,
           2,
           2.8284271247461903,
           10.392304845413264,
           9,
           4.242640687119285,
           2.8284271247461903,
           10.344080432788601,
           9.643650760992955,
           4.242640687119285,
           9.219544457292887,
           2.6457513110645907,
           2.6457513110645907,
           2,
           27.2213151776324,
           17.435595774162696,
           2.449489742783178,
           2.6457513110645907,
           1.4142135623730951,
           1.4142135623730951,
           5.477225575051661,
           6.48074069840786,
           7.937253933193772,
           2.23606797749979,
           2.6457513110645907,
           5.744562646538029,
           1.4142135623730951,
           2.449489742783178,
           2,
           3.1622776601683795,
           1.7320508075688772,
           1.7320508075688772,
           4.358898943540674,
           4.242640687119285,
           3.3166247903554,
           4.898979485566356,
           3.4641016151377544,
           3.4641016151377544,
           3,
           2.23606797749979,
           3,
           4,
           1.4142135623730951,
           2.449489742783178,
           9.16515138991168,
           2.8284271247461903,
           1.7320508075688772,
           2.8284271247461903,
           7.483314773547883,
           1.4142135623730951,
           6.244997998398398,
           3.4641016151377544,
           1,
           8.366600265340756,
           1.4142135623730951,
           2.8284271247461903,
           1.7320508075688772,
           2.8284271247461903,
           5.744562646538029,
           5.385164807134504,
           3.872983346207417,
           3.872983346207417,
           2.23606797749979,
           2.449489742783178,
           3.3166247903554,
           2
          ],
          "coloraxis": "coloraxis",
          "size": [
           11.916375287812984,
           17.72004514666935,
           1,
           3,
           12.922847983320086,
           2.23606797749979,
           25.37715508089904,
           3.3166247903554,
           2.23606797749979,
           6.082762530298219,
           12.288205727444508,
           4.123105625617661,
           18.627936010197157,
           15.968719422671311,
           7.0710678118654755,
           3.872983346207417,
           9.539392014169456,
           4.58257569495584,
           10.14889156509222,
           3.3166247903554,
           9.695359714832659,
           3.7416573867739413,
           17.291616465790582,
           8.660254037844387,
           8.774964387392123,
           1,
           4.242640687119285,
           3.1622776601683795,
           4.69041575982343,
           8.06225774829855,
           13.527749258468683,
           13.711309200802088,
           5.291502622129181,
           12.609520212918492,
           11.661903789690601,
           8.12403840463596,
           35.41186241925155,
           30.610455730027933,
           18.384776310850235,
           31.906112267087632,
           23.452078799117146,
           38.40572873934304,
           31.464265445104548,
           15.937377450509228,
           27.784887978899608,
           24.06241883103193,
           9.899494936611665,
           13.416407864998739,
           15.905973720586866,
           9.746794344808963,
           12.083045973594572,
           29.0516780926679,
           22.338307903688676,
           31.937438845342623,
           22.181073012818835,
           11.74734012447073,
           11.575836902790225,
           26.68332812825267,
           35.7211421989835,
           22.67156809750927,
           17.86057109949175,
           24.020824298928627,
           25.179356624028344,
           27.730849247724095,
           12.884098726725126,
           22,
           11.224972160321824,
           97.89279850938985,
           12.96148139681572,
           25.317977802344327,
           8.717797887081348,
           16.852299546352718,
           260.3862515571819,
           10.908712114635714,
           23.874672772626646,
           10.44030650891055,
           249.18868353117483,
           35.77708763999664,
           17.26267650163207,
           17.635192088548397,
           37.255872020394314,
           49.69909455915671,
           10.816653826391969,
           46.24932431938871,
           20.591260281974,
           5.830951894845301,
           65.16901104052447,
           26.70205984563738,
           36.0416425818802,
           39.16631205513228,
           43.197222132910355,
           26.057628441590765,
           16.09347693943108,
           93.74433316206373,
           121.77438154226036,
           42.60281680828159,
           195.7268504830137,
           10.295630140987,
           12.84523257866513,
           25.612496949731394,
           27.294688127912362,
           14.45683229480096,
           32,
           12,
           23.388031127053,
           24.677925358506133,
           14.560219778561036,
           104.09610943738484,
           6.928203230275509,
           10.535653752852738,
           14.628738838327793,
           20.92844953645635,
           200.4345279636221,
           20.199009876724155,
           283.037100041673,
           39.96248240537617,
           2.8284271247461903,
           5.656854249492381,
           14.89966442575134,
           44.15880433163923,
           18.601075237738275,
           17.72004514666935,
           34,
           17.97220075561143,
           11.789826122551595,
           312.5523956075205,
           375.3478386776724,
           22.60530911091463,
           5,
           6.48074069840786,
           26.49528259898354,
           16.217274740226856,
           10.488088481701515,
           6.782329983125268,
           9.695359714832659,
           27.018512172212592,
           35.21363372331802,
           29.189039038652847,
           11.789826122551595,
           96.00520819205592,
           53.075418038862395,
           21.79449471770337,
           37.656340767525464,
           35.84689665786984,
           21.88606862823929,
           42.320207938997655,
           10.954451150103322,
           16.09347693943108,
           12.328828005937952,
           77.21398836998384,
           8.06225774829855,
           7.681145747868608,
           8.831760866327848,
           104.2401074443038,
           43.15089802078283,
           65.45227268781429,
           14.966629547095765,
           17.663521732655695,
           29.120439557122072,
           30.01666203960727,
           18.275666882497067,
           60.8276253029822,
           21.447610589527216,
           139.7211508684351,
           51.137070702182385,
           29.30870177950569,
           43.86342439892262,
           65.23802572120036,
           48.938737212968626,
           2.449489742783178,
           2,
           2.8284271247461903,
           10.392304845413264,
           9,
           4.242640687119285,
           2.8284271247461903,
           10.344080432788601,
           9.643650760992955,
           4.242640687119285,
           9.219544457292887,
           2.6457513110645907,
           2.6457513110645907,
           2,
           27.2213151776324,
           17.435595774162696,
           2.449489742783178,
           2.6457513110645907,
           1.4142135623730951,
           1.4142135623730951,
           5.477225575051661,
           6.48074069840786,
           7.937253933193772,
           2.23606797749979,
           2.6457513110645907,
           5.744562646538029,
           1.4142135623730951,
           2.449489742783178,
           2,
           3.1622776601683795,
           1.7320508075688772,
           1.7320508075688772,
           4.358898943540674,
           4.242640687119285,
           3.3166247903554,
           4.898979485566356,
           3.4641016151377544,
           3.4641016151377544,
           3,
           2.23606797749979,
           3,
           4,
           1.4142135623730951,
           2.449489742783178,
           9.16515138991168,
           2.8284271247461903,
           1.7320508075688772,
           2.8284271247461903,
           7.483314773547883,
           1.4142135623730951,
           6.244997998398398,
           3.4641016151377544,
           1,
           8.366600265340756,
           1.4142135623730951,
           2.8284271247461903,
           1.7320508075688772,
           2.8284271247461903,
           5.744562646538029,
           5.385164807134504,
           3.872983346207417,
           3.872983346207417,
           2.23606797749979,
           2.449489742783178,
           3.3166247903554,
           2
          ],
          "sizemode": "area",
          "sizeref": 0.9383695966941811
         },
         "name": "",
         "showlegend": false,
         "type": "scattergeo"
        }
       ],
       "layout": {
        "coloraxis": {
         "colorbar": {
          "title": {
           "text": "size"
          }
         },
         "colorscale": [
          [
           0,
           "#0d0887"
          ],
          [
           0.1111111111111111,
           "#46039f"
          ],
          [
           0.2222222222222222,
           "#7201a8"
          ],
          [
           0.3333333333333333,
           "#9c179e"
          ],
          [
           0.4444444444444444,
           "#bd3786"
          ],
          [
           0.5555555555555556,
           "#d8576b"
          ],
          [
           0.6666666666666666,
           "#ed7953"
          ],
          [
           0.7777777777777778,
           "#fb9f3a"
          ],
          [
           0.8888888888888888,
           "#fdca26"
          ],
          [
           1,
           "#f0f921"
          ]
         ],
         "showscale": false
        },
        "geo": {
         "center": {},
         "domain": {
          "x": [
           0,
           1
          ],
          "y": [
           0,
           1
          ]
         },
         "projection": {
          "type": "natural earth"
         }
        },
        "legend": {
         "itemsizing": "constant",
         "tracegroupgap": 0
        },
        "template": {
         "data": {
          "bar": [
           {
            "error_x": {
             "color": "#2a3f5f"
            },
            "error_y": {
             "color": "#2a3f5f"
            },
            "marker": {
             "line": {
              "color": "#E5ECF6",
              "width": 0.5
             }
            },
            "type": "bar"
           }
          ],
          "barpolar": [
           {
            "marker": {
             "line": {
              "color": "#E5ECF6",
              "width": 0.5
             }
            },
            "type": "barpolar"
           }
          ],
          "carpet": [
           {
            "aaxis": {
             "endlinecolor": "#2a3f5f",
             "gridcolor": "white",
             "linecolor": "white",
             "minorgridcolor": "white",
             "startlinecolor": "#2a3f5f"
            },
            "baxis": {
             "endlinecolor": "#2a3f5f",
             "gridcolor": "white",
             "linecolor": "white",
             "minorgridcolor": "white",
             "startlinecolor": "#2a3f5f"
            },
            "type": "carpet"
           }
          ],
          "choropleth": [
           {
            "colorbar": {
             "outlinewidth": 0,
             "ticks": ""
            },
            "type": "choropleth"
           }
          ],
          "contour": [
           {
            "colorbar": {
             "outlinewidth": 0,
             "ticks": ""
            },
            "colorscale": [
             [
              0,
              "#0d0887"
             ],
             [
              0.1111111111111111,
              "#46039f"
             ],
             [
              0.2222222222222222,
              "#7201a8"
             ],
             [
              0.3333333333333333,
              "#9c179e"
             ],
             [
              0.4444444444444444,
              "#bd3786"
             ],
             [
              0.5555555555555556,
              "#d8576b"
             ],
             [
              0.6666666666666666,
              "#ed7953"
             ],
             [
              0.7777777777777778,
              "#fb9f3a"
             ],
             [
              0.8888888888888888,
              "#fdca26"
             ],
             [
              1,
              "#f0f921"
             ]
            ],
            "type": "contour"
           }
          ],
          "contourcarpet": [
           {
            "colorbar": {
             "outlinewidth": 0,
             "ticks": ""
            },
            "type": "contourcarpet"
           }
          ],
          "heatmap": [
           {
            "colorbar": {
             "outlinewidth": 0,
             "ticks": ""
            },
            "colorscale": [
             [
              0,
              "#0d0887"
             ],
             [
              0.1111111111111111,
              "#46039f"
             ],
             [
              0.2222222222222222,
              "#7201a8"
             ],
             [
              0.3333333333333333,
              "#9c179e"
             ],
             [
              0.4444444444444444,
              "#bd3786"
             ],
             [
              0.5555555555555556,
              "#d8576b"
             ],
             [
              0.6666666666666666,
              "#ed7953"
             ],
             [
              0.7777777777777778,
              "#fb9f3a"
             ],
             [
              0.8888888888888888,
              "#fdca26"
             ],
             [
              1,
              "#f0f921"
             ]
            ],
            "type": "heatmap"
           }
          ],
          "heatmapgl": [
           {
            "colorbar": {
             "outlinewidth": 0,
             "ticks": ""
            },
            "colorscale": [
             [
              0,
              "#0d0887"
             ],
             [
              0.1111111111111111,
              "#46039f"
             ],
             [
              0.2222222222222222,
              "#7201a8"
             ],
             [
              0.3333333333333333,
              "#9c179e"
             ],
             [
              0.4444444444444444,
              "#bd3786"
             ],
             [
              0.5555555555555556,
              "#d8576b"
             ],
             [
              0.6666666666666666,
              "#ed7953"
             ],
             [
              0.7777777777777778,
              "#fb9f3a"
             ],
             [
              0.8888888888888888,
              "#fdca26"
             ],
             [
              1,
              "#f0f921"
             ]
            ],
            "type": "heatmapgl"
           }
          ],
          "histogram": [
           {
            "marker": {
             "colorbar": {
              "outlinewidth": 0,
              "ticks": ""
             }
            },
            "type": "histogram"
           }
          ],
          "histogram2d": [
           {
            "colorbar": {
             "outlinewidth": 0,
             "ticks": ""
            },
            "colorscale": [
             [
              0,
              "#0d0887"
             ],
             [
              0.1111111111111111,
              "#46039f"
             ],
             [
              0.2222222222222222,
              "#7201a8"
             ],
             [
              0.3333333333333333,
              "#9c179e"
             ],
             [
              0.4444444444444444,
              "#bd3786"
             ],
             [
              0.5555555555555556,
              "#d8576b"
             ],
             [
              0.6666666666666666,
              "#ed7953"
             ],
             [
              0.7777777777777778,
              "#fb9f3a"
             ],
             [
              0.8888888888888888,
              "#fdca26"
             ],
             [
              1,
              "#f0f921"
             ]
            ],
            "type": "histogram2d"
           }
          ],
          "histogram2dcontour": [
           {
            "colorbar": {
             "outlinewidth": 0,
             "ticks": ""
            },
            "colorscale": [
             [
              0,
              "#0d0887"
             ],
             [
              0.1111111111111111,
              "#46039f"
             ],
             [
              0.2222222222222222,
              "#7201a8"
             ],
             [
              0.3333333333333333,
              "#9c179e"
             ],
             [
              0.4444444444444444,
              "#bd3786"
             ],
             [
              0.5555555555555556,
              "#d8576b"
             ],
             [
              0.6666666666666666,
              "#ed7953"
             ],
             [
              0.7777777777777778,
              "#fb9f3a"
             ],
             [
              0.8888888888888888,
              "#fdca26"
             ],
             [
              1,
              "#f0f921"
             ]
            ],
            "type": "histogram2dcontour"
           }
          ],
          "mesh3d": [
           {
            "colorbar": {
             "outlinewidth": 0,
             "ticks": ""
            },
            "type": "mesh3d"
           }
          ],
          "parcoords": [
           {
            "line": {
             "colorbar": {
              "outlinewidth": 0,
              "ticks": ""
             }
            },
            "type": "parcoords"
           }
          ],
          "pie": [
           {
            "automargin": true,
            "type": "pie"
           }
          ],
          "scatter": [
           {
            "marker": {
             "colorbar": {
              "outlinewidth": 0,
              "ticks": ""
             }
            },
            "type": "scatter"
           }
          ],
          "scatter3d": [
           {
            "line": {
             "colorbar": {
              "outlinewidth": 0,
              "ticks": ""
             }
            },
            "marker": {
             "colorbar": {
              "outlinewidth": 0,
              "ticks": ""
             }
            },
            "type": "scatter3d"
           }
          ],
          "scattercarpet": [
           {
            "marker": {
             "colorbar": {
              "outlinewidth": 0,
              "ticks": ""
             }
            },
            "type": "scattercarpet"
           }
          ],
          "scattergeo": [
           {
            "marker": {
             "colorbar": {
              "outlinewidth": 0,
              "ticks": ""
             }
            },
            "type": "scattergeo"
           }
          ],
          "scattergl": [
           {
            "marker": {
             "colorbar": {
              "outlinewidth": 0,
              "ticks": ""
             }
            },
            "type": "scattergl"
           }
          ],
          "scattermapbox": [
           {
            "marker": {
             "colorbar": {
              "outlinewidth": 0,
              "ticks": ""
             }
            },
            "type": "scattermapbox"
           }
          ],
          "scatterpolar": [
           {
            "marker": {
             "colorbar": {
              "outlinewidth": 0,
              "ticks": ""
             }
            },
            "type": "scatterpolar"
           }
          ],
          "scatterpolargl": [
           {
            "marker": {
             "colorbar": {
              "outlinewidth": 0,
              "ticks": ""
             }
            },
            "type": "scatterpolargl"
           }
          ],
          "scatterternary": [
           {
            "marker": {
             "colorbar": {
              "outlinewidth": 0,
              "ticks": ""
             }
            },
            "type": "scatterternary"
           }
          ],
          "surface": [
           {
            "colorbar": {
             "outlinewidth": 0,
             "ticks": ""
            },
            "colorscale": [
             [
              0,
              "#0d0887"
             ],
             [
              0.1111111111111111,
              "#46039f"
             ],
             [
              0.2222222222222222,
              "#7201a8"
             ],
             [
              0.3333333333333333,
              "#9c179e"
             ],
             [
              0.4444444444444444,
              "#bd3786"
             ],
             [
              0.5555555555555556,
              "#d8576b"
             ],
             [
              0.6666666666666666,
              "#ed7953"
             ],
             [
              0.7777777777777778,
              "#fb9f3a"
             ],
             [
              0.8888888888888888,
              "#fdca26"
             ],
             [
              1,
              "#f0f921"
             ]
            ],
            "type": "surface"
           }
          ],
          "table": [
           {
            "cells": {
             "fill": {
              "color": "#EBF0F8"
             },
             "line": {
              "color": "white"
             }
            },
            "header": {
             "fill": {
              "color": "#C8D4E3"
             },
             "line": {
              "color": "white"
             }
            },
            "type": "table"
           }
          ]
         },
         "layout": {
          "annotationdefaults": {
           "arrowcolor": "#2a3f5f",
           "arrowhead": 0,
           "arrowwidth": 1
          },
          "coloraxis": {
           "colorbar": {
            "outlinewidth": 0,
            "ticks": ""
           }
          },
          "colorscale": {
           "diverging": [
            [
             0,
             "#8e0152"
            ],
            [
             0.1,
             "#c51b7d"
            ],
            [
             0.2,
             "#de77ae"
            ],
            [
             0.3,
             "#f1b6da"
            ],
            [
             0.4,
             "#fde0ef"
            ],
            [
             0.5,
             "#f7f7f7"
            ],
            [
             0.6,
             "#e6f5d0"
            ],
            [
             0.7,
             "#b8e186"
            ],
            [
             0.8,
             "#7fbc41"
            ],
            [
             0.9,
             "#4d9221"
            ],
            [
             1,
             "#276419"
            ]
           ],
           "sequential": [
            [
             0,
             "#0d0887"
            ],
            [
             0.1111111111111111,
             "#46039f"
            ],
            [
             0.2222222222222222,
             "#7201a8"
            ],
            [
             0.3333333333333333,
             "#9c179e"
            ],
            [
             0.4444444444444444,
             "#bd3786"
            ],
            [
             0.5555555555555556,
             "#d8576b"
            ],
            [
             0.6666666666666666,
             "#ed7953"
            ],
            [
             0.7777777777777778,
             "#fb9f3a"
            ],
            [
             0.8888888888888888,
             "#fdca26"
            ],
            [
             1,
             "#f0f921"
            ]
           ],
           "sequentialminus": [
            [
             0,
             "#0d0887"
            ],
            [
             0.1111111111111111,
             "#46039f"
            ],
            [
             0.2222222222222222,
             "#7201a8"
            ],
            [
             0.3333333333333333,
             "#9c179e"
            ],
            [
             0.4444444444444444,
             "#bd3786"
            ],
            [
             0.5555555555555556,
             "#d8576b"
            ],
            [
             0.6666666666666666,
             "#ed7953"
            ],
            [
             0.7777777777777778,
             "#fb9f3a"
            ],
            [
             0.8888888888888888,
             "#fdca26"
            ],
            [
             1,
             "#f0f921"
            ]
           ]
          },
          "colorway": [
           "#636efa",
           "#EF553B",
           "#00cc96",
           "#ab63fa",
           "#FFA15A",
           "#19d3f3",
           "#FF6692",
           "#B6E880",
           "#FF97FF",
           "#FECB52"
          ],
          "font": {
           "color": "#2a3f5f"
          },
          "geo": {
           "bgcolor": "white",
           "lakecolor": "white",
           "landcolor": "#E5ECF6",
           "showlakes": true,
           "showland": true,
           "subunitcolor": "white"
          },
          "hoverlabel": {
           "align": "left"
          },
          "hovermode": "closest",
          "mapbox": {
           "style": "light"
          },
          "paper_bgcolor": "white",
          "plot_bgcolor": "#E5ECF6",
          "polar": {
           "angularaxis": {
            "gridcolor": "white",
            "linecolor": "white",
            "ticks": ""
           },
           "bgcolor": "#E5ECF6",
           "radialaxis": {
            "gridcolor": "white",
            "linecolor": "white",
            "ticks": ""
           }
          },
          "scene": {
           "xaxis": {
            "backgroundcolor": "#E5ECF6",
            "gridcolor": "white",
            "gridwidth": 2,
            "linecolor": "white",
            "showbackground": true,
            "ticks": "",
            "zerolinecolor": "white"
           },
           "yaxis": {
            "backgroundcolor": "#E5ECF6",
            "gridcolor": "white",
            "gridwidth": 2,
            "linecolor": "white",
            "showbackground": true,
            "ticks": "",
            "zerolinecolor": "white"
           },
           "zaxis": {
            "backgroundcolor": "#E5ECF6",
            "gridcolor": "white",
            "gridwidth": 2,
            "linecolor": "white",
            "showbackground": true,
            "ticks": "",
            "zerolinecolor": "white"
           }
          },
          "shapedefaults": {
           "line": {
            "color": "#2a3f5f"
           }
          },
          "ternary": {
           "aaxis": {
            "gridcolor": "white",
            "linecolor": "white",
            "ticks": ""
           },
           "baxis": {
            "gridcolor": "white",
            "linecolor": "white",
            "ticks": ""
           },
           "bgcolor": "#E5ECF6",
           "caxis": {
            "gridcolor": "white",
            "linecolor": "white",
            "ticks": ""
           }
          },
          "title": {
           "x": 0.05
          },
          "xaxis": {
           "automargin": true,
           "gridcolor": "white",
           "linecolor": "white",
           "ticks": "",
           "title": {
            "standoff": 15
           },
           "zerolinecolor": "white",
           "zerolinewidth": 2
          },
          "yaxis": {
           "automargin": true,
           "gridcolor": "white",
           "linecolor": "white",
           "ticks": "",
           "title": {
            "standoff": 15
           },
           "zerolinecolor": "white",
           "zerolinewidth": 2
          }
         }
        },
        "title": {
         "text": "Spread in World over time | natural earth"
        }
       }
      },
      "text/html": [
       "<div>\n",
       "        \n",
       "        \n",
       "            <div id=\"374e8a56-ec2b-4dfe-a8fa-8426da3d74b5\" class=\"plotly-graph-div\" style=\"height:525px; width:100%;\"></div>\n",
       "            <script type=\"text/javascript\">\n",
       "                require([\"plotly\"], function(Plotly) {\n",
       "                    window.PLOTLYENV=window.PLOTLYENV || {};\n",
       "                    \n",
       "                if (document.getElementById(\"374e8a56-ec2b-4dfe-a8fa-8426da3d74b5\")) {\n",
       "                    Plotly.newPlot(\n",
       "                        '374e8a56-ec2b-4dfe-a8fa-8426da3d74b5',\n",
       "                        [{\"customdata\": [[142.0, 0.0, 27.0, 115.0, 0.0, 100.0], [314.0, 0.0, 2.0, 312.0, 0.0, 100.0], [1.0, 0.0, 1.0, 0.0, 0.0, 100.0], [9.0, 0.0, 1.0, 8.0, 0.0, 100.0], [167.0, 0.0, 23.0, 144.0, 0.0, 100.0], [5.0, 0.0, 1.0, 4.0, 0.0, 100.0], [644.0, 0.0, 631.0, 13.0, 0.0, 100.0], [11.0, 0.0, 2.0, 9.0, 0.0, 100.0], [5.0, 0.0, 2.0, 3.0, 0.0, 100.0], [37.0, 0.0, 10.0, 27.0, 0.0, 100.0], [151.0, 0.0, 2.0, 149.0, 0.0, 100.0], [17.0, 0.0, 13.0, 4.0, 0.0, 100.0], [347.0, 0.0, 1.0, 346.0, 0.0, 100.0], [255.0, 0.0, 67.0, 188.0, 0.0, 100.0], [50.0, 0.0, 1.0, 49.0, 0.0, 100.0], [15.0, 0.0, 1.0, 14.0, 0.0, 100.0], [91.0, 0.0, 18.0, 73.0, 0.0, 100.0], [21.0, 0.0, 1.0, 20.0, 0.0, 100.0], [103.0, 0.0, 21.0, 82.0, 0.0, 100.0], [11.0, 0.0, 1.0, 10.0, 0.0, 100.0], [94.0, 0.0, 32.0, 62.0, 0.0, 100.0], [14.0, 0.0, 1.0, 13.0, 0.0, 100.0], [299.0, 0.0, 6.0, 293.0, 0.0, 100.0], [75.0, 0.0, 75.0, 0.0, 0.0, 100.0], [77.0, 0.0, 2.0, 75.0, 0.0, 100.0], [1.0, 0.0, 1.0, 0.0, 0.0, 100.0], [18.0, 0.0, 18.0, 0.0, 0.0, 100.0], [10.0, 0.0, 2.0, 8.0, 0.0, 100.0], [22.0, 0.0, 2.0, 20.0, 0.0, 100.0], [65.0, 0.0, 14.0, 51.0, 0.0, 100.0], [183.0, 0.0, 1.0, 182.0, 0.0, 100.0], [188.0, 0.0, 25.0, 163.0, 0.0, 100.0], [28.0, 0.0, 6.0, 22.0, 0.0, 100.0], [159.0, 0.0, 70.0, 89.0, 0.0, 100.0], [136.0, 0.0, 133.0, 3.0, 0.0, 100.0], [66.0, 0.0, 5.0, 61.0, 0.0, 100.0], [1254.0, 1.0, 1225.0, 28.0, 0.08156606851549755, 99.9184339314845], [937.0, 1.0, 934.0, 2.0, 0.10695187165775401, 99.89304812834224], [338.0, 1.0, 295.0, 42.0, 0.33783783783783783, 99.66216216216216], [1018.0, 4.0, 1014.0, 0.0, 0.3929273084479371, 99.60707269155206], [550.0, 3.0, 536.0, 11.0, 0.5565862708719851, 99.44341372912801], [1475.0, 8.0, 1349.0, 118.0, 0.5895357406042742, 99.41046425939572], [990.0, 6.0, 984.0, 0.0, 0.6060606060606061, 99.39393939393939], [254.0, 2.0, 250.0, 2.0, 0.7936507936507936, 99.20634920634922], [772.0, 7.0, 752.0, 13.0, 0.922266139657444, 99.07773386034255], [579.0, 6.0, 570.0, 3.0, 1.0416666666666665, 98.95833333333334], [98.0, 1.0, 92.0, 5.0, 1.0752688172043012, 98.9247311827957], [180.0, 2.0, 172.0, 6.0, 1.1494252873563218, 98.85057471264368], [253.0, 3.0, 242.0, 8.0, 1.2244897959183674, 98.77551020408163], [95.0, 1.0, 74.0, 20.0, 1.3333333333333335, 98.66666666666667], [146.0, 2.0, 144.0, 0.0, 1.36986301369863, 98.63013698630137], [844.0, 3.0, 212.0, 629.0, 1.3953488372093024, 98.6046511627907], [499.0, 4.0, 272.0, 223.0, 1.4492753623188406, 98.55072463768117], [1020.0, 2.0, 135.0, 883.0, 1.4598540145985401, 98.54014598540147], [492.0, 5.0, 334.0, 153.0, 1.4749262536873156, 98.52507374631269], [138.0, 2.0, 125.0, 11.0, 1.574803149606299, 98.4251968503937], [134.0, 2.0, 124.0, 8.0, 1.5873015873015872, 98.4126984126984], [712.0, 10.0, 603.0, 99.0, 1.631321370309951, 98.36867862969005], [1276.0, 22.0, 1251.0, 3.0, 1.728201099764336, 98.27179890023567], [514.0, 1.0, 56.0, 457.0, 1.7543859649122806, 98.24561403508771], [319.0, 6.0, 310.0, 3.0, 1.89873417721519, 98.10126582278481], [577.0, 8.0, 412.0, 157.0, 1.9047619047619049, 98.09523809523809], [634.0, 1.0, 48.0, 585.0, 2.0408163265306123, 97.95918367346938], [769.0, 4.0, 191.0, 574.0, 2.051282051282051, 97.94871794871794], [166.0, 3.0, 133.0, 30.0, 2.2058823529411766, 97.79411764705883], [484.0, 13.0, 469.0, 2.0, 2.6970954356846475, 97.30290456431536], [126.0, 1.0, 34.0, 91.0, 2.857142857142857, 97.14285714285714], [9583.0, 152.0, 5033.0, 4398.0, 2.931533269045323, 97.06846673095467], [168.0, 6.0, 168.0, -6.0, 3.4482758620689653, 96.55172413793103], [641.0, 4.0, 112.0, 525.0, 3.4482758620689653, 96.55172413793103], [76.0, 3.0, 73.0, 0.0, 3.9473684210526314, 96.05263157894737], [284.0, 1.0, 20.0, 263.0, 4.761904761904762, 95.23809523809523], [67801.0, 3182.0, 62570.0, 2049.0, 4.839396520257939, 95.16060347974205], [119.0, 2.0, 39.0, 78.0, 4.878048780487805, 95.1219512195122], [570.0, 3.0, 58.0, 509.0, 4.918032786885246, 95.08196721311475], [109.0, 1.0, 18.0, 90.0, 5.263157894736842, 94.73684210526315], [62095.0, 533.0, 9211.0, 52351.0, 5.470032840722496, 94.5299671592775], [1280.0, 2.0, 31.0, 1247.0, 6.0606060606060606, 93.93939393939394], [298.0, 2.0, 30.0, 266.0, 6.25, 93.75], [311.0, 2.0, 28.0, 281.0, 6.666666666666667, 93.33333333333333], [1388.0, 7.0, 97.0, 1284.0, 6.730769230769231, 93.26923076923077], [2470.0, 35.0, 388.0, 2047.0, 8.274231678486997, 91.725768321513], [117.0, 1.0, 11.0, 105.0, 8.333333333333332, 91.66666666666666], [2139.0, 7.0, 75.0, 2057.0, 8.536585365853659, 91.46341463414635], [424.0, 3.0, 30.0, 391.0, 9.090909090909092, 90.9090909090909], [34.0, 1.0, 10.0, 23.0, 9.090909090909092, 90.9090909090909], [4247.0, 15.0, 132.0, 4100.0, 10.204081632653061, 89.79591836734694], [713.0, 6.0, 52.0, 655.0, 10.344827586206897, 89.65517241379311], [1299.0, 8.0, 66.0, 1225.0, 10.81081081081081, 89.1891891891892], [1534.0, 8.0, 64.0, 1462.0, 11.11111111111111, 88.88888888888889], [1866.0, 54.0, 424.0, 1388.0, 11.297071129707113, 88.70292887029288], [679.0, 3.0, 20.0, 656.0, 13.043478260869565, 86.95652173913044], [259.0, 3.0, 18.0, 238.0, 14.285714285714285, 85.71428571428571], [8788.0, 86.0, 479.0, 8223.0, 15.221238938053098, 84.77876106194691], [14829.0, 300.0, 1595.0, 12934.0, 15.8311345646438, 84.1688654353562], [1815.0, 43.0, 206.0, 1566.0, 17.269076305220885, 82.73092369477911], [38309.0, 2640.0, 12391.0, 23278.0, 17.56370168318808, 82.43629831681191], [106.0, 4.0, 17.0, 85.0, 19.047619047619047, 80.95238095238095], [165.0, 1.0, 4.0, 160.0, 20.0, 80.0], [656.0, 2.0, 8.0, 646.0, 20.0, 80.0], [745.0, 19.0, 72.0, 654.0, 20.87912087912088, 79.12087912087912], [209.0, 4.0, 15.0, 190.0, 21.052631578947366, 78.94736842105263], [1024.0, 27.0, 95.0, 902.0, 22.131147540983605, 77.8688524590164], [144.0, 2.0, 7.0, 135.0, 22.22222222222222, 77.77777777777779], [547.0, 42.0, 143.0, 362.0, 22.702702702702705, 77.29729729729729], [609.0, 40.0, 132.0, 437.0, 23.25581395348837, 76.74418604651163], [212.0, 10.0, 33.0, 169.0, 23.25581395348837, 76.74418604651163], [10836.0, 431.0, 1359.0, 9046.0, 24.078212290502794, 75.9217877094972], [48.0, 5.0, 15.0, 28.0, 25.0, 75.0], [111.0, 1.0, 3.0, 107.0, 25.0, 75.0], [214.0, 5.0, 15.0, 194.0, 25.0, 75.0], [438.0, 10.0, 30.0, 398.0, 25.0, 75.0], [40174.0, 2606.0, 7202.0, 30366.0, 26.57014681892333, 73.42985318107668], [408.0, 13.0, 34.0, 361.0, 27.659574468085108, 72.3404255319149], [80110.0, 6803.0, 14709.0, 58598.0, 31.624209743399035, 68.37579025660096], [1597.0, 14.0, 29.0, 1554.0, 32.55813953488372, 67.44186046511628], [8.0, 1.0, 2.0, 5.0, 33.33333333333333, 66.66666666666666], [32.0, 1.0, 2.0, 29.0, 33.33333333333333, 66.66666666666666], [222.0, 12.0, 23.0, 187.0, 34.285714285714285, 65.71428571428571], [1950.0, 21.0, 40.0, 1889.0, 34.42622950819672, 65.57377049180327], [346.0, 8.0, 14.0, 324.0, 36.36363636363637, 63.63636363636363], [314.0, 2.0, 3.0, 309.0, 40.0, 60.0], [1156.0, 38.0, 52.0, 1066.0, 42.22222222222222, 57.77777777777777], [323.0, 6.0, 8.0, 309.0, 42.857142857142854, 57.14285714285714], [139.0, 3.0, 4.0, 132.0, 42.857142857142854, 57.14285714285714], [97689.0, 10779.0, 13030.0, 73880.0, 45.272796001512035, 54.72720399848797], [140886.0, 2467.0, 2665.0, 135754.0, 48.0709275136399, 51.9290724863601], [511.0, 31.0, 31.0, 449.0, 50.0, 50.0], [25.0, 1.0, 1.0, 23.0, 50.0, 50.0], [42.0, 1.0, 1.0, 40.0, 50.0, 50.0], [702.0, 10.0, 10.0, 682.0, 50.0, 50.0], [263.0, 2.0, 2.0, 259.0, 50.0, 50.0], [110.0, 3.0, 3.0, 104.0, 50.0, 50.0], [46.0, 1.0, 1.0, 44.0, 50.0, 50.0], [94.0, 1.0, 1.0, 92.0, 50.0, 50.0], [730.0, 11.0, 10.0, 709.0, 52.38095238095239, 47.61904761904761], [1240.0, 11.0, 10.0, 1219.0, 52.38095238095239, 47.61904761904761], [852.0, 18.0, 16.0, 818.0, 52.94117647058824, 47.05882352941176], [139.0, 6.0, 5.0, 128.0, 54.54545454545454, 45.45454545454545], [9217.0, 131.0, 105.0, 8981.0, 55.50847457627118, 44.49152542372881], [2817.0, 16.0, 11.0, 2790.0, 59.25925925925925, 40.74074074074074], [475.0, 10.0, 6.0, 459.0, 62.5, 37.5], [1418.0, 71.0, 42.0, 1305.0, 62.83185840707964, 37.16814159292036], [1285.0, 114.0, 64.0, 1107.0, 64.04494382022472, 35.95505617977528], [479.0, 26.0, 13.0, 440.0, 66.66666666666666, 33.33333333333333], [1791.0, 8.0, 4.0, 1779.0, 66.66666666666666, 33.33333333333333], [120.0, 4.0, 2.0, 114.0, 66.66666666666666, 33.33333333333333], [259.0, 6.0, 3.0, 250.0, 66.66666666666666, 33.33333333333333], [152.0, 5.0, 2.0, 145.0, 71.42857142857143, 28.57142857142857], [5962.0, 119.0, 43.0, 5800.0, 73.4567901234568, 26.543209876543212], [65.0, 6.0, 2.0, 57.0, 75.0, 25.0], [59.0, 3.0, 1.0, 55.0, 75.0, 25.0], [78.0, 3.0, 1.0, 74.0, 75.0, 25.0], [10866.0, 771.0, 250.0, 9845.0, 75.51420176297748, 24.48579823702253], [1862.0, 22.0, 7.0, 1833.0, 75.86206896551724, 24.137931034482758], [4284.0, 25.0, 7.0, 4252.0, 78.125, 21.875], [224.0, 22.0, 6.0, 196.0, 78.57142857142857, 21.428571428571427], [312.0, 8.0, 2.0, 302.0, 80.0, 20.0], [848.0, 16.0, 4.0, 828.0, 80.0, 20.0], [901.0, 17.0, 4.0, 880.0, 80.95238095238095, 19.047619047619047], [334.0, 6.0, 1.0, 327.0, 85.71428571428571, 14.285714285714285], [3700.0, 110.0, 16.0, 3574.0, 87.3015873015873, 12.698412698412698], [460.0, 7.0, 1.0, 452.0, 87.5, 12.5], [19522.0, 1228.0, 135.0, 18159.0, 90.0953778429934, 9.904622157006603], [2615.0, 46.0, 5.0, 2564.0, 90.19607843137256, 9.803921568627452], [859.0, 39.0, 3.0, 817.0, 92.85714285714286, 7.142857142857142], [1924.0, 58.0, 3.0, 1863.0, 95.08196721311475, 4.918032786885246], [4256.0, 136.0, 6.0, 4114.0, 95.77464788732394, 4.225352112676056], [2395.0, 72.0, 1.0, 2322.0, 98.63013698630137, 1.36986301369863], [6.0, 1.0, 0.0, 5.0, 100.0, 0.0], [4.0, 1.0, 0.0, 3.0, 100.0, 0.0], [8.0, 1.0, 0.0, 7.0, 100.0, 0.0], [108.0, 2.0, 0.0, 106.0, 100.0, 0.0], [81.0, 1.0, 0.0, 80.0, 100.0, 0.0], [18.0, 1.0, 0.0, 17.0, 100.0, 0.0], [8.0, 1.0, 0.0, 7.0, 100.0, 0.0], [107.0, 3.0, 0.0, 104.0, 100.0, 0.0], [93.0, 1.0, 0.0, 92.0, 100.0, 0.0], [18.0, 1.0, 0.0, 17.0, 100.0, 0.0], [85.0, 1.0, 0.0, 84.0, 100.0, 0.0], [7.0, 1.0, 0.0, 6.0, 100.0, 0.0], [7.0, 1.0, 0.0, 6.0, 100.0, 0.0], [4.0, 1.0, 0.0, 3.0, 100.0, 0.0], [741.0, 13.0, 0.0, 728.0, 100.0, 0.0], [304.0, 1.0, 0.0, 303.0, 100.0, 0.0], [6.0, 1.0, 0.0, 5.0, 100.0, 0.0], [7.0, 2.0, 0.0, 5.0, 100.0, 0.0], [2.0, 0.0, 0.0, 2.0, null, null], [2.0, 0.0, 0.0, 2.0, null, null], [30.0, 0.0, 0.0, 30.0, null, null], [42.0, 0.0, 0.0, 42.0, null, null], [63.0, 0.0, 0.0, 63.0, null, null], [5.0, 0.0, 0.0, 5.0, null, null], [7.0, 0.0, 0.0, 7.0, null, null], [33.0, 0.0, 0.0, 33.0, null, null], [2.0, 0.0, 0.0, 2.0, null, null], [6.0, 0.0, 0.0, 6.0, null, null], [4.0, 0.0, 0.0, 4.0, null, null], [10.0, 0.0, 0.0, 10.0, null, null], [3.0, 0.0, 0.0, 3.0, null, null], [3.0, 0.0, 0.0, 3.0, null, null], [19.0, 0.0, 0.0, 19.0, null, null], [18.0, 0.0, 0.0, 18.0, null, null], [11.0, 0.0, 0.0, 11.0, null, null], [24.0, 0.0, 0.0, 24.0, null, null], [12.0, 0.0, 0.0, 12.0, null, null], [12.0, 0.0, 0.0, 12.0, null, null], [9.0, 0.0, 0.0, 9.0, null, null], [5.0, 0.0, 0.0, 5.0, null, null], [9.0, 0.0, 0.0, 9.0, null, null], [16.0, 0.0, 0.0, 16.0, null, null], [2.0, 0.0, 0.0, 2.0, null, null], [6.0, 0.0, 0.0, 6.0, null, null], [84.0, 0.0, 0.0, 84.0, null, null], [8.0, 0.0, 0.0, 8.0, null, null], [3.0, 0.0, 0.0, 3.0, null, null], [8.0, 0.0, 0.0, 8.0, null, null], [56.0, 0.0, 0.0, 56.0, null, null], [2.0, 0.0, 0.0, 2.0, null, null], [39.0, 0.0, 0.0, 39.0, null, null], [12.0, 0.0, 0.0, 12.0, null, null], [1.0, 0.0, 0.0, 1.0, null, null], [70.0, 0.0, 0.0, 70.0, null, null], [2.0, 0.0, 0.0, 2.0, null, null], [8.0, 0.0, 0.0, 8.0, null, null], [3.0, 0.0, 0.0, 3.0, null, null], [8.0, 0.0, 0.0, 8.0, null, null], [33.0, 0.0, 0.0, 33.0, null, null], [29.0, 0.0, 0.0, 29.0, null, null], [15.0, 0.0, 0.0, 15.0, null, null], [15.0, 0.0, 0.0, 15.0, null, null], [5.0, 0.0, 0.0, 5.0, null, null], [6.0, 0.0, 0.0, 6.0, null, null], [11.0, 0.0, 0.0, 11.0, null, null], [4.0, 0.0, 0.0, 4.0, null, null]], \"geo\": \"geo\", \"hoverlabel\": {\"namelength\": 0}, \"hovertemplate\": \"<b>%{hovertext}</b><br><br>size=%{marker.color}<br>Confirmed=%{customdata[0]}<br>Deaths=%{customdata[1]}<br>Recovered=%{customdata[2]}<br>Infected=%{customdata[3]}<br>Death Rate=%{customdata[4]}<br>Recovery Rate=%{customdata[5]}<br>Lat=%{lat}<br>Long=%{lon}\", \"hovertext\": [\"Senegal\", \"Slovakia\", \"Saint Vincent and the Grenadines\", \"Saint Lucia\", \"Oman\", \"Nepal\", \"Jiangsu , China\", \"Namibia\", \"Mauritania\", \"Macau , China\", \"Malta\", \"Maldives\", \"Latvia\", \"Kuwait\", \"Aruba , Netherlands\", \"Haiti\", \"Georgia\", \"Ethiopia\", \"Cambodia\", \"Bahamas\", \"Belarus\", \"Tanzania\", \"South Australia , Australia\", \"Ningxia , China\", \"Australian Capital Territory , Australia\", \"Tibet , China\", \"Qinghai , China\", \"Greenland , Denmark\", \"Bermuda , United Kingdom\", \"Gibraltar , United Kingdom\", \"Reunion , France\", \"Vietnam\", \"French Guiana , France\", \"Faroe Islands , Denmark\", \"Shanxi , China\", \"Tasmania , Australia\", \"Zhejiang , China\", \"Jiangxi , China\", \"Fujian , China\", \"Hunan , China\", \"Sichuan , China\", \"Guangdong , China\", \"Anhui , China\", \"Guangxi , China\", \"Shandong , China\", \"Chongqing , China\", \"Jilin , China\", \"Yunnan , China\", \"Shaanxi , China\", \"Inner Mongolia , China\", \"Guizhou , China\", \"Singapore\", \"Bahrain\", \"Iceland\", \"Shanghai , China\", \"Gansu , China\", \"Liaoning , China\", \"Diamond Princess\", \"Henan , China\", \"New Zealand\", \"Hebei , China\", \"Beijing , China\", \"Qatar\", \"Victoria , Australia\", \"Tianjin , China\", \"Heilongjiang , China\", \"Brunei\", \"Korea, South\", \"Hainan , China\", \"Hong Kong , China\", \"Xinjiang , China\", \"Kazakhstan\", \"Hubei , China\", \"Venezuela\", \"United Arab Emirates\", \"West Bank and Gaza\", \"Germany\", \"South Africa\", \"Taiwan*\", \"Western Australia , Australia\", \"Thailand\", \"Malaysia\", \"Sri Lanka\", \"Chile\", \"Armenia\", \"Guatemala\", \"Israel\", \"Croatia\", \"Saudi Arabia\", \"Russia\", \"Japan\", \"Estonia\", \"Jordan\", \"Austria\", \"Switzerland\", \"Romania\", \"Iran\", \"Guadeloupe , France\", \"Cote d'Ivoire\", \"Queensland , Australia\", \"Argentina\", \"Azerbaijan\", \"India\", \"Uzbekistan\", \"Iraq\", \"Egypt\", \"Albania\", \"Belgium\", \"Bangladesh\", \"Nigeria\", \"Cyprus\", \"Lebanon\", \"France\", \"Hungary\", \"Spain\", \"Pakistan\", \"Curacao , Netherlands\", \"Jamaica\", \"Burkina Faso\", \"Luxembourg\", \"Bulgaria\", \"Costa Rica\", \"Greece\", \"Bosnia and Herzegovina\", \"Cuba\", \"Italy\", \"US\", \"Algeria\", \"Togo\", \"Kenya\", \"Colombia\", \"Moldova\", \"Honduras\", \"Monaco\", \"Kosovo\", \"Slovenia\", \"Finland\", \"Peru\", \"Cameroon\", \"Turkey\", \"Czechia\", \"Ukraine\", \"Philippines\", \"Indonesia\", \"Morocco\", \"New South Wales , Australia\", \"Afghanistan\", \"North Macedonia\", \"Ghana\", \"Portugal\", \"Congo (Kinshasa)\", \"Paraguay\", \"Trinidad and Tobago\", \"Netherlands\", \"Poland\", \"Norway\", \"San Marino\", \"Tunisia\", \"Mexico\", \"Panama\", \"Andorra\", \"Sweden\", \"Lithuania\", \"United Kingdom\", \"Ireland\", \"Dominican Republic\", \"Ecuador\", \"Brazil\", \"Denmark\", \"Cabo Verde\", \"Nicaragua\", \"Cayman Islands , United Kingdom\", \"Channel Islands , United Kingdom\", \"Bolivia\", \"Niger\", \"Guyana\", \"Mauritius\", \"Martinique , France\", \"Mali\", \"Montenegro\", \"Zimbabwe\", \"Gabon\", \"Gambia\", \"Serbia\", \"Uruguay\", \"Sudan\", \"Angola\", \"Anguilla , United Kingdom\", \"British Virgin Islands , United Kingdom\", \"French Polynesia , France\", \"Isle of Man , United Kingdom\", \"Mayotte , France\", \"Montserrat , United Kingdom\", \"Antigua and Barbuda\", \"Barbados\", \"Belize\", \"Benin\", \"Bhutan\", \"Burma\", \"Central African Republic\", \"Chad\", \"Congo (Brazzaville)\", \"Djibouti\", \"Dominica\", \"El Salvador\", \"Equatorial Guinea\", \"Eritrea\", \"Eswatini\", \"Fiji\", \"Grenada\", \"Guinea\", \"Guinea-Bissau\", \"Holy See\", \"Kyrgyzstan\", \"Laos\", \"Liberia\", \"Libya\", \"Liechtenstein\", \"MS Zaandam\", \"Madagascar\", \"Mongolia\", \"Papua New Guinea\", \"Rwanda\", \"Saint Kitts and Nevis\", \"Seychelles\", \"Somalia\", \"Suriname\", \"Uganda\", \"Zambia\", \"New Caledonia , France\", \"Northern Territory , Australia\", \"Saint Barthelemy , France\", \"Sint Maarten , Netherlands\", \"St Martin , France\", \"Turks and Caicos Islands , United Kingdom\"], \"lat\": [14.4974, 48.669, 12.9843, 13.9094, 21.0, 28.1667, 32.9711, -22.9576, 21.0079, 22.1667, 35.9375, 3.2028, 56.8796, 29.5, 12.5186, 18.9712, 42.3154, 9.145, 11.55, 25.0343, 53.7098, -6.369, -34.9285, 37.2692, -35.4735, 31.6927, 35.7452, 71.7069, 32.3078, 36.1408, -21.1351, 16.0, 3.9339, 61.8926, 37.5777, -41.4545, 29.1832, 27.614, 26.0789, 27.6104, 30.6171, 23.3417, 31.8257, 23.8298, 36.3427, 30.0572, 43.6661, 24.974, 35.1917, 44.0935, 26.8154, 1.2833, 26.0275, 64.9631, 31.201999999999998, 37.8099, 41.2956, 0.0, 33.882, -40.9006, 39.549, 40.1824, 25.3548, -37.8136, 39.3054, 47.861999999999995, 4.5353, 36.0, 19.1959, 22.3, 41.1129, 48.0196, 30.9756, 6.4238, 24.0, 31.9522, 51.0, -30.5595, 23.7, -31.9505, 15.0, 2.5, 7.0, -35.6751, 40.0691, 15.7835, 31.0, 45.1, 24.0, 60.0, 36.0, 58.5953, 31.24, 47.5162, 46.8182, 45.9432, 32.0, 16.25, 7.54, -28.0167, -38.4161, 40.1431, 21.0, 41.3775, 33.0, 26.0, 41.1533, 50.8333, 23.685, 9.082, 35.1264, 33.8547, 46.2276, 47.1625, 40.0, 30.3753, 12.1696, 18.1096, 12.2383, 49.8153, 42.7339, 9.7489, 39.0742, 43.9159, 22.0, 43.0, 37.0902, 28.0339, 8.6195, -0.0236, 4.5709, 47.4116, 15.2, 43.7333, 42.602636, 46.1512, 64.0, -9.19, 3.8480000000000003, 38.9637, 49.8175, 48.3794, 13.0, -0.7893, 31.7917, -33.8688, 33.0, 41.6086, 7.9465, 39.3999, -4.0383, -23.4425, 10.6918, 52.1326, 51.9194, 60.472, 43.9424, 34.0, 23.6345, 8.538, 42.5063, 63.0, 55.1694, 55.3781, 53.1424, 18.7357, -1.8312, -14.235, 56.2639, 16.5388, 12.8654, 19.3133, 49.3723, -16.2902, 17.6078, 5.0, -20.2, 14.6415, 17.570692, 42.5, -20.0, -0.8037, 13.4432, 44.0165, -32.5228, 12.8628, -11.2027, 18.2206, 18.4207, -17.6797, 54.2361, -12.8275, 16.7425, 17.0608, 13.1939, 13.1939, 9.3077, 27.5142, 21.9162, 6.6111, 15.4542, -4.0383, 11.8251, 15.415, 13.7942, 1.5, 15.1794, -26.5225, -17.7134, 12.1165, 9.9456, 11.8037, 41.9029, 41.2044, 19.856270000000002, 6.4281, 26.3351, 47.14, 0.0, -18.7669, 46.8625, -6.315, -1.9403, 17.357822, -4.6796, 5.1521, 3.9193, 1.0, -15.4167, -20.9043, -12.4634, 17.9, 18.0425, 18.0708, 21.69400000000001], \"legendgroup\": \"\", \"lon\": [-14.4524, 19.699, -61.2872, -60.9789, 57.0, 84.25, 119.455, 18.4904, 10.9408, 113.55, 14.3754, 73.2207, 24.6032, 47.75, -70.0358, -72.2852, 43.3569, 40.4897, 104.9167, -77.3963, 27.9534, 34.8888, 138.6007, 106.1655, 149.0124, 88.0924, 95.9956, -42.6043, -64.7505, -5.3536, 55.2471, 108.0, -53.1258, -6.9118, 112.2922, 145.9707, 120.0934, 115.7221, 117.9874, 111.7088, 102.7103, 113.4244, 117.2264, 108.7881, 118.1498, 107.874, 126.1923, 101.48700000000001, 108.8701, 113.9448, 106.8748, 103.8333, 50.55, -19.0208, 121.4491, 101.0583, 122.6085, 0.0, 113.61399999999999, 174.886, 116.1306, 116.4142, 51.1839, 144.9631, 117.323, 127.7615, 114.7277, 128.0, 109.7453, 114.2, 85.2401, 66.9237, 112.2707, -66.5897, 54.0, 35.2332, 9.0, 22.9375, 121.0, 115.8605, 101.0, 112.5, 81.0, -71.543, 45.0382, -90.2308, 35.0, 15.2, 45.0, 90.0, 138.0, 25.0136, 36.51, 14.5501, 8.2275, 24.9668, 53.0, -61.5833, -5.5471, 153.4, -63.6167, 47.5769, 78.0, 64.5853, 44.0, 30.0, 20.1683, 4.0, 90.3563, 8.6753, 33.4299, 35.8623, 2.2137, 19.5033, -4.0, 69.3451, -68.99, -77.2975, -1.5616, 6.1296, 25.4858, -83.7534, 21.8243, 17.6791, -80.0, 12.0, -95.7129, 1.6596, 0.8248, 37.9062, -74.2973, 28.3699, -86.2419, 7.4167, 20.902977, 14.9955, 26.0, -75.0152, 11.5021, 35.2433, 15.472999999999999, 31.1656, 122.0, 113.9213, -7.0926, 151.2093, 65.0, 21.7453, -1.0232, -8.2245, 21.7587, -58.4438, -61.2225, 5.2913, 19.1451, 8.4689, 12.4578, 9.0, -102.5528, -80.7821, 1.5218, 16.0, 23.8813, -3.4360000000000004, -7.6921, -70.1627, -78.1834, -51.9253, 9.5018, -23.0418, -85.2072, -81.2546, -2.3644, -63.5887, 8.0817, -58.75, 57.5, -61.0242, -3.996166000000001, 19.3, 30.0, 11.6094, -15.3101, 21.0059, -55.7658, 30.2176, 17.8739, -63.0686, -64.64, 149.4068, -4.5481, 45.1662, -62.1874, -61.7964, -59.5432, -59.5432, 2.3158, 90.4336, 95.956, 20.9394, 18.7322, 21.7587, 42.5903, -61.371, -88.8965, 10.0, 39.7823, 31.4659, 178.065, -61.678999999999995, -9.6966, -15.1804, 12.4534, 74.7661, 102.495496, -9.4295, 17.228331, 9.55, 0.0, 46.8691, 103.8467, 143.9555, 29.8739, -62.782998, 55.492, 46.1996, -56.0278, 32.0, 28.2833, 165.618, 130.8456, -62.8333, -63.0548, -63.0501, -71.7979], \"marker\": {\"color\": [11.916375287812984, 17.72004514666935, 1.0, 3.0, 12.922847983320086, 2.23606797749979, 25.37715508089904, 3.3166247903554, 2.23606797749979, 6.082762530298219, 12.288205727444508, 4.123105625617661, 18.627936010197157, 15.968719422671311, 7.0710678118654755, 3.872983346207417, 9.539392014169456, 4.58257569495584, 10.14889156509222, 3.3166247903554, 9.695359714832659, 3.7416573867739413, 17.291616465790582, 8.660254037844387, 8.774964387392123, 1.0, 4.242640687119285, 3.1622776601683795, 4.69041575982343, 8.06225774829855, 13.527749258468683, 13.711309200802088, 5.291502622129181, 12.609520212918492, 11.661903789690601, 8.12403840463596, 35.41186241925155, 30.610455730027933, 18.384776310850235, 31.906112267087632, 23.452078799117146, 38.40572873934304, 31.464265445104548, 15.937377450509228, 27.784887978899608, 24.06241883103193, 9.899494936611665, 13.416407864998739, 15.905973720586866, 9.746794344808963, 12.083045973594572, 29.0516780926679, 22.338307903688676, 31.937438845342623, 22.181073012818835, 11.74734012447073, 11.575836902790225, 26.68332812825267, 35.7211421989835, 22.67156809750927, 17.86057109949175, 24.020824298928627, 25.179356624028344, 27.730849247724095, 12.884098726725126, 22.0, 11.224972160321824, 97.89279850938985, 12.96148139681572, 25.317977802344327, 8.717797887081348, 16.852299546352718, 260.3862515571819, 10.908712114635714, 23.874672772626646, 10.44030650891055, 249.18868353117483, 35.77708763999664, 17.26267650163207, 17.635192088548397, 37.255872020394314, 49.69909455915671, 10.816653826391969, 46.24932431938871, 20.591260281974, 5.830951894845301, 65.16901104052447, 26.70205984563738, 36.0416425818802, 39.16631205513228, 43.197222132910355, 26.057628441590765, 16.09347693943108, 93.74433316206373, 121.77438154226036, 42.60281680828159, 195.7268504830137, 10.295630140987, 12.84523257866513, 25.612496949731394, 27.294688127912362, 14.45683229480096, 32.0, 12.0, 23.388031127053, 24.677925358506133, 14.560219778561036, 104.09610943738484, 6.928203230275509, 10.535653752852738, 14.628738838327793, 20.92844953645635, 200.4345279636221, 20.199009876724155, 283.037100041673, 39.96248240537617, 2.8284271247461903, 5.656854249492381, 14.89966442575134, 44.15880433163923, 18.601075237738275, 17.72004514666935, 34.0, 17.97220075561143, 11.789826122551595, 312.5523956075205, 375.3478386776724, 22.60530911091463, 5.0, 6.48074069840786, 26.49528259898354, 16.217274740226856, 10.488088481701515, 6.782329983125268, 9.695359714832659, 27.018512172212592, 35.21363372331802, 29.189039038652847, 11.789826122551595, 96.00520819205592, 53.075418038862395, 21.79449471770337, 37.656340767525464, 35.84689665786984, 21.88606862823929, 42.320207938997655, 10.954451150103322, 16.09347693943108, 12.328828005937952, 77.21398836998384, 8.06225774829855, 7.681145747868608, 8.831760866327848, 104.2401074443038, 43.15089802078283, 65.45227268781429, 14.966629547095765, 17.663521732655695, 29.120439557122072, 30.01666203960727, 18.275666882497067, 60.8276253029822, 21.447610589527216, 139.7211508684351, 51.137070702182385, 29.30870177950569, 43.86342439892262, 65.23802572120036, 48.938737212968626, 2.449489742783178, 2.0, 2.8284271247461903, 10.392304845413264, 9.0, 4.242640687119285, 2.8284271247461903, 10.344080432788601, 9.643650760992955, 4.242640687119285, 9.219544457292887, 2.6457513110645907, 2.6457513110645907, 2.0, 27.2213151776324, 17.435595774162696, 2.449489742783178, 2.6457513110645907, 1.4142135623730951, 1.4142135623730951, 5.477225575051661, 6.48074069840786, 7.937253933193772, 2.23606797749979, 2.6457513110645907, 5.744562646538029, 1.4142135623730951, 2.449489742783178, 2.0, 3.1622776601683795, 1.7320508075688772, 1.7320508075688772, 4.358898943540674, 4.242640687119285, 3.3166247903554, 4.898979485566356, 3.4641016151377544, 3.4641016151377544, 3.0, 2.23606797749979, 3.0, 4.0, 1.4142135623730951, 2.449489742783178, 9.16515138991168, 2.8284271247461903, 1.7320508075688772, 2.8284271247461903, 7.483314773547883, 1.4142135623730951, 6.244997998398398, 3.4641016151377544, 1.0, 8.366600265340756, 1.4142135623730951, 2.8284271247461903, 1.7320508075688772, 2.8284271247461903, 5.744562646538029, 5.385164807134504, 3.872983346207417, 3.872983346207417, 2.23606797749979, 2.449489742783178, 3.3166247903554, 2.0], \"coloraxis\": \"coloraxis\", \"size\": [11.916375287812984, 17.72004514666935, 1.0, 3.0, 12.922847983320086, 2.23606797749979, 25.37715508089904, 3.3166247903554, 2.23606797749979, 6.082762530298219, 12.288205727444508, 4.123105625617661, 18.627936010197157, 15.968719422671311, 7.0710678118654755, 3.872983346207417, 9.539392014169456, 4.58257569495584, 10.14889156509222, 3.3166247903554, 9.695359714832659, 3.7416573867739413, 17.291616465790582, 8.660254037844387, 8.774964387392123, 1.0, 4.242640687119285, 3.1622776601683795, 4.69041575982343, 8.06225774829855, 13.527749258468683, 13.711309200802088, 5.291502622129181, 12.609520212918492, 11.661903789690601, 8.12403840463596, 35.41186241925155, 30.610455730027933, 18.384776310850235, 31.906112267087632, 23.452078799117146, 38.40572873934304, 31.464265445104548, 15.937377450509228, 27.784887978899608, 24.06241883103193, 9.899494936611665, 13.416407864998739, 15.905973720586866, 9.746794344808963, 12.083045973594572, 29.0516780926679, 22.338307903688676, 31.937438845342623, 22.181073012818835, 11.74734012447073, 11.575836902790225, 26.68332812825267, 35.7211421989835, 22.67156809750927, 17.86057109949175, 24.020824298928627, 25.179356624028344, 27.730849247724095, 12.884098726725126, 22.0, 11.224972160321824, 97.89279850938985, 12.96148139681572, 25.317977802344327, 8.717797887081348, 16.852299546352718, 260.3862515571819, 10.908712114635714, 23.874672772626646, 10.44030650891055, 249.18868353117483, 35.77708763999664, 17.26267650163207, 17.635192088548397, 37.255872020394314, 49.69909455915671, 10.816653826391969, 46.24932431938871, 20.591260281974, 5.830951894845301, 65.16901104052447, 26.70205984563738, 36.0416425818802, 39.16631205513228, 43.197222132910355, 26.057628441590765, 16.09347693943108, 93.74433316206373, 121.77438154226036, 42.60281680828159, 195.7268504830137, 10.295630140987, 12.84523257866513, 25.612496949731394, 27.294688127912362, 14.45683229480096, 32.0, 12.0, 23.388031127053, 24.677925358506133, 14.560219778561036, 104.09610943738484, 6.928203230275509, 10.535653752852738, 14.628738838327793, 20.92844953645635, 200.4345279636221, 20.199009876724155, 283.037100041673, 39.96248240537617, 2.8284271247461903, 5.656854249492381, 14.89966442575134, 44.15880433163923, 18.601075237738275, 17.72004514666935, 34.0, 17.97220075561143, 11.789826122551595, 312.5523956075205, 375.3478386776724, 22.60530911091463, 5.0, 6.48074069840786, 26.49528259898354, 16.217274740226856, 10.488088481701515, 6.782329983125268, 9.695359714832659, 27.018512172212592, 35.21363372331802, 29.189039038652847, 11.789826122551595, 96.00520819205592, 53.075418038862395, 21.79449471770337, 37.656340767525464, 35.84689665786984, 21.88606862823929, 42.320207938997655, 10.954451150103322, 16.09347693943108, 12.328828005937952, 77.21398836998384, 8.06225774829855, 7.681145747868608, 8.831760866327848, 104.2401074443038, 43.15089802078283, 65.45227268781429, 14.966629547095765, 17.663521732655695, 29.120439557122072, 30.01666203960727, 18.275666882497067, 60.8276253029822, 21.447610589527216, 139.7211508684351, 51.137070702182385, 29.30870177950569, 43.86342439892262, 65.23802572120036, 48.938737212968626, 2.449489742783178, 2.0, 2.8284271247461903, 10.392304845413264, 9.0, 4.242640687119285, 2.8284271247461903, 10.344080432788601, 9.643650760992955, 4.242640687119285, 9.219544457292887, 2.6457513110645907, 2.6457513110645907, 2.0, 27.2213151776324, 17.435595774162696, 2.449489742783178, 2.6457513110645907, 1.4142135623730951, 1.4142135623730951, 5.477225575051661, 6.48074069840786, 7.937253933193772, 2.23606797749979, 2.6457513110645907, 5.744562646538029, 1.4142135623730951, 2.449489742783178, 2.0, 3.1622776601683795, 1.7320508075688772, 1.7320508075688772, 4.358898943540674, 4.242640687119285, 3.3166247903554, 4.898979485566356, 3.4641016151377544, 3.4641016151377544, 3.0, 2.23606797749979, 3.0, 4.0, 1.4142135623730951, 2.449489742783178, 9.16515138991168, 2.8284271247461903, 1.7320508075688772, 2.8284271247461903, 7.483314773547883, 1.4142135623730951, 6.244997998398398, 3.4641016151377544, 1.0, 8.366600265340756, 1.4142135623730951, 2.8284271247461903, 1.7320508075688772, 2.8284271247461903, 5.744562646538029, 5.385164807134504, 3.872983346207417, 3.872983346207417, 2.23606797749979, 2.449489742783178, 3.3166247903554, 2.0], \"sizemode\": \"area\", \"sizeref\": 0.9383695966941811}, \"name\": \"\", \"showlegend\": false, \"type\": \"scattergeo\"}],\n",
       "                        {\"coloraxis\": {\"colorbar\": {\"title\": {\"text\": \"size\"}}, \"colorscale\": [[0.0, \"#0d0887\"], [0.1111111111111111, \"#46039f\"], [0.2222222222222222, \"#7201a8\"], [0.3333333333333333, \"#9c179e\"], [0.4444444444444444, \"#bd3786\"], [0.5555555555555556, \"#d8576b\"], [0.6666666666666666, \"#ed7953\"], [0.7777777777777778, \"#fb9f3a\"], [0.8888888888888888, \"#fdca26\"], [1.0, \"#f0f921\"]], \"showscale\": false}, \"geo\": {\"center\": {}, \"domain\": {\"x\": [0.0, 1.0], \"y\": [0.0, 1.0]}, \"projection\": {\"type\": \"natural earth\"}}, \"legend\": {\"itemsizing\": \"constant\", \"tracegroupgap\": 0}, \"template\": {\"data\": {\"bar\": [{\"error_x\": {\"color\": \"#2a3f5f\"}, \"error_y\": {\"color\": \"#2a3f5f\"}, \"marker\": {\"line\": {\"color\": \"#E5ECF6\", \"width\": 0.5}}, \"type\": \"bar\"}], \"barpolar\": [{\"marker\": {\"line\": {\"color\": \"#E5ECF6\", \"width\": 0.5}}, \"type\": \"barpolar\"}], \"carpet\": [{\"aaxis\": {\"endlinecolor\": \"#2a3f5f\", \"gridcolor\": \"white\", \"linecolor\": \"white\", \"minorgridcolor\": \"white\", \"startlinecolor\": \"#2a3f5f\"}, \"baxis\": {\"endlinecolor\": \"#2a3f5f\", \"gridcolor\": \"white\", \"linecolor\": \"white\", \"minorgridcolor\": \"white\", \"startlinecolor\": \"#2a3f5f\"}, \"type\": \"carpet\"}], \"choropleth\": [{\"colorbar\": {\"outlinewidth\": 0, \"ticks\": \"\"}, \"type\": \"choropleth\"}], \"contour\": [{\"colorbar\": {\"outlinewidth\": 0, \"ticks\": \"\"}, \"colorscale\": [[0.0, \"#0d0887\"], [0.1111111111111111, \"#46039f\"], [0.2222222222222222, \"#7201a8\"], [0.3333333333333333, \"#9c179e\"], [0.4444444444444444, \"#bd3786\"], [0.5555555555555556, \"#d8576b\"], [0.6666666666666666, \"#ed7953\"], [0.7777777777777778, \"#fb9f3a\"], [0.8888888888888888, \"#fdca26\"], [1.0, \"#f0f921\"]], \"type\": \"contour\"}], \"contourcarpet\": [{\"colorbar\": {\"outlinewidth\": 0, \"ticks\": \"\"}, \"type\": \"contourcarpet\"}], \"heatmap\": [{\"colorbar\": {\"outlinewidth\": 0, \"ticks\": \"\"}, \"colorscale\": [[0.0, \"#0d0887\"], [0.1111111111111111, \"#46039f\"], [0.2222222222222222, \"#7201a8\"], [0.3333333333333333, \"#9c179e\"], [0.4444444444444444, \"#bd3786\"], [0.5555555555555556, \"#d8576b\"], [0.6666666666666666, \"#ed7953\"], [0.7777777777777778, \"#fb9f3a\"], [0.8888888888888888, \"#fdca26\"], [1.0, \"#f0f921\"]], \"type\": \"heatmap\"}], \"heatmapgl\": [{\"colorbar\": {\"outlinewidth\": 0, \"ticks\": \"\"}, \"colorscale\": [[0.0, \"#0d0887\"], [0.1111111111111111, \"#46039f\"], [0.2222222222222222, \"#7201a8\"], [0.3333333333333333, \"#9c179e\"], [0.4444444444444444, \"#bd3786\"], [0.5555555555555556, \"#d8576b\"], [0.6666666666666666, \"#ed7953\"], [0.7777777777777778, \"#fb9f3a\"], [0.8888888888888888, \"#fdca26\"], [1.0, \"#f0f921\"]], \"type\": \"heatmapgl\"}], \"histogram\": [{\"marker\": {\"colorbar\": {\"outlinewidth\": 0, \"ticks\": \"\"}}, \"type\": \"histogram\"}], \"histogram2d\": [{\"colorbar\": {\"outlinewidth\": 0, \"ticks\": \"\"}, \"colorscale\": [[0.0, \"#0d0887\"], [0.1111111111111111, \"#46039f\"], [0.2222222222222222, \"#7201a8\"], [0.3333333333333333, \"#9c179e\"], [0.4444444444444444, \"#bd3786\"], [0.5555555555555556, \"#d8576b\"], [0.6666666666666666, \"#ed7953\"], [0.7777777777777778, \"#fb9f3a\"], [0.8888888888888888, \"#fdca26\"], [1.0, \"#f0f921\"]], \"type\": \"histogram2d\"}], \"histogram2dcontour\": [{\"colorbar\": {\"outlinewidth\": 0, \"ticks\": \"\"}, \"colorscale\": [[0.0, \"#0d0887\"], [0.1111111111111111, \"#46039f\"], [0.2222222222222222, \"#7201a8\"], [0.3333333333333333, \"#9c179e\"], [0.4444444444444444, \"#bd3786\"], [0.5555555555555556, \"#d8576b\"], [0.6666666666666666, \"#ed7953\"], [0.7777777777777778, \"#fb9f3a\"], [0.8888888888888888, \"#fdca26\"], [1.0, \"#f0f921\"]], \"type\": \"histogram2dcontour\"}], \"mesh3d\": [{\"colorbar\": {\"outlinewidth\": 0, \"ticks\": \"\"}, \"type\": \"mesh3d\"}], \"parcoords\": [{\"line\": {\"colorbar\": {\"outlinewidth\": 0, \"ticks\": \"\"}}, \"type\": \"parcoords\"}], \"pie\": [{\"automargin\": true, \"type\": \"pie\"}], \"scatter\": [{\"marker\": {\"colorbar\": {\"outlinewidth\": 0, \"ticks\": \"\"}}, \"type\": \"scatter\"}], \"scatter3d\": [{\"line\": {\"colorbar\": {\"outlinewidth\": 0, \"ticks\": \"\"}}, \"marker\": {\"colorbar\": {\"outlinewidth\": 0, \"ticks\": \"\"}}, \"type\": \"scatter3d\"}], \"scattercarpet\": [{\"marker\": {\"colorbar\": {\"outlinewidth\": 0, \"ticks\": \"\"}}, \"type\": \"scattercarpet\"}], \"scattergeo\": [{\"marker\": {\"colorbar\": {\"outlinewidth\": 0, \"ticks\": \"\"}}, \"type\": \"scattergeo\"}], \"scattergl\": [{\"marker\": {\"colorbar\": {\"outlinewidth\": 0, \"ticks\": \"\"}}, \"type\": \"scattergl\"}], \"scattermapbox\": [{\"marker\": {\"colorbar\": {\"outlinewidth\": 0, \"ticks\": \"\"}}, \"type\": \"scattermapbox\"}], \"scatterpolar\": [{\"marker\": {\"colorbar\": {\"outlinewidth\": 0, \"ticks\": \"\"}}, \"type\": \"scatterpolar\"}], \"scatterpolargl\": [{\"marker\": {\"colorbar\": {\"outlinewidth\": 0, \"ticks\": \"\"}}, \"type\": \"scatterpolargl\"}], \"scatterternary\": [{\"marker\": {\"colorbar\": {\"outlinewidth\": 0, \"ticks\": \"\"}}, \"type\": \"scatterternary\"}], \"surface\": [{\"colorbar\": {\"outlinewidth\": 0, \"ticks\": \"\"}, \"colorscale\": [[0.0, \"#0d0887\"], [0.1111111111111111, \"#46039f\"], [0.2222222222222222, \"#7201a8\"], [0.3333333333333333, \"#9c179e\"], [0.4444444444444444, \"#bd3786\"], [0.5555555555555556, \"#d8576b\"], [0.6666666666666666, \"#ed7953\"], [0.7777777777777778, \"#fb9f3a\"], [0.8888888888888888, \"#fdca26\"], [1.0, \"#f0f921\"]], \"type\": \"surface\"}], \"table\": [{\"cells\": {\"fill\": {\"color\": \"#EBF0F8\"}, \"line\": {\"color\": \"white\"}}, \"header\": {\"fill\": {\"color\": \"#C8D4E3\"}, \"line\": {\"color\": \"white\"}}, \"type\": \"table\"}]}, \"layout\": {\"annotationdefaults\": {\"arrowcolor\": \"#2a3f5f\", \"arrowhead\": 0, \"arrowwidth\": 1}, \"coloraxis\": {\"colorbar\": {\"outlinewidth\": 0, \"ticks\": \"\"}}, \"colorscale\": {\"diverging\": [[0, \"#8e0152\"], [0.1, \"#c51b7d\"], [0.2, \"#de77ae\"], [0.3, \"#f1b6da\"], [0.4, \"#fde0ef\"], [0.5, \"#f7f7f7\"], [0.6, \"#e6f5d0\"], [0.7, \"#b8e186\"], [0.8, \"#7fbc41\"], [0.9, \"#4d9221\"], [1, \"#276419\"]], \"sequential\": [[0.0, \"#0d0887\"], [0.1111111111111111, \"#46039f\"], [0.2222222222222222, \"#7201a8\"], [0.3333333333333333, \"#9c179e\"], [0.4444444444444444, \"#bd3786\"], [0.5555555555555556, \"#d8576b\"], [0.6666666666666666, \"#ed7953\"], [0.7777777777777778, \"#fb9f3a\"], [0.8888888888888888, \"#fdca26\"], [1.0, \"#f0f921\"]], \"sequentialminus\": [[0.0, \"#0d0887\"], [0.1111111111111111, \"#46039f\"], [0.2222222222222222, \"#7201a8\"], [0.3333333333333333, \"#9c179e\"], [0.4444444444444444, \"#bd3786\"], [0.5555555555555556, \"#d8576b\"], [0.6666666666666666, \"#ed7953\"], [0.7777777777777778, \"#fb9f3a\"], [0.8888888888888888, \"#fdca26\"], [1.0, \"#f0f921\"]]}, \"colorway\": [\"#636efa\", \"#EF553B\", \"#00cc96\", \"#ab63fa\", \"#FFA15A\", \"#19d3f3\", \"#FF6692\", \"#B6E880\", \"#FF97FF\", \"#FECB52\"], \"font\": {\"color\": \"#2a3f5f\"}, \"geo\": {\"bgcolor\": \"white\", \"lakecolor\": \"white\", \"landcolor\": \"#E5ECF6\", \"showlakes\": true, \"showland\": true, \"subunitcolor\": \"white\"}, \"hoverlabel\": {\"align\": \"left\"}, \"hovermode\": \"closest\", \"mapbox\": {\"style\": \"light\"}, \"paper_bgcolor\": \"white\", \"plot_bgcolor\": \"#E5ECF6\", \"polar\": {\"angularaxis\": {\"gridcolor\": \"white\", \"linecolor\": \"white\", \"ticks\": \"\"}, \"bgcolor\": \"#E5ECF6\", \"radialaxis\": {\"gridcolor\": \"white\", \"linecolor\": \"white\", \"ticks\": \"\"}}, \"scene\": {\"xaxis\": {\"backgroundcolor\": \"#E5ECF6\", \"gridcolor\": \"white\", \"gridwidth\": 2, \"linecolor\": \"white\", \"showbackground\": true, \"ticks\": \"\", \"zerolinecolor\": \"white\"}, \"yaxis\": {\"backgroundcolor\": \"#E5ECF6\", \"gridcolor\": \"white\", \"gridwidth\": 2, \"linecolor\": \"white\", \"showbackground\": true, \"ticks\": \"\", \"zerolinecolor\": \"white\"}, \"zaxis\": {\"backgroundcolor\": \"#E5ECF6\", \"gridcolor\": \"white\", \"gridwidth\": 2, \"linecolor\": \"white\", \"showbackground\": true, \"ticks\": \"\", \"zerolinecolor\": \"white\"}}, \"shapedefaults\": {\"line\": {\"color\": \"#2a3f5f\"}}, \"ternary\": {\"aaxis\": {\"gridcolor\": \"white\", \"linecolor\": \"white\", \"ticks\": \"\"}, \"baxis\": {\"gridcolor\": \"white\", \"linecolor\": \"white\", \"ticks\": \"\"}, \"bgcolor\": \"#E5ECF6\", \"caxis\": {\"gridcolor\": \"white\", \"linecolor\": \"white\", \"ticks\": \"\"}}, \"title\": {\"x\": 0.05}, \"xaxis\": {\"automargin\": true, \"gridcolor\": \"white\", \"linecolor\": \"white\", \"ticks\": \"\", \"title\": {\"standoff\": 15}, \"zerolinecolor\": \"white\", \"zerolinewidth\": 2}, \"yaxis\": {\"automargin\": true, \"gridcolor\": \"white\", \"linecolor\": \"white\", \"ticks\": \"\", \"title\": {\"standoff\": 15}, \"zerolinecolor\": \"white\", \"zerolinewidth\": 2}}}, \"title\": {\"text\": \"Spread in World over time | natural earth\"}},\n",
       "                        {\"responsive\": true}\n",
       "                    ).then(function(){\n",
       "                            \n",
       "var gd = document.getElementById('374e8a56-ec2b-4dfe-a8fa-8426da3d74b5');\n",
       "var x = new MutationObserver(function (mutations, observer) {{\n",
       "        var display = window.getComputedStyle(gd).display;\n",
       "        if (!display || display === 'none') {{\n",
       "            console.log([gd, 'removed!']);\n",
       "            Plotly.purge(gd);\n",
       "            observer.disconnect();\n",
       "        }}\n",
       "}});\n",
       "\n",
       "// Listen for the removal of the full notebook cells\n",
       "var notebookContainer = gd.closest('#notebook-container');\n",
       "if (notebookContainer) {{\n",
       "    x.observe(notebookContainer, {childList: true});\n",
       "}}\n",
       "\n",
       "// Listen for the clearing of the current output cell\n",
       "var outputEl = gd.closest('.output');\n",
       "if (outputEl) {{\n",
       "    x.observe(outputEl, {childList: true});\n",
       "}}\n",
       "\n",
       "                        })\n",
       "                };\n",
       "                });\n",
       "            </script>\n",
       "        </div>"
      ]
     },
     "metadata": {},
     "output_type": "display_data"
    },
    {
     "data": {
      "application/vnd.plotly.v1+json": {
       "config": {
        "plotlyServerURL": "https://plot.ly"
       },
       "data": [
        {
         "customdata": [
          [
           142,
           0,
           27,
           115,
           0,
           100
          ],
          [
           314,
           0,
           2,
           312,
           0,
           100
          ],
          [
           1,
           0,
           1,
           0,
           0,
           100
          ],
          [
           9,
           0,
           1,
           8,
           0,
           100
          ],
          [
           167,
           0,
           23,
           144,
           0,
           100
          ],
          [
           5,
           0,
           1,
           4,
           0,
           100
          ],
          [
           644,
           0,
           631,
           13,
           0,
           100
          ],
          [
           11,
           0,
           2,
           9,
           0,
           100
          ],
          [
           5,
           0,
           2,
           3,
           0,
           100
          ],
          [
           37,
           0,
           10,
           27,
           0,
           100
          ],
          [
           151,
           0,
           2,
           149,
           0,
           100
          ],
          [
           17,
           0,
           13,
           4,
           0,
           100
          ],
          [
           347,
           0,
           1,
           346,
           0,
           100
          ],
          [
           255,
           0,
           67,
           188,
           0,
           100
          ],
          [
           50,
           0,
           1,
           49,
           0,
           100
          ],
          [
           15,
           0,
           1,
           14,
           0,
           100
          ],
          [
           91,
           0,
           18,
           73,
           0,
           100
          ],
          [
           21,
           0,
           1,
           20,
           0,
           100
          ],
          [
           103,
           0,
           21,
           82,
           0,
           100
          ],
          [
           11,
           0,
           1,
           10,
           0,
           100
          ],
          [
           94,
           0,
           32,
           62,
           0,
           100
          ],
          [
           14,
           0,
           1,
           13,
           0,
           100
          ],
          [
           299,
           0,
           6,
           293,
           0,
           100
          ],
          [
           75,
           0,
           75,
           0,
           0,
           100
          ],
          [
           77,
           0,
           2,
           75,
           0,
           100
          ],
          [
           1,
           0,
           1,
           0,
           0,
           100
          ],
          [
           18,
           0,
           18,
           0,
           0,
           100
          ],
          [
           10,
           0,
           2,
           8,
           0,
           100
          ],
          [
           22,
           0,
           2,
           20,
           0,
           100
          ],
          [
           65,
           0,
           14,
           51,
           0,
           100
          ],
          [
           183,
           0,
           1,
           182,
           0,
           100
          ],
          [
           188,
           0,
           25,
           163,
           0,
           100
          ],
          [
           28,
           0,
           6,
           22,
           0,
           100
          ],
          [
           159,
           0,
           70,
           89,
           0,
           100
          ],
          [
           136,
           0,
           133,
           3,
           0,
           100
          ],
          [
           66,
           0,
           5,
           61,
           0,
           100
          ],
          [
           1254,
           1,
           1225,
           28,
           0.08156606851549755,
           99.9184339314845
          ],
          [
           937,
           1,
           934,
           2,
           0.10695187165775401,
           99.89304812834224
          ],
          [
           338,
           1,
           295,
           42,
           0.33783783783783783,
           99.66216216216216
          ],
          [
           1018,
           4,
           1014,
           0,
           0.3929273084479371,
           99.60707269155206
          ],
          [
           550,
           3,
           536,
           11,
           0.5565862708719851,
           99.44341372912801
          ],
          [
           1475,
           8,
           1349,
           118,
           0.5895357406042742,
           99.41046425939572
          ],
          [
           990,
           6,
           984,
           0,
           0.6060606060606061,
           99.39393939393939
          ],
          [
           254,
           2,
           250,
           2,
           0.7936507936507936,
           99.20634920634922
          ],
          [
           772,
           7,
           752,
           13,
           0.922266139657444,
           99.07773386034255
          ],
          [
           579,
           6,
           570,
           3,
           1.0416666666666665,
           98.95833333333334
          ],
          [
           98,
           1,
           92,
           5,
           1.0752688172043012,
           98.9247311827957
          ],
          [
           180,
           2,
           172,
           6,
           1.1494252873563218,
           98.85057471264368
          ],
          [
           253,
           3,
           242,
           8,
           1.2244897959183674,
           98.77551020408163
          ],
          [
           95,
           1,
           74,
           20,
           1.3333333333333335,
           98.66666666666667
          ],
          [
           146,
           2,
           144,
           0,
           1.36986301369863,
           98.63013698630137
          ],
          [
           844,
           3,
           212,
           629,
           1.3953488372093024,
           98.6046511627907
          ],
          [
           499,
           4,
           272,
           223,
           1.4492753623188406,
           98.55072463768117
          ],
          [
           1020,
           2,
           135,
           883,
           1.4598540145985401,
           98.54014598540147
          ],
          [
           492,
           5,
           334,
           153,
           1.4749262536873156,
           98.52507374631269
          ],
          [
           138,
           2,
           125,
           11,
           1.574803149606299,
           98.4251968503937
          ],
          [
           134,
           2,
           124,
           8,
           1.5873015873015872,
           98.4126984126984
          ],
          [
           712,
           10,
           603,
           99,
           1.631321370309951,
           98.36867862969005
          ],
          [
           1276,
           22,
           1251,
           3,
           1.728201099764336,
           98.27179890023567
          ],
          [
           514,
           1,
           56,
           457,
           1.7543859649122806,
           98.24561403508771
          ],
          [
           319,
           6,
           310,
           3,
           1.89873417721519,
           98.10126582278481
          ],
          [
           577,
           8,
           412,
           157,
           1.9047619047619049,
           98.09523809523809
          ],
          [
           634,
           1,
           48,
           585,
           2.0408163265306123,
           97.95918367346938
          ],
          [
           769,
           4,
           191,
           574,
           2.051282051282051,
           97.94871794871794
          ],
          [
           166,
           3,
           133,
           30,
           2.2058823529411766,
           97.79411764705883
          ],
          [
           484,
           13,
           469,
           2,
           2.6970954356846475,
           97.30290456431536
          ],
          [
           126,
           1,
           34,
           91,
           2.857142857142857,
           97.14285714285714
          ],
          [
           9583,
           152,
           5033,
           4398,
           2.931533269045323,
           97.06846673095467
          ],
          [
           168,
           6,
           168,
           -6,
           3.4482758620689653,
           96.55172413793103
          ],
          [
           641,
           4,
           112,
           525,
           3.4482758620689653,
           96.55172413793103
          ],
          [
           76,
           3,
           73,
           0,
           3.9473684210526314,
           96.05263157894737
          ],
          [
           284,
           1,
           20,
           263,
           4.761904761904762,
           95.23809523809523
          ],
          [
           67801,
           3182,
           62570,
           2049,
           4.839396520257939,
           95.16060347974205
          ],
          [
           119,
           2,
           39,
           78,
           4.878048780487805,
           95.1219512195122
          ],
          [
           570,
           3,
           58,
           509,
           4.918032786885246,
           95.08196721311475
          ],
          [
           109,
           1,
           18,
           90,
           5.263157894736842,
           94.73684210526315
          ],
          [
           62095,
           533,
           9211,
           52351,
           5.470032840722496,
           94.5299671592775
          ],
          [
           1280,
           2,
           31,
           1247,
           6.0606060606060606,
           93.93939393939394
          ],
          [
           298,
           2,
           30,
           266,
           6.25,
           93.75
          ],
          [
           311,
           2,
           28,
           281,
           6.666666666666667,
           93.33333333333333
          ],
          [
           1388,
           7,
           97,
           1284,
           6.730769230769231,
           93.26923076923077
          ],
          [
           2470,
           35,
           388,
           2047,
           8.274231678486997,
           91.725768321513
          ],
          [
           117,
           1,
           11,
           105,
           8.333333333333332,
           91.66666666666666
          ],
          [
           2139,
           7,
           75,
           2057,
           8.536585365853659,
           91.46341463414635
          ],
          [
           424,
           3,
           30,
           391,
           9.090909090909092,
           90.9090909090909
          ],
          [
           34,
           1,
           10,
           23,
           9.090909090909092,
           90.9090909090909
          ],
          [
           4247,
           15,
           132,
           4100,
           10.204081632653061,
           89.79591836734694
          ],
          [
           713,
           6,
           52,
           655,
           10.344827586206897,
           89.65517241379311
          ],
          [
           1299,
           8,
           66,
           1225,
           10.81081081081081,
           89.1891891891892
          ],
          [
           1534,
           8,
           64,
           1462,
           11.11111111111111,
           88.88888888888889
          ],
          [
           1866,
           54,
           424,
           1388,
           11.297071129707113,
           88.70292887029288
          ],
          [
           679,
           3,
           20,
           656,
           13.043478260869565,
           86.95652173913044
          ],
          [
           259,
           3,
           18,
           238,
           14.285714285714285,
           85.71428571428571
          ],
          [
           8788,
           86,
           479,
           8223,
           15.221238938053098,
           84.77876106194691
          ],
          [
           14829,
           300,
           1595,
           12934,
           15.8311345646438,
           84.1688654353562
          ],
          [
           1815,
           43,
           206,
           1566,
           17.269076305220885,
           82.73092369477911
          ],
          [
           38309,
           2640,
           12391,
           23278,
           17.56370168318808,
           82.43629831681191
          ],
          [
           106,
           4,
           17,
           85,
           19.047619047619047,
           80.95238095238095
          ],
          [
           165,
           1,
           4,
           160,
           20,
           80
          ],
          [
           656,
           2,
           8,
           646,
           20,
           80
          ],
          [
           745,
           19,
           72,
           654,
           20.87912087912088,
           79.12087912087912
          ],
          [
           209,
           4,
           15,
           190,
           21.052631578947366,
           78.94736842105263
          ],
          [
           1024,
           27,
           95,
           902,
           22.131147540983605,
           77.8688524590164
          ],
          [
           144,
           2,
           7,
           135,
           22.22222222222222,
           77.77777777777779
          ],
          [
           547,
           42,
           143,
           362,
           22.702702702702705,
           77.29729729729729
          ],
          [
           609,
           40,
           132,
           437,
           23.25581395348837,
           76.74418604651163
          ],
          [
           212,
           10,
           33,
           169,
           23.25581395348837,
           76.74418604651163
          ],
          [
           10836,
           431,
           1359,
           9046,
           24.078212290502794,
           75.9217877094972
          ],
          [
           48,
           5,
           15,
           28,
           25,
           75
          ],
          [
           111,
           1,
           3,
           107,
           25,
           75
          ],
          [
           214,
           5,
           15,
           194,
           25,
           75
          ],
          [
           438,
           10,
           30,
           398,
           25,
           75
          ],
          [
           40174,
           2606,
           7202,
           30366,
           26.57014681892333,
           73.42985318107668
          ],
          [
           408,
           13,
           34,
           361,
           27.659574468085108,
           72.3404255319149
          ],
          [
           80110,
           6803,
           14709,
           58598,
           31.624209743399035,
           68.37579025660096
          ],
          [
           1597,
           14,
           29,
           1554,
           32.55813953488372,
           67.44186046511628
          ],
          [
           8,
           1,
           2,
           5,
           33.33333333333333,
           66.66666666666666
          ],
          [
           32,
           1,
           2,
           29,
           33.33333333333333,
           66.66666666666666
          ],
          [
           222,
           12,
           23,
           187,
           34.285714285714285,
           65.71428571428571
          ],
          [
           1950,
           21,
           40,
           1889,
           34.42622950819672,
           65.57377049180327
          ],
          [
           346,
           8,
           14,
           324,
           36.36363636363637,
           63.63636363636363
          ],
          [
           314,
           2,
           3,
           309,
           40,
           60
          ],
          [
           1156,
           38,
           52,
           1066,
           42.22222222222222,
           57.77777777777777
          ],
          [
           323,
           6,
           8,
           309,
           42.857142857142854,
           57.14285714285714
          ],
          [
           139,
           3,
           4,
           132,
           42.857142857142854,
           57.14285714285714
          ],
          [
           97689,
           10779,
           13030,
           73880,
           45.272796001512035,
           54.72720399848797
          ],
          [
           140886,
           2467,
           2665,
           135754,
           48.0709275136399,
           51.9290724863601
          ],
          [
           511,
           31,
           31,
           449,
           50,
           50
          ],
          [
           25,
           1,
           1,
           23,
           50,
           50
          ],
          [
           42,
           1,
           1,
           40,
           50,
           50
          ],
          [
           702,
           10,
           10,
           682,
           50,
           50
          ],
          [
           263,
           2,
           2,
           259,
           50,
           50
          ],
          [
           110,
           3,
           3,
           104,
           50,
           50
          ],
          [
           46,
           1,
           1,
           44,
           50,
           50
          ],
          [
           94,
           1,
           1,
           92,
           50,
           50
          ],
          [
           730,
           11,
           10,
           709,
           52.38095238095239,
           47.61904761904761
          ],
          [
           1240,
           11,
           10,
           1219,
           52.38095238095239,
           47.61904761904761
          ],
          [
           852,
           18,
           16,
           818,
           52.94117647058824,
           47.05882352941176
          ],
          [
           139,
           6,
           5,
           128,
           54.54545454545454,
           45.45454545454545
          ],
          [
           9217,
           131,
           105,
           8981,
           55.50847457627118,
           44.49152542372881
          ],
          [
           2817,
           16,
           11,
           2790,
           59.25925925925925,
           40.74074074074074
          ],
          [
           475,
           10,
           6,
           459,
           62.5,
           37.5
          ],
          [
           1418,
           71,
           42,
           1305,
           62.83185840707964,
           37.16814159292036
          ],
          [
           1285,
           114,
           64,
           1107,
           64.04494382022472,
           35.95505617977528
          ],
          [
           479,
           26,
           13,
           440,
           66.66666666666666,
           33.33333333333333
          ],
          [
           1791,
           8,
           4,
           1779,
           66.66666666666666,
           33.33333333333333
          ],
          [
           120,
           4,
           2,
           114,
           66.66666666666666,
           33.33333333333333
          ],
          [
           259,
           6,
           3,
           250,
           66.66666666666666,
           33.33333333333333
          ],
          [
           152,
           5,
           2,
           145,
           71.42857142857143,
           28.57142857142857
          ],
          [
           5962,
           119,
           43,
           5800,
           73.4567901234568,
           26.543209876543212
          ],
          [
           65,
           6,
           2,
           57,
           75,
           25
          ],
          [
           59,
           3,
           1,
           55,
           75,
           25
          ],
          [
           78,
           3,
           1,
           74,
           75,
           25
          ],
          [
           10866,
           771,
           250,
           9845,
           75.51420176297748,
           24.48579823702253
          ],
          [
           1862,
           22,
           7,
           1833,
           75.86206896551724,
           24.137931034482758
          ],
          [
           4284,
           25,
           7,
           4252,
           78.125,
           21.875
          ],
          [
           224,
           22,
           6,
           196,
           78.57142857142857,
           21.428571428571427
          ],
          [
           312,
           8,
           2,
           302,
           80,
           20
          ],
          [
           848,
           16,
           4,
           828,
           80,
           20
          ],
          [
           901,
           17,
           4,
           880,
           80.95238095238095,
           19.047619047619047
          ],
          [
           334,
           6,
           1,
           327,
           85.71428571428571,
           14.285714285714285
          ],
          [
           3700,
           110,
           16,
           3574,
           87.3015873015873,
           12.698412698412698
          ],
          [
           460,
           7,
           1,
           452,
           87.5,
           12.5
          ],
          [
           19522,
           1228,
           135,
           18159,
           90.0953778429934,
           9.904622157006603
          ],
          [
           2615,
           46,
           5,
           2564,
           90.19607843137256,
           9.803921568627452
          ],
          [
           859,
           39,
           3,
           817,
           92.85714285714286,
           7.142857142857142
          ],
          [
           1924,
           58,
           3,
           1863,
           95.08196721311475,
           4.918032786885246
          ],
          [
           4256,
           136,
           6,
           4114,
           95.77464788732394,
           4.225352112676056
          ],
          [
           2395,
           72,
           1,
           2322,
           98.63013698630137,
           1.36986301369863
          ],
          [
           6,
           1,
           0,
           5,
           100,
           0
          ],
          [
           4,
           1,
           0,
           3,
           100,
           0
          ],
          [
           8,
           1,
           0,
           7,
           100,
           0
          ],
          [
           108,
           2,
           0,
           106,
           100,
           0
          ],
          [
           81,
           1,
           0,
           80,
           100,
           0
          ],
          [
           18,
           1,
           0,
           17,
           100,
           0
          ],
          [
           8,
           1,
           0,
           7,
           100,
           0
          ],
          [
           107,
           3,
           0,
           104,
           100,
           0
          ],
          [
           93,
           1,
           0,
           92,
           100,
           0
          ],
          [
           18,
           1,
           0,
           17,
           100,
           0
          ],
          [
           85,
           1,
           0,
           84,
           100,
           0
          ],
          [
           7,
           1,
           0,
           6,
           100,
           0
          ],
          [
           7,
           1,
           0,
           6,
           100,
           0
          ],
          [
           4,
           1,
           0,
           3,
           100,
           0
          ],
          [
           741,
           13,
           0,
           728,
           100,
           0
          ],
          [
           304,
           1,
           0,
           303,
           100,
           0
          ],
          [
           6,
           1,
           0,
           5,
           100,
           0
          ],
          [
           7,
           2,
           0,
           5,
           100,
           0
          ],
          [
           2,
           0,
           0,
           2,
           null,
           null
          ],
          [
           2,
           0,
           0,
           2,
           null,
           null
          ],
          [
           30,
           0,
           0,
           30,
           null,
           null
          ],
          [
           42,
           0,
           0,
           42,
           null,
           null
          ],
          [
           63,
           0,
           0,
           63,
           null,
           null
          ],
          [
           5,
           0,
           0,
           5,
           null,
           null
          ],
          [
           7,
           0,
           0,
           7,
           null,
           null
          ],
          [
           33,
           0,
           0,
           33,
           null,
           null
          ],
          [
           2,
           0,
           0,
           2,
           null,
           null
          ],
          [
           6,
           0,
           0,
           6,
           null,
           null
          ],
          [
           4,
           0,
           0,
           4,
           null,
           null
          ],
          [
           10,
           0,
           0,
           10,
           null,
           null
          ],
          [
           3,
           0,
           0,
           3,
           null,
           null
          ],
          [
           3,
           0,
           0,
           3,
           null,
           null
          ],
          [
           19,
           0,
           0,
           19,
           null,
           null
          ],
          [
           18,
           0,
           0,
           18,
           null,
           null
          ],
          [
           11,
           0,
           0,
           11,
           null,
           null
          ],
          [
           24,
           0,
           0,
           24,
           null,
           null
          ],
          [
           12,
           0,
           0,
           12,
           null,
           null
          ],
          [
           12,
           0,
           0,
           12,
           null,
           null
          ],
          [
           9,
           0,
           0,
           9,
           null,
           null
          ],
          [
           5,
           0,
           0,
           5,
           null,
           null
          ],
          [
           9,
           0,
           0,
           9,
           null,
           null
          ],
          [
           16,
           0,
           0,
           16,
           null,
           null
          ],
          [
           2,
           0,
           0,
           2,
           null,
           null
          ],
          [
           6,
           0,
           0,
           6,
           null,
           null
          ],
          [
           84,
           0,
           0,
           84,
           null,
           null
          ],
          [
           8,
           0,
           0,
           8,
           null,
           null
          ],
          [
           3,
           0,
           0,
           3,
           null,
           null
          ],
          [
           8,
           0,
           0,
           8,
           null,
           null
          ],
          [
           56,
           0,
           0,
           56,
           null,
           null
          ],
          [
           2,
           0,
           0,
           2,
           null,
           null
          ],
          [
           39,
           0,
           0,
           39,
           null,
           null
          ],
          [
           12,
           0,
           0,
           12,
           null,
           null
          ],
          [
           1,
           0,
           0,
           1,
           null,
           null
          ],
          [
           70,
           0,
           0,
           70,
           null,
           null
          ],
          [
           2,
           0,
           0,
           2,
           null,
           null
          ],
          [
           8,
           0,
           0,
           8,
           null,
           null
          ],
          [
           3,
           0,
           0,
           3,
           null,
           null
          ],
          [
           8,
           0,
           0,
           8,
           null,
           null
          ],
          [
           33,
           0,
           0,
           33,
           null,
           null
          ],
          [
           29,
           0,
           0,
           29,
           null,
           null
          ],
          [
           15,
           0,
           0,
           15,
           null,
           null
          ],
          [
           15,
           0,
           0,
           15,
           null,
           null
          ],
          [
           5,
           0,
           0,
           5,
           null,
           null
          ],
          [
           6,
           0,
           0,
           6,
           null,
           null
          ],
          [
           11,
           0,
           0,
           11,
           null,
           null
          ],
          [
           4,
           0,
           0,
           4,
           null,
           null
          ]
         ],
         "geo": "geo",
         "hoverlabel": {
          "namelength": 0
         },
         "hovertemplate": "<b>%{hovertext}</b><br><br>size=%{marker.color}<br>Confirmed=%{customdata[0]}<br>Deaths=%{customdata[1]}<br>Recovered=%{customdata[2]}<br>Infected=%{customdata[3]}<br>Death Rate=%{customdata[4]}<br>Recovery Rate=%{customdata[5]}<br>Lat=%{lat}<br>Long=%{lon}",
         "hovertext": [
          "Senegal",
          "Slovakia",
          "Saint Vincent and the Grenadines",
          "Saint Lucia",
          "Oman",
          "Nepal",
          "Jiangsu , China",
          "Namibia",
          "Mauritania",
          "Macau , China",
          "Malta",
          "Maldives",
          "Latvia",
          "Kuwait",
          "Aruba , Netherlands",
          "Haiti",
          "Georgia",
          "Ethiopia",
          "Cambodia",
          "Bahamas",
          "Belarus",
          "Tanzania",
          "South Australia , Australia",
          "Ningxia , China",
          "Australian Capital Territory , Australia",
          "Tibet , China",
          "Qinghai , China",
          "Greenland , Denmark",
          "Bermuda , United Kingdom",
          "Gibraltar , United Kingdom",
          "Reunion , France",
          "Vietnam",
          "French Guiana , France",
          "Faroe Islands , Denmark",
          "Shanxi , China",
          "Tasmania , Australia",
          "Zhejiang , China",
          "Jiangxi , China",
          "Fujian , China",
          "Hunan , China",
          "Sichuan , China",
          "Guangdong , China",
          "Anhui , China",
          "Guangxi , China",
          "Shandong , China",
          "Chongqing , China",
          "Jilin , China",
          "Yunnan , China",
          "Shaanxi , China",
          "Inner Mongolia , China",
          "Guizhou , China",
          "Singapore",
          "Bahrain",
          "Iceland",
          "Shanghai , China",
          "Gansu , China",
          "Liaoning , China",
          "Diamond Princess",
          "Henan , China",
          "New Zealand",
          "Hebei , China",
          "Beijing , China",
          "Qatar",
          "Victoria , Australia",
          "Tianjin , China",
          "Heilongjiang , China",
          "Brunei",
          "Korea, South",
          "Hainan , China",
          "Hong Kong , China",
          "Xinjiang , China",
          "Kazakhstan",
          "Hubei , China",
          "Venezuela",
          "United Arab Emirates",
          "West Bank and Gaza",
          "Germany",
          "South Africa",
          "Taiwan*",
          "Western Australia , Australia",
          "Thailand",
          "Malaysia",
          "Sri Lanka",
          "Chile",
          "Armenia",
          "Guatemala",
          "Israel",
          "Croatia",
          "Saudi Arabia",
          "Russia",
          "Japan",
          "Estonia",
          "Jordan",
          "Austria",
          "Switzerland",
          "Romania",
          "Iran",
          "Guadeloupe , France",
          "Cote d'Ivoire",
          "Queensland , Australia",
          "Argentina",
          "Azerbaijan",
          "India",
          "Uzbekistan",
          "Iraq",
          "Egypt",
          "Albania",
          "Belgium",
          "Bangladesh",
          "Nigeria",
          "Cyprus",
          "Lebanon",
          "France",
          "Hungary",
          "Spain",
          "Pakistan",
          "Curacao , Netherlands",
          "Jamaica",
          "Burkina Faso",
          "Luxembourg",
          "Bulgaria",
          "Costa Rica",
          "Greece",
          "Bosnia and Herzegovina",
          "Cuba",
          "Italy",
          "US",
          "Algeria",
          "Togo",
          "Kenya",
          "Colombia",
          "Moldova",
          "Honduras",
          "Monaco",
          "Kosovo",
          "Slovenia",
          "Finland",
          "Peru",
          "Cameroon",
          "Turkey",
          "Czechia",
          "Ukraine",
          "Philippines",
          "Indonesia",
          "Morocco",
          "New South Wales , Australia",
          "Afghanistan",
          "North Macedonia",
          "Ghana",
          "Portugal",
          "Congo (Kinshasa)",
          "Paraguay",
          "Trinidad and Tobago",
          "Netherlands",
          "Poland",
          "Norway",
          "San Marino",
          "Tunisia",
          "Mexico",
          "Panama",
          "Andorra",
          "Sweden",
          "Lithuania",
          "United Kingdom",
          "Ireland",
          "Dominican Republic",
          "Ecuador",
          "Brazil",
          "Denmark",
          "Cabo Verde",
          "Nicaragua",
          "Cayman Islands , United Kingdom",
          "Channel Islands , United Kingdom",
          "Bolivia",
          "Niger",
          "Guyana",
          "Mauritius",
          "Martinique , France",
          "Mali",
          "Montenegro",
          "Zimbabwe",
          "Gabon",
          "Gambia",
          "Serbia",
          "Uruguay",
          "Sudan",
          "Angola",
          "Anguilla , United Kingdom",
          "British Virgin Islands , United Kingdom",
          "French Polynesia , France",
          "Isle of Man , United Kingdom",
          "Mayotte , France",
          "Montserrat , United Kingdom",
          "Antigua and Barbuda",
          "Barbados",
          "Belize",
          "Benin",
          "Bhutan",
          "Burma",
          "Central African Republic",
          "Chad",
          "Congo (Brazzaville)",
          "Djibouti",
          "Dominica",
          "El Salvador",
          "Equatorial Guinea",
          "Eritrea",
          "Eswatini",
          "Fiji",
          "Grenada",
          "Guinea",
          "Guinea-Bissau",
          "Holy See",
          "Kyrgyzstan",
          "Laos",
          "Liberia",
          "Libya",
          "Liechtenstein",
          "MS Zaandam",
          "Madagascar",
          "Mongolia",
          "Papua New Guinea",
          "Rwanda",
          "Saint Kitts and Nevis",
          "Seychelles",
          "Somalia",
          "Suriname",
          "Uganda",
          "Zambia",
          "New Caledonia , France",
          "Northern Territory , Australia",
          "Saint Barthelemy , France",
          "Sint Maarten , Netherlands",
          "St Martin , France",
          "Turks and Caicos Islands , United Kingdom"
         ],
         "lat": [
          14.4974,
          48.669,
          12.9843,
          13.9094,
          21,
          28.1667,
          32.9711,
          -22.9576,
          21.0079,
          22.1667,
          35.9375,
          3.2028,
          56.8796,
          29.5,
          12.5186,
          18.9712,
          42.3154,
          9.145,
          11.55,
          25.0343,
          53.7098,
          -6.369,
          -34.9285,
          37.2692,
          -35.4735,
          31.6927,
          35.7452,
          71.7069,
          32.3078,
          36.1408,
          -21.1351,
          16,
          3.9339,
          61.8926,
          37.5777,
          -41.4545,
          29.1832,
          27.614,
          26.0789,
          27.6104,
          30.6171,
          23.3417,
          31.8257,
          23.8298,
          36.3427,
          30.0572,
          43.6661,
          24.974,
          35.1917,
          44.0935,
          26.8154,
          1.2833,
          26.0275,
          64.9631,
          31.201999999999998,
          37.8099,
          41.2956,
          0,
          33.882,
          -40.9006,
          39.549,
          40.1824,
          25.3548,
          -37.8136,
          39.3054,
          47.861999999999995,
          4.5353,
          36,
          19.1959,
          22.3,
          41.1129,
          48.0196,
          30.9756,
          6.4238,
          24,
          31.9522,
          51,
          -30.5595,
          23.7,
          -31.9505,
          15,
          2.5,
          7,
          -35.6751,
          40.0691,
          15.7835,
          31,
          45.1,
          24,
          60,
          36,
          58.5953,
          31.24,
          47.5162,
          46.8182,
          45.9432,
          32,
          16.25,
          7.54,
          -28.0167,
          -38.4161,
          40.1431,
          21,
          41.3775,
          33,
          26,
          41.1533,
          50.8333,
          23.685,
          9.082,
          35.1264,
          33.8547,
          46.2276,
          47.1625,
          40,
          30.3753,
          12.1696,
          18.1096,
          12.2383,
          49.8153,
          42.7339,
          9.7489,
          39.0742,
          43.9159,
          22,
          43,
          37.0902,
          28.0339,
          8.6195,
          -0.0236,
          4.5709,
          47.4116,
          15.2,
          43.7333,
          42.602636,
          46.1512,
          64,
          -9.19,
          3.8480000000000003,
          38.9637,
          49.8175,
          48.3794,
          13,
          -0.7893,
          31.7917,
          -33.8688,
          33,
          41.6086,
          7.9465,
          39.3999,
          -4.0383,
          -23.4425,
          10.6918,
          52.1326,
          51.9194,
          60.472,
          43.9424,
          34,
          23.6345,
          8.538,
          42.5063,
          63,
          55.1694,
          55.3781,
          53.1424,
          18.7357,
          -1.8312,
          -14.235,
          56.2639,
          16.5388,
          12.8654,
          19.3133,
          49.3723,
          -16.2902,
          17.6078,
          5,
          -20.2,
          14.6415,
          17.570692,
          42.5,
          -20,
          -0.8037,
          13.4432,
          44.0165,
          -32.5228,
          12.8628,
          -11.2027,
          18.2206,
          18.4207,
          -17.6797,
          54.2361,
          -12.8275,
          16.7425,
          17.0608,
          13.1939,
          13.1939,
          9.3077,
          27.5142,
          21.9162,
          6.6111,
          15.4542,
          -4.0383,
          11.8251,
          15.415,
          13.7942,
          1.5,
          15.1794,
          -26.5225,
          -17.7134,
          12.1165,
          9.9456,
          11.8037,
          41.9029,
          41.2044,
          19.856270000000002,
          6.4281,
          26.3351,
          47.14,
          0,
          -18.7669,
          46.8625,
          -6.315,
          -1.9403,
          17.357822,
          -4.6796,
          5.1521,
          3.9193,
          1,
          -15.4167,
          -20.9043,
          -12.4634,
          17.9,
          18.0425,
          18.0708,
          21.69400000000001
         ],
         "legendgroup": "",
         "lon": [
          -14.4524,
          19.699,
          -61.2872,
          -60.9789,
          57,
          84.25,
          119.455,
          18.4904,
          10.9408,
          113.55,
          14.3754,
          73.2207,
          24.6032,
          47.75,
          -70.0358,
          -72.2852,
          43.3569,
          40.4897,
          104.9167,
          -77.3963,
          27.9534,
          34.8888,
          138.6007,
          106.1655,
          149.0124,
          88.0924,
          95.9956,
          -42.6043,
          -64.7505,
          -5.3536,
          55.2471,
          108,
          -53.1258,
          -6.9118,
          112.2922,
          145.9707,
          120.0934,
          115.7221,
          117.9874,
          111.7088,
          102.7103,
          113.4244,
          117.2264,
          108.7881,
          118.1498,
          107.874,
          126.1923,
          101.48700000000001,
          108.8701,
          113.9448,
          106.8748,
          103.8333,
          50.55,
          -19.0208,
          121.4491,
          101.0583,
          122.6085,
          0,
          113.61399999999999,
          174.886,
          116.1306,
          116.4142,
          51.1839,
          144.9631,
          117.323,
          127.7615,
          114.7277,
          128,
          109.7453,
          114.2,
          85.2401,
          66.9237,
          112.2707,
          -66.5897,
          54,
          35.2332,
          9,
          22.9375,
          121,
          115.8605,
          101,
          112.5,
          81,
          -71.543,
          45.0382,
          -90.2308,
          35,
          15.2,
          45,
          90,
          138,
          25.0136,
          36.51,
          14.5501,
          8.2275,
          24.9668,
          53,
          -61.5833,
          -5.5471,
          153.4,
          -63.6167,
          47.5769,
          78,
          64.5853,
          44,
          30,
          20.1683,
          4,
          90.3563,
          8.6753,
          33.4299,
          35.8623,
          2.2137,
          19.5033,
          -4,
          69.3451,
          -68.99,
          -77.2975,
          -1.5616,
          6.1296,
          25.4858,
          -83.7534,
          21.8243,
          17.6791,
          -80,
          12,
          -95.7129,
          1.6596,
          0.8248,
          37.9062,
          -74.2973,
          28.3699,
          -86.2419,
          7.4167,
          20.902977,
          14.9955,
          26,
          -75.0152,
          11.5021,
          35.2433,
          15.472999999999999,
          31.1656,
          122,
          113.9213,
          -7.0926,
          151.2093,
          65,
          21.7453,
          -1.0232,
          -8.2245,
          21.7587,
          -58.4438,
          -61.2225,
          5.2913,
          19.1451,
          8.4689,
          12.4578,
          9,
          -102.5528,
          -80.7821,
          1.5218,
          16,
          23.8813,
          -3.4360000000000004,
          -7.6921,
          -70.1627,
          -78.1834,
          -51.9253,
          9.5018,
          -23.0418,
          -85.2072,
          -81.2546,
          -2.3644,
          -63.5887,
          8.0817,
          -58.75,
          57.5,
          -61.0242,
          -3.996166000000001,
          19.3,
          30,
          11.6094,
          -15.3101,
          21.0059,
          -55.7658,
          30.2176,
          17.8739,
          -63.0686,
          -64.64,
          149.4068,
          -4.5481,
          45.1662,
          -62.1874,
          -61.7964,
          -59.5432,
          -59.5432,
          2.3158,
          90.4336,
          95.956,
          20.9394,
          18.7322,
          21.7587,
          42.5903,
          -61.371,
          -88.8965,
          10,
          39.7823,
          31.4659,
          178.065,
          -61.678999999999995,
          -9.6966,
          -15.1804,
          12.4534,
          74.7661,
          102.495496,
          -9.4295,
          17.228331,
          9.55,
          0,
          46.8691,
          103.8467,
          143.9555,
          29.8739,
          -62.782998,
          55.492,
          46.1996,
          -56.0278,
          32,
          28.2833,
          165.618,
          130.8456,
          -62.8333,
          -63.0548,
          -63.0501,
          -71.7979
         ],
         "marker": {
          "color": [
           11.916375287812984,
           17.72004514666935,
           1,
           3,
           12.922847983320086,
           2.23606797749979,
           25.37715508089904,
           3.3166247903554,
           2.23606797749979,
           6.082762530298219,
           12.288205727444508,
           4.123105625617661,
           18.627936010197157,
           15.968719422671311,
           7.0710678118654755,
           3.872983346207417,
           9.539392014169456,
           4.58257569495584,
           10.14889156509222,
           3.3166247903554,
           9.695359714832659,
           3.7416573867739413,
           17.291616465790582,
           8.660254037844387,
           8.774964387392123,
           1,
           4.242640687119285,
           3.1622776601683795,
           4.69041575982343,
           8.06225774829855,
           13.527749258468683,
           13.711309200802088,
           5.291502622129181,
           12.609520212918492,
           11.661903789690601,
           8.12403840463596,
           35.41186241925155,
           30.610455730027933,
           18.384776310850235,
           31.906112267087632,
           23.452078799117146,
           38.40572873934304,
           31.464265445104548,
           15.937377450509228,
           27.784887978899608,
           24.06241883103193,
           9.899494936611665,
           13.416407864998739,
           15.905973720586866,
           9.746794344808963,
           12.083045973594572,
           29.0516780926679,
           22.338307903688676,
           31.937438845342623,
           22.181073012818835,
           11.74734012447073,
           11.575836902790225,
           26.68332812825267,
           35.7211421989835,
           22.67156809750927,
           17.86057109949175,
           24.020824298928627,
           25.179356624028344,
           27.730849247724095,
           12.884098726725126,
           22,
           11.224972160321824,
           97.89279850938985,
           12.96148139681572,
           25.317977802344327,
           8.717797887081348,
           16.852299546352718,
           260.3862515571819,
           10.908712114635714,
           23.874672772626646,
           10.44030650891055,
           249.18868353117483,
           35.77708763999664,
           17.26267650163207,
           17.635192088548397,
           37.255872020394314,
           49.69909455915671,
           10.816653826391969,
           46.24932431938871,
           20.591260281974,
           5.830951894845301,
           65.16901104052447,
           26.70205984563738,
           36.0416425818802,
           39.16631205513228,
           43.197222132910355,
           26.057628441590765,
           16.09347693943108,
           93.74433316206373,
           121.77438154226036,
           42.60281680828159,
           195.7268504830137,
           10.295630140987,
           12.84523257866513,
           25.612496949731394,
           27.294688127912362,
           14.45683229480096,
           32,
           12,
           23.388031127053,
           24.677925358506133,
           14.560219778561036,
           104.09610943738484,
           6.928203230275509,
           10.535653752852738,
           14.628738838327793,
           20.92844953645635,
           200.4345279636221,
           20.199009876724155,
           283.037100041673,
           39.96248240537617,
           2.8284271247461903,
           5.656854249492381,
           14.89966442575134,
           44.15880433163923,
           18.601075237738275,
           17.72004514666935,
           34,
           17.97220075561143,
           11.789826122551595,
           312.5523956075205,
           375.3478386776724,
           22.60530911091463,
           5,
           6.48074069840786,
           26.49528259898354,
           16.217274740226856,
           10.488088481701515,
           6.782329983125268,
           9.695359714832659,
           27.018512172212592,
           35.21363372331802,
           29.189039038652847,
           11.789826122551595,
           96.00520819205592,
           53.075418038862395,
           21.79449471770337,
           37.656340767525464,
           35.84689665786984,
           21.88606862823929,
           42.320207938997655,
           10.954451150103322,
           16.09347693943108,
           12.328828005937952,
           77.21398836998384,
           8.06225774829855,
           7.681145747868608,
           8.831760866327848,
           104.2401074443038,
           43.15089802078283,
           65.45227268781429,
           14.966629547095765,
           17.663521732655695,
           29.120439557122072,
           30.01666203960727,
           18.275666882497067,
           60.8276253029822,
           21.447610589527216,
           139.7211508684351,
           51.137070702182385,
           29.30870177950569,
           43.86342439892262,
           65.23802572120036,
           48.938737212968626,
           2.449489742783178,
           2,
           2.8284271247461903,
           10.392304845413264,
           9,
           4.242640687119285,
           2.8284271247461903,
           10.344080432788601,
           9.643650760992955,
           4.242640687119285,
           9.219544457292887,
           2.6457513110645907,
           2.6457513110645907,
           2,
           27.2213151776324,
           17.435595774162696,
           2.449489742783178,
           2.6457513110645907,
           1.4142135623730951,
           1.4142135623730951,
           5.477225575051661,
           6.48074069840786,
           7.937253933193772,
           2.23606797749979,
           2.6457513110645907,
           5.744562646538029,
           1.4142135623730951,
           2.449489742783178,
           2,
           3.1622776601683795,
           1.7320508075688772,
           1.7320508075688772,
           4.358898943540674,
           4.242640687119285,
           3.3166247903554,
           4.898979485566356,
           3.4641016151377544,
           3.4641016151377544,
           3,
           2.23606797749979,
           3,
           4,
           1.4142135623730951,
           2.449489742783178,
           9.16515138991168,
           2.8284271247461903,
           1.7320508075688772,
           2.8284271247461903,
           7.483314773547883,
           1.4142135623730951,
           6.244997998398398,
           3.4641016151377544,
           1,
           8.366600265340756,
           1.4142135623730951,
           2.8284271247461903,
           1.7320508075688772,
           2.8284271247461903,
           5.744562646538029,
           5.385164807134504,
           3.872983346207417,
           3.872983346207417,
           2.23606797749979,
           2.449489742783178,
           3.3166247903554,
           2
          ],
          "coloraxis": "coloraxis",
          "size": [
           11.916375287812984,
           17.72004514666935,
           1,
           3,
           12.922847983320086,
           2.23606797749979,
           25.37715508089904,
           3.3166247903554,
           2.23606797749979,
           6.082762530298219,
           12.288205727444508,
           4.123105625617661,
           18.627936010197157,
           15.968719422671311,
           7.0710678118654755,
           3.872983346207417,
           9.539392014169456,
           4.58257569495584,
           10.14889156509222,
           3.3166247903554,
           9.695359714832659,
           3.7416573867739413,
           17.291616465790582,
           8.660254037844387,
           8.774964387392123,
           1,
           4.242640687119285,
           3.1622776601683795,
           4.69041575982343,
           8.06225774829855,
           13.527749258468683,
           13.711309200802088,
           5.291502622129181,
           12.609520212918492,
           11.661903789690601,
           8.12403840463596,
           35.41186241925155,
           30.610455730027933,
           18.384776310850235,
           31.906112267087632,
           23.452078799117146,
           38.40572873934304,
           31.464265445104548,
           15.937377450509228,
           27.784887978899608,
           24.06241883103193,
           9.899494936611665,
           13.416407864998739,
           15.905973720586866,
           9.746794344808963,
           12.083045973594572,
           29.0516780926679,
           22.338307903688676,
           31.937438845342623,
           22.181073012818835,
           11.74734012447073,
           11.575836902790225,
           26.68332812825267,
           35.7211421989835,
           22.67156809750927,
           17.86057109949175,
           24.020824298928627,
           25.179356624028344,
           27.730849247724095,
           12.884098726725126,
           22,
           11.224972160321824,
           97.89279850938985,
           12.96148139681572,
           25.317977802344327,
           8.717797887081348,
           16.852299546352718,
           260.3862515571819,
           10.908712114635714,
           23.874672772626646,
           10.44030650891055,
           249.18868353117483,
           35.77708763999664,
           17.26267650163207,
           17.635192088548397,
           37.255872020394314,
           49.69909455915671,
           10.816653826391969,
           46.24932431938871,
           20.591260281974,
           5.830951894845301,
           65.16901104052447,
           26.70205984563738,
           36.0416425818802,
           39.16631205513228,
           43.197222132910355,
           26.057628441590765,
           16.09347693943108,
           93.74433316206373,
           121.77438154226036,
           42.60281680828159,
           195.7268504830137,
           10.295630140987,
           12.84523257866513,
           25.612496949731394,
           27.294688127912362,
           14.45683229480096,
           32,
           12,
           23.388031127053,
           24.677925358506133,
           14.560219778561036,
           104.09610943738484,
           6.928203230275509,
           10.535653752852738,
           14.628738838327793,
           20.92844953645635,
           200.4345279636221,
           20.199009876724155,
           283.037100041673,
           39.96248240537617,
           2.8284271247461903,
           5.656854249492381,
           14.89966442575134,
           44.15880433163923,
           18.601075237738275,
           17.72004514666935,
           34,
           17.97220075561143,
           11.789826122551595,
           312.5523956075205,
           375.3478386776724,
           22.60530911091463,
           5,
           6.48074069840786,
           26.49528259898354,
           16.217274740226856,
           10.488088481701515,
           6.782329983125268,
           9.695359714832659,
           27.018512172212592,
           35.21363372331802,
           29.189039038652847,
           11.789826122551595,
           96.00520819205592,
           53.075418038862395,
           21.79449471770337,
           37.656340767525464,
           35.84689665786984,
           21.88606862823929,
           42.320207938997655,
           10.954451150103322,
           16.09347693943108,
           12.328828005937952,
           77.21398836998384,
           8.06225774829855,
           7.681145747868608,
           8.831760866327848,
           104.2401074443038,
           43.15089802078283,
           65.45227268781429,
           14.966629547095765,
           17.663521732655695,
           29.120439557122072,
           30.01666203960727,
           18.275666882497067,
           60.8276253029822,
           21.447610589527216,
           139.7211508684351,
           51.137070702182385,
           29.30870177950569,
           43.86342439892262,
           65.23802572120036,
           48.938737212968626,
           2.449489742783178,
           2,
           2.8284271247461903,
           10.392304845413264,
           9,
           4.242640687119285,
           2.8284271247461903,
           10.344080432788601,
           9.643650760992955,
           4.242640687119285,
           9.219544457292887,
           2.6457513110645907,
           2.6457513110645907,
           2,
           27.2213151776324,
           17.435595774162696,
           2.449489742783178,
           2.6457513110645907,
           1.4142135623730951,
           1.4142135623730951,
           5.477225575051661,
           6.48074069840786,
           7.937253933193772,
           2.23606797749979,
           2.6457513110645907,
           5.744562646538029,
           1.4142135623730951,
           2.449489742783178,
           2,
           3.1622776601683795,
           1.7320508075688772,
           1.7320508075688772,
           4.358898943540674,
           4.242640687119285,
           3.3166247903554,
           4.898979485566356,
           3.4641016151377544,
           3.4641016151377544,
           3,
           2.23606797749979,
           3,
           4,
           1.4142135623730951,
           2.449489742783178,
           9.16515138991168,
           2.8284271247461903,
           1.7320508075688772,
           2.8284271247461903,
           7.483314773547883,
           1.4142135623730951,
           6.244997998398398,
           3.4641016151377544,
           1,
           8.366600265340756,
           1.4142135623730951,
           2.8284271247461903,
           1.7320508075688772,
           2.8284271247461903,
           5.744562646538029,
           5.385164807134504,
           3.872983346207417,
           3.872983346207417,
           2.23606797749979,
           2.449489742783178,
           3.3166247903554,
           2
          ],
          "sizemode": "area",
          "sizeref": 0.9383695966941811
         },
         "name": "",
         "showlegend": false,
         "type": "scattergeo"
        }
       ],
       "layout": {
        "coloraxis": {
         "colorbar": {
          "title": {
           "text": "size"
          }
         },
         "colorscale": [
          [
           0,
           "#0d0887"
          ],
          [
           0.1111111111111111,
           "#46039f"
          ],
          [
           0.2222222222222222,
           "#7201a8"
          ],
          [
           0.3333333333333333,
           "#9c179e"
          ],
          [
           0.4444444444444444,
           "#bd3786"
          ],
          [
           0.5555555555555556,
           "#d8576b"
          ],
          [
           0.6666666666666666,
           "#ed7953"
          ],
          [
           0.7777777777777778,
           "#fb9f3a"
          ],
          [
           0.8888888888888888,
           "#fdca26"
          ],
          [
           1,
           "#f0f921"
          ]
         ],
         "showscale": false
        },
        "geo": {
         "center": {},
         "domain": {
          "x": [
           0,
           1
          ],
          "y": [
           0,
           1
          ]
         },
         "projection": {
          "type": "hammer"
         }
        },
        "legend": {
         "itemsizing": "constant",
         "tracegroupgap": 0
        },
        "template": {
         "data": {
          "bar": [
           {
            "error_x": {
             "color": "#2a3f5f"
            },
            "error_y": {
             "color": "#2a3f5f"
            },
            "marker": {
             "line": {
              "color": "#E5ECF6",
              "width": 0.5
             }
            },
            "type": "bar"
           }
          ],
          "barpolar": [
           {
            "marker": {
             "line": {
              "color": "#E5ECF6",
              "width": 0.5
             }
            },
            "type": "barpolar"
           }
          ],
          "carpet": [
           {
            "aaxis": {
             "endlinecolor": "#2a3f5f",
             "gridcolor": "white",
             "linecolor": "white",
             "minorgridcolor": "white",
             "startlinecolor": "#2a3f5f"
            },
            "baxis": {
             "endlinecolor": "#2a3f5f",
             "gridcolor": "white",
             "linecolor": "white",
             "minorgridcolor": "white",
             "startlinecolor": "#2a3f5f"
            },
            "type": "carpet"
           }
          ],
          "choropleth": [
           {
            "colorbar": {
             "outlinewidth": 0,
             "ticks": ""
            },
            "type": "choropleth"
           }
          ],
          "contour": [
           {
            "colorbar": {
             "outlinewidth": 0,
             "ticks": ""
            },
            "colorscale": [
             [
              0,
              "#0d0887"
             ],
             [
              0.1111111111111111,
              "#46039f"
             ],
             [
              0.2222222222222222,
              "#7201a8"
             ],
             [
              0.3333333333333333,
              "#9c179e"
             ],
             [
              0.4444444444444444,
              "#bd3786"
             ],
             [
              0.5555555555555556,
              "#d8576b"
             ],
             [
              0.6666666666666666,
              "#ed7953"
             ],
             [
              0.7777777777777778,
              "#fb9f3a"
             ],
             [
              0.8888888888888888,
              "#fdca26"
             ],
             [
              1,
              "#f0f921"
             ]
            ],
            "type": "contour"
           }
          ],
          "contourcarpet": [
           {
            "colorbar": {
             "outlinewidth": 0,
             "ticks": ""
            },
            "type": "contourcarpet"
           }
          ],
          "heatmap": [
           {
            "colorbar": {
             "outlinewidth": 0,
             "ticks": ""
            },
            "colorscale": [
             [
              0,
              "#0d0887"
             ],
             [
              0.1111111111111111,
              "#46039f"
             ],
             [
              0.2222222222222222,
              "#7201a8"
             ],
             [
              0.3333333333333333,
              "#9c179e"
             ],
             [
              0.4444444444444444,
              "#bd3786"
             ],
             [
              0.5555555555555556,
              "#d8576b"
             ],
             [
              0.6666666666666666,
              "#ed7953"
             ],
             [
              0.7777777777777778,
              "#fb9f3a"
             ],
             [
              0.8888888888888888,
              "#fdca26"
             ],
             [
              1,
              "#f0f921"
             ]
            ],
            "type": "heatmap"
           }
          ],
          "heatmapgl": [
           {
            "colorbar": {
             "outlinewidth": 0,
             "ticks": ""
            },
            "colorscale": [
             [
              0,
              "#0d0887"
             ],
             [
              0.1111111111111111,
              "#46039f"
             ],
             [
              0.2222222222222222,
              "#7201a8"
             ],
             [
              0.3333333333333333,
              "#9c179e"
             ],
             [
              0.4444444444444444,
              "#bd3786"
             ],
             [
              0.5555555555555556,
              "#d8576b"
             ],
             [
              0.6666666666666666,
              "#ed7953"
             ],
             [
              0.7777777777777778,
              "#fb9f3a"
             ],
             [
              0.8888888888888888,
              "#fdca26"
             ],
             [
              1,
              "#f0f921"
             ]
            ],
            "type": "heatmapgl"
           }
          ],
          "histogram": [
           {
            "marker": {
             "colorbar": {
              "outlinewidth": 0,
              "ticks": ""
             }
            },
            "type": "histogram"
           }
          ],
          "histogram2d": [
           {
            "colorbar": {
             "outlinewidth": 0,
             "ticks": ""
            },
            "colorscale": [
             [
              0,
              "#0d0887"
             ],
             [
              0.1111111111111111,
              "#46039f"
             ],
             [
              0.2222222222222222,
              "#7201a8"
             ],
             [
              0.3333333333333333,
              "#9c179e"
             ],
             [
              0.4444444444444444,
              "#bd3786"
             ],
             [
              0.5555555555555556,
              "#d8576b"
             ],
             [
              0.6666666666666666,
              "#ed7953"
             ],
             [
              0.7777777777777778,
              "#fb9f3a"
             ],
             [
              0.8888888888888888,
              "#fdca26"
             ],
             [
              1,
              "#f0f921"
             ]
            ],
            "type": "histogram2d"
           }
          ],
          "histogram2dcontour": [
           {
            "colorbar": {
             "outlinewidth": 0,
             "ticks": ""
            },
            "colorscale": [
             [
              0,
              "#0d0887"
             ],
             [
              0.1111111111111111,
              "#46039f"
             ],
             [
              0.2222222222222222,
              "#7201a8"
             ],
             [
              0.3333333333333333,
              "#9c179e"
             ],
             [
              0.4444444444444444,
              "#bd3786"
             ],
             [
              0.5555555555555556,
              "#d8576b"
             ],
             [
              0.6666666666666666,
              "#ed7953"
             ],
             [
              0.7777777777777778,
              "#fb9f3a"
             ],
             [
              0.8888888888888888,
              "#fdca26"
             ],
             [
              1,
              "#f0f921"
             ]
            ],
            "type": "histogram2dcontour"
           }
          ],
          "mesh3d": [
           {
            "colorbar": {
             "outlinewidth": 0,
             "ticks": ""
            },
            "type": "mesh3d"
           }
          ],
          "parcoords": [
           {
            "line": {
             "colorbar": {
              "outlinewidth": 0,
              "ticks": ""
             }
            },
            "type": "parcoords"
           }
          ],
          "pie": [
           {
            "automargin": true,
            "type": "pie"
           }
          ],
          "scatter": [
           {
            "marker": {
             "colorbar": {
              "outlinewidth": 0,
              "ticks": ""
             }
            },
            "type": "scatter"
           }
          ],
          "scatter3d": [
           {
            "line": {
             "colorbar": {
              "outlinewidth": 0,
              "ticks": ""
             }
            },
            "marker": {
             "colorbar": {
              "outlinewidth": 0,
              "ticks": ""
             }
            },
            "type": "scatter3d"
           }
          ],
          "scattercarpet": [
           {
            "marker": {
             "colorbar": {
              "outlinewidth": 0,
              "ticks": ""
             }
            },
            "type": "scattercarpet"
           }
          ],
          "scattergeo": [
           {
            "marker": {
             "colorbar": {
              "outlinewidth": 0,
              "ticks": ""
             }
            },
            "type": "scattergeo"
           }
          ],
          "scattergl": [
           {
            "marker": {
             "colorbar": {
              "outlinewidth": 0,
              "ticks": ""
             }
            },
            "type": "scattergl"
           }
          ],
          "scattermapbox": [
           {
            "marker": {
             "colorbar": {
              "outlinewidth": 0,
              "ticks": ""
             }
            },
            "type": "scattermapbox"
           }
          ],
          "scatterpolar": [
           {
            "marker": {
             "colorbar": {
              "outlinewidth": 0,
              "ticks": ""
             }
            },
            "type": "scatterpolar"
           }
          ],
          "scatterpolargl": [
           {
            "marker": {
             "colorbar": {
              "outlinewidth": 0,
              "ticks": ""
             }
            },
            "type": "scatterpolargl"
           }
          ],
          "scatterternary": [
           {
            "marker": {
             "colorbar": {
              "outlinewidth": 0,
              "ticks": ""
             }
            },
            "type": "scatterternary"
           }
          ],
          "surface": [
           {
            "colorbar": {
             "outlinewidth": 0,
             "ticks": ""
            },
            "colorscale": [
             [
              0,
              "#0d0887"
             ],
             [
              0.1111111111111111,
              "#46039f"
             ],
             [
              0.2222222222222222,
              "#7201a8"
             ],
             [
              0.3333333333333333,
              "#9c179e"
             ],
             [
              0.4444444444444444,
              "#bd3786"
             ],
             [
              0.5555555555555556,
              "#d8576b"
             ],
             [
              0.6666666666666666,
              "#ed7953"
             ],
             [
              0.7777777777777778,
              "#fb9f3a"
             ],
             [
              0.8888888888888888,
              "#fdca26"
             ],
             [
              1,
              "#f0f921"
             ]
            ],
            "type": "surface"
           }
          ],
          "table": [
           {
            "cells": {
             "fill": {
              "color": "#EBF0F8"
             },
             "line": {
              "color": "white"
             }
            },
            "header": {
             "fill": {
              "color": "#C8D4E3"
             },
             "line": {
              "color": "white"
             }
            },
            "type": "table"
           }
          ]
         },
         "layout": {
          "annotationdefaults": {
           "arrowcolor": "#2a3f5f",
           "arrowhead": 0,
           "arrowwidth": 1
          },
          "coloraxis": {
           "colorbar": {
            "outlinewidth": 0,
            "ticks": ""
           }
          },
          "colorscale": {
           "diverging": [
            [
             0,
             "#8e0152"
            ],
            [
             0.1,
             "#c51b7d"
            ],
            [
             0.2,
             "#de77ae"
            ],
            [
             0.3,
             "#f1b6da"
            ],
            [
             0.4,
             "#fde0ef"
            ],
            [
             0.5,
             "#f7f7f7"
            ],
            [
             0.6,
             "#e6f5d0"
            ],
            [
             0.7,
             "#b8e186"
            ],
            [
             0.8,
             "#7fbc41"
            ],
            [
             0.9,
             "#4d9221"
            ],
            [
             1,
             "#276419"
            ]
           ],
           "sequential": [
            [
             0,
             "#0d0887"
            ],
            [
             0.1111111111111111,
             "#46039f"
            ],
            [
             0.2222222222222222,
             "#7201a8"
            ],
            [
             0.3333333333333333,
             "#9c179e"
            ],
            [
             0.4444444444444444,
             "#bd3786"
            ],
            [
             0.5555555555555556,
             "#d8576b"
            ],
            [
             0.6666666666666666,
             "#ed7953"
            ],
            [
             0.7777777777777778,
             "#fb9f3a"
            ],
            [
             0.8888888888888888,
             "#fdca26"
            ],
            [
             1,
             "#f0f921"
            ]
           ],
           "sequentialminus": [
            [
             0,
             "#0d0887"
            ],
            [
             0.1111111111111111,
             "#46039f"
            ],
            [
             0.2222222222222222,
             "#7201a8"
            ],
            [
             0.3333333333333333,
             "#9c179e"
            ],
            [
             0.4444444444444444,
             "#bd3786"
            ],
            [
             0.5555555555555556,
             "#d8576b"
            ],
            [
             0.6666666666666666,
             "#ed7953"
            ],
            [
             0.7777777777777778,
             "#fb9f3a"
            ],
            [
             0.8888888888888888,
             "#fdca26"
            ],
            [
             1,
             "#f0f921"
            ]
           ]
          },
          "colorway": [
           "#636efa",
           "#EF553B",
           "#00cc96",
           "#ab63fa",
           "#FFA15A",
           "#19d3f3",
           "#FF6692",
           "#B6E880",
           "#FF97FF",
           "#FECB52"
          ],
          "font": {
           "color": "#2a3f5f"
          },
          "geo": {
           "bgcolor": "white",
           "lakecolor": "white",
           "landcolor": "#E5ECF6",
           "showlakes": true,
           "showland": true,
           "subunitcolor": "white"
          },
          "hoverlabel": {
           "align": "left"
          },
          "hovermode": "closest",
          "mapbox": {
           "style": "light"
          },
          "paper_bgcolor": "white",
          "plot_bgcolor": "#E5ECF6",
          "polar": {
           "angularaxis": {
            "gridcolor": "white",
            "linecolor": "white",
            "ticks": ""
           },
           "bgcolor": "#E5ECF6",
           "radialaxis": {
            "gridcolor": "white",
            "linecolor": "white",
            "ticks": ""
           }
          },
          "scene": {
           "xaxis": {
            "backgroundcolor": "#E5ECF6",
            "gridcolor": "white",
            "gridwidth": 2,
            "linecolor": "white",
            "showbackground": true,
            "ticks": "",
            "zerolinecolor": "white"
           },
           "yaxis": {
            "backgroundcolor": "#E5ECF6",
            "gridcolor": "white",
            "gridwidth": 2,
            "linecolor": "white",
            "showbackground": true,
            "ticks": "",
            "zerolinecolor": "white"
           },
           "zaxis": {
            "backgroundcolor": "#E5ECF6",
            "gridcolor": "white",
            "gridwidth": 2,
            "linecolor": "white",
            "showbackground": true,
            "ticks": "",
            "zerolinecolor": "white"
           }
          },
          "shapedefaults": {
           "line": {
            "color": "#2a3f5f"
           }
          },
          "ternary": {
           "aaxis": {
            "gridcolor": "white",
            "linecolor": "white",
            "ticks": ""
           },
           "baxis": {
            "gridcolor": "white",
            "linecolor": "white",
            "ticks": ""
           },
           "bgcolor": "#E5ECF6",
           "caxis": {
            "gridcolor": "white",
            "linecolor": "white",
            "ticks": ""
           }
          },
          "title": {
           "x": 0.05
          },
          "xaxis": {
           "automargin": true,
           "gridcolor": "white",
           "linecolor": "white",
           "ticks": "",
           "title": {
            "standoff": 15
           },
           "zerolinecolor": "white",
           "zerolinewidth": 2
          },
          "yaxis": {
           "automargin": true,
           "gridcolor": "white",
           "linecolor": "white",
           "ticks": "",
           "title": {
            "standoff": 15
           },
           "zerolinecolor": "white",
           "zerolinewidth": 2
          }
         }
        },
        "title": {
         "text": "Spread in World over time | hammer"
        }
       }
      },
      "text/html": [
       "<div>\n",
       "        \n",
       "        \n",
       "            <div id=\"145ecb30-cf5f-44bd-89bf-e16d24187de4\" class=\"plotly-graph-div\" style=\"height:525px; width:100%;\"></div>\n",
       "            <script type=\"text/javascript\">\n",
       "                require([\"plotly\"], function(Plotly) {\n",
       "                    window.PLOTLYENV=window.PLOTLYENV || {};\n",
       "                    \n",
       "                if (document.getElementById(\"145ecb30-cf5f-44bd-89bf-e16d24187de4\")) {\n",
       "                    Plotly.newPlot(\n",
       "                        '145ecb30-cf5f-44bd-89bf-e16d24187de4',\n",
       "                        [{\"customdata\": [[142.0, 0.0, 27.0, 115.0, 0.0, 100.0], [314.0, 0.0, 2.0, 312.0, 0.0, 100.0], [1.0, 0.0, 1.0, 0.0, 0.0, 100.0], [9.0, 0.0, 1.0, 8.0, 0.0, 100.0], [167.0, 0.0, 23.0, 144.0, 0.0, 100.0], [5.0, 0.0, 1.0, 4.0, 0.0, 100.0], [644.0, 0.0, 631.0, 13.0, 0.0, 100.0], [11.0, 0.0, 2.0, 9.0, 0.0, 100.0], [5.0, 0.0, 2.0, 3.0, 0.0, 100.0], [37.0, 0.0, 10.0, 27.0, 0.0, 100.0], [151.0, 0.0, 2.0, 149.0, 0.0, 100.0], [17.0, 0.0, 13.0, 4.0, 0.0, 100.0], [347.0, 0.0, 1.0, 346.0, 0.0, 100.0], [255.0, 0.0, 67.0, 188.0, 0.0, 100.0], [50.0, 0.0, 1.0, 49.0, 0.0, 100.0], [15.0, 0.0, 1.0, 14.0, 0.0, 100.0], [91.0, 0.0, 18.0, 73.0, 0.0, 100.0], [21.0, 0.0, 1.0, 20.0, 0.0, 100.0], [103.0, 0.0, 21.0, 82.0, 0.0, 100.0], [11.0, 0.0, 1.0, 10.0, 0.0, 100.0], [94.0, 0.0, 32.0, 62.0, 0.0, 100.0], [14.0, 0.0, 1.0, 13.0, 0.0, 100.0], [299.0, 0.0, 6.0, 293.0, 0.0, 100.0], [75.0, 0.0, 75.0, 0.0, 0.0, 100.0], [77.0, 0.0, 2.0, 75.0, 0.0, 100.0], [1.0, 0.0, 1.0, 0.0, 0.0, 100.0], [18.0, 0.0, 18.0, 0.0, 0.0, 100.0], [10.0, 0.0, 2.0, 8.0, 0.0, 100.0], [22.0, 0.0, 2.0, 20.0, 0.0, 100.0], [65.0, 0.0, 14.0, 51.0, 0.0, 100.0], [183.0, 0.0, 1.0, 182.0, 0.0, 100.0], [188.0, 0.0, 25.0, 163.0, 0.0, 100.0], [28.0, 0.0, 6.0, 22.0, 0.0, 100.0], [159.0, 0.0, 70.0, 89.0, 0.0, 100.0], [136.0, 0.0, 133.0, 3.0, 0.0, 100.0], [66.0, 0.0, 5.0, 61.0, 0.0, 100.0], [1254.0, 1.0, 1225.0, 28.0, 0.08156606851549755, 99.9184339314845], [937.0, 1.0, 934.0, 2.0, 0.10695187165775401, 99.89304812834224], [338.0, 1.0, 295.0, 42.0, 0.33783783783783783, 99.66216216216216], [1018.0, 4.0, 1014.0, 0.0, 0.3929273084479371, 99.60707269155206], [550.0, 3.0, 536.0, 11.0, 0.5565862708719851, 99.44341372912801], [1475.0, 8.0, 1349.0, 118.0, 0.5895357406042742, 99.41046425939572], [990.0, 6.0, 984.0, 0.0, 0.6060606060606061, 99.39393939393939], [254.0, 2.0, 250.0, 2.0, 0.7936507936507936, 99.20634920634922], [772.0, 7.0, 752.0, 13.0, 0.922266139657444, 99.07773386034255], [579.0, 6.0, 570.0, 3.0, 1.0416666666666665, 98.95833333333334], [98.0, 1.0, 92.0, 5.0, 1.0752688172043012, 98.9247311827957], [180.0, 2.0, 172.0, 6.0, 1.1494252873563218, 98.85057471264368], [253.0, 3.0, 242.0, 8.0, 1.2244897959183674, 98.77551020408163], [95.0, 1.0, 74.0, 20.0, 1.3333333333333335, 98.66666666666667], [146.0, 2.0, 144.0, 0.0, 1.36986301369863, 98.63013698630137], [844.0, 3.0, 212.0, 629.0, 1.3953488372093024, 98.6046511627907], [499.0, 4.0, 272.0, 223.0, 1.4492753623188406, 98.55072463768117], [1020.0, 2.0, 135.0, 883.0, 1.4598540145985401, 98.54014598540147], [492.0, 5.0, 334.0, 153.0, 1.4749262536873156, 98.52507374631269], [138.0, 2.0, 125.0, 11.0, 1.574803149606299, 98.4251968503937], [134.0, 2.0, 124.0, 8.0, 1.5873015873015872, 98.4126984126984], [712.0, 10.0, 603.0, 99.0, 1.631321370309951, 98.36867862969005], [1276.0, 22.0, 1251.0, 3.0, 1.728201099764336, 98.27179890023567], [514.0, 1.0, 56.0, 457.0, 1.7543859649122806, 98.24561403508771], [319.0, 6.0, 310.0, 3.0, 1.89873417721519, 98.10126582278481], [577.0, 8.0, 412.0, 157.0, 1.9047619047619049, 98.09523809523809], [634.0, 1.0, 48.0, 585.0, 2.0408163265306123, 97.95918367346938], [769.0, 4.0, 191.0, 574.0, 2.051282051282051, 97.94871794871794], [166.0, 3.0, 133.0, 30.0, 2.2058823529411766, 97.79411764705883], [484.0, 13.0, 469.0, 2.0, 2.6970954356846475, 97.30290456431536], [126.0, 1.0, 34.0, 91.0, 2.857142857142857, 97.14285714285714], [9583.0, 152.0, 5033.0, 4398.0, 2.931533269045323, 97.06846673095467], [168.0, 6.0, 168.0, -6.0, 3.4482758620689653, 96.55172413793103], [641.0, 4.0, 112.0, 525.0, 3.4482758620689653, 96.55172413793103], [76.0, 3.0, 73.0, 0.0, 3.9473684210526314, 96.05263157894737], [284.0, 1.0, 20.0, 263.0, 4.761904761904762, 95.23809523809523], [67801.0, 3182.0, 62570.0, 2049.0, 4.839396520257939, 95.16060347974205], [119.0, 2.0, 39.0, 78.0, 4.878048780487805, 95.1219512195122], [570.0, 3.0, 58.0, 509.0, 4.918032786885246, 95.08196721311475], [109.0, 1.0, 18.0, 90.0, 5.263157894736842, 94.73684210526315], [62095.0, 533.0, 9211.0, 52351.0, 5.470032840722496, 94.5299671592775], [1280.0, 2.0, 31.0, 1247.0, 6.0606060606060606, 93.93939393939394], [298.0, 2.0, 30.0, 266.0, 6.25, 93.75], [311.0, 2.0, 28.0, 281.0, 6.666666666666667, 93.33333333333333], [1388.0, 7.0, 97.0, 1284.0, 6.730769230769231, 93.26923076923077], [2470.0, 35.0, 388.0, 2047.0, 8.274231678486997, 91.725768321513], [117.0, 1.0, 11.0, 105.0, 8.333333333333332, 91.66666666666666], [2139.0, 7.0, 75.0, 2057.0, 8.536585365853659, 91.46341463414635], [424.0, 3.0, 30.0, 391.0, 9.090909090909092, 90.9090909090909], [34.0, 1.0, 10.0, 23.0, 9.090909090909092, 90.9090909090909], [4247.0, 15.0, 132.0, 4100.0, 10.204081632653061, 89.79591836734694], [713.0, 6.0, 52.0, 655.0, 10.344827586206897, 89.65517241379311], [1299.0, 8.0, 66.0, 1225.0, 10.81081081081081, 89.1891891891892], [1534.0, 8.0, 64.0, 1462.0, 11.11111111111111, 88.88888888888889], [1866.0, 54.0, 424.0, 1388.0, 11.297071129707113, 88.70292887029288], [679.0, 3.0, 20.0, 656.0, 13.043478260869565, 86.95652173913044], [259.0, 3.0, 18.0, 238.0, 14.285714285714285, 85.71428571428571], [8788.0, 86.0, 479.0, 8223.0, 15.221238938053098, 84.77876106194691], [14829.0, 300.0, 1595.0, 12934.0, 15.8311345646438, 84.1688654353562], [1815.0, 43.0, 206.0, 1566.0, 17.269076305220885, 82.73092369477911], [38309.0, 2640.0, 12391.0, 23278.0, 17.56370168318808, 82.43629831681191], [106.0, 4.0, 17.0, 85.0, 19.047619047619047, 80.95238095238095], [165.0, 1.0, 4.0, 160.0, 20.0, 80.0], [656.0, 2.0, 8.0, 646.0, 20.0, 80.0], [745.0, 19.0, 72.0, 654.0, 20.87912087912088, 79.12087912087912], [209.0, 4.0, 15.0, 190.0, 21.052631578947366, 78.94736842105263], [1024.0, 27.0, 95.0, 902.0, 22.131147540983605, 77.8688524590164], [144.0, 2.0, 7.0, 135.0, 22.22222222222222, 77.77777777777779], [547.0, 42.0, 143.0, 362.0, 22.702702702702705, 77.29729729729729], [609.0, 40.0, 132.0, 437.0, 23.25581395348837, 76.74418604651163], [212.0, 10.0, 33.0, 169.0, 23.25581395348837, 76.74418604651163], [10836.0, 431.0, 1359.0, 9046.0, 24.078212290502794, 75.9217877094972], [48.0, 5.0, 15.0, 28.0, 25.0, 75.0], [111.0, 1.0, 3.0, 107.0, 25.0, 75.0], [214.0, 5.0, 15.0, 194.0, 25.0, 75.0], [438.0, 10.0, 30.0, 398.0, 25.0, 75.0], [40174.0, 2606.0, 7202.0, 30366.0, 26.57014681892333, 73.42985318107668], [408.0, 13.0, 34.0, 361.0, 27.659574468085108, 72.3404255319149], [80110.0, 6803.0, 14709.0, 58598.0, 31.624209743399035, 68.37579025660096], [1597.0, 14.0, 29.0, 1554.0, 32.55813953488372, 67.44186046511628], [8.0, 1.0, 2.0, 5.0, 33.33333333333333, 66.66666666666666], [32.0, 1.0, 2.0, 29.0, 33.33333333333333, 66.66666666666666], [222.0, 12.0, 23.0, 187.0, 34.285714285714285, 65.71428571428571], [1950.0, 21.0, 40.0, 1889.0, 34.42622950819672, 65.57377049180327], [346.0, 8.0, 14.0, 324.0, 36.36363636363637, 63.63636363636363], [314.0, 2.0, 3.0, 309.0, 40.0, 60.0], [1156.0, 38.0, 52.0, 1066.0, 42.22222222222222, 57.77777777777777], [323.0, 6.0, 8.0, 309.0, 42.857142857142854, 57.14285714285714], [139.0, 3.0, 4.0, 132.0, 42.857142857142854, 57.14285714285714], [97689.0, 10779.0, 13030.0, 73880.0, 45.272796001512035, 54.72720399848797], [140886.0, 2467.0, 2665.0, 135754.0, 48.0709275136399, 51.9290724863601], [511.0, 31.0, 31.0, 449.0, 50.0, 50.0], [25.0, 1.0, 1.0, 23.0, 50.0, 50.0], [42.0, 1.0, 1.0, 40.0, 50.0, 50.0], [702.0, 10.0, 10.0, 682.0, 50.0, 50.0], [263.0, 2.0, 2.0, 259.0, 50.0, 50.0], [110.0, 3.0, 3.0, 104.0, 50.0, 50.0], [46.0, 1.0, 1.0, 44.0, 50.0, 50.0], [94.0, 1.0, 1.0, 92.0, 50.0, 50.0], [730.0, 11.0, 10.0, 709.0, 52.38095238095239, 47.61904761904761], [1240.0, 11.0, 10.0, 1219.0, 52.38095238095239, 47.61904761904761], [852.0, 18.0, 16.0, 818.0, 52.94117647058824, 47.05882352941176], [139.0, 6.0, 5.0, 128.0, 54.54545454545454, 45.45454545454545], [9217.0, 131.0, 105.0, 8981.0, 55.50847457627118, 44.49152542372881], [2817.0, 16.0, 11.0, 2790.0, 59.25925925925925, 40.74074074074074], [475.0, 10.0, 6.0, 459.0, 62.5, 37.5], [1418.0, 71.0, 42.0, 1305.0, 62.83185840707964, 37.16814159292036], [1285.0, 114.0, 64.0, 1107.0, 64.04494382022472, 35.95505617977528], [479.0, 26.0, 13.0, 440.0, 66.66666666666666, 33.33333333333333], [1791.0, 8.0, 4.0, 1779.0, 66.66666666666666, 33.33333333333333], [120.0, 4.0, 2.0, 114.0, 66.66666666666666, 33.33333333333333], [259.0, 6.0, 3.0, 250.0, 66.66666666666666, 33.33333333333333], [152.0, 5.0, 2.0, 145.0, 71.42857142857143, 28.57142857142857], [5962.0, 119.0, 43.0, 5800.0, 73.4567901234568, 26.543209876543212], [65.0, 6.0, 2.0, 57.0, 75.0, 25.0], [59.0, 3.0, 1.0, 55.0, 75.0, 25.0], [78.0, 3.0, 1.0, 74.0, 75.0, 25.0], [10866.0, 771.0, 250.0, 9845.0, 75.51420176297748, 24.48579823702253], [1862.0, 22.0, 7.0, 1833.0, 75.86206896551724, 24.137931034482758], [4284.0, 25.0, 7.0, 4252.0, 78.125, 21.875], [224.0, 22.0, 6.0, 196.0, 78.57142857142857, 21.428571428571427], [312.0, 8.0, 2.0, 302.0, 80.0, 20.0], [848.0, 16.0, 4.0, 828.0, 80.0, 20.0], [901.0, 17.0, 4.0, 880.0, 80.95238095238095, 19.047619047619047], [334.0, 6.0, 1.0, 327.0, 85.71428571428571, 14.285714285714285], [3700.0, 110.0, 16.0, 3574.0, 87.3015873015873, 12.698412698412698], [460.0, 7.0, 1.0, 452.0, 87.5, 12.5], [19522.0, 1228.0, 135.0, 18159.0, 90.0953778429934, 9.904622157006603], [2615.0, 46.0, 5.0, 2564.0, 90.19607843137256, 9.803921568627452], [859.0, 39.0, 3.0, 817.0, 92.85714285714286, 7.142857142857142], [1924.0, 58.0, 3.0, 1863.0, 95.08196721311475, 4.918032786885246], [4256.0, 136.0, 6.0, 4114.0, 95.77464788732394, 4.225352112676056], [2395.0, 72.0, 1.0, 2322.0, 98.63013698630137, 1.36986301369863], [6.0, 1.0, 0.0, 5.0, 100.0, 0.0], [4.0, 1.0, 0.0, 3.0, 100.0, 0.0], [8.0, 1.0, 0.0, 7.0, 100.0, 0.0], [108.0, 2.0, 0.0, 106.0, 100.0, 0.0], [81.0, 1.0, 0.0, 80.0, 100.0, 0.0], [18.0, 1.0, 0.0, 17.0, 100.0, 0.0], [8.0, 1.0, 0.0, 7.0, 100.0, 0.0], [107.0, 3.0, 0.0, 104.0, 100.0, 0.0], [93.0, 1.0, 0.0, 92.0, 100.0, 0.0], [18.0, 1.0, 0.0, 17.0, 100.0, 0.0], [85.0, 1.0, 0.0, 84.0, 100.0, 0.0], [7.0, 1.0, 0.0, 6.0, 100.0, 0.0], [7.0, 1.0, 0.0, 6.0, 100.0, 0.0], [4.0, 1.0, 0.0, 3.0, 100.0, 0.0], [741.0, 13.0, 0.0, 728.0, 100.0, 0.0], [304.0, 1.0, 0.0, 303.0, 100.0, 0.0], [6.0, 1.0, 0.0, 5.0, 100.0, 0.0], [7.0, 2.0, 0.0, 5.0, 100.0, 0.0], [2.0, 0.0, 0.0, 2.0, null, null], [2.0, 0.0, 0.0, 2.0, null, null], [30.0, 0.0, 0.0, 30.0, null, null], [42.0, 0.0, 0.0, 42.0, null, null], [63.0, 0.0, 0.0, 63.0, null, null], [5.0, 0.0, 0.0, 5.0, null, null], [7.0, 0.0, 0.0, 7.0, null, null], [33.0, 0.0, 0.0, 33.0, null, null], [2.0, 0.0, 0.0, 2.0, null, null], [6.0, 0.0, 0.0, 6.0, null, null], [4.0, 0.0, 0.0, 4.0, null, null], [10.0, 0.0, 0.0, 10.0, null, null], [3.0, 0.0, 0.0, 3.0, null, null], [3.0, 0.0, 0.0, 3.0, null, null], [19.0, 0.0, 0.0, 19.0, null, null], [18.0, 0.0, 0.0, 18.0, null, null], [11.0, 0.0, 0.0, 11.0, null, null], [24.0, 0.0, 0.0, 24.0, null, null], [12.0, 0.0, 0.0, 12.0, null, null], [12.0, 0.0, 0.0, 12.0, null, null], [9.0, 0.0, 0.0, 9.0, null, null], [5.0, 0.0, 0.0, 5.0, null, null], [9.0, 0.0, 0.0, 9.0, null, null], [16.0, 0.0, 0.0, 16.0, null, null], [2.0, 0.0, 0.0, 2.0, null, null], [6.0, 0.0, 0.0, 6.0, null, null], [84.0, 0.0, 0.0, 84.0, null, null], [8.0, 0.0, 0.0, 8.0, null, null], [3.0, 0.0, 0.0, 3.0, null, null], [8.0, 0.0, 0.0, 8.0, null, null], [56.0, 0.0, 0.0, 56.0, null, null], [2.0, 0.0, 0.0, 2.0, null, null], [39.0, 0.0, 0.0, 39.0, null, null], [12.0, 0.0, 0.0, 12.0, null, null], [1.0, 0.0, 0.0, 1.0, null, null], [70.0, 0.0, 0.0, 70.0, null, null], [2.0, 0.0, 0.0, 2.0, null, null], [8.0, 0.0, 0.0, 8.0, null, null], [3.0, 0.0, 0.0, 3.0, null, null], [8.0, 0.0, 0.0, 8.0, null, null], [33.0, 0.0, 0.0, 33.0, null, null], [29.0, 0.0, 0.0, 29.0, null, null], [15.0, 0.0, 0.0, 15.0, null, null], [15.0, 0.0, 0.0, 15.0, null, null], [5.0, 0.0, 0.0, 5.0, null, null], [6.0, 0.0, 0.0, 6.0, null, null], [11.0, 0.0, 0.0, 11.0, null, null], [4.0, 0.0, 0.0, 4.0, null, null]], \"geo\": \"geo\", \"hoverlabel\": {\"namelength\": 0}, \"hovertemplate\": \"<b>%{hovertext}</b><br><br>size=%{marker.color}<br>Confirmed=%{customdata[0]}<br>Deaths=%{customdata[1]}<br>Recovered=%{customdata[2]}<br>Infected=%{customdata[3]}<br>Death Rate=%{customdata[4]}<br>Recovery Rate=%{customdata[5]}<br>Lat=%{lat}<br>Long=%{lon}\", \"hovertext\": [\"Senegal\", \"Slovakia\", \"Saint Vincent and the Grenadines\", \"Saint Lucia\", \"Oman\", \"Nepal\", \"Jiangsu , China\", \"Namibia\", \"Mauritania\", \"Macau , China\", \"Malta\", \"Maldives\", \"Latvia\", \"Kuwait\", \"Aruba , Netherlands\", \"Haiti\", \"Georgia\", \"Ethiopia\", \"Cambodia\", \"Bahamas\", \"Belarus\", \"Tanzania\", \"South Australia , Australia\", \"Ningxia , China\", \"Australian Capital Territory , Australia\", \"Tibet , China\", \"Qinghai , China\", \"Greenland , Denmark\", \"Bermuda , United Kingdom\", \"Gibraltar , United Kingdom\", \"Reunion , France\", \"Vietnam\", \"French Guiana , France\", \"Faroe Islands , Denmark\", \"Shanxi , China\", \"Tasmania , Australia\", \"Zhejiang , China\", \"Jiangxi , China\", \"Fujian , China\", \"Hunan , China\", \"Sichuan , China\", \"Guangdong , China\", \"Anhui , China\", \"Guangxi , China\", \"Shandong , China\", \"Chongqing , China\", \"Jilin , China\", \"Yunnan , China\", \"Shaanxi , China\", \"Inner Mongolia , China\", \"Guizhou , China\", \"Singapore\", \"Bahrain\", \"Iceland\", \"Shanghai , China\", \"Gansu , China\", \"Liaoning , China\", \"Diamond Princess\", \"Henan , China\", \"New Zealand\", \"Hebei , China\", \"Beijing , China\", \"Qatar\", \"Victoria , Australia\", \"Tianjin , China\", \"Heilongjiang , China\", \"Brunei\", \"Korea, South\", \"Hainan , China\", \"Hong Kong , China\", \"Xinjiang , China\", \"Kazakhstan\", \"Hubei , China\", \"Venezuela\", \"United Arab Emirates\", \"West Bank and Gaza\", \"Germany\", \"South Africa\", \"Taiwan*\", \"Western Australia , Australia\", \"Thailand\", \"Malaysia\", \"Sri Lanka\", \"Chile\", \"Armenia\", \"Guatemala\", \"Israel\", \"Croatia\", \"Saudi Arabia\", \"Russia\", \"Japan\", \"Estonia\", \"Jordan\", \"Austria\", \"Switzerland\", \"Romania\", \"Iran\", \"Guadeloupe , France\", \"Cote d'Ivoire\", \"Queensland , Australia\", \"Argentina\", \"Azerbaijan\", \"India\", \"Uzbekistan\", \"Iraq\", \"Egypt\", \"Albania\", \"Belgium\", \"Bangladesh\", \"Nigeria\", \"Cyprus\", \"Lebanon\", \"France\", \"Hungary\", \"Spain\", \"Pakistan\", \"Curacao , Netherlands\", \"Jamaica\", \"Burkina Faso\", \"Luxembourg\", \"Bulgaria\", \"Costa Rica\", \"Greece\", \"Bosnia and Herzegovina\", \"Cuba\", \"Italy\", \"US\", \"Algeria\", \"Togo\", \"Kenya\", \"Colombia\", \"Moldova\", \"Honduras\", \"Monaco\", \"Kosovo\", \"Slovenia\", \"Finland\", \"Peru\", \"Cameroon\", \"Turkey\", \"Czechia\", \"Ukraine\", \"Philippines\", \"Indonesia\", \"Morocco\", \"New South Wales , Australia\", \"Afghanistan\", \"North Macedonia\", \"Ghana\", \"Portugal\", \"Congo (Kinshasa)\", \"Paraguay\", \"Trinidad and Tobago\", \"Netherlands\", \"Poland\", \"Norway\", \"San Marino\", \"Tunisia\", \"Mexico\", \"Panama\", \"Andorra\", \"Sweden\", \"Lithuania\", \"United Kingdom\", \"Ireland\", \"Dominican Republic\", \"Ecuador\", \"Brazil\", \"Denmark\", \"Cabo Verde\", \"Nicaragua\", \"Cayman Islands , United Kingdom\", \"Channel Islands , United Kingdom\", \"Bolivia\", \"Niger\", \"Guyana\", \"Mauritius\", \"Martinique , France\", \"Mali\", \"Montenegro\", \"Zimbabwe\", \"Gabon\", \"Gambia\", \"Serbia\", \"Uruguay\", \"Sudan\", \"Angola\", \"Anguilla , United Kingdom\", \"British Virgin Islands , United Kingdom\", \"French Polynesia , France\", \"Isle of Man , United Kingdom\", \"Mayotte , France\", \"Montserrat , United Kingdom\", \"Antigua and Barbuda\", \"Barbados\", \"Belize\", \"Benin\", \"Bhutan\", \"Burma\", \"Central African Republic\", \"Chad\", \"Congo (Brazzaville)\", \"Djibouti\", \"Dominica\", \"El Salvador\", \"Equatorial Guinea\", \"Eritrea\", \"Eswatini\", \"Fiji\", \"Grenada\", \"Guinea\", \"Guinea-Bissau\", \"Holy See\", \"Kyrgyzstan\", \"Laos\", \"Liberia\", \"Libya\", \"Liechtenstein\", \"MS Zaandam\", \"Madagascar\", \"Mongolia\", \"Papua New Guinea\", \"Rwanda\", \"Saint Kitts and Nevis\", \"Seychelles\", \"Somalia\", \"Suriname\", \"Uganda\", \"Zambia\", \"New Caledonia , France\", \"Northern Territory , Australia\", \"Saint Barthelemy , France\", \"Sint Maarten , Netherlands\", \"St Martin , France\", \"Turks and Caicos Islands , United Kingdom\"], \"lat\": [14.4974, 48.669, 12.9843, 13.9094, 21.0, 28.1667, 32.9711, -22.9576, 21.0079, 22.1667, 35.9375, 3.2028, 56.8796, 29.5, 12.5186, 18.9712, 42.3154, 9.145, 11.55, 25.0343, 53.7098, -6.369, -34.9285, 37.2692, -35.4735, 31.6927, 35.7452, 71.7069, 32.3078, 36.1408, -21.1351, 16.0, 3.9339, 61.8926, 37.5777, -41.4545, 29.1832, 27.614, 26.0789, 27.6104, 30.6171, 23.3417, 31.8257, 23.8298, 36.3427, 30.0572, 43.6661, 24.974, 35.1917, 44.0935, 26.8154, 1.2833, 26.0275, 64.9631, 31.201999999999998, 37.8099, 41.2956, 0.0, 33.882, -40.9006, 39.549, 40.1824, 25.3548, -37.8136, 39.3054, 47.861999999999995, 4.5353, 36.0, 19.1959, 22.3, 41.1129, 48.0196, 30.9756, 6.4238, 24.0, 31.9522, 51.0, -30.5595, 23.7, -31.9505, 15.0, 2.5, 7.0, -35.6751, 40.0691, 15.7835, 31.0, 45.1, 24.0, 60.0, 36.0, 58.5953, 31.24, 47.5162, 46.8182, 45.9432, 32.0, 16.25, 7.54, -28.0167, -38.4161, 40.1431, 21.0, 41.3775, 33.0, 26.0, 41.1533, 50.8333, 23.685, 9.082, 35.1264, 33.8547, 46.2276, 47.1625, 40.0, 30.3753, 12.1696, 18.1096, 12.2383, 49.8153, 42.7339, 9.7489, 39.0742, 43.9159, 22.0, 43.0, 37.0902, 28.0339, 8.6195, -0.0236, 4.5709, 47.4116, 15.2, 43.7333, 42.602636, 46.1512, 64.0, -9.19, 3.8480000000000003, 38.9637, 49.8175, 48.3794, 13.0, -0.7893, 31.7917, -33.8688, 33.0, 41.6086, 7.9465, 39.3999, -4.0383, -23.4425, 10.6918, 52.1326, 51.9194, 60.472, 43.9424, 34.0, 23.6345, 8.538, 42.5063, 63.0, 55.1694, 55.3781, 53.1424, 18.7357, -1.8312, -14.235, 56.2639, 16.5388, 12.8654, 19.3133, 49.3723, -16.2902, 17.6078, 5.0, -20.2, 14.6415, 17.570692, 42.5, -20.0, -0.8037, 13.4432, 44.0165, -32.5228, 12.8628, -11.2027, 18.2206, 18.4207, -17.6797, 54.2361, -12.8275, 16.7425, 17.0608, 13.1939, 13.1939, 9.3077, 27.5142, 21.9162, 6.6111, 15.4542, -4.0383, 11.8251, 15.415, 13.7942, 1.5, 15.1794, -26.5225, -17.7134, 12.1165, 9.9456, 11.8037, 41.9029, 41.2044, 19.856270000000002, 6.4281, 26.3351, 47.14, 0.0, -18.7669, 46.8625, -6.315, -1.9403, 17.357822, -4.6796, 5.1521, 3.9193, 1.0, -15.4167, -20.9043, -12.4634, 17.9, 18.0425, 18.0708, 21.69400000000001], \"legendgroup\": \"\", \"lon\": [-14.4524, 19.699, -61.2872, -60.9789, 57.0, 84.25, 119.455, 18.4904, 10.9408, 113.55, 14.3754, 73.2207, 24.6032, 47.75, -70.0358, -72.2852, 43.3569, 40.4897, 104.9167, -77.3963, 27.9534, 34.8888, 138.6007, 106.1655, 149.0124, 88.0924, 95.9956, -42.6043, -64.7505, -5.3536, 55.2471, 108.0, -53.1258, -6.9118, 112.2922, 145.9707, 120.0934, 115.7221, 117.9874, 111.7088, 102.7103, 113.4244, 117.2264, 108.7881, 118.1498, 107.874, 126.1923, 101.48700000000001, 108.8701, 113.9448, 106.8748, 103.8333, 50.55, -19.0208, 121.4491, 101.0583, 122.6085, 0.0, 113.61399999999999, 174.886, 116.1306, 116.4142, 51.1839, 144.9631, 117.323, 127.7615, 114.7277, 128.0, 109.7453, 114.2, 85.2401, 66.9237, 112.2707, -66.5897, 54.0, 35.2332, 9.0, 22.9375, 121.0, 115.8605, 101.0, 112.5, 81.0, -71.543, 45.0382, -90.2308, 35.0, 15.2, 45.0, 90.0, 138.0, 25.0136, 36.51, 14.5501, 8.2275, 24.9668, 53.0, -61.5833, -5.5471, 153.4, -63.6167, 47.5769, 78.0, 64.5853, 44.0, 30.0, 20.1683, 4.0, 90.3563, 8.6753, 33.4299, 35.8623, 2.2137, 19.5033, -4.0, 69.3451, -68.99, -77.2975, -1.5616, 6.1296, 25.4858, -83.7534, 21.8243, 17.6791, -80.0, 12.0, -95.7129, 1.6596, 0.8248, 37.9062, -74.2973, 28.3699, -86.2419, 7.4167, 20.902977, 14.9955, 26.0, -75.0152, 11.5021, 35.2433, 15.472999999999999, 31.1656, 122.0, 113.9213, -7.0926, 151.2093, 65.0, 21.7453, -1.0232, -8.2245, 21.7587, -58.4438, -61.2225, 5.2913, 19.1451, 8.4689, 12.4578, 9.0, -102.5528, -80.7821, 1.5218, 16.0, 23.8813, -3.4360000000000004, -7.6921, -70.1627, -78.1834, -51.9253, 9.5018, -23.0418, -85.2072, -81.2546, -2.3644, -63.5887, 8.0817, -58.75, 57.5, -61.0242, -3.996166000000001, 19.3, 30.0, 11.6094, -15.3101, 21.0059, -55.7658, 30.2176, 17.8739, -63.0686, -64.64, 149.4068, -4.5481, 45.1662, -62.1874, -61.7964, -59.5432, -59.5432, 2.3158, 90.4336, 95.956, 20.9394, 18.7322, 21.7587, 42.5903, -61.371, -88.8965, 10.0, 39.7823, 31.4659, 178.065, -61.678999999999995, -9.6966, -15.1804, 12.4534, 74.7661, 102.495496, -9.4295, 17.228331, 9.55, 0.0, 46.8691, 103.8467, 143.9555, 29.8739, -62.782998, 55.492, 46.1996, -56.0278, 32.0, 28.2833, 165.618, 130.8456, -62.8333, -63.0548, -63.0501, -71.7979], \"marker\": {\"color\": [11.916375287812984, 17.72004514666935, 1.0, 3.0, 12.922847983320086, 2.23606797749979, 25.37715508089904, 3.3166247903554, 2.23606797749979, 6.082762530298219, 12.288205727444508, 4.123105625617661, 18.627936010197157, 15.968719422671311, 7.0710678118654755, 3.872983346207417, 9.539392014169456, 4.58257569495584, 10.14889156509222, 3.3166247903554, 9.695359714832659, 3.7416573867739413, 17.291616465790582, 8.660254037844387, 8.774964387392123, 1.0, 4.242640687119285, 3.1622776601683795, 4.69041575982343, 8.06225774829855, 13.527749258468683, 13.711309200802088, 5.291502622129181, 12.609520212918492, 11.661903789690601, 8.12403840463596, 35.41186241925155, 30.610455730027933, 18.384776310850235, 31.906112267087632, 23.452078799117146, 38.40572873934304, 31.464265445104548, 15.937377450509228, 27.784887978899608, 24.06241883103193, 9.899494936611665, 13.416407864998739, 15.905973720586866, 9.746794344808963, 12.083045973594572, 29.0516780926679, 22.338307903688676, 31.937438845342623, 22.181073012818835, 11.74734012447073, 11.575836902790225, 26.68332812825267, 35.7211421989835, 22.67156809750927, 17.86057109949175, 24.020824298928627, 25.179356624028344, 27.730849247724095, 12.884098726725126, 22.0, 11.224972160321824, 97.89279850938985, 12.96148139681572, 25.317977802344327, 8.717797887081348, 16.852299546352718, 260.3862515571819, 10.908712114635714, 23.874672772626646, 10.44030650891055, 249.18868353117483, 35.77708763999664, 17.26267650163207, 17.635192088548397, 37.255872020394314, 49.69909455915671, 10.816653826391969, 46.24932431938871, 20.591260281974, 5.830951894845301, 65.16901104052447, 26.70205984563738, 36.0416425818802, 39.16631205513228, 43.197222132910355, 26.057628441590765, 16.09347693943108, 93.74433316206373, 121.77438154226036, 42.60281680828159, 195.7268504830137, 10.295630140987, 12.84523257866513, 25.612496949731394, 27.294688127912362, 14.45683229480096, 32.0, 12.0, 23.388031127053, 24.677925358506133, 14.560219778561036, 104.09610943738484, 6.928203230275509, 10.535653752852738, 14.628738838327793, 20.92844953645635, 200.4345279636221, 20.199009876724155, 283.037100041673, 39.96248240537617, 2.8284271247461903, 5.656854249492381, 14.89966442575134, 44.15880433163923, 18.601075237738275, 17.72004514666935, 34.0, 17.97220075561143, 11.789826122551595, 312.5523956075205, 375.3478386776724, 22.60530911091463, 5.0, 6.48074069840786, 26.49528259898354, 16.217274740226856, 10.488088481701515, 6.782329983125268, 9.695359714832659, 27.018512172212592, 35.21363372331802, 29.189039038652847, 11.789826122551595, 96.00520819205592, 53.075418038862395, 21.79449471770337, 37.656340767525464, 35.84689665786984, 21.88606862823929, 42.320207938997655, 10.954451150103322, 16.09347693943108, 12.328828005937952, 77.21398836998384, 8.06225774829855, 7.681145747868608, 8.831760866327848, 104.2401074443038, 43.15089802078283, 65.45227268781429, 14.966629547095765, 17.663521732655695, 29.120439557122072, 30.01666203960727, 18.275666882497067, 60.8276253029822, 21.447610589527216, 139.7211508684351, 51.137070702182385, 29.30870177950569, 43.86342439892262, 65.23802572120036, 48.938737212968626, 2.449489742783178, 2.0, 2.8284271247461903, 10.392304845413264, 9.0, 4.242640687119285, 2.8284271247461903, 10.344080432788601, 9.643650760992955, 4.242640687119285, 9.219544457292887, 2.6457513110645907, 2.6457513110645907, 2.0, 27.2213151776324, 17.435595774162696, 2.449489742783178, 2.6457513110645907, 1.4142135623730951, 1.4142135623730951, 5.477225575051661, 6.48074069840786, 7.937253933193772, 2.23606797749979, 2.6457513110645907, 5.744562646538029, 1.4142135623730951, 2.449489742783178, 2.0, 3.1622776601683795, 1.7320508075688772, 1.7320508075688772, 4.358898943540674, 4.242640687119285, 3.3166247903554, 4.898979485566356, 3.4641016151377544, 3.4641016151377544, 3.0, 2.23606797749979, 3.0, 4.0, 1.4142135623730951, 2.449489742783178, 9.16515138991168, 2.8284271247461903, 1.7320508075688772, 2.8284271247461903, 7.483314773547883, 1.4142135623730951, 6.244997998398398, 3.4641016151377544, 1.0, 8.366600265340756, 1.4142135623730951, 2.8284271247461903, 1.7320508075688772, 2.8284271247461903, 5.744562646538029, 5.385164807134504, 3.872983346207417, 3.872983346207417, 2.23606797749979, 2.449489742783178, 3.3166247903554, 2.0], \"coloraxis\": \"coloraxis\", \"size\": [11.916375287812984, 17.72004514666935, 1.0, 3.0, 12.922847983320086, 2.23606797749979, 25.37715508089904, 3.3166247903554, 2.23606797749979, 6.082762530298219, 12.288205727444508, 4.123105625617661, 18.627936010197157, 15.968719422671311, 7.0710678118654755, 3.872983346207417, 9.539392014169456, 4.58257569495584, 10.14889156509222, 3.3166247903554, 9.695359714832659, 3.7416573867739413, 17.291616465790582, 8.660254037844387, 8.774964387392123, 1.0, 4.242640687119285, 3.1622776601683795, 4.69041575982343, 8.06225774829855, 13.527749258468683, 13.711309200802088, 5.291502622129181, 12.609520212918492, 11.661903789690601, 8.12403840463596, 35.41186241925155, 30.610455730027933, 18.384776310850235, 31.906112267087632, 23.452078799117146, 38.40572873934304, 31.464265445104548, 15.937377450509228, 27.784887978899608, 24.06241883103193, 9.899494936611665, 13.416407864998739, 15.905973720586866, 9.746794344808963, 12.083045973594572, 29.0516780926679, 22.338307903688676, 31.937438845342623, 22.181073012818835, 11.74734012447073, 11.575836902790225, 26.68332812825267, 35.7211421989835, 22.67156809750927, 17.86057109949175, 24.020824298928627, 25.179356624028344, 27.730849247724095, 12.884098726725126, 22.0, 11.224972160321824, 97.89279850938985, 12.96148139681572, 25.317977802344327, 8.717797887081348, 16.852299546352718, 260.3862515571819, 10.908712114635714, 23.874672772626646, 10.44030650891055, 249.18868353117483, 35.77708763999664, 17.26267650163207, 17.635192088548397, 37.255872020394314, 49.69909455915671, 10.816653826391969, 46.24932431938871, 20.591260281974, 5.830951894845301, 65.16901104052447, 26.70205984563738, 36.0416425818802, 39.16631205513228, 43.197222132910355, 26.057628441590765, 16.09347693943108, 93.74433316206373, 121.77438154226036, 42.60281680828159, 195.7268504830137, 10.295630140987, 12.84523257866513, 25.612496949731394, 27.294688127912362, 14.45683229480096, 32.0, 12.0, 23.388031127053, 24.677925358506133, 14.560219778561036, 104.09610943738484, 6.928203230275509, 10.535653752852738, 14.628738838327793, 20.92844953645635, 200.4345279636221, 20.199009876724155, 283.037100041673, 39.96248240537617, 2.8284271247461903, 5.656854249492381, 14.89966442575134, 44.15880433163923, 18.601075237738275, 17.72004514666935, 34.0, 17.97220075561143, 11.789826122551595, 312.5523956075205, 375.3478386776724, 22.60530911091463, 5.0, 6.48074069840786, 26.49528259898354, 16.217274740226856, 10.488088481701515, 6.782329983125268, 9.695359714832659, 27.018512172212592, 35.21363372331802, 29.189039038652847, 11.789826122551595, 96.00520819205592, 53.075418038862395, 21.79449471770337, 37.656340767525464, 35.84689665786984, 21.88606862823929, 42.320207938997655, 10.954451150103322, 16.09347693943108, 12.328828005937952, 77.21398836998384, 8.06225774829855, 7.681145747868608, 8.831760866327848, 104.2401074443038, 43.15089802078283, 65.45227268781429, 14.966629547095765, 17.663521732655695, 29.120439557122072, 30.01666203960727, 18.275666882497067, 60.8276253029822, 21.447610589527216, 139.7211508684351, 51.137070702182385, 29.30870177950569, 43.86342439892262, 65.23802572120036, 48.938737212968626, 2.449489742783178, 2.0, 2.8284271247461903, 10.392304845413264, 9.0, 4.242640687119285, 2.8284271247461903, 10.344080432788601, 9.643650760992955, 4.242640687119285, 9.219544457292887, 2.6457513110645907, 2.6457513110645907, 2.0, 27.2213151776324, 17.435595774162696, 2.449489742783178, 2.6457513110645907, 1.4142135623730951, 1.4142135623730951, 5.477225575051661, 6.48074069840786, 7.937253933193772, 2.23606797749979, 2.6457513110645907, 5.744562646538029, 1.4142135623730951, 2.449489742783178, 2.0, 3.1622776601683795, 1.7320508075688772, 1.7320508075688772, 4.358898943540674, 4.242640687119285, 3.3166247903554, 4.898979485566356, 3.4641016151377544, 3.4641016151377544, 3.0, 2.23606797749979, 3.0, 4.0, 1.4142135623730951, 2.449489742783178, 9.16515138991168, 2.8284271247461903, 1.7320508075688772, 2.8284271247461903, 7.483314773547883, 1.4142135623730951, 6.244997998398398, 3.4641016151377544, 1.0, 8.366600265340756, 1.4142135623730951, 2.8284271247461903, 1.7320508075688772, 2.8284271247461903, 5.744562646538029, 5.385164807134504, 3.872983346207417, 3.872983346207417, 2.23606797749979, 2.449489742783178, 3.3166247903554, 2.0], \"sizemode\": \"area\", \"sizeref\": 0.9383695966941811}, \"name\": \"\", \"showlegend\": false, \"type\": \"scattergeo\"}],\n",
       "                        {\"coloraxis\": {\"colorbar\": {\"title\": {\"text\": \"size\"}}, \"colorscale\": [[0.0, \"#0d0887\"], [0.1111111111111111, \"#46039f\"], [0.2222222222222222, \"#7201a8\"], [0.3333333333333333, \"#9c179e\"], [0.4444444444444444, \"#bd3786\"], [0.5555555555555556, \"#d8576b\"], [0.6666666666666666, \"#ed7953\"], [0.7777777777777778, \"#fb9f3a\"], [0.8888888888888888, \"#fdca26\"], [1.0, \"#f0f921\"]], \"showscale\": false}, \"geo\": {\"center\": {}, \"domain\": {\"x\": [0.0, 1.0], \"y\": [0.0, 1.0]}, \"projection\": {\"type\": \"hammer\"}}, \"legend\": {\"itemsizing\": \"constant\", \"tracegroupgap\": 0}, \"template\": {\"data\": {\"bar\": [{\"error_x\": {\"color\": \"#2a3f5f\"}, \"error_y\": {\"color\": \"#2a3f5f\"}, \"marker\": {\"line\": {\"color\": \"#E5ECF6\", \"width\": 0.5}}, \"type\": \"bar\"}], \"barpolar\": [{\"marker\": {\"line\": {\"color\": \"#E5ECF6\", \"width\": 0.5}}, \"type\": \"barpolar\"}], \"carpet\": [{\"aaxis\": {\"endlinecolor\": \"#2a3f5f\", \"gridcolor\": \"white\", \"linecolor\": \"white\", \"minorgridcolor\": \"white\", \"startlinecolor\": \"#2a3f5f\"}, \"baxis\": {\"endlinecolor\": \"#2a3f5f\", \"gridcolor\": \"white\", \"linecolor\": \"white\", \"minorgridcolor\": \"white\", \"startlinecolor\": \"#2a3f5f\"}, \"type\": \"carpet\"}], \"choropleth\": [{\"colorbar\": {\"outlinewidth\": 0, \"ticks\": \"\"}, \"type\": \"choropleth\"}], \"contour\": [{\"colorbar\": {\"outlinewidth\": 0, \"ticks\": \"\"}, \"colorscale\": [[0.0, \"#0d0887\"], [0.1111111111111111, \"#46039f\"], [0.2222222222222222, \"#7201a8\"], [0.3333333333333333, \"#9c179e\"], [0.4444444444444444, \"#bd3786\"], [0.5555555555555556, \"#d8576b\"], [0.6666666666666666, \"#ed7953\"], [0.7777777777777778, \"#fb9f3a\"], [0.8888888888888888, \"#fdca26\"], [1.0, \"#f0f921\"]], \"type\": \"contour\"}], \"contourcarpet\": [{\"colorbar\": {\"outlinewidth\": 0, \"ticks\": \"\"}, \"type\": \"contourcarpet\"}], \"heatmap\": [{\"colorbar\": {\"outlinewidth\": 0, \"ticks\": \"\"}, \"colorscale\": [[0.0, \"#0d0887\"], [0.1111111111111111, \"#46039f\"], [0.2222222222222222, \"#7201a8\"], [0.3333333333333333, \"#9c179e\"], [0.4444444444444444, \"#bd3786\"], [0.5555555555555556, \"#d8576b\"], [0.6666666666666666, \"#ed7953\"], [0.7777777777777778, \"#fb9f3a\"], [0.8888888888888888, \"#fdca26\"], [1.0, \"#f0f921\"]], \"type\": \"heatmap\"}], \"heatmapgl\": [{\"colorbar\": {\"outlinewidth\": 0, \"ticks\": \"\"}, \"colorscale\": [[0.0, \"#0d0887\"], [0.1111111111111111, \"#46039f\"], [0.2222222222222222, \"#7201a8\"], [0.3333333333333333, \"#9c179e\"], [0.4444444444444444, \"#bd3786\"], [0.5555555555555556, \"#d8576b\"], [0.6666666666666666, \"#ed7953\"], [0.7777777777777778, \"#fb9f3a\"], [0.8888888888888888, \"#fdca26\"], [1.0, \"#f0f921\"]], \"type\": \"heatmapgl\"}], \"histogram\": [{\"marker\": {\"colorbar\": {\"outlinewidth\": 0, \"ticks\": \"\"}}, \"type\": \"histogram\"}], \"histogram2d\": [{\"colorbar\": {\"outlinewidth\": 0, \"ticks\": \"\"}, \"colorscale\": [[0.0, \"#0d0887\"], [0.1111111111111111, \"#46039f\"], [0.2222222222222222, \"#7201a8\"], [0.3333333333333333, \"#9c179e\"], [0.4444444444444444, \"#bd3786\"], [0.5555555555555556, \"#d8576b\"], [0.6666666666666666, \"#ed7953\"], [0.7777777777777778, \"#fb9f3a\"], [0.8888888888888888, \"#fdca26\"], [1.0, \"#f0f921\"]], \"type\": \"histogram2d\"}], \"histogram2dcontour\": [{\"colorbar\": {\"outlinewidth\": 0, \"ticks\": \"\"}, \"colorscale\": [[0.0, \"#0d0887\"], [0.1111111111111111, \"#46039f\"], [0.2222222222222222, \"#7201a8\"], [0.3333333333333333, \"#9c179e\"], [0.4444444444444444, \"#bd3786\"], [0.5555555555555556, \"#d8576b\"], [0.6666666666666666, \"#ed7953\"], [0.7777777777777778, \"#fb9f3a\"], [0.8888888888888888, \"#fdca26\"], [1.0, \"#f0f921\"]], \"type\": \"histogram2dcontour\"}], \"mesh3d\": [{\"colorbar\": {\"outlinewidth\": 0, \"ticks\": \"\"}, \"type\": \"mesh3d\"}], \"parcoords\": [{\"line\": {\"colorbar\": {\"outlinewidth\": 0, \"ticks\": \"\"}}, \"type\": \"parcoords\"}], \"pie\": [{\"automargin\": true, \"type\": \"pie\"}], \"scatter\": [{\"marker\": {\"colorbar\": {\"outlinewidth\": 0, \"ticks\": \"\"}}, \"type\": \"scatter\"}], \"scatter3d\": [{\"line\": {\"colorbar\": {\"outlinewidth\": 0, \"ticks\": \"\"}}, \"marker\": {\"colorbar\": {\"outlinewidth\": 0, \"ticks\": \"\"}}, \"type\": \"scatter3d\"}], \"scattercarpet\": [{\"marker\": {\"colorbar\": {\"outlinewidth\": 0, \"ticks\": \"\"}}, \"type\": \"scattercarpet\"}], \"scattergeo\": [{\"marker\": {\"colorbar\": {\"outlinewidth\": 0, \"ticks\": \"\"}}, \"type\": \"scattergeo\"}], \"scattergl\": [{\"marker\": {\"colorbar\": {\"outlinewidth\": 0, \"ticks\": \"\"}}, \"type\": \"scattergl\"}], \"scattermapbox\": [{\"marker\": {\"colorbar\": {\"outlinewidth\": 0, \"ticks\": \"\"}}, \"type\": \"scattermapbox\"}], \"scatterpolar\": [{\"marker\": {\"colorbar\": {\"outlinewidth\": 0, \"ticks\": \"\"}}, \"type\": \"scatterpolar\"}], \"scatterpolargl\": [{\"marker\": {\"colorbar\": {\"outlinewidth\": 0, \"ticks\": \"\"}}, \"type\": \"scatterpolargl\"}], \"scatterternary\": [{\"marker\": {\"colorbar\": {\"outlinewidth\": 0, \"ticks\": \"\"}}, \"type\": \"scatterternary\"}], \"surface\": [{\"colorbar\": {\"outlinewidth\": 0, \"ticks\": \"\"}, \"colorscale\": [[0.0, \"#0d0887\"], [0.1111111111111111, \"#46039f\"], [0.2222222222222222, \"#7201a8\"], [0.3333333333333333, \"#9c179e\"], [0.4444444444444444, \"#bd3786\"], [0.5555555555555556, \"#d8576b\"], [0.6666666666666666, \"#ed7953\"], [0.7777777777777778, \"#fb9f3a\"], [0.8888888888888888, \"#fdca26\"], [1.0, \"#f0f921\"]], \"type\": \"surface\"}], \"table\": [{\"cells\": {\"fill\": {\"color\": \"#EBF0F8\"}, \"line\": {\"color\": \"white\"}}, \"header\": {\"fill\": {\"color\": \"#C8D4E3\"}, \"line\": {\"color\": \"white\"}}, \"type\": \"table\"}]}, \"layout\": {\"annotationdefaults\": {\"arrowcolor\": \"#2a3f5f\", \"arrowhead\": 0, \"arrowwidth\": 1}, \"coloraxis\": {\"colorbar\": {\"outlinewidth\": 0, \"ticks\": \"\"}}, \"colorscale\": {\"diverging\": [[0, \"#8e0152\"], [0.1, \"#c51b7d\"], [0.2, \"#de77ae\"], [0.3, \"#f1b6da\"], [0.4, \"#fde0ef\"], [0.5, \"#f7f7f7\"], [0.6, \"#e6f5d0\"], [0.7, \"#b8e186\"], [0.8, \"#7fbc41\"], [0.9, \"#4d9221\"], [1, \"#276419\"]], \"sequential\": [[0.0, \"#0d0887\"], [0.1111111111111111, \"#46039f\"], [0.2222222222222222, \"#7201a8\"], [0.3333333333333333, \"#9c179e\"], [0.4444444444444444, \"#bd3786\"], [0.5555555555555556, \"#d8576b\"], [0.6666666666666666, \"#ed7953\"], [0.7777777777777778, \"#fb9f3a\"], [0.8888888888888888, \"#fdca26\"], [1.0, \"#f0f921\"]], \"sequentialminus\": [[0.0, \"#0d0887\"], [0.1111111111111111, \"#46039f\"], [0.2222222222222222, \"#7201a8\"], [0.3333333333333333, \"#9c179e\"], [0.4444444444444444, \"#bd3786\"], [0.5555555555555556, \"#d8576b\"], [0.6666666666666666, \"#ed7953\"], [0.7777777777777778, \"#fb9f3a\"], [0.8888888888888888, \"#fdca26\"], [1.0, \"#f0f921\"]]}, \"colorway\": [\"#636efa\", \"#EF553B\", \"#00cc96\", \"#ab63fa\", \"#FFA15A\", \"#19d3f3\", \"#FF6692\", \"#B6E880\", \"#FF97FF\", \"#FECB52\"], \"font\": {\"color\": \"#2a3f5f\"}, \"geo\": {\"bgcolor\": \"white\", \"lakecolor\": \"white\", \"landcolor\": \"#E5ECF6\", \"showlakes\": true, \"showland\": true, \"subunitcolor\": \"white\"}, \"hoverlabel\": {\"align\": \"left\"}, \"hovermode\": \"closest\", \"mapbox\": {\"style\": \"light\"}, \"paper_bgcolor\": \"white\", \"plot_bgcolor\": \"#E5ECF6\", \"polar\": {\"angularaxis\": {\"gridcolor\": \"white\", \"linecolor\": \"white\", \"ticks\": \"\"}, \"bgcolor\": \"#E5ECF6\", \"radialaxis\": {\"gridcolor\": \"white\", \"linecolor\": \"white\", \"ticks\": \"\"}}, \"scene\": {\"xaxis\": {\"backgroundcolor\": \"#E5ECF6\", \"gridcolor\": \"white\", \"gridwidth\": 2, \"linecolor\": \"white\", \"showbackground\": true, \"ticks\": \"\", \"zerolinecolor\": \"white\"}, \"yaxis\": {\"backgroundcolor\": \"#E5ECF6\", \"gridcolor\": \"white\", \"gridwidth\": 2, \"linecolor\": \"white\", \"showbackground\": true, \"ticks\": \"\", \"zerolinecolor\": \"white\"}, \"zaxis\": {\"backgroundcolor\": \"#E5ECF6\", \"gridcolor\": \"white\", \"gridwidth\": 2, \"linecolor\": \"white\", \"showbackground\": true, \"ticks\": \"\", \"zerolinecolor\": \"white\"}}, \"shapedefaults\": {\"line\": {\"color\": \"#2a3f5f\"}}, \"ternary\": {\"aaxis\": {\"gridcolor\": \"white\", \"linecolor\": \"white\", \"ticks\": \"\"}, \"baxis\": {\"gridcolor\": \"white\", \"linecolor\": \"white\", \"ticks\": \"\"}, \"bgcolor\": \"#E5ECF6\", \"caxis\": {\"gridcolor\": \"white\", \"linecolor\": \"white\", \"ticks\": \"\"}}, \"title\": {\"x\": 0.05}, \"xaxis\": {\"automargin\": true, \"gridcolor\": \"white\", \"linecolor\": \"white\", \"ticks\": \"\", \"title\": {\"standoff\": 15}, \"zerolinecolor\": \"white\", \"zerolinewidth\": 2}, \"yaxis\": {\"automargin\": true, \"gridcolor\": \"white\", \"linecolor\": \"white\", \"ticks\": \"\", \"title\": {\"standoff\": 15}, \"zerolinecolor\": \"white\", \"zerolinewidth\": 2}}}, \"title\": {\"text\": \"Spread in World over time | hammer\"}},\n",
       "                        {\"responsive\": true}\n",
       "                    ).then(function(){\n",
       "                            \n",
       "var gd = document.getElementById('145ecb30-cf5f-44bd-89bf-e16d24187de4');\n",
       "var x = new MutationObserver(function (mutations, observer) {{\n",
       "        var display = window.getComputedStyle(gd).display;\n",
       "        if (!display || display === 'none') {{\n",
       "            console.log([gd, 'removed!']);\n",
       "            Plotly.purge(gd);\n",
       "            observer.disconnect();\n",
       "        }}\n",
       "}});\n",
       "\n",
       "// Listen for the removal of the full notebook cells\n",
       "var notebookContainer = gd.closest('#notebook-container');\n",
       "if (notebookContainer) {{\n",
       "    x.observe(notebookContainer, {childList: true});\n",
       "}}\n",
       "\n",
       "// Listen for the clearing of the current output cell\n",
       "var outputEl = gd.closest('.output');\n",
       "if (outputEl) {{\n",
       "    x.observe(outputEl, {childList: true});\n",
       "}}\n",
       "\n",
       "                        })\n",
       "                };\n",
       "                });\n",
       "            </script>\n",
       "        </div>"
      ]
     },
     "metadata": {},
     "output_type": "display_data"
    }
   ],
   "source": [
    "projections= ['orthographic', 'natural earth', 'hammer']\n",
    "for projection in projections:\n",
    "    title = 'Spread in World over time | '+projection\n",
    "    fig = px.scatter_geo(dataset_copy, lat='Lat', lon='Long',\n",
    "                         color=\"size\", size='size', hover_name='HoverName', \n",
    "                         hover_data=['Confirmed', 'Deaths', 'Recovered','Infected','Death Rate','Recovery Rate'],\n",
    "                         projection=projection, \n",
    "                         title=title)\n",
    "    fig.update(layout_coloraxis_showscale=False)\n",
    "    fig.show()"
   ]
  },
  {
   "cell_type": "code",
   "execution_count": 192,
   "metadata": {},
   "outputs": [],
   "source": [
    "def getHistogramDataByCountry(dataset,country):\n",
    "    if country== \"All\":\n",
    "        dataset=dataset.sum()\n",
    "        historgram_data=dataset\n",
    "    else:\n",
    "        dataset=dataset.groupby(['Country/Region']).sum().reset_index()\n",
    "        historgram_data=dataset[dataset['Country/Region']==country]\n",
    "        historgram_data=historgram_data.T\n",
    "    historgram_data=historgram_data.drop(historgram_data.index[[0,1,2,3]])\n",
    "    historgram_data=historgram_data.reset_index()\n",
    "    historgram_data.columns=['Date','Count']\n",
    "    historgram_data=historgram_data.set_index('Date').diff()\n",
    "    historgram_data=historgram_data.fillna(0)\n",
    "    historgram_data=historgram_data.reset_index()\n",
    "    return historgram_data"
   ]
  },
  {
   "cell_type": "code",
   "execution_count": 193,
   "metadata": {
    "scrolled": true
   },
   "outputs": [],
   "source": [
    "def getMergedDataForReport(COUNTRY):\n",
    "    dataset=getHistogramDataByCountry(recovered_data,COUNTRY)\n",
    "    dataset['type']=RECOVERED\n",
    "    dataset1=getHistogramDataByCountry(confirmed_data,COUNTRY)\n",
    "    dataset1['type']=CONFIRMED\n",
    "    dataset2=getHistogramDataByCountry(death_data,COUNTRY)\n",
    "    dataset2['type']=DEATH\n",
    "    dataset=dataset.append(dataset1)\n",
    "    dataset=dataset.append(dataset2)\n",
    "    return dataset\n",
    "def getConfirmedDataForReport(COUNTRY):\n",
    "    dataset1=getHistogramDataByCountry(confirmed_data,COUNTRY)\n",
    "    dataset1['type']=CONFIRMED\n",
    "    return dataset1\n",
    "def getDeathDataForReport(COUNTRY):\n",
    "    dataset2=getHistogramDataByCountry(death_data,COUNTRY)\n",
    "    dataset2['type']=DEATH\n",
    "    return dataset2\n",
    "def getRecoveredDataForReport(COUNTRY):\n",
    "    dataset=getHistogramDataByCountry(recovered_data,COUNTRY)\n",
    "    dataset['type']=RECOVERED\n",
    "    return dataset\n"
   ]
  },
  {
   "cell_type": "code",
   "execution_count": 199,
   "metadata": {},
   "outputs": [
    {
     "data": {
      "application/vnd.plotly.v1+json": {
       "config": {
        "plotlyServerURL": "https://plot.ly"
       },
       "data": [
        {
         "hoverlabel": {
          "namelength": 0
         },
         "hovertemplate": "type=Recovered<br>Date=%{x}<br>Count=%{y}",
         "legendgroup": "Recovered",
         "line": {
          "color": "#636efa",
          "dash": "solid"
         },
         "mode": "lines",
         "name": "Recovered",
         "showlegend": true,
         "type": "scatter",
         "x": [
          "1/23/20",
          "1/24/20",
          "1/25/20",
          "1/26/20",
          "1/27/20",
          "1/28/20",
          "1/29/20",
          "1/30/20",
          "1/31/20",
          "2/1/20",
          "2/2/20",
          "2/3/20",
          "2/4/20",
          "2/5/20",
          "2/6/20",
          "2/7/20",
          "2/8/20",
          "2/9/20",
          "2/10/20",
          "2/11/20",
          "2/12/20",
          "2/13/20",
          "2/14/20",
          "2/15/20",
          "2/16/20",
          "2/17/20",
          "2/18/20",
          "2/19/20",
          "2/20/20",
          "2/21/20",
          "2/22/20",
          "2/23/20",
          "2/24/20",
          "2/25/20",
          "2/26/20",
          "2/27/20",
          "2/28/20",
          "2/29/20",
          "3/1/20",
          "3/2/20",
          "3/3/20",
          "3/4/20",
          "3/5/20",
          "3/6/20",
          "3/7/20",
          "3/8/20",
          "3/9/20",
          "3/10/20",
          "3/11/20",
          "3/12/20",
          "3/13/20",
          "3/14/20",
          "3/15/20",
          "3/16/20",
          "3/17/20",
          "3/18/20",
          "3/19/20",
          "3/20/20",
          "3/21/20",
          "3/22/20",
          "3/23/20",
          "3/24/20",
          "3/25/20",
          "3/26/20",
          "3/27/20",
          "3/28/20",
          "3/29/20"
         ],
         "xaxis": "x",
         "y": [
          0,
          0,
          0,
          0,
          0,
          0,
          0,
          0,
          0,
          0,
          0,
          0,
          0,
          0,
          0,
          0,
          0,
          0,
          0,
          0,
          0,
          0,
          0,
          0,
          3,
          0,
          0,
          0,
          0,
          0,
          0,
          0,
          0,
          0,
          0,
          0,
          0,
          0,
          0,
          0,
          0,
          0,
          0,
          0,
          0,
          0,
          0,
          1,
          0,
          0,
          0,
          0,
          9,
          0,
          1,
          0,
          1,
          5,
          3,
          4,
          0,
          13,
          3,
          2,
          28,
          11,
          11
         ],
         "yaxis": "y"
        },
        {
         "hoverlabel": {
          "namelength": 0
         },
         "hovertemplate": "type=Confirmed<br>Date=%{x}<br>Count=%{y}",
         "legendgroup": "Confirmed",
         "line": {
          "color": "#EF553B",
          "dash": "solid"
         },
         "mode": "lines",
         "name": "Confirmed",
         "showlegend": true,
         "type": "scatter",
         "x": [
          "1/23/20",
          "1/24/20",
          "1/25/20",
          "1/26/20",
          "1/27/20",
          "1/28/20",
          "1/29/20",
          "1/30/20",
          "1/31/20",
          "2/1/20",
          "2/2/20",
          "2/3/20",
          "2/4/20",
          "2/5/20",
          "2/6/20",
          "2/7/20",
          "2/8/20",
          "2/9/20",
          "2/10/20",
          "2/11/20",
          "2/12/20",
          "2/13/20",
          "2/14/20",
          "2/15/20",
          "2/16/20",
          "2/17/20",
          "2/18/20",
          "2/19/20",
          "2/20/20",
          "2/21/20",
          "2/22/20",
          "2/23/20",
          "2/24/20",
          "2/25/20",
          "2/26/20",
          "2/27/20",
          "2/28/20",
          "2/29/20",
          "3/1/20",
          "3/2/20",
          "3/3/20",
          "3/4/20",
          "3/5/20",
          "3/6/20",
          "3/7/20",
          "3/8/20",
          "3/9/20",
          "3/10/20",
          "3/11/20",
          "3/12/20",
          "3/13/20",
          "3/14/20",
          "3/15/20",
          "3/16/20",
          "3/17/20",
          "3/18/20",
          "3/19/20",
          "3/20/20",
          "3/21/20",
          "3/22/20",
          "3/23/20",
          "3/24/20",
          "3/25/20",
          "3/26/20",
          "3/27/20",
          "3/28/20",
          "3/29/20"
         ],
         "xaxis": "x",
         "y": [
          0,
          0,
          0,
          0,
          0,
          0,
          0,
          1,
          0,
          0,
          1,
          1,
          0,
          0,
          0,
          0,
          0,
          0,
          0,
          0,
          0,
          0,
          0,
          0,
          0,
          0,
          0,
          0,
          0,
          0,
          0,
          0,
          0,
          0,
          0,
          0,
          0,
          0,
          0,
          2,
          0,
          23,
          2,
          1,
          3,
          5,
          4,
          13,
          6,
          11,
          9,
          20,
          11,
          6,
          23,
          14,
          38,
          50,
          86,
          66,
          103,
          37,
          121,
          70,
          160,
          100,
          37
         ],
         "yaxis": "y"
        },
        {
         "hoverlabel": {
          "namelength": 0
         },
         "hovertemplate": "type=Deaths<br>Date=%{x}<br>Count=%{y}",
         "legendgroup": "Deaths",
         "line": {
          "color": "#00cc96",
          "dash": "solid"
         },
         "mode": "lines",
         "name": "Deaths",
         "showlegend": true,
         "type": "scatter",
         "x": [
          "1/23/20",
          "1/24/20",
          "1/25/20",
          "1/26/20",
          "1/27/20",
          "1/28/20",
          "1/29/20",
          "1/30/20",
          "1/31/20",
          "2/1/20",
          "2/2/20",
          "2/3/20",
          "2/4/20",
          "2/5/20",
          "2/6/20",
          "2/7/20",
          "2/8/20",
          "2/9/20",
          "2/10/20",
          "2/11/20",
          "2/12/20",
          "2/13/20",
          "2/14/20",
          "2/15/20",
          "2/16/20",
          "2/17/20",
          "2/18/20",
          "2/19/20",
          "2/20/20",
          "2/21/20",
          "2/22/20",
          "2/23/20",
          "2/24/20",
          "2/25/20",
          "2/26/20",
          "2/27/20",
          "2/28/20",
          "2/29/20",
          "3/1/20",
          "3/2/20",
          "3/3/20",
          "3/4/20",
          "3/5/20",
          "3/6/20",
          "3/7/20",
          "3/8/20",
          "3/9/20",
          "3/10/20",
          "3/11/20",
          "3/12/20",
          "3/13/20",
          "3/14/20",
          "3/15/20",
          "3/16/20",
          "3/17/20",
          "3/18/20",
          "3/19/20",
          "3/20/20",
          "3/21/20",
          "3/22/20",
          "3/23/20",
          "3/24/20",
          "3/25/20",
          "3/26/20",
          "3/27/20",
          "3/28/20",
          "3/29/20"
         ],
         "xaxis": "x",
         "y": [
          0,
          0,
          0,
          0,
          0,
          0,
          0,
          0,
          0,
          0,
          0,
          0,
          0,
          0,
          0,
          0,
          0,
          0,
          0,
          0,
          0,
          0,
          0,
          0,
          0,
          0,
          0,
          0,
          0,
          0,
          0,
          0,
          0,
          0,
          0,
          0,
          0,
          0,
          0,
          0,
          0,
          0,
          0,
          0,
          0,
          0,
          0,
          0,
          1,
          0,
          1,
          0,
          0,
          0,
          1,
          0,
          1,
          1,
          -1,
          3,
          3,
          0,
          2,
          8,
          0,
          4,
          3
         ],
         "yaxis": "y"
        }
       ],
       "layout": {
        "legend": {
         "title": {
          "text": "type"
         },
         "tracegroupgap": 0
        },
        "margin": {
         "t": 60
        },
        "template": {
         "data": {
          "bar": [
           {
            "error_x": {
             "color": "#2a3f5f"
            },
            "error_y": {
             "color": "#2a3f5f"
            },
            "marker": {
             "line": {
              "color": "#E5ECF6",
              "width": 0.5
             }
            },
            "type": "bar"
           }
          ],
          "barpolar": [
           {
            "marker": {
             "line": {
              "color": "#E5ECF6",
              "width": 0.5
             }
            },
            "type": "barpolar"
           }
          ],
          "carpet": [
           {
            "aaxis": {
             "endlinecolor": "#2a3f5f",
             "gridcolor": "white",
             "linecolor": "white",
             "minorgridcolor": "white",
             "startlinecolor": "#2a3f5f"
            },
            "baxis": {
             "endlinecolor": "#2a3f5f",
             "gridcolor": "white",
             "linecolor": "white",
             "minorgridcolor": "white",
             "startlinecolor": "#2a3f5f"
            },
            "type": "carpet"
           }
          ],
          "choropleth": [
           {
            "colorbar": {
             "outlinewidth": 0,
             "ticks": ""
            },
            "type": "choropleth"
           }
          ],
          "contour": [
           {
            "colorbar": {
             "outlinewidth": 0,
             "ticks": ""
            },
            "colorscale": [
             [
              0,
              "#0d0887"
             ],
             [
              0.1111111111111111,
              "#46039f"
             ],
             [
              0.2222222222222222,
              "#7201a8"
             ],
             [
              0.3333333333333333,
              "#9c179e"
             ],
             [
              0.4444444444444444,
              "#bd3786"
             ],
             [
              0.5555555555555556,
              "#d8576b"
             ],
             [
              0.6666666666666666,
              "#ed7953"
             ],
             [
              0.7777777777777778,
              "#fb9f3a"
             ],
             [
              0.8888888888888888,
              "#fdca26"
             ],
             [
              1,
              "#f0f921"
             ]
            ],
            "type": "contour"
           }
          ],
          "contourcarpet": [
           {
            "colorbar": {
             "outlinewidth": 0,
             "ticks": ""
            },
            "type": "contourcarpet"
           }
          ],
          "heatmap": [
           {
            "colorbar": {
             "outlinewidth": 0,
             "ticks": ""
            },
            "colorscale": [
             [
              0,
              "#0d0887"
             ],
             [
              0.1111111111111111,
              "#46039f"
             ],
             [
              0.2222222222222222,
              "#7201a8"
             ],
             [
              0.3333333333333333,
              "#9c179e"
             ],
             [
              0.4444444444444444,
              "#bd3786"
             ],
             [
              0.5555555555555556,
              "#d8576b"
             ],
             [
              0.6666666666666666,
              "#ed7953"
             ],
             [
              0.7777777777777778,
              "#fb9f3a"
             ],
             [
              0.8888888888888888,
              "#fdca26"
             ],
             [
              1,
              "#f0f921"
             ]
            ],
            "type": "heatmap"
           }
          ],
          "heatmapgl": [
           {
            "colorbar": {
             "outlinewidth": 0,
             "ticks": ""
            },
            "colorscale": [
             [
              0,
              "#0d0887"
             ],
             [
              0.1111111111111111,
              "#46039f"
             ],
             [
              0.2222222222222222,
              "#7201a8"
             ],
             [
              0.3333333333333333,
              "#9c179e"
             ],
             [
              0.4444444444444444,
              "#bd3786"
             ],
             [
              0.5555555555555556,
              "#d8576b"
             ],
             [
              0.6666666666666666,
              "#ed7953"
             ],
             [
              0.7777777777777778,
              "#fb9f3a"
             ],
             [
              0.8888888888888888,
              "#fdca26"
             ],
             [
              1,
              "#f0f921"
             ]
            ],
            "type": "heatmapgl"
           }
          ],
          "histogram": [
           {
            "marker": {
             "colorbar": {
              "outlinewidth": 0,
              "ticks": ""
             }
            },
            "type": "histogram"
           }
          ],
          "histogram2d": [
           {
            "colorbar": {
             "outlinewidth": 0,
             "ticks": ""
            },
            "colorscale": [
             [
              0,
              "#0d0887"
             ],
             [
              0.1111111111111111,
              "#46039f"
             ],
             [
              0.2222222222222222,
              "#7201a8"
             ],
             [
              0.3333333333333333,
              "#9c179e"
             ],
             [
              0.4444444444444444,
              "#bd3786"
             ],
             [
              0.5555555555555556,
              "#d8576b"
             ],
             [
              0.6666666666666666,
              "#ed7953"
             ],
             [
              0.7777777777777778,
              "#fb9f3a"
             ],
             [
              0.8888888888888888,
              "#fdca26"
             ],
             [
              1,
              "#f0f921"
             ]
            ],
            "type": "histogram2d"
           }
          ],
          "histogram2dcontour": [
           {
            "colorbar": {
             "outlinewidth": 0,
             "ticks": ""
            },
            "colorscale": [
             [
              0,
              "#0d0887"
             ],
             [
              0.1111111111111111,
              "#46039f"
             ],
             [
              0.2222222222222222,
              "#7201a8"
             ],
             [
              0.3333333333333333,
              "#9c179e"
             ],
             [
              0.4444444444444444,
              "#bd3786"
             ],
             [
              0.5555555555555556,
              "#d8576b"
             ],
             [
              0.6666666666666666,
              "#ed7953"
             ],
             [
              0.7777777777777778,
              "#fb9f3a"
             ],
             [
              0.8888888888888888,
              "#fdca26"
             ],
             [
              1,
              "#f0f921"
             ]
            ],
            "type": "histogram2dcontour"
           }
          ],
          "mesh3d": [
           {
            "colorbar": {
             "outlinewidth": 0,
             "ticks": ""
            },
            "type": "mesh3d"
           }
          ],
          "parcoords": [
           {
            "line": {
             "colorbar": {
              "outlinewidth": 0,
              "ticks": ""
             }
            },
            "type": "parcoords"
           }
          ],
          "pie": [
           {
            "automargin": true,
            "type": "pie"
           }
          ],
          "scatter": [
           {
            "marker": {
             "colorbar": {
              "outlinewidth": 0,
              "ticks": ""
             }
            },
            "type": "scatter"
           }
          ],
          "scatter3d": [
           {
            "line": {
             "colorbar": {
              "outlinewidth": 0,
              "ticks": ""
             }
            },
            "marker": {
             "colorbar": {
              "outlinewidth": 0,
              "ticks": ""
             }
            },
            "type": "scatter3d"
           }
          ],
          "scattercarpet": [
           {
            "marker": {
             "colorbar": {
              "outlinewidth": 0,
              "ticks": ""
             }
            },
            "type": "scattercarpet"
           }
          ],
          "scattergeo": [
           {
            "marker": {
             "colorbar": {
              "outlinewidth": 0,
              "ticks": ""
             }
            },
            "type": "scattergeo"
           }
          ],
          "scattergl": [
           {
            "marker": {
             "colorbar": {
              "outlinewidth": 0,
              "ticks": ""
             }
            },
            "type": "scattergl"
           }
          ],
          "scattermapbox": [
           {
            "marker": {
             "colorbar": {
              "outlinewidth": 0,
              "ticks": ""
             }
            },
            "type": "scattermapbox"
           }
          ],
          "scatterpolar": [
           {
            "marker": {
             "colorbar": {
              "outlinewidth": 0,
              "ticks": ""
             }
            },
            "type": "scatterpolar"
           }
          ],
          "scatterpolargl": [
           {
            "marker": {
             "colorbar": {
              "outlinewidth": 0,
              "ticks": ""
             }
            },
            "type": "scatterpolargl"
           }
          ],
          "scatterternary": [
           {
            "marker": {
             "colorbar": {
              "outlinewidth": 0,
              "ticks": ""
             }
            },
            "type": "scatterternary"
           }
          ],
          "surface": [
           {
            "colorbar": {
             "outlinewidth": 0,
             "ticks": ""
            },
            "colorscale": [
             [
              0,
              "#0d0887"
             ],
             [
              0.1111111111111111,
              "#46039f"
             ],
             [
              0.2222222222222222,
              "#7201a8"
             ],
             [
              0.3333333333333333,
              "#9c179e"
             ],
             [
              0.4444444444444444,
              "#bd3786"
             ],
             [
              0.5555555555555556,
              "#d8576b"
             ],
             [
              0.6666666666666666,
              "#ed7953"
             ],
             [
              0.7777777777777778,
              "#fb9f3a"
             ],
             [
              0.8888888888888888,
              "#fdca26"
             ],
             [
              1,
              "#f0f921"
             ]
            ],
            "type": "surface"
           }
          ],
          "table": [
           {
            "cells": {
             "fill": {
              "color": "#EBF0F8"
             },
             "line": {
              "color": "white"
             }
            },
            "header": {
             "fill": {
              "color": "#C8D4E3"
             },
             "line": {
              "color": "white"
             }
            },
            "type": "table"
           }
          ]
         },
         "layout": {
          "annotationdefaults": {
           "arrowcolor": "#2a3f5f",
           "arrowhead": 0,
           "arrowwidth": 1
          },
          "coloraxis": {
           "colorbar": {
            "outlinewidth": 0,
            "ticks": ""
           }
          },
          "colorscale": {
           "diverging": [
            [
             0,
             "#8e0152"
            ],
            [
             0.1,
             "#c51b7d"
            ],
            [
             0.2,
             "#de77ae"
            ],
            [
             0.3,
             "#f1b6da"
            ],
            [
             0.4,
             "#fde0ef"
            ],
            [
             0.5,
             "#f7f7f7"
            ],
            [
             0.6,
             "#e6f5d0"
            ],
            [
             0.7,
             "#b8e186"
            ],
            [
             0.8,
             "#7fbc41"
            ],
            [
             0.9,
             "#4d9221"
            ],
            [
             1,
             "#276419"
            ]
           ],
           "sequential": [
            [
             0,
             "#0d0887"
            ],
            [
             0.1111111111111111,
             "#46039f"
            ],
            [
             0.2222222222222222,
             "#7201a8"
            ],
            [
             0.3333333333333333,
             "#9c179e"
            ],
            [
             0.4444444444444444,
             "#bd3786"
            ],
            [
             0.5555555555555556,
             "#d8576b"
            ],
            [
             0.6666666666666666,
             "#ed7953"
            ],
            [
             0.7777777777777778,
             "#fb9f3a"
            ],
            [
             0.8888888888888888,
             "#fdca26"
            ],
            [
             1,
             "#f0f921"
            ]
           ],
           "sequentialminus": [
            [
             0,
             "#0d0887"
            ],
            [
             0.1111111111111111,
             "#46039f"
            ],
            [
             0.2222222222222222,
             "#7201a8"
            ],
            [
             0.3333333333333333,
             "#9c179e"
            ],
            [
             0.4444444444444444,
             "#bd3786"
            ],
            [
             0.5555555555555556,
             "#d8576b"
            ],
            [
             0.6666666666666666,
             "#ed7953"
            ],
            [
             0.7777777777777778,
             "#fb9f3a"
            ],
            [
             0.8888888888888888,
             "#fdca26"
            ],
            [
             1,
             "#f0f921"
            ]
           ]
          },
          "colorway": [
           "#636efa",
           "#EF553B",
           "#00cc96",
           "#ab63fa",
           "#FFA15A",
           "#19d3f3",
           "#FF6692",
           "#B6E880",
           "#FF97FF",
           "#FECB52"
          ],
          "font": {
           "color": "#2a3f5f"
          },
          "geo": {
           "bgcolor": "white",
           "lakecolor": "white",
           "landcolor": "#E5ECF6",
           "showlakes": true,
           "showland": true,
           "subunitcolor": "white"
          },
          "hoverlabel": {
           "align": "left"
          },
          "hovermode": "closest",
          "mapbox": {
           "style": "light"
          },
          "paper_bgcolor": "white",
          "plot_bgcolor": "#E5ECF6",
          "polar": {
           "angularaxis": {
            "gridcolor": "white",
            "linecolor": "white",
            "ticks": ""
           },
           "bgcolor": "#E5ECF6",
           "radialaxis": {
            "gridcolor": "white",
            "linecolor": "white",
            "ticks": ""
           }
          },
          "scene": {
           "xaxis": {
            "backgroundcolor": "#E5ECF6",
            "gridcolor": "white",
            "gridwidth": 2,
            "linecolor": "white",
            "showbackground": true,
            "ticks": "",
            "zerolinecolor": "white"
           },
           "yaxis": {
            "backgroundcolor": "#E5ECF6",
            "gridcolor": "white",
            "gridwidth": 2,
            "linecolor": "white",
            "showbackground": true,
            "ticks": "",
            "zerolinecolor": "white"
           },
           "zaxis": {
            "backgroundcolor": "#E5ECF6",
            "gridcolor": "white",
            "gridwidth": 2,
            "linecolor": "white",
            "showbackground": true,
            "ticks": "",
            "zerolinecolor": "white"
           }
          },
          "shapedefaults": {
           "line": {
            "color": "#2a3f5f"
           }
          },
          "ternary": {
           "aaxis": {
            "gridcolor": "white",
            "linecolor": "white",
            "ticks": ""
           },
           "baxis": {
            "gridcolor": "white",
            "linecolor": "white",
            "ticks": ""
           },
           "bgcolor": "#E5ECF6",
           "caxis": {
            "gridcolor": "white",
            "linecolor": "white",
            "ticks": ""
           }
          },
          "title": {
           "x": 0.05
          },
          "xaxis": {
           "automargin": true,
           "gridcolor": "white",
           "linecolor": "white",
           "ticks": "",
           "title": {
            "standoff": 15
           },
           "zerolinecolor": "white",
           "zerolinewidth": 2
          },
          "yaxis": {
           "automargin": true,
           "gridcolor": "white",
           "linecolor": "white",
           "ticks": "",
           "title": {
            "standoff": 15
           },
           "zerolinecolor": "white",
           "zerolinewidth": 2
          }
         }
        },
        "xaxis": {
         "anchor": "y",
         "domain": [
          0,
          1
         ],
         "range": [
          0,
          68
         ],
         "title": {
          "text": "Date"
         }
        },
        "yaxis": {
         "anchor": "x",
         "domain": [
          0,
          1
         ],
         "range": [
          -1,
          176
         ],
         "title": {
          "text": "Count"
         }
        }
       }
      },
      "text/html": [
       "<div>\n",
       "        \n",
       "        \n",
       "            <div id=\"98872dd0-abd1-43ad-a6b9-929c3138717e\" class=\"plotly-graph-div\" style=\"height:525px; width:100%;\"></div>\n",
       "            <script type=\"text/javascript\">\n",
       "                require([\"plotly\"], function(Plotly) {\n",
       "                    window.PLOTLYENV=window.PLOTLYENV || {};\n",
       "                    \n",
       "                if (document.getElementById(\"98872dd0-abd1-43ad-a6b9-929c3138717e\")) {\n",
       "                    Plotly.newPlot(\n",
       "                        '98872dd0-abd1-43ad-a6b9-929c3138717e',\n",
       "                        [{\"hoverlabel\": {\"namelength\": 0}, \"hovertemplate\": \"type=Recovered<br>Date=%{x}<br>Count=%{y}\", \"legendgroup\": \"Recovered\", \"line\": {\"color\": \"#636efa\", \"dash\": \"solid\"}, \"mode\": \"lines\", \"name\": \"Recovered\", \"showlegend\": true, \"type\": \"scatter\", \"x\": [\"1/23/20\", \"1/24/20\", \"1/25/20\", \"1/26/20\", \"1/27/20\", \"1/28/20\", \"1/29/20\", \"1/30/20\", \"1/31/20\", \"2/1/20\", \"2/2/20\", \"2/3/20\", \"2/4/20\", \"2/5/20\", \"2/6/20\", \"2/7/20\", \"2/8/20\", \"2/9/20\", \"2/10/20\", \"2/11/20\", \"2/12/20\", \"2/13/20\", \"2/14/20\", \"2/15/20\", \"2/16/20\", \"2/17/20\", \"2/18/20\", \"2/19/20\", \"2/20/20\", \"2/21/20\", \"2/22/20\", \"2/23/20\", \"2/24/20\", \"2/25/20\", \"2/26/20\", \"2/27/20\", \"2/28/20\", \"2/29/20\", \"3/1/20\", \"3/2/20\", \"3/3/20\", \"3/4/20\", \"3/5/20\", \"3/6/20\", \"3/7/20\", \"3/8/20\", \"3/9/20\", \"3/10/20\", \"3/11/20\", \"3/12/20\", \"3/13/20\", \"3/14/20\", \"3/15/20\", \"3/16/20\", \"3/17/20\", \"3/18/20\", \"3/19/20\", \"3/20/20\", \"3/21/20\", \"3/22/20\", \"3/23/20\", \"3/24/20\", \"3/25/20\", \"3/26/20\", \"3/27/20\", \"3/28/20\", \"3/29/20\"], \"xaxis\": \"x\", \"y\": [0, 0, 0, 0, 0, 0, 0, 0, 0, 0, 0, 0, 0, 0, 0, 0, 0, 0, 0, 0, 0, 0, 0, 0, 3, 0, 0, 0, 0, 0, 0, 0, 0, 0, 0, 0, 0, 0, 0, 0, 0, 0, 0, 0, 0, 0, 0, 1, 0, 0, 0, 0, 9, 0, 1, 0, 1, 5, 3, 4, 0, 13, 3, 2, 28, 11, 11], \"yaxis\": \"y\"}, {\"hoverlabel\": {\"namelength\": 0}, \"hovertemplate\": \"type=Confirmed<br>Date=%{x}<br>Count=%{y}\", \"legendgroup\": \"Confirmed\", \"line\": {\"color\": \"#EF553B\", \"dash\": \"solid\"}, \"mode\": \"lines\", \"name\": \"Confirmed\", \"showlegend\": true, \"type\": \"scatter\", \"x\": [\"1/23/20\", \"1/24/20\", \"1/25/20\", \"1/26/20\", \"1/27/20\", \"1/28/20\", \"1/29/20\", \"1/30/20\", \"1/31/20\", \"2/1/20\", \"2/2/20\", \"2/3/20\", \"2/4/20\", \"2/5/20\", \"2/6/20\", \"2/7/20\", \"2/8/20\", \"2/9/20\", \"2/10/20\", \"2/11/20\", \"2/12/20\", \"2/13/20\", \"2/14/20\", \"2/15/20\", \"2/16/20\", \"2/17/20\", \"2/18/20\", \"2/19/20\", \"2/20/20\", \"2/21/20\", \"2/22/20\", \"2/23/20\", \"2/24/20\", \"2/25/20\", \"2/26/20\", \"2/27/20\", \"2/28/20\", \"2/29/20\", \"3/1/20\", \"3/2/20\", \"3/3/20\", \"3/4/20\", \"3/5/20\", \"3/6/20\", \"3/7/20\", \"3/8/20\", \"3/9/20\", \"3/10/20\", \"3/11/20\", \"3/12/20\", \"3/13/20\", \"3/14/20\", \"3/15/20\", \"3/16/20\", \"3/17/20\", \"3/18/20\", \"3/19/20\", \"3/20/20\", \"3/21/20\", \"3/22/20\", \"3/23/20\", \"3/24/20\", \"3/25/20\", \"3/26/20\", \"3/27/20\", \"3/28/20\", \"3/29/20\"], \"xaxis\": \"x\", \"y\": [0, 0, 0, 0, 0, 0, 0, 1, 0, 0, 1, 1, 0, 0, 0, 0, 0, 0, 0, 0, 0, 0, 0, 0, 0, 0, 0, 0, 0, 0, 0, 0, 0, 0, 0, 0, 0, 0, 0, 2, 0, 23, 2, 1, 3, 5, 4, 13, 6, 11, 9, 20, 11, 6, 23, 14, 38, 50, 86, 66, 103, 37, 121, 70, 160, 100, 37], \"yaxis\": \"y\"}, {\"hoverlabel\": {\"namelength\": 0}, \"hovertemplate\": \"type=Deaths<br>Date=%{x}<br>Count=%{y}\", \"legendgroup\": \"Deaths\", \"line\": {\"color\": \"#00cc96\", \"dash\": \"solid\"}, \"mode\": \"lines\", \"name\": \"Deaths\", \"showlegend\": true, \"type\": \"scatter\", \"x\": [\"1/23/20\", \"1/24/20\", \"1/25/20\", \"1/26/20\", \"1/27/20\", \"1/28/20\", \"1/29/20\", \"1/30/20\", \"1/31/20\", \"2/1/20\", \"2/2/20\", \"2/3/20\", \"2/4/20\", \"2/5/20\", \"2/6/20\", \"2/7/20\", \"2/8/20\", \"2/9/20\", \"2/10/20\", \"2/11/20\", \"2/12/20\", \"2/13/20\", \"2/14/20\", \"2/15/20\", \"2/16/20\", \"2/17/20\", \"2/18/20\", \"2/19/20\", \"2/20/20\", \"2/21/20\", \"2/22/20\", \"2/23/20\", \"2/24/20\", \"2/25/20\", \"2/26/20\", \"2/27/20\", \"2/28/20\", \"2/29/20\", \"3/1/20\", \"3/2/20\", \"3/3/20\", \"3/4/20\", \"3/5/20\", \"3/6/20\", \"3/7/20\", \"3/8/20\", \"3/9/20\", \"3/10/20\", \"3/11/20\", \"3/12/20\", \"3/13/20\", \"3/14/20\", \"3/15/20\", \"3/16/20\", \"3/17/20\", \"3/18/20\", \"3/19/20\", \"3/20/20\", \"3/21/20\", \"3/22/20\", \"3/23/20\", \"3/24/20\", \"3/25/20\", \"3/26/20\", \"3/27/20\", \"3/28/20\", \"3/29/20\"], \"xaxis\": \"x\", \"y\": [0, 0, 0, 0, 0, 0, 0, 0, 0, 0, 0, 0, 0, 0, 0, 0, 0, 0, 0, 0, 0, 0, 0, 0, 0, 0, 0, 0, 0, 0, 0, 0, 0, 0, 0, 0, 0, 0, 0, 0, 0, 0, 0, 0, 0, 0, 0, 0, 1, 0, 1, 0, 0, 0, 1, 0, 1, 1, -1, 3, 3, 0, 2, 8, 0, 4, 3], \"yaxis\": \"y\"}],\n",
       "                        {\"legend\": {\"title\": {\"text\": \"type\"}, \"tracegroupgap\": 0}, \"margin\": {\"t\": 60}, \"template\": {\"data\": {\"bar\": [{\"error_x\": {\"color\": \"#2a3f5f\"}, \"error_y\": {\"color\": \"#2a3f5f\"}, \"marker\": {\"line\": {\"color\": \"#E5ECF6\", \"width\": 0.5}}, \"type\": \"bar\"}], \"barpolar\": [{\"marker\": {\"line\": {\"color\": \"#E5ECF6\", \"width\": 0.5}}, \"type\": \"barpolar\"}], \"carpet\": [{\"aaxis\": {\"endlinecolor\": \"#2a3f5f\", \"gridcolor\": \"white\", \"linecolor\": \"white\", \"minorgridcolor\": \"white\", \"startlinecolor\": \"#2a3f5f\"}, \"baxis\": {\"endlinecolor\": \"#2a3f5f\", \"gridcolor\": \"white\", \"linecolor\": \"white\", \"minorgridcolor\": \"white\", \"startlinecolor\": \"#2a3f5f\"}, \"type\": \"carpet\"}], \"choropleth\": [{\"colorbar\": {\"outlinewidth\": 0, \"ticks\": \"\"}, \"type\": \"choropleth\"}], \"contour\": [{\"colorbar\": {\"outlinewidth\": 0, \"ticks\": \"\"}, \"colorscale\": [[0.0, \"#0d0887\"], [0.1111111111111111, \"#46039f\"], [0.2222222222222222, \"#7201a8\"], [0.3333333333333333, \"#9c179e\"], [0.4444444444444444, \"#bd3786\"], [0.5555555555555556, \"#d8576b\"], [0.6666666666666666, \"#ed7953\"], [0.7777777777777778, \"#fb9f3a\"], [0.8888888888888888, \"#fdca26\"], [1.0, \"#f0f921\"]], \"type\": \"contour\"}], \"contourcarpet\": [{\"colorbar\": {\"outlinewidth\": 0, \"ticks\": \"\"}, \"type\": \"contourcarpet\"}], \"heatmap\": [{\"colorbar\": {\"outlinewidth\": 0, \"ticks\": \"\"}, \"colorscale\": [[0.0, \"#0d0887\"], [0.1111111111111111, \"#46039f\"], [0.2222222222222222, \"#7201a8\"], [0.3333333333333333, \"#9c179e\"], [0.4444444444444444, \"#bd3786\"], [0.5555555555555556, \"#d8576b\"], [0.6666666666666666, \"#ed7953\"], [0.7777777777777778, \"#fb9f3a\"], [0.8888888888888888, \"#fdca26\"], [1.0, \"#f0f921\"]], \"type\": \"heatmap\"}], \"heatmapgl\": [{\"colorbar\": {\"outlinewidth\": 0, \"ticks\": \"\"}, \"colorscale\": [[0.0, \"#0d0887\"], [0.1111111111111111, \"#46039f\"], [0.2222222222222222, \"#7201a8\"], [0.3333333333333333, \"#9c179e\"], [0.4444444444444444, \"#bd3786\"], [0.5555555555555556, \"#d8576b\"], [0.6666666666666666, \"#ed7953\"], [0.7777777777777778, \"#fb9f3a\"], [0.8888888888888888, \"#fdca26\"], [1.0, \"#f0f921\"]], \"type\": \"heatmapgl\"}], \"histogram\": [{\"marker\": {\"colorbar\": {\"outlinewidth\": 0, \"ticks\": \"\"}}, \"type\": \"histogram\"}], \"histogram2d\": [{\"colorbar\": {\"outlinewidth\": 0, \"ticks\": \"\"}, \"colorscale\": [[0.0, \"#0d0887\"], [0.1111111111111111, \"#46039f\"], [0.2222222222222222, \"#7201a8\"], [0.3333333333333333, \"#9c179e\"], [0.4444444444444444, \"#bd3786\"], [0.5555555555555556, \"#d8576b\"], [0.6666666666666666, \"#ed7953\"], [0.7777777777777778, \"#fb9f3a\"], [0.8888888888888888, \"#fdca26\"], [1.0, \"#f0f921\"]], \"type\": \"histogram2d\"}], \"histogram2dcontour\": [{\"colorbar\": {\"outlinewidth\": 0, \"ticks\": \"\"}, \"colorscale\": [[0.0, \"#0d0887\"], [0.1111111111111111, \"#46039f\"], [0.2222222222222222, \"#7201a8\"], [0.3333333333333333, \"#9c179e\"], [0.4444444444444444, \"#bd3786\"], [0.5555555555555556, \"#d8576b\"], [0.6666666666666666, \"#ed7953\"], [0.7777777777777778, \"#fb9f3a\"], [0.8888888888888888, \"#fdca26\"], [1.0, \"#f0f921\"]], \"type\": \"histogram2dcontour\"}], \"mesh3d\": [{\"colorbar\": {\"outlinewidth\": 0, \"ticks\": \"\"}, \"type\": \"mesh3d\"}], \"parcoords\": [{\"line\": {\"colorbar\": {\"outlinewidth\": 0, \"ticks\": \"\"}}, \"type\": \"parcoords\"}], \"pie\": [{\"automargin\": true, \"type\": \"pie\"}], \"scatter\": [{\"marker\": {\"colorbar\": {\"outlinewidth\": 0, \"ticks\": \"\"}}, \"type\": \"scatter\"}], \"scatter3d\": [{\"line\": {\"colorbar\": {\"outlinewidth\": 0, \"ticks\": \"\"}}, \"marker\": {\"colorbar\": {\"outlinewidth\": 0, \"ticks\": \"\"}}, \"type\": \"scatter3d\"}], \"scattercarpet\": [{\"marker\": {\"colorbar\": {\"outlinewidth\": 0, \"ticks\": \"\"}}, \"type\": \"scattercarpet\"}], \"scattergeo\": [{\"marker\": {\"colorbar\": {\"outlinewidth\": 0, \"ticks\": \"\"}}, \"type\": \"scattergeo\"}], \"scattergl\": [{\"marker\": {\"colorbar\": {\"outlinewidth\": 0, \"ticks\": \"\"}}, \"type\": \"scattergl\"}], \"scattermapbox\": [{\"marker\": {\"colorbar\": {\"outlinewidth\": 0, \"ticks\": \"\"}}, \"type\": \"scattermapbox\"}], \"scatterpolar\": [{\"marker\": {\"colorbar\": {\"outlinewidth\": 0, \"ticks\": \"\"}}, \"type\": \"scatterpolar\"}], \"scatterpolargl\": [{\"marker\": {\"colorbar\": {\"outlinewidth\": 0, \"ticks\": \"\"}}, \"type\": \"scatterpolargl\"}], \"scatterternary\": [{\"marker\": {\"colorbar\": {\"outlinewidth\": 0, \"ticks\": \"\"}}, \"type\": \"scatterternary\"}], \"surface\": [{\"colorbar\": {\"outlinewidth\": 0, \"ticks\": \"\"}, \"colorscale\": [[0.0, \"#0d0887\"], [0.1111111111111111, \"#46039f\"], [0.2222222222222222, \"#7201a8\"], [0.3333333333333333, \"#9c179e\"], [0.4444444444444444, \"#bd3786\"], [0.5555555555555556, \"#d8576b\"], [0.6666666666666666, \"#ed7953\"], [0.7777777777777778, \"#fb9f3a\"], [0.8888888888888888, \"#fdca26\"], [1.0, \"#f0f921\"]], \"type\": \"surface\"}], \"table\": [{\"cells\": {\"fill\": {\"color\": \"#EBF0F8\"}, \"line\": {\"color\": \"white\"}}, \"header\": {\"fill\": {\"color\": \"#C8D4E3\"}, \"line\": {\"color\": \"white\"}}, \"type\": \"table\"}]}, \"layout\": {\"annotationdefaults\": {\"arrowcolor\": \"#2a3f5f\", \"arrowhead\": 0, \"arrowwidth\": 1}, \"coloraxis\": {\"colorbar\": {\"outlinewidth\": 0, \"ticks\": \"\"}}, \"colorscale\": {\"diverging\": [[0, \"#8e0152\"], [0.1, \"#c51b7d\"], [0.2, \"#de77ae\"], [0.3, \"#f1b6da\"], [0.4, \"#fde0ef\"], [0.5, \"#f7f7f7\"], [0.6, \"#e6f5d0\"], [0.7, \"#b8e186\"], [0.8, \"#7fbc41\"], [0.9, \"#4d9221\"], [1, \"#276419\"]], \"sequential\": [[0.0, \"#0d0887\"], [0.1111111111111111, \"#46039f\"], [0.2222222222222222, \"#7201a8\"], [0.3333333333333333, \"#9c179e\"], [0.4444444444444444, \"#bd3786\"], [0.5555555555555556, \"#d8576b\"], [0.6666666666666666, \"#ed7953\"], [0.7777777777777778, \"#fb9f3a\"], [0.8888888888888888, \"#fdca26\"], [1.0, \"#f0f921\"]], \"sequentialminus\": [[0.0, \"#0d0887\"], [0.1111111111111111, \"#46039f\"], [0.2222222222222222, \"#7201a8\"], [0.3333333333333333, \"#9c179e\"], [0.4444444444444444, \"#bd3786\"], [0.5555555555555556, \"#d8576b\"], [0.6666666666666666, \"#ed7953\"], [0.7777777777777778, \"#fb9f3a\"], [0.8888888888888888, \"#fdca26\"], [1.0, \"#f0f921\"]]}, \"colorway\": [\"#636efa\", \"#EF553B\", \"#00cc96\", \"#ab63fa\", \"#FFA15A\", \"#19d3f3\", \"#FF6692\", \"#B6E880\", \"#FF97FF\", \"#FECB52\"], \"font\": {\"color\": \"#2a3f5f\"}, \"geo\": {\"bgcolor\": \"white\", \"lakecolor\": \"white\", \"landcolor\": \"#E5ECF6\", \"showlakes\": true, \"showland\": true, \"subunitcolor\": \"white\"}, \"hoverlabel\": {\"align\": \"left\"}, \"hovermode\": \"closest\", \"mapbox\": {\"style\": \"light\"}, \"paper_bgcolor\": \"white\", \"plot_bgcolor\": \"#E5ECF6\", \"polar\": {\"angularaxis\": {\"gridcolor\": \"white\", \"linecolor\": \"white\", \"ticks\": \"\"}, \"bgcolor\": \"#E5ECF6\", \"radialaxis\": {\"gridcolor\": \"white\", \"linecolor\": \"white\", \"ticks\": \"\"}}, \"scene\": {\"xaxis\": {\"backgroundcolor\": \"#E5ECF6\", \"gridcolor\": \"white\", \"gridwidth\": 2, \"linecolor\": \"white\", \"showbackground\": true, \"ticks\": \"\", \"zerolinecolor\": \"white\"}, \"yaxis\": {\"backgroundcolor\": \"#E5ECF6\", \"gridcolor\": \"white\", \"gridwidth\": 2, \"linecolor\": \"white\", \"showbackground\": true, \"ticks\": \"\", \"zerolinecolor\": \"white\"}, \"zaxis\": {\"backgroundcolor\": \"#E5ECF6\", \"gridcolor\": \"white\", \"gridwidth\": 2, \"linecolor\": \"white\", \"showbackground\": true, \"ticks\": \"\", \"zerolinecolor\": \"white\"}}, \"shapedefaults\": {\"line\": {\"color\": \"#2a3f5f\"}}, \"ternary\": {\"aaxis\": {\"gridcolor\": \"white\", \"linecolor\": \"white\", \"ticks\": \"\"}, \"baxis\": {\"gridcolor\": \"white\", \"linecolor\": \"white\", \"ticks\": \"\"}, \"bgcolor\": \"#E5ECF6\", \"caxis\": {\"gridcolor\": \"white\", \"linecolor\": \"white\", \"ticks\": \"\"}}, \"title\": {\"x\": 0.05}, \"xaxis\": {\"automargin\": true, \"gridcolor\": \"white\", \"linecolor\": \"white\", \"ticks\": \"\", \"title\": {\"standoff\": 15}, \"zerolinecolor\": \"white\", \"zerolinewidth\": 2}, \"yaxis\": {\"automargin\": true, \"gridcolor\": \"white\", \"linecolor\": \"white\", \"ticks\": \"\", \"title\": {\"standoff\": 15}, \"zerolinecolor\": \"white\", \"zerolinewidth\": 2}}}, \"xaxis\": {\"anchor\": \"y\", \"domain\": [0.0, 1.0], \"range\": [0, 68.0], \"title\": {\"text\": \"Date\"}}, \"yaxis\": {\"anchor\": \"x\", \"domain\": [0.0, 1.0], \"range\": [-1, 176.0], \"title\": {\"text\": \"Count\"}}},\n",
       "                        {\"responsive\": true}\n",
       "                    ).then(function(){\n",
       "                            \n",
       "var gd = document.getElementById('98872dd0-abd1-43ad-a6b9-929c3138717e');\n",
       "var x = new MutationObserver(function (mutations, observer) {{\n",
       "        var display = window.getComputedStyle(gd).display;\n",
       "        if (!display || display === 'none') {{\n",
       "            console.log([gd, 'removed!']);\n",
       "            Plotly.purge(gd);\n",
       "            observer.disconnect();\n",
       "        }}\n",
       "}});\n",
       "\n",
       "// Listen for the removal of the full notebook cells\n",
       "var notebookContainer = gd.closest('#notebook-container');\n",
       "if (notebookContainer) {{\n",
       "    x.observe(notebookContainer, {childList: true});\n",
       "}}\n",
       "\n",
       "// Listen for the clearing of the current output cell\n",
       "var outputEl = gd.closest('.output');\n",
       "if (outputEl) {{\n",
       "    x.observe(outputEl, {childList: true});\n",
       "}}\n",
       "\n",
       "                        })\n",
       "                };\n",
       "                });\n",
       "            </script>\n",
       "        </div>"
      ]
     },
     "metadata": {},
     "output_type": "display_data"
    },
    {
     "data": {
      "application/vnd.plotly.v1+json": {
       "config": {
        "plotlyServerURL": "https://plot.ly"
       },
       "data": [
        {
         "alignmentgroup": "True",
         "hoverlabel": {
          "namelength": 0
         },
         "hovertemplate": "type=Recovered<br>Date=%{x}<br>Count=%{y}",
         "legendgroup": "Recovered",
         "marker": {
          "color": "#636efa"
         },
         "name": "Recovered",
         "offsetgroup": "Recovered",
         "orientation": "v",
         "showlegend": true,
         "textposition": "auto",
         "type": "bar",
         "x": [
          "1/23/20",
          "1/24/20",
          "1/25/20",
          "1/26/20",
          "1/27/20",
          "1/28/20",
          "1/29/20",
          "1/30/20",
          "1/31/20",
          "2/1/20",
          "2/2/20",
          "2/3/20",
          "2/4/20",
          "2/5/20",
          "2/6/20",
          "2/7/20",
          "2/8/20",
          "2/9/20",
          "2/10/20",
          "2/11/20",
          "2/12/20",
          "2/13/20",
          "2/14/20",
          "2/15/20",
          "2/16/20",
          "2/17/20",
          "2/18/20",
          "2/19/20",
          "2/20/20",
          "2/21/20",
          "2/22/20",
          "2/23/20",
          "2/24/20",
          "2/25/20",
          "2/26/20",
          "2/27/20",
          "2/28/20",
          "2/29/20",
          "3/1/20",
          "3/2/20",
          "3/3/20",
          "3/4/20",
          "3/5/20",
          "3/6/20",
          "3/7/20",
          "3/8/20",
          "3/9/20",
          "3/10/20",
          "3/11/20",
          "3/12/20",
          "3/13/20",
          "3/14/20",
          "3/15/20",
          "3/16/20",
          "3/17/20",
          "3/18/20",
          "3/19/20",
          "3/20/20",
          "3/21/20",
          "3/22/20",
          "3/23/20",
          "3/24/20",
          "3/25/20",
          "3/26/20",
          "3/27/20",
          "3/28/20",
          "3/29/20"
         ],
         "xaxis": "x",
         "y": [
          0,
          0,
          0,
          0,
          0,
          0,
          0,
          0,
          0,
          0,
          0,
          0,
          0,
          0,
          0,
          0,
          0,
          0,
          0,
          0,
          0,
          0,
          0,
          0,
          3,
          0,
          0,
          0,
          0,
          0,
          0,
          0,
          0,
          0,
          0,
          0,
          0,
          0,
          0,
          0,
          0,
          0,
          0,
          0,
          0,
          0,
          0,
          1,
          0,
          0,
          0,
          0,
          9,
          0,
          1,
          0,
          1,
          5,
          3,
          4,
          0,
          13,
          3,
          2,
          28,
          11,
          11
         ],
         "yaxis": "y"
        },
        {
         "alignmentgroup": "True",
         "hoverlabel": {
          "namelength": 0
         },
         "hovertemplate": "type=Confirmed<br>Date=%{x}<br>Count=%{y}",
         "legendgroup": "Confirmed",
         "marker": {
          "color": "#EF553B"
         },
         "name": "Confirmed",
         "offsetgroup": "Confirmed",
         "orientation": "v",
         "showlegend": true,
         "textposition": "auto",
         "type": "bar",
         "x": [
          "1/23/20",
          "1/24/20",
          "1/25/20",
          "1/26/20",
          "1/27/20",
          "1/28/20",
          "1/29/20",
          "1/30/20",
          "1/31/20",
          "2/1/20",
          "2/2/20",
          "2/3/20",
          "2/4/20",
          "2/5/20",
          "2/6/20",
          "2/7/20",
          "2/8/20",
          "2/9/20",
          "2/10/20",
          "2/11/20",
          "2/12/20",
          "2/13/20",
          "2/14/20",
          "2/15/20",
          "2/16/20",
          "2/17/20",
          "2/18/20",
          "2/19/20",
          "2/20/20",
          "2/21/20",
          "2/22/20",
          "2/23/20",
          "2/24/20",
          "2/25/20",
          "2/26/20",
          "2/27/20",
          "2/28/20",
          "2/29/20",
          "3/1/20",
          "3/2/20",
          "3/3/20",
          "3/4/20",
          "3/5/20",
          "3/6/20",
          "3/7/20",
          "3/8/20",
          "3/9/20",
          "3/10/20",
          "3/11/20",
          "3/12/20",
          "3/13/20",
          "3/14/20",
          "3/15/20",
          "3/16/20",
          "3/17/20",
          "3/18/20",
          "3/19/20",
          "3/20/20",
          "3/21/20",
          "3/22/20",
          "3/23/20",
          "3/24/20",
          "3/25/20",
          "3/26/20",
          "3/27/20",
          "3/28/20",
          "3/29/20"
         ],
         "xaxis": "x",
         "y": [
          0,
          0,
          0,
          0,
          0,
          0,
          0,
          1,
          0,
          0,
          1,
          1,
          0,
          0,
          0,
          0,
          0,
          0,
          0,
          0,
          0,
          0,
          0,
          0,
          0,
          0,
          0,
          0,
          0,
          0,
          0,
          0,
          0,
          0,
          0,
          0,
          0,
          0,
          0,
          2,
          0,
          23,
          2,
          1,
          3,
          5,
          4,
          13,
          6,
          11,
          9,
          20,
          11,
          6,
          23,
          14,
          38,
          50,
          86,
          66,
          103,
          37,
          121,
          70,
          160,
          100,
          37
         ],
         "yaxis": "y"
        },
        {
         "alignmentgroup": "True",
         "hoverlabel": {
          "namelength": 0
         },
         "hovertemplate": "type=Deaths<br>Date=%{x}<br>Count=%{y}",
         "legendgroup": "Deaths",
         "marker": {
          "color": "#00cc96"
         },
         "name": "Deaths",
         "offsetgroup": "Deaths",
         "orientation": "v",
         "showlegend": true,
         "textposition": "auto",
         "type": "bar",
         "x": [
          "1/23/20",
          "1/24/20",
          "1/25/20",
          "1/26/20",
          "1/27/20",
          "1/28/20",
          "1/29/20",
          "1/30/20",
          "1/31/20",
          "2/1/20",
          "2/2/20",
          "2/3/20",
          "2/4/20",
          "2/5/20",
          "2/6/20",
          "2/7/20",
          "2/8/20",
          "2/9/20",
          "2/10/20",
          "2/11/20",
          "2/12/20",
          "2/13/20",
          "2/14/20",
          "2/15/20",
          "2/16/20",
          "2/17/20",
          "2/18/20",
          "2/19/20",
          "2/20/20",
          "2/21/20",
          "2/22/20",
          "2/23/20",
          "2/24/20",
          "2/25/20",
          "2/26/20",
          "2/27/20",
          "2/28/20",
          "2/29/20",
          "3/1/20",
          "3/2/20",
          "3/3/20",
          "3/4/20",
          "3/5/20",
          "3/6/20",
          "3/7/20",
          "3/8/20",
          "3/9/20",
          "3/10/20",
          "3/11/20",
          "3/12/20",
          "3/13/20",
          "3/14/20",
          "3/15/20",
          "3/16/20",
          "3/17/20",
          "3/18/20",
          "3/19/20",
          "3/20/20",
          "3/21/20",
          "3/22/20",
          "3/23/20",
          "3/24/20",
          "3/25/20",
          "3/26/20",
          "3/27/20",
          "3/28/20",
          "3/29/20"
         ],
         "xaxis": "x",
         "y": [
          0,
          0,
          0,
          0,
          0,
          0,
          0,
          0,
          0,
          0,
          0,
          0,
          0,
          0,
          0,
          0,
          0,
          0,
          0,
          0,
          0,
          0,
          0,
          0,
          0,
          0,
          0,
          0,
          0,
          0,
          0,
          0,
          0,
          0,
          0,
          0,
          0,
          0,
          0,
          0,
          0,
          0,
          0,
          0,
          0,
          0,
          0,
          0,
          1,
          0,
          1,
          0,
          0,
          0,
          1,
          0,
          1,
          1,
          -1,
          3,
          3,
          0,
          2,
          8,
          0,
          4,
          3
         ],
         "yaxis": "y"
        }
       ],
       "layout": {
        "barmode": "relative",
        "legend": {
         "title": {
          "text": "type"
         },
         "tracegroupgap": 0
        },
        "margin": {
         "t": 60
        },
        "template": {
         "data": {
          "bar": [
           {
            "error_x": {
             "color": "#2a3f5f"
            },
            "error_y": {
             "color": "#2a3f5f"
            },
            "marker": {
             "line": {
              "color": "#E5ECF6",
              "width": 0.5
             }
            },
            "type": "bar"
           }
          ],
          "barpolar": [
           {
            "marker": {
             "line": {
              "color": "#E5ECF6",
              "width": 0.5
             }
            },
            "type": "barpolar"
           }
          ],
          "carpet": [
           {
            "aaxis": {
             "endlinecolor": "#2a3f5f",
             "gridcolor": "white",
             "linecolor": "white",
             "minorgridcolor": "white",
             "startlinecolor": "#2a3f5f"
            },
            "baxis": {
             "endlinecolor": "#2a3f5f",
             "gridcolor": "white",
             "linecolor": "white",
             "minorgridcolor": "white",
             "startlinecolor": "#2a3f5f"
            },
            "type": "carpet"
           }
          ],
          "choropleth": [
           {
            "colorbar": {
             "outlinewidth": 0,
             "ticks": ""
            },
            "type": "choropleth"
           }
          ],
          "contour": [
           {
            "colorbar": {
             "outlinewidth": 0,
             "ticks": ""
            },
            "colorscale": [
             [
              0,
              "#0d0887"
             ],
             [
              0.1111111111111111,
              "#46039f"
             ],
             [
              0.2222222222222222,
              "#7201a8"
             ],
             [
              0.3333333333333333,
              "#9c179e"
             ],
             [
              0.4444444444444444,
              "#bd3786"
             ],
             [
              0.5555555555555556,
              "#d8576b"
             ],
             [
              0.6666666666666666,
              "#ed7953"
             ],
             [
              0.7777777777777778,
              "#fb9f3a"
             ],
             [
              0.8888888888888888,
              "#fdca26"
             ],
             [
              1,
              "#f0f921"
             ]
            ],
            "type": "contour"
           }
          ],
          "contourcarpet": [
           {
            "colorbar": {
             "outlinewidth": 0,
             "ticks": ""
            },
            "type": "contourcarpet"
           }
          ],
          "heatmap": [
           {
            "colorbar": {
             "outlinewidth": 0,
             "ticks": ""
            },
            "colorscale": [
             [
              0,
              "#0d0887"
             ],
             [
              0.1111111111111111,
              "#46039f"
             ],
             [
              0.2222222222222222,
              "#7201a8"
             ],
             [
              0.3333333333333333,
              "#9c179e"
             ],
             [
              0.4444444444444444,
              "#bd3786"
             ],
             [
              0.5555555555555556,
              "#d8576b"
             ],
             [
              0.6666666666666666,
              "#ed7953"
             ],
             [
              0.7777777777777778,
              "#fb9f3a"
             ],
             [
              0.8888888888888888,
              "#fdca26"
             ],
             [
              1,
              "#f0f921"
             ]
            ],
            "type": "heatmap"
           }
          ],
          "heatmapgl": [
           {
            "colorbar": {
             "outlinewidth": 0,
             "ticks": ""
            },
            "colorscale": [
             [
              0,
              "#0d0887"
             ],
             [
              0.1111111111111111,
              "#46039f"
             ],
             [
              0.2222222222222222,
              "#7201a8"
             ],
             [
              0.3333333333333333,
              "#9c179e"
             ],
             [
              0.4444444444444444,
              "#bd3786"
             ],
             [
              0.5555555555555556,
              "#d8576b"
             ],
             [
              0.6666666666666666,
              "#ed7953"
             ],
             [
              0.7777777777777778,
              "#fb9f3a"
             ],
             [
              0.8888888888888888,
              "#fdca26"
             ],
             [
              1,
              "#f0f921"
             ]
            ],
            "type": "heatmapgl"
           }
          ],
          "histogram": [
           {
            "marker": {
             "colorbar": {
              "outlinewidth": 0,
              "ticks": ""
             }
            },
            "type": "histogram"
           }
          ],
          "histogram2d": [
           {
            "colorbar": {
             "outlinewidth": 0,
             "ticks": ""
            },
            "colorscale": [
             [
              0,
              "#0d0887"
             ],
             [
              0.1111111111111111,
              "#46039f"
             ],
             [
              0.2222222222222222,
              "#7201a8"
             ],
             [
              0.3333333333333333,
              "#9c179e"
             ],
             [
              0.4444444444444444,
              "#bd3786"
             ],
             [
              0.5555555555555556,
              "#d8576b"
             ],
             [
              0.6666666666666666,
              "#ed7953"
             ],
             [
              0.7777777777777778,
              "#fb9f3a"
             ],
             [
              0.8888888888888888,
              "#fdca26"
             ],
             [
              1,
              "#f0f921"
             ]
            ],
            "type": "histogram2d"
           }
          ],
          "histogram2dcontour": [
           {
            "colorbar": {
             "outlinewidth": 0,
             "ticks": ""
            },
            "colorscale": [
             [
              0,
              "#0d0887"
             ],
             [
              0.1111111111111111,
              "#46039f"
             ],
             [
              0.2222222222222222,
              "#7201a8"
             ],
             [
              0.3333333333333333,
              "#9c179e"
             ],
             [
              0.4444444444444444,
              "#bd3786"
             ],
             [
              0.5555555555555556,
              "#d8576b"
             ],
             [
              0.6666666666666666,
              "#ed7953"
             ],
             [
              0.7777777777777778,
              "#fb9f3a"
             ],
             [
              0.8888888888888888,
              "#fdca26"
             ],
             [
              1,
              "#f0f921"
             ]
            ],
            "type": "histogram2dcontour"
           }
          ],
          "mesh3d": [
           {
            "colorbar": {
             "outlinewidth": 0,
             "ticks": ""
            },
            "type": "mesh3d"
           }
          ],
          "parcoords": [
           {
            "line": {
             "colorbar": {
              "outlinewidth": 0,
              "ticks": ""
             }
            },
            "type": "parcoords"
           }
          ],
          "pie": [
           {
            "automargin": true,
            "type": "pie"
           }
          ],
          "scatter": [
           {
            "marker": {
             "colorbar": {
              "outlinewidth": 0,
              "ticks": ""
             }
            },
            "type": "scatter"
           }
          ],
          "scatter3d": [
           {
            "line": {
             "colorbar": {
              "outlinewidth": 0,
              "ticks": ""
             }
            },
            "marker": {
             "colorbar": {
              "outlinewidth": 0,
              "ticks": ""
             }
            },
            "type": "scatter3d"
           }
          ],
          "scattercarpet": [
           {
            "marker": {
             "colorbar": {
              "outlinewidth": 0,
              "ticks": ""
             }
            },
            "type": "scattercarpet"
           }
          ],
          "scattergeo": [
           {
            "marker": {
             "colorbar": {
              "outlinewidth": 0,
              "ticks": ""
             }
            },
            "type": "scattergeo"
           }
          ],
          "scattergl": [
           {
            "marker": {
             "colorbar": {
              "outlinewidth": 0,
              "ticks": ""
             }
            },
            "type": "scattergl"
           }
          ],
          "scattermapbox": [
           {
            "marker": {
             "colorbar": {
              "outlinewidth": 0,
              "ticks": ""
             }
            },
            "type": "scattermapbox"
           }
          ],
          "scatterpolar": [
           {
            "marker": {
             "colorbar": {
              "outlinewidth": 0,
              "ticks": ""
             }
            },
            "type": "scatterpolar"
           }
          ],
          "scatterpolargl": [
           {
            "marker": {
             "colorbar": {
              "outlinewidth": 0,
              "ticks": ""
             }
            },
            "type": "scatterpolargl"
           }
          ],
          "scatterternary": [
           {
            "marker": {
             "colorbar": {
              "outlinewidth": 0,
              "ticks": ""
             }
            },
            "type": "scatterternary"
           }
          ],
          "surface": [
           {
            "colorbar": {
             "outlinewidth": 0,
             "ticks": ""
            },
            "colorscale": [
             [
              0,
              "#0d0887"
             ],
             [
              0.1111111111111111,
              "#46039f"
             ],
             [
              0.2222222222222222,
              "#7201a8"
             ],
             [
              0.3333333333333333,
              "#9c179e"
             ],
             [
              0.4444444444444444,
              "#bd3786"
             ],
             [
              0.5555555555555556,
              "#d8576b"
             ],
             [
              0.6666666666666666,
              "#ed7953"
             ],
             [
              0.7777777777777778,
              "#fb9f3a"
             ],
             [
              0.8888888888888888,
              "#fdca26"
             ],
             [
              1,
              "#f0f921"
             ]
            ],
            "type": "surface"
           }
          ],
          "table": [
           {
            "cells": {
             "fill": {
              "color": "#EBF0F8"
             },
             "line": {
              "color": "white"
             }
            },
            "header": {
             "fill": {
              "color": "#C8D4E3"
             },
             "line": {
              "color": "white"
             }
            },
            "type": "table"
           }
          ]
         },
         "layout": {
          "annotationdefaults": {
           "arrowcolor": "#2a3f5f",
           "arrowhead": 0,
           "arrowwidth": 1
          },
          "coloraxis": {
           "colorbar": {
            "outlinewidth": 0,
            "ticks": ""
           }
          },
          "colorscale": {
           "diverging": [
            [
             0,
             "#8e0152"
            ],
            [
             0.1,
             "#c51b7d"
            ],
            [
             0.2,
             "#de77ae"
            ],
            [
             0.3,
             "#f1b6da"
            ],
            [
             0.4,
             "#fde0ef"
            ],
            [
             0.5,
             "#f7f7f7"
            ],
            [
             0.6,
             "#e6f5d0"
            ],
            [
             0.7,
             "#b8e186"
            ],
            [
             0.8,
             "#7fbc41"
            ],
            [
             0.9,
             "#4d9221"
            ],
            [
             1,
             "#276419"
            ]
           ],
           "sequential": [
            [
             0,
             "#0d0887"
            ],
            [
             0.1111111111111111,
             "#46039f"
            ],
            [
             0.2222222222222222,
             "#7201a8"
            ],
            [
             0.3333333333333333,
             "#9c179e"
            ],
            [
             0.4444444444444444,
             "#bd3786"
            ],
            [
             0.5555555555555556,
             "#d8576b"
            ],
            [
             0.6666666666666666,
             "#ed7953"
            ],
            [
             0.7777777777777778,
             "#fb9f3a"
            ],
            [
             0.8888888888888888,
             "#fdca26"
            ],
            [
             1,
             "#f0f921"
            ]
           ],
           "sequentialminus": [
            [
             0,
             "#0d0887"
            ],
            [
             0.1111111111111111,
             "#46039f"
            ],
            [
             0.2222222222222222,
             "#7201a8"
            ],
            [
             0.3333333333333333,
             "#9c179e"
            ],
            [
             0.4444444444444444,
             "#bd3786"
            ],
            [
             0.5555555555555556,
             "#d8576b"
            ],
            [
             0.6666666666666666,
             "#ed7953"
            ],
            [
             0.7777777777777778,
             "#fb9f3a"
            ],
            [
             0.8888888888888888,
             "#fdca26"
            ],
            [
             1,
             "#f0f921"
            ]
           ]
          },
          "colorway": [
           "#636efa",
           "#EF553B",
           "#00cc96",
           "#ab63fa",
           "#FFA15A",
           "#19d3f3",
           "#FF6692",
           "#B6E880",
           "#FF97FF",
           "#FECB52"
          ],
          "font": {
           "color": "#2a3f5f"
          },
          "geo": {
           "bgcolor": "white",
           "lakecolor": "white",
           "landcolor": "#E5ECF6",
           "showlakes": true,
           "showland": true,
           "subunitcolor": "white"
          },
          "hoverlabel": {
           "align": "left"
          },
          "hovermode": "closest",
          "mapbox": {
           "style": "light"
          },
          "paper_bgcolor": "white",
          "plot_bgcolor": "#E5ECF6",
          "polar": {
           "angularaxis": {
            "gridcolor": "white",
            "linecolor": "white",
            "ticks": ""
           },
           "bgcolor": "#E5ECF6",
           "radialaxis": {
            "gridcolor": "white",
            "linecolor": "white",
            "ticks": ""
           }
          },
          "scene": {
           "xaxis": {
            "backgroundcolor": "#E5ECF6",
            "gridcolor": "white",
            "gridwidth": 2,
            "linecolor": "white",
            "showbackground": true,
            "ticks": "",
            "zerolinecolor": "white"
           },
           "yaxis": {
            "backgroundcolor": "#E5ECF6",
            "gridcolor": "white",
            "gridwidth": 2,
            "linecolor": "white",
            "showbackground": true,
            "ticks": "",
            "zerolinecolor": "white"
           },
           "zaxis": {
            "backgroundcolor": "#E5ECF6",
            "gridcolor": "white",
            "gridwidth": 2,
            "linecolor": "white",
            "showbackground": true,
            "ticks": "",
            "zerolinecolor": "white"
           }
          },
          "shapedefaults": {
           "line": {
            "color": "#2a3f5f"
           }
          },
          "ternary": {
           "aaxis": {
            "gridcolor": "white",
            "linecolor": "white",
            "ticks": ""
           },
           "baxis": {
            "gridcolor": "white",
            "linecolor": "white",
            "ticks": ""
           },
           "bgcolor": "#E5ECF6",
           "caxis": {
            "gridcolor": "white",
            "linecolor": "white",
            "ticks": ""
           }
          },
          "title": {
           "x": 0.05
          },
          "xaxis": {
           "automargin": true,
           "gridcolor": "white",
           "linecolor": "white",
           "ticks": "",
           "title": {
            "standoff": 15
           },
           "zerolinecolor": "white",
           "zerolinewidth": 2
          },
          "yaxis": {
           "automargin": true,
           "gridcolor": "white",
           "linecolor": "white",
           "ticks": "",
           "title": {
            "standoff": 15
           },
           "zerolinecolor": "white",
           "zerolinewidth": 2
          }
         }
        },
        "xaxis": {
         "anchor": "y",
         "domain": [
          0,
          1
         ],
         "title": {
          "text": "Date"
         }
        },
        "yaxis": {
         "anchor": "x",
         "domain": [
          0,
          1
         ],
         "title": {
          "text": "Count"
         }
        }
       }
      },
      "text/html": [
       "<div>\n",
       "        \n",
       "        \n",
       "            <div id=\"c62a6ad9-1c54-470f-bebe-d3f8a00329a4\" class=\"plotly-graph-div\" style=\"height:525px; width:100%;\"></div>\n",
       "            <script type=\"text/javascript\">\n",
       "                require([\"plotly\"], function(Plotly) {\n",
       "                    window.PLOTLYENV=window.PLOTLYENV || {};\n",
       "                    \n",
       "                if (document.getElementById(\"c62a6ad9-1c54-470f-bebe-d3f8a00329a4\")) {\n",
       "                    Plotly.newPlot(\n",
       "                        'c62a6ad9-1c54-470f-bebe-d3f8a00329a4',\n",
       "                        [{\"alignmentgroup\": \"True\", \"hoverlabel\": {\"namelength\": 0}, \"hovertemplate\": \"type=Recovered<br>Date=%{x}<br>Count=%{y}\", \"legendgroup\": \"Recovered\", \"marker\": {\"color\": \"#636efa\"}, \"name\": \"Recovered\", \"offsetgroup\": \"Recovered\", \"orientation\": \"v\", \"showlegend\": true, \"textposition\": \"auto\", \"type\": \"bar\", \"x\": [\"1/23/20\", \"1/24/20\", \"1/25/20\", \"1/26/20\", \"1/27/20\", \"1/28/20\", \"1/29/20\", \"1/30/20\", \"1/31/20\", \"2/1/20\", \"2/2/20\", \"2/3/20\", \"2/4/20\", \"2/5/20\", \"2/6/20\", \"2/7/20\", \"2/8/20\", \"2/9/20\", \"2/10/20\", \"2/11/20\", \"2/12/20\", \"2/13/20\", \"2/14/20\", \"2/15/20\", \"2/16/20\", \"2/17/20\", \"2/18/20\", \"2/19/20\", \"2/20/20\", \"2/21/20\", \"2/22/20\", \"2/23/20\", \"2/24/20\", \"2/25/20\", \"2/26/20\", \"2/27/20\", \"2/28/20\", \"2/29/20\", \"3/1/20\", \"3/2/20\", \"3/3/20\", \"3/4/20\", \"3/5/20\", \"3/6/20\", \"3/7/20\", \"3/8/20\", \"3/9/20\", \"3/10/20\", \"3/11/20\", \"3/12/20\", \"3/13/20\", \"3/14/20\", \"3/15/20\", \"3/16/20\", \"3/17/20\", \"3/18/20\", \"3/19/20\", \"3/20/20\", \"3/21/20\", \"3/22/20\", \"3/23/20\", \"3/24/20\", \"3/25/20\", \"3/26/20\", \"3/27/20\", \"3/28/20\", \"3/29/20\"], \"xaxis\": \"x\", \"y\": [0, 0, 0, 0, 0, 0, 0, 0, 0, 0, 0, 0, 0, 0, 0, 0, 0, 0, 0, 0, 0, 0, 0, 0, 3, 0, 0, 0, 0, 0, 0, 0, 0, 0, 0, 0, 0, 0, 0, 0, 0, 0, 0, 0, 0, 0, 0, 1, 0, 0, 0, 0, 9, 0, 1, 0, 1, 5, 3, 4, 0, 13, 3, 2, 28, 11, 11], \"yaxis\": \"y\"}, {\"alignmentgroup\": \"True\", \"hoverlabel\": {\"namelength\": 0}, \"hovertemplate\": \"type=Confirmed<br>Date=%{x}<br>Count=%{y}\", \"legendgroup\": \"Confirmed\", \"marker\": {\"color\": \"#EF553B\"}, \"name\": \"Confirmed\", \"offsetgroup\": \"Confirmed\", \"orientation\": \"v\", \"showlegend\": true, \"textposition\": \"auto\", \"type\": \"bar\", \"x\": [\"1/23/20\", \"1/24/20\", \"1/25/20\", \"1/26/20\", \"1/27/20\", \"1/28/20\", \"1/29/20\", \"1/30/20\", \"1/31/20\", \"2/1/20\", \"2/2/20\", \"2/3/20\", \"2/4/20\", \"2/5/20\", \"2/6/20\", \"2/7/20\", \"2/8/20\", \"2/9/20\", \"2/10/20\", \"2/11/20\", \"2/12/20\", \"2/13/20\", \"2/14/20\", \"2/15/20\", \"2/16/20\", \"2/17/20\", \"2/18/20\", \"2/19/20\", \"2/20/20\", \"2/21/20\", \"2/22/20\", \"2/23/20\", \"2/24/20\", \"2/25/20\", \"2/26/20\", \"2/27/20\", \"2/28/20\", \"2/29/20\", \"3/1/20\", \"3/2/20\", \"3/3/20\", \"3/4/20\", \"3/5/20\", \"3/6/20\", \"3/7/20\", \"3/8/20\", \"3/9/20\", \"3/10/20\", \"3/11/20\", \"3/12/20\", \"3/13/20\", \"3/14/20\", \"3/15/20\", \"3/16/20\", \"3/17/20\", \"3/18/20\", \"3/19/20\", \"3/20/20\", \"3/21/20\", \"3/22/20\", \"3/23/20\", \"3/24/20\", \"3/25/20\", \"3/26/20\", \"3/27/20\", \"3/28/20\", \"3/29/20\"], \"xaxis\": \"x\", \"y\": [0, 0, 0, 0, 0, 0, 0, 1, 0, 0, 1, 1, 0, 0, 0, 0, 0, 0, 0, 0, 0, 0, 0, 0, 0, 0, 0, 0, 0, 0, 0, 0, 0, 0, 0, 0, 0, 0, 0, 2, 0, 23, 2, 1, 3, 5, 4, 13, 6, 11, 9, 20, 11, 6, 23, 14, 38, 50, 86, 66, 103, 37, 121, 70, 160, 100, 37], \"yaxis\": \"y\"}, {\"alignmentgroup\": \"True\", \"hoverlabel\": {\"namelength\": 0}, \"hovertemplate\": \"type=Deaths<br>Date=%{x}<br>Count=%{y}\", \"legendgroup\": \"Deaths\", \"marker\": {\"color\": \"#00cc96\"}, \"name\": \"Deaths\", \"offsetgroup\": \"Deaths\", \"orientation\": \"v\", \"showlegend\": true, \"textposition\": \"auto\", \"type\": \"bar\", \"x\": [\"1/23/20\", \"1/24/20\", \"1/25/20\", \"1/26/20\", \"1/27/20\", \"1/28/20\", \"1/29/20\", \"1/30/20\", \"1/31/20\", \"2/1/20\", \"2/2/20\", \"2/3/20\", \"2/4/20\", \"2/5/20\", \"2/6/20\", \"2/7/20\", \"2/8/20\", \"2/9/20\", \"2/10/20\", \"2/11/20\", \"2/12/20\", \"2/13/20\", \"2/14/20\", \"2/15/20\", \"2/16/20\", \"2/17/20\", \"2/18/20\", \"2/19/20\", \"2/20/20\", \"2/21/20\", \"2/22/20\", \"2/23/20\", \"2/24/20\", \"2/25/20\", \"2/26/20\", \"2/27/20\", \"2/28/20\", \"2/29/20\", \"3/1/20\", \"3/2/20\", \"3/3/20\", \"3/4/20\", \"3/5/20\", \"3/6/20\", \"3/7/20\", \"3/8/20\", \"3/9/20\", \"3/10/20\", \"3/11/20\", \"3/12/20\", \"3/13/20\", \"3/14/20\", \"3/15/20\", \"3/16/20\", \"3/17/20\", \"3/18/20\", \"3/19/20\", \"3/20/20\", \"3/21/20\", \"3/22/20\", \"3/23/20\", \"3/24/20\", \"3/25/20\", \"3/26/20\", \"3/27/20\", \"3/28/20\", \"3/29/20\"], \"xaxis\": \"x\", \"y\": [0, 0, 0, 0, 0, 0, 0, 0, 0, 0, 0, 0, 0, 0, 0, 0, 0, 0, 0, 0, 0, 0, 0, 0, 0, 0, 0, 0, 0, 0, 0, 0, 0, 0, 0, 0, 0, 0, 0, 0, 0, 0, 0, 0, 0, 0, 0, 0, 1, 0, 1, 0, 0, 0, 1, 0, 1, 1, -1, 3, 3, 0, 2, 8, 0, 4, 3], \"yaxis\": \"y\"}],\n",
       "                        {\"barmode\": \"relative\", \"legend\": {\"title\": {\"text\": \"type\"}, \"tracegroupgap\": 0}, \"margin\": {\"t\": 60}, \"template\": {\"data\": {\"bar\": [{\"error_x\": {\"color\": \"#2a3f5f\"}, \"error_y\": {\"color\": \"#2a3f5f\"}, \"marker\": {\"line\": {\"color\": \"#E5ECF6\", \"width\": 0.5}}, \"type\": \"bar\"}], \"barpolar\": [{\"marker\": {\"line\": {\"color\": \"#E5ECF6\", \"width\": 0.5}}, \"type\": \"barpolar\"}], \"carpet\": [{\"aaxis\": {\"endlinecolor\": \"#2a3f5f\", \"gridcolor\": \"white\", \"linecolor\": \"white\", \"minorgridcolor\": \"white\", \"startlinecolor\": \"#2a3f5f\"}, \"baxis\": {\"endlinecolor\": \"#2a3f5f\", \"gridcolor\": \"white\", \"linecolor\": \"white\", \"minorgridcolor\": \"white\", \"startlinecolor\": \"#2a3f5f\"}, \"type\": \"carpet\"}], \"choropleth\": [{\"colorbar\": {\"outlinewidth\": 0, \"ticks\": \"\"}, \"type\": \"choropleth\"}], \"contour\": [{\"colorbar\": {\"outlinewidth\": 0, \"ticks\": \"\"}, \"colorscale\": [[0.0, \"#0d0887\"], [0.1111111111111111, \"#46039f\"], [0.2222222222222222, \"#7201a8\"], [0.3333333333333333, \"#9c179e\"], [0.4444444444444444, \"#bd3786\"], [0.5555555555555556, \"#d8576b\"], [0.6666666666666666, \"#ed7953\"], [0.7777777777777778, \"#fb9f3a\"], [0.8888888888888888, \"#fdca26\"], [1.0, \"#f0f921\"]], \"type\": \"contour\"}], \"contourcarpet\": [{\"colorbar\": {\"outlinewidth\": 0, \"ticks\": \"\"}, \"type\": \"contourcarpet\"}], \"heatmap\": [{\"colorbar\": {\"outlinewidth\": 0, \"ticks\": \"\"}, \"colorscale\": [[0.0, \"#0d0887\"], [0.1111111111111111, \"#46039f\"], [0.2222222222222222, \"#7201a8\"], [0.3333333333333333, \"#9c179e\"], [0.4444444444444444, \"#bd3786\"], [0.5555555555555556, \"#d8576b\"], [0.6666666666666666, \"#ed7953\"], [0.7777777777777778, \"#fb9f3a\"], [0.8888888888888888, \"#fdca26\"], [1.0, \"#f0f921\"]], \"type\": \"heatmap\"}], \"heatmapgl\": [{\"colorbar\": {\"outlinewidth\": 0, \"ticks\": \"\"}, \"colorscale\": [[0.0, \"#0d0887\"], [0.1111111111111111, \"#46039f\"], [0.2222222222222222, \"#7201a8\"], [0.3333333333333333, \"#9c179e\"], [0.4444444444444444, \"#bd3786\"], [0.5555555555555556, \"#d8576b\"], [0.6666666666666666, \"#ed7953\"], [0.7777777777777778, \"#fb9f3a\"], [0.8888888888888888, \"#fdca26\"], [1.0, \"#f0f921\"]], \"type\": \"heatmapgl\"}], \"histogram\": [{\"marker\": {\"colorbar\": {\"outlinewidth\": 0, \"ticks\": \"\"}}, \"type\": \"histogram\"}], \"histogram2d\": [{\"colorbar\": {\"outlinewidth\": 0, \"ticks\": \"\"}, \"colorscale\": [[0.0, \"#0d0887\"], [0.1111111111111111, \"#46039f\"], [0.2222222222222222, \"#7201a8\"], [0.3333333333333333, \"#9c179e\"], [0.4444444444444444, \"#bd3786\"], [0.5555555555555556, \"#d8576b\"], [0.6666666666666666, \"#ed7953\"], [0.7777777777777778, \"#fb9f3a\"], [0.8888888888888888, \"#fdca26\"], [1.0, \"#f0f921\"]], \"type\": \"histogram2d\"}], \"histogram2dcontour\": [{\"colorbar\": {\"outlinewidth\": 0, \"ticks\": \"\"}, \"colorscale\": [[0.0, \"#0d0887\"], [0.1111111111111111, \"#46039f\"], [0.2222222222222222, \"#7201a8\"], [0.3333333333333333, \"#9c179e\"], [0.4444444444444444, \"#bd3786\"], [0.5555555555555556, \"#d8576b\"], [0.6666666666666666, \"#ed7953\"], [0.7777777777777778, \"#fb9f3a\"], [0.8888888888888888, \"#fdca26\"], [1.0, \"#f0f921\"]], \"type\": \"histogram2dcontour\"}], \"mesh3d\": [{\"colorbar\": {\"outlinewidth\": 0, \"ticks\": \"\"}, \"type\": \"mesh3d\"}], \"parcoords\": [{\"line\": {\"colorbar\": {\"outlinewidth\": 0, \"ticks\": \"\"}}, \"type\": \"parcoords\"}], \"pie\": [{\"automargin\": true, \"type\": \"pie\"}], \"scatter\": [{\"marker\": {\"colorbar\": {\"outlinewidth\": 0, \"ticks\": \"\"}}, \"type\": \"scatter\"}], \"scatter3d\": [{\"line\": {\"colorbar\": {\"outlinewidth\": 0, \"ticks\": \"\"}}, \"marker\": {\"colorbar\": {\"outlinewidth\": 0, \"ticks\": \"\"}}, \"type\": \"scatter3d\"}], \"scattercarpet\": [{\"marker\": {\"colorbar\": {\"outlinewidth\": 0, \"ticks\": \"\"}}, \"type\": \"scattercarpet\"}], \"scattergeo\": [{\"marker\": {\"colorbar\": {\"outlinewidth\": 0, \"ticks\": \"\"}}, \"type\": \"scattergeo\"}], \"scattergl\": [{\"marker\": {\"colorbar\": {\"outlinewidth\": 0, \"ticks\": \"\"}}, \"type\": \"scattergl\"}], \"scattermapbox\": [{\"marker\": {\"colorbar\": {\"outlinewidth\": 0, \"ticks\": \"\"}}, \"type\": \"scattermapbox\"}], \"scatterpolar\": [{\"marker\": {\"colorbar\": {\"outlinewidth\": 0, \"ticks\": \"\"}}, \"type\": \"scatterpolar\"}], \"scatterpolargl\": [{\"marker\": {\"colorbar\": {\"outlinewidth\": 0, \"ticks\": \"\"}}, \"type\": \"scatterpolargl\"}], \"scatterternary\": [{\"marker\": {\"colorbar\": {\"outlinewidth\": 0, \"ticks\": \"\"}}, \"type\": \"scatterternary\"}], \"surface\": [{\"colorbar\": {\"outlinewidth\": 0, \"ticks\": \"\"}, \"colorscale\": [[0.0, \"#0d0887\"], [0.1111111111111111, \"#46039f\"], [0.2222222222222222, \"#7201a8\"], [0.3333333333333333, \"#9c179e\"], [0.4444444444444444, \"#bd3786\"], [0.5555555555555556, \"#d8576b\"], [0.6666666666666666, \"#ed7953\"], [0.7777777777777778, \"#fb9f3a\"], [0.8888888888888888, \"#fdca26\"], [1.0, \"#f0f921\"]], \"type\": \"surface\"}], \"table\": [{\"cells\": {\"fill\": {\"color\": \"#EBF0F8\"}, \"line\": {\"color\": \"white\"}}, \"header\": {\"fill\": {\"color\": \"#C8D4E3\"}, \"line\": {\"color\": \"white\"}}, \"type\": \"table\"}]}, \"layout\": {\"annotationdefaults\": {\"arrowcolor\": \"#2a3f5f\", \"arrowhead\": 0, \"arrowwidth\": 1}, \"coloraxis\": {\"colorbar\": {\"outlinewidth\": 0, \"ticks\": \"\"}}, \"colorscale\": {\"diverging\": [[0, \"#8e0152\"], [0.1, \"#c51b7d\"], [0.2, \"#de77ae\"], [0.3, \"#f1b6da\"], [0.4, \"#fde0ef\"], [0.5, \"#f7f7f7\"], [0.6, \"#e6f5d0\"], [0.7, \"#b8e186\"], [0.8, \"#7fbc41\"], [0.9, \"#4d9221\"], [1, \"#276419\"]], \"sequential\": [[0.0, \"#0d0887\"], [0.1111111111111111, \"#46039f\"], [0.2222222222222222, \"#7201a8\"], [0.3333333333333333, \"#9c179e\"], [0.4444444444444444, \"#bd3786\"], [0.5555555555555556, \"#d8576b\"], [0.6666666666666666, \"#ed7953\"], [0.7777777777777778, \"#fb9f3a\"], [0.8888888888888888, \"#fdca26\"], [1.0, \"#f0f921\"]], \"sequentialminus\": [[0.0, \"#0d0887\"], [0.1111111111111111, \"#46039f\"], [0.2222222222222222, \"#7201a8\"], [0.3333333333333333, \"#9c179e\"], [0.4444444444444444, \"#bd3786\"], [0.5555555555555556, \"#d8576b\"], [0.6666666666666666, \"#ed7953\"], [0.7777777777777778, \"#fb9f3a\"], [0.8888888888888888, \"#fdca26\"], [1.0, \"#f0f921\"]]}, \"colorway\": [\"#636efa\", \"#EF553B\", \"#00cc96\", \"#ab63fa\", \"#FFA15A\", \"#19d3f3\", \"#FF6692\", \"#B6E880\", \"#FF97FF\", \"#FECB52\"], \"font\": {\"color\": \"#2a3f5f\"}, \"geo\": {\"bgcolor\": \"white\", \"lakecolor\": \"white\", \"landcolor\": \"#E5ECF6\", \"showlakes\": true, \"showland\": true, \"subunitcolor\": \"white\"}, \"hoverlabel\": {\"align\": \"left\"}, \"hovermode\": \"closest\", \"mapbox\": {\"style\": \"light\"}, \"paper_bgcolor\": \"white\", \"plot_bgcolor\": \"#E5ECF6\", \"polar\": {\"angularaxis\": {\"gridcolor\": \"white\", \"linecolor\": \"white\", \"ticks\": \"\"}, \"bgcolor\": \"#E5ECF6\", \"radialaxis\": {\"gridcolor\": \"white\", \"linecolor\": \"white\", \"ticks\": \"\"}}, \"scene\": {\"xaxis\": {\"backgroundcolor\": \"#E5ECF6\", \"gridcolor\": \"white\", \"gridwidth\": 2, \"linecolor\": \"white\", \"showbackground\": true, \"ticks\": \"\", \"zerolinecolor\": \"white\"}, \"yaxis\": {\"backgroundcolor\": \"#E5ECF6\", \"gridcolor\": \"white\", \"gridwidth\": 2, \"linecolor\": \"white\", \"showbackground\": true, \"ticks\": \"\", \"zerolinecolor\": \"white\"}, \"zaxis\": {\"backgroundcolor\": \"#E5ECF6\", \"gridcolor\": \"white\", \"gridwidth\": 2, \"linecolor\": \"white\", \"showbackground\": true, \"ticks\": \"\", \"zerolinecolor\": \"white\"}}, \"shapedefaults\": {\"line\": {\"color\": \"#2a3f5f\"}}, \"ternary\": {\"aaxis\": {\"gridcolor\": \"white\", \"linecolor\": \"white\", \"ticks\": \"\"}, \"baxis\": {\"gridcolor\": \"white\", \"linecolor\": \"white\", \"ticks\": \"\"}, \"bgcolor\": \"#E5ECF6\", \"caxis\": {\"gridcolor\": \"white\", \"linecolor\": \"white\", \"ticks\": \"\"}}, \"title\": {\"x\": 0.05}, \"xaxis\": {\"automargin\": true, \"gridcolor\": \"white\", \"linecolor\": \"white\", \"ticks\": \"\", \"title\": {\"standoff\": 15}, \"zerolinecolor\": \"white\", \"zerolinewidth\": 2}, \"yaxis\": {\"automargin\": true, \"gridcolor\": \"white\", \"linecolor\": \"white\", \"ticks\": \"\", \"title\": {\"standoff\": 15}, \"zerolinecolor\": \"white\", \"zerolinewidth\": 2}}}, \"xaxis\": {\"anchor\": \"y\", \"domain\": [0.0, 1.0], \"title\": {\"text\": \"Date\"}}, \"yaxis\": {\"anchor\": \"x\", \"domain\": [0.0, 1.0], \"title\": {\"text\": \"Count\"}}},\n",
       "                        {\"responsive\": true}\n",
       "                    ).then(function(){\n",
       "                            \n",
       "var gd = document.getElementById('c62a6ad9-1c54-470f-bebe-d3f8a00329a4');\n",
       "var x = new MutationObserver(function (mutations, observer) {{\n",
       "        var display = window.getComputedStyle(gd).display;\n",
       "        if (!display || display === 'none') {{\n",
       "            console.log([gd, 'removed!']);\n",
       "            Plotly.purge(gd);\n",
       "            observer.disconnect();\n",
       "        }}\n",
       "}});\n",
       "\n",
       "// Listen for the removal of the full notebook cells\n",
       "var notebookContainer = gd.closest('#notebook-container');\n",
       "if (notebookContainer) {{\n",
       "    x.observe(notebookContainer, {childList: true});\n",
       "}}\n",
       "\n",
       "// Listen for the clearing of the current output cell\n",
       "var outputEl = gd.closest('.output');\n",
       "if (outputEl) {{\n",
       "    x.observe(outputEl, {childList: true});\n",
       "}}\n",
       "\n",
       "                        })\n",
       "                };\n",
       "                });\n",
       "            </script>\n",
       "        </div>"
      ]
     },
     "metadata": {},
     "output_type": "display_data"
    },
    {
     "data": {
      "application/vnd.plotly.v1+json": {
       "config": {
        "plotlyServerURL": "https://plot.ly"
       },
       "data": [
        {
         "mode": "lines+markers",
         "name": "Recovered",
         "type": "scatter",
         "x": [
          "1/23/20",
          "1/24/20",
          "1/25/20",
          "1/26/20",
          "1/27/20",
          "1/28/20",
          "1/29/20",
          "1/30/20",
          "1/31/20",
          "2/1/20",
          "2/2/20",
          "2/3/20",
          "2/4/20",
          "2/5/20",
          "2/6/20",
          "2/7/20",
          "2/8/20",
          "2/9/20",
          "2/10/20",
          "2/11/20",
          "2/12/20",
          "2/13/20",
          "2/14/20",
          "2/15/20",
          "2/16/20",
          "2/17/20",
          "2/18/20",
          "2/19/20",
          "2/20/20",
          "2/21/20",
          "2/22/20",
          "2/23/20",
          "2/24/20",
          "2/25/20",
          "2/26/20",
          "2/27/20",
          "2/28/20",
          "2/29/20",
          "3/1/20",
          "3/2/20",
          "3/3/20",
          "3/4/20",
          "3/5/20",
          "3/6/20",
          "3/7/20",
          "3/8/20",
          "3/9/20",
          "3/10/20",
          "3/11/20",
          "3/12/20",
          "3/13/20",
          "3/14/20",
          "3/15/20",
          "3/16/20",
          "3/17/20",
          "3/18/20",
          "3/19/20",
          "3/20/20",
          "3/21/20",
          "3/22/20",
          "3/23/20",
          "3/24/20",
          "3/25/20",
          "3/26/20",
          "3/27/20",
          "3/28/20",
          "3/29/20"
         ],
         "y": [
          0,
          0,
          0,
          0,
          0,
          0,
          0,
          0,
          0,
          0,
          0,
          0,
          0,
          0,
          0,
          0,
          0,
          0,
          0,
          0,
          0,
          0,
          0,
          0,
          3,
          0,
          0,
          0,
          0,
          0,
          0,
          0,
          0,
          0,
          0,
          0,
          0,
          0,
          0,
          0,
          0,
          0,
          0,
          0,
          0,
          0,
          0,
          1,
          0,
          0,
          0,
          0,
          9,
          0,
          1,
          0,
          1,
          5,
          3,
          4,
          0,
          13,
          3,
          2,
          28,
          11,
          11
         ]
        },
        {
         "mode": "lines+markers",
         "name": "Death",
         "type": "scatter",
         "x": [
          "1/23/20",
          "1/24/20",
          "1/25/20",
          "1/26/20",
          "1/27/20",
          "1/28/20",
          "1/29/20",
          "1/30/20",
          "1/31/20",
          "2/1/20",
          "2/2/20",
          "2/3/20",
          "2/4/20",
          "2/5/20",
          "2/6/20",
          "2/7/20",
          "2/8/20",
          "2/9/20",
          "2/10/20",
          "2/11/20",
          "2/12/20",
          "2/13/20",
          "2/14/20",
          "2/15/20",
          "2/16/20",
          "2/17/20",
          "2/18/20",
          "2/19/20",
          "2/20/20",
          "2/21/20",
          "2/22/20",
          "2/23/20",
          "2/24/20",
          "2/25/20",
          "2/26/20",
          "2/27/20",
          "2/28/20",
          "2/29/20",
          "3/1/20",
          "3/2/20",
          "3/3/20",
          "3/4/20",
          "3/5/20",
          "3/6/20",
          "3/7/20",
          "3/8/20",
          "3/9/20",
          "3/10/20",
          "3/11/20",
          "3/12/20",
          "3/13/20",
          "3/14/20",
          "3/15/20",
          "3/16/20",
          "3/17/20",
          "3/18/20",
          "3/19/20",
          "3/20/20",
          "3/21/20",
          "3/22/20",
          "3/23/20",
          "3/24/20",
          "3/25/20",
          "3/26/20",
          "3/27/20",
          "3/28/20",
          "3/29/20"
         ],
         "y": [
          0,
          0,
          0,
          0,
          0,
          0,
          0,
          0,
          0,
          0,
          0,
          0,
          0,
          0,
          0,
          0,
          0,
          0,
          0,
          0,
          0,
          0,
          0,
          0,
          0,
          0,
          0,
          0,
          0,
          0,
          0,
          0,
          0,
          0,
          0,
          0,
          0,
          0,
          0,
          0,
          0,
          0,
          0,
          0,
          0,
          0,
          0,
          0,
          1,
          0,
          1,
          0,
          0,
          0,
          1,
          0,
          1,
          1,
          -1,
          3,
          3,
          0,
          2,
          8,
          0,
          4,
          3
         ]
        }
       ],
       "layout": {
        "template": {
         "data": {
          "bar": [
           {
            "error_x": {
             "color": "#2a3f5f"
            },
            "error_y": {
             "color": "#2a3f5f"
            },
            "marker": {
             "line": {
              "color": "#E5ECF6",
              "width": 0.5
             }
            },
            "type": "bar"
           }
          ],
          "barpolar": [
           {
            "marker": {
             "line": {
              "color": "#E5ECF6",
              "width": 0.5
             }
            },
            "type": "barpolar"
           }
          ],
          "carpet": [
           {
            "aaxis": {
             "endlinecolor": "#2a3f5f",
             "gridcolor": "white",
             "linecolor": "white",
             "minorgridcolor": "white",
             "startlinecolor": "#2a3f5f"
            },
            "baxis": {
             "endlinecolor": "#2a3f5f",
             "gridcolor": "white",
             "linecolor": "white",
             "minorgridcolor": "white",
             "startlinecolor": "#2a3f5f"
            },
            "type": "carpet"
           }
          ],
          "choropleth": [
           {
            "colorbar": {
             "outlinewidth": 0,
             "ticks": ""
            },
            "type": "choropleth"
           }
          ],
          "contour": [
           {
            "colorbar": {
             "outlinewidth": 0,
             "ticks": ""
            },
            "colorscale": [
             [
              0,
              "#0d0887"
             ],
             [
              0.1111111111111111,
              "#46039f"
             ],
             [
              0.2222222222222222,
              "#7201a8"
             ],
             [
              0.3333333333333333,
              "#9c179e"
             ],
             [
              0.4444444444444444,
              "#bd3786"
             ],
             [
              0.5555555555555556,
              "#d8576b"
             ],
             [
              0.6666666666666666,
              "#ed7953"
             ],
             [
              0.7777777777777778,
              "#fb9f3a"
             ],
             [
              0.8888888888888888,
              "#fdca26"
             ],
             [
              1,
              "#f0f921"
             ]
            ],
            "type": "contour"
           }
          ],
          "contourcarpet": [
           {
            "colorbar": {
             "outlinewidth": 0,
             "ticks": ""
            },
            "type": "contourcarpet"
           }
          ],
          "heatmap": [
           {
            "colorbar": {
             "outlinewidth": 0,
             "ticks": ""
            },
            "colorscale": [
             [
              0,
              "#0d0887"
             ],
             [
              0.1111111111111111,
              "#46039f"
             ],
             [
              0.2222222222222222,
              "#7201a8"
             ],
             [
              0.3333333333333333,
              "#9c179e"
             ],
             [
              0.4444444444444444,
              "#bd3786"
             ],
             [
              0.5555555555555556,
              "#d8576b"
             ],
             [
              0.6666666666666666,
              "#ed7953"
             ],
             [
              0.7777777777777778,
              "#fb9f3a"
             ],
             [
              0.8888888888888888,
              "#fdca26"
             ],
             [
              1,
              "#f0f921"
             ]
            ],
            "type": "heatmap"
           }
          ],
          "heatmapgl": [
           {
            "colorbar": {
             "outlinewidth": 0,
             "ticks": ""
            },
            "colorscale": [
             [
              0,
              "#0d0887"
             ],
             [
              0.1111111111111111,
              "#46039f"
             ],
             [
              0.2222222222222222,
              "#7201a8"
             ],
             [
              0.3333333333333333,
              "#9c179e"
             ],
             [
              0.4444444444444444,
              "#bd3786"
             ],
             [
              0.5555555555555556,
              "#d8576b"
             ],
             [
              0.6666666666666666,
              "#ed7953"
             ],
             [
              0.7777777777777778,
              "#fb9f3a"
             ],
             [
              0.8888888888888888,
              "#fdca26"
             ],
             [
              1,
              "#f0f921"
             ]
            ],
            "type": "heatmapgl"
           }
          ],
          "histogram": [
           {
            "marker": {
             "colorbar": {
              "outlinewidth": 0,
              "ticks": ""
             }
            },
            "type": "histogram"
           }
          ],
          "histogram2d": [
           {
            "colorbar": {
             "outlinewidth": 0,
             "ticks": ""
            },
            "colorscale": [
             [
              0,
              "#0d0887"
             ],
             [
              0.1111111111111111,
              "#46039f"
             ],
             [
              0.2222222222222222,
              "#7201a8"
             ],
             [
              0.3333333333333333,
              "#9c179e"
             ],
             [
              0.4444444444444444,
              "#bd3786"
             ],
             [
              0.5555555555555556,
              "#d8576b"
             ],
             [
              0.6666666666666666,
              "#ed7953"
             ],
             [
              0.7777777777777778,
              "#fb9f3a"
             ],
             [
              0.8888888888888888,
              "#fdca26"
             ],
             [
              1,
              "#f0f921"
             ]
            ],
            "type": "histogram2d"
           }
          ],
          "histogram2dcontour": [
           {
            "colorbar": {
             "outlinewidth": 0,
             "ticks": ""
            },
            "colorscale": [
             [
              0,
              "#0d0887"
             ],
             [
              0.1111111111111111,
              "#46039f"
             ],
             [
              0.2222222222222222,
              "#7201a8"
             ],
             [
              0.3333333333333333,
              "#9c179e"
             ],
             [
              0.4444444444444444,
              "#bd3786"
             ],
             [
              0.5555555555555556,
              "#d8576b"
             ],
             [
              0.6666666666666666,
              "#ed7953"
             ],
             [
              0.7777777777777778,
              "#fb9f3a"
             ],
             [
              0.8888888888888888,
              "#fdca26"
             ],
             [
              1,
              "#f0f921"
             ]
            ],
            "type": "histogram2dcontour"
           }
          ],
          "mesh3d": [
           {
            "colorbar": {
             "outlinewidth": 0,
             "ticks": ""
            },
            "type": "mesh3d"
           }
          ],
          "parcoords": [
           {
            "line": {
             "colorbar": {
              "outlinewidth": 0,
              "ticks": ""
             }
            },
            "type": "parcoords"
           }
          ],
          "pie": [
           {
            "automargin": true,
            "type": "pie"
           }
          ],
          "scatter": [
           {
            "marker": {
             "colorbar": {
              "outlinewidth": 0,
              "ticks": ""
             }
            },
            "type": "scatter"
           }
          ],
          "scatter3d": [
           {
            "line": {
             "colorbar": {
              "outlinewidth": 0,
              "ticks": ""
             }
            },
            "marker": {
             "colorbar": {
              "outlinewidth": 0,
              "ticks": ""
             }
            },
            "type": "scatter3d"
           }
          ],
          "scattercarpet": [
           {
            "marker": {
             "colorbar": {
              "outlinewidth": 0,
              "ticks": ""
             }
            },
            "type": "scattercarpet"
           }
          ],
          "scattergeo": [
           {
            "marker": {
             "colorbar": {
              "outlinewidth": 0,
              "ticks": ""
             }
            },
            "type": "scattergeo"
           }
          ],
          "scattergl": [
           {
            "marker": {
             "colorbar": {
              "outlinewidth": 0,
              "ticks": ""
             }
            },
            "type": "scattergl"
           }
          ],
          "scattermapbox": [
           {
            "marker": {
             "colorbar": {
              "outlinewidth": 0,
              "ticks": ""
             }
            },
            "type": "scattermapbox"
           }
          ],
          "scatterpolar": [
           {
            "marker": {
             "colorbar": {
              "outlinewidth": 0,
              "ticks": ""
             }
            },
            "type": "scatterpolar"
           }
          ],
          "scatterpolargl": [
           {
            "marker": {
             "colorbar": {
              "outlinewidth": 0,
              "ticks": ""
             }
            },
            "type": "scatterpolargl"
           }
          ],
          "scatterternary": [
           {
            "marker": {
             "colorbar": {
              "outlinewidth": 0,
              "ticks": ""
             }
            },
            "type": "scatterternary"
           }
          ],
          "surface": [
           {
            "colorbar": {
             "outlinewidth": 0,
             "ticks": ""
            },
            "colorscale": [
             [
              0,
              "#0d0887"
             ],
             [
              0.1111111111111111,
              "#46039f"
             ],
             [
              0.2222222222222222,
              "#7201a8"
             ],
             [
              0.3333333333333333,
              "#9c179e"
             ],
             [
              0.4444444444444444,
              "#bd3786"
             ],
             [
              0.5555555555555556,
              "#d8576b"
             ],
             [
              0.6666666666666666,
              "#ed7953"
             ],
             [
              0.7777777777777778,
              "#fb9f3a"
             ],
             [
              0.8888888888888888,
              "#fdca26"
             ],
             [
              1,
              "#f0f921"
             ]
            ],
            "type": "surface"
           }
          ],
          "table": [
           {
            "cells": {
             "fill": {
              "color": "#EBF0F8"
             },
             "line": {
              "color": "white"
             }
            },
            "header": {
             "fill": {
              "color": "#C8D4E3"
             },
             "line": {
              "color": "white"
             }
            },
            "type": "table"
           }
          ]
         },
         "layout": {
          "annotationdefaults": {
           "arrowcolor": "#2a3f5f",
           "arrowhead": 0,
           "arrowwidth": 1
          },
          "coloraxis": {
           "colorbar": {
            "outlinewidth": 0,
            "ticks": ""
           }
          },
          "colorscale": {
           "diverging": [
            [
             0,
             "#8e0152"
            ],
            [
             0.1,
             "#c51b7d"
            ],
            [
             0.2,
             "#de77ae"
            ],
            [
             0.3,
             "#f1b6da"
            ],
            [
             0.4,
             "#fde0ef"
            ],
            [
             0.5,
             "#f7f7f7"
            ],
            [
             0.6,
             "#e6f5d0"
            ],
            [
             0.7,
             "#b8e186"
            ],
            [
             0.8,
             "#7fbc41"
            ],
            [
             0.9,
             "#4d9221"
            ],
            [
             1,
             "#276419"
            ]
           ],
           "sequential": [
            [
             0,
             "#0d0887"
            ],
            [
             0.1111111111111111,
             "#46039f"
            ],
            [
             0.2222222222222222,
             "#7201a8"
            ],
            [
             0.3333333333333333,
             "#9c179e"
            ],
            [
             0.4444444444444444,
             "#bd3786"
            ],
            [
             0.5555555555555556,
             "#d8576b"
            ],
            [
             0.6666666666666666,
             "#ed7953"
            ],
            [
             0.7777777777777778,
             "#fb9f3a"
            ],
            [
             0.8888888888888888,
             "#fdca26"
            ],
            [
             1,
             "#f0f921"
            ]
           ],
           "sequentialminus": [
            [
             0,
             "#0d0887"
            ],
            [
             0.1111111111111111,
             "#46039f"
            ],
            [
             0.2222222222222222,
             "#7201a8"
            ],
            [
             0.3333333333333333,
             "#9c179e"
            ],
            [
             0.4444444444444444,
             "#bd3786"
            ],
            [
             0.5555555555555556,
             "#d8576b"
            ],
            [
             0.6666666666666666,
             "#ed7953"
            ],
            [
             0.7777777777777778,
             "#fb9f3a"
            ],
            [
             0.8888888888888888,
             "#fdca26"
            ],
            [
             1,
             "#f0f921"
            ]
           ]
          },
          "colorway": [
           "#636efa",
           "#EF553B",
           "#00cc96",
           "#ab63fa",
           "#FFA15A",
           "#19d3f3",
           "#FF6692",
           "#B6E880",
           "#FF97FF",
           "#FECB52"
          ],
          "font": {
           "color": "#2a3f5f"
          },
          "geo": {
           "bgcolor": "white",
           "lakecolor": "white",
           "landcolor": "#E5ECF6",
           "showlakes": true,
           "showland": true,
           "subunitcolor": "white"
          },
          "hoverlabel": {
           "align": "left"
          },
          "hovermode": "closest",
          "mapbox": {
           "style": "light"
          },
          "paper_bgcolor": "white",
          "plot_bgcolor": "#E5ECF6",
          "polar": {
           "angularaxis": {
            "gridcolor": "white",
            "linecolor": "white",
            "ticks": ""
           },
           "bgcolor": "#E5ECF6",
           "radialaxis": {
            "gridcolor": "white",
            "linecolor": "white",
            "ticks": ""
           }
          },
          "scene": {
           "xaxis": {
            "backgroundcolor": "#E5ECF6",
            "gridcolor": "white",
            "gridwidth": 2,
            "linecolor": "white",
            "showbackground": true,
            "ticks": "",
            "zerolinecolor": "white"
           },
           "yaxis": {
            "backgroundcolor": "#E5ECF6",
            "gridcolor": "white",
            "gridwidth": 2,
            "linecolor": "white",
            "showbackground": true,
            "ticks": "",
            "zerolinecolor": "white"
           },
           "zaxis": {
            "backgroundcolor": "#E5ECF6",
            "gridcolor": "white",
            "gridwidth": 2,
            "linecolor": "white",
            "showbackground": true,
            "ticks": "",
            "zerolinecolor": "white"
           }
          },
          "shapedefaults": {
           "line": {
            "color": "#2a3f5f"
           }
          },
          "ternary": {
           "aaxis": {
            "gridcolor": "white",
            "linecolor": "white",
            "ticks": ""
           },
           "baxis": {
            "gridcolor": "white",
            "linecolor": "white",
            "ticks": ""
           },
           "bgcolor": "#E5ECF6",
           "caxis": {
            "gridcolor": "white",
            "linecolor": "white",
            "ticks": ""
           }
          },
          "title": {
           "x": 0.05
          },
          "xaxis": {
           "automargin": true,
           "gridcolor": "white",
           "linecolor": "white",
           "ticks": "",
           "title": {
            "standoff": 15
           },
           "zerolinecolor": "white",
           "zerolinewidth": 2
          },
          "yaxis": {
           "automargin": true,
           "gridcolor": "white",
           "linecolor": "white",
           "ticks": "",
           "title": {
            "standoff": 15
           },
           "zerolinecolor": "white",
           "zerolinewidth": 2
          }
         }
        }
       }
      },
      "text/html": [
       "<div>\n",
       "        \n",
       "        \n",
       "            <div id=\"39e45438-4271-434e-b8be-e635415a50cf\" class=\"plotly-graph-div\" style=\"height:525px; width:100%;\"></div>\n",
       "            <script type=\"text/javascript\">\n",
       "                require([\"plotly\"], function(Plotly) {\n",
       "                    window.PLOTLYENV=window.PLOTLYENV || {};\n",
       "                    \n",
       "                if (document.getElementById(\"39e45438-4271-434e-b8be-e635415a50cf\")) {\n",
       "                    Plotly.newPlot(\n",
       "                        '39e45438-4271-434e-b8be-e635415a50cf',\n",
       "                        [{\"mode\": \"lines+markers\", \"name\": \"Recovered\", \"type\": \"scatter\", \"x\": [\"1/23/20\", \"1/24/20\", \"1/25/20\", \"1/26/20\", \"1/27/20\", \"1/28/20\", \"1/29/20\", \"1/30/20\", \"1/31/20\", \"2/1/20\", \"2/2/20\", \"2/3/20\", \"2/4/20\", \"2/5/20\", \"2/6/20\", \"2/7/20\", \"2/8/20\", \"2/9/20\", \"2/10/20\", \"2/11/20\", \"2/12/20\", \"2/13/20\", \"2/14/20\", \"2/15/20\", \"2/16/20\", \"2/17/20\", \"2/18/20\", \"2/19/20\", \"2/20/20\", \"2/21/20\", \"2/22/20\", \"2/23/20\", \"2/24/20\", \"2/25/20\", \"2/26/20\", \"2/27/20\", \"2/28/20\", \"2/29/20\", \"3/1/20\", \"3/2/20\", \"3/3/20\", \"3/4/20\", \"3/5/20\", \"3/6/20\", \"3/7/20\", \"3/8/20\", \"3/9/20\", \"3/10/20\", \"3/11/20\", \"3/12/20\", \"3/13/20\", \"3/14/20\", \"3/15/20\", \"3/16/20\", \"3/17/20\", \"3/18/20\", \"3/19/20\", \"3/20/20\", \"3/21/20\", \"3/22/20\", \"3/23/20\", \"3/24/20\", \"3/25/20\", \"3/26/20\", \"3/27/20\", \"3/28/20\", \"3/29/20\"], \"y\": [0, 0, 0, 0, 0, 0, 0, 0, 0, 0, 0, 0, 0, 0, 0, 0, 0, 0, 0, 0, 0, 0, 0, 0, 3, 0, 0, 0, 0, 0, 0, 0, 0, 0, 0, 0, 0, 0, 0, 0, 0, 0, 0, 0, 0, 0, 0, 1, 0, 0, 0, 0, 9, 0, 1, 0, 1, 5, 3, 4, 0, 13, 3, 2, 28, 11, 11]}, {\"mode\": \"lines+markers\", \"name\": \"Death\", \"type\": \"scatter\", \"x\": [\"1/23/20\", \"1/24/20\", \"1/25/20\", \"1/26/20\", \"1/27/20\", \"1/28/20\", \"1/29/20\", \"1/30/20\", \"1/31/20\", \"2/1/20\", \"2/2/20\", \"2/3/20\", \"2/4/20\", \"2/5/20\", \"2/6/20\", \"2/7/20\", \"2/8/20\", \"2/9/20\", \"2/10/20\", \"2/11/20\", \"2/12/20\", \"2/13/20\", \"2/14/20\", \"2/15/20\", \"2/16/20\", \"2/17/20\", \"2/18/20\", \"2/19/20\", \"2/20/20\", \"2/21/20\", \"2/22/20\", \"2/23/20\", \"2/24/20\", \"2/25/20\", \"2/26/20\", \"2/27/20\", \"2/28/20\", \"2/29/20\", \"3/1/20\", \"3/2/20\", \"3/3/20\", \"3/4/20\", \"3/5/20\", \"3/6/20\", \"3/7/20\", \"3/8/20\", \"3/9/20\", \"3/10/20\", \"3/11/20\", \"3/12/20\", \"3/13/20\", \"3/14/20\", \"3/15/20\", \"3/16/20\", \"3/17/20\", \"3/18/20\", \"3/19/20\", \"3/20/20\", \"3/21/20\", \"3/22/20\", \"3/23/20\", \"3/24/20\", \"3/25/20\", \"3/26/20\", \"3/27/20\", \"3/28/20\", \"3/29/20\"], \"y\": [0, 0, 0, 0, 0, 0, 0, 0, 0, 0, 0, 0, 0, 0, 0, 0, 0, 0, 0, 0, 0, 0, 0, 0, 0, 0, 0, 0, 0, 0, 0, 0, 0, 0, 0, 0, 0, 0, 0, 0, 0, 0, 0, 0, 0, 0, 0, 0, 1, 0, 1, 0, 0, 0, 1, 0, 1, 1, -1, 3, 3, 0, 2, 8, 0, 4, 3]}],\n",
       "                        {\"template\": {\"data\": {\"bar\": [{\"error_x\": {\"color\": \"#2a3f5f\"}, \"error_y\": {\"color\": \"#2a3f5f\"}, \"marker\": {\"line\": {\"color\": \"#E5ECF6\", \"width\": 0.5}}, \"type\": \"bar\"}], \"barpolar\": [{\"marker\": {\"line\": {\"color\": \"#E5ECF6\", \"width\": 0.5}}, \"type\": \"barpolar\"}], \"carpet\": [{\"aaxis\": {\"endlinecolor\": \"#2a3f5f\", \"gridcolor\": \"white\", \"linecolor\": \"white\", \"minorgridcolor\": \"white\", \"startlinecolor\": \"#2a3f5f\"}, \"baxis\": {\"endlinecolor\": \"#2a3f5f\", \"gridcolor\": \"white\", \"linecolor\": \"white\", \"minorgridcolor\": \"white\", \"startlinecolor\": \"#2a3f5f\"}, \"type\": \"carpet\"}], \"choropleth\": [{\"colorbar\": {\"outlinewidth\": 0, \"ticks\": \"\"}, \"type\": \"choropleth\"}], \"contour\": [{\"colorbar\": {\"outlinewidth\": 0, \"ticks\": \"\"}, \"colorscale\": [[0.0, \"#0d0887\"], [0.1111111111111111, \"#46039f\"], [0.2222222222222222, \"#7201a8\"], [0.3333333333333333, \"#9c179e\"], [0.4444444444444444, \"#bd3786\"], [0.5555555555555556, \"#d8576b\"], [0.6666666666666666, \"#ed7953\"], [0.7777777777777778, \"#fb9f3a\"], [0.8888888888888888, \"#fdca26\"], [1.0, \"#f0f921\"]], \"type\": \"contour\"}], \"contourcarpet\": [{\"colorbar\": {\"outlinewidth\": 0, \"ticks\": \"\"}, \"type\": \"contourcarpet\"}], \"heatmap\": [{\"colorbar\": {\"outlinewidth\": 0, \"ticks\": \"\"}, \"colorscale\": [[0.0, \"#0d0887\"], [0.1111111111111111, \"#46039f\"], [0.2222222222222222, \"#7201a8\"], [0.3333333333333333, \"#9c179e\"], [0.4444444444444444, \"#bd3786\"], [0.5555555555555556, \"#d8576b\"], [0.6666666666666666, \"#ed7953\"], [0.7777777777777778, \"#fb9f3a\"], [0.8888888888888888, \"#fdca26\"], [1.0, \"#f0f921\"]], \"type\": \"heatmap\"}], \"heatmapgl\": [{\"colorbar\": {\"outlinewidth\": 0, \"ticks\": \"\"}, \"colorscale\": [[0.0, \"#0d0887\"], [0.1111111111111111, \"#46039f\"], [0.2222222222222222, \"#7201a8\"], [0.3333333333333333, \"#9c179e\"], [0.4444444444444444, \"#bd3786\"], [0.5555555555555556, \"#d8576b\"], [0.6666666666666666, \"#ed7953\"], [0.7777777777777778, \"#fb9f3a\"], [0.8888888888888888, \"#fdca26\"], [1.0, \"#f0f921\"]], \"type\": \"heatmapgl\"}], \"histogram\": [{\"marker\": {\"colorbar\": {\"outlinewidth\": 0, \"ticks\": \"\"}}, \"type\": \"histogram\"}], \"histogram2d\": [{\"colorbar\": {\"outlinewidth\": 0, \"ticks\": \"\"}, \"colorscale\": [[0.0, \"#0d0887\"], [0.1111111111111111, \"#46039f\"], [0.2222222222222222, \"#7201a8\"], [0.3333333333333333, \"#9c179e\"], [0.4444444444444444, \"#bd3786\"], [0.5555555555555556, \"#d8576b\"], [0.6666666666666666, \"#ed7953\"], [0.7777777777777778, \"#fb9f3a\"], [0.8888888888888888, \"#fdca26\"], [1.0, \"#f0f921\"]], \"type\": \"histogram2d\"}], \"histogram2dcontour\": [{\"colorbar\": {\"outlinewidth\": 0, \"ticks\": \"\"}, \"colorscale\": [[0.0, \"#0d0887\"], [0.1111111111111111, \"#46039f\"], [0.2222222222222222, \"#7201a8\"], [0.3333333333333333, \"#9c179e\"], [0.4444444444444444, \"#bd3786\"], [0.5555555555555556, \"#d8576b\"], [0.6666666666666666, \"#ed7953\"], [0.7777777777777778, \"#fb9f3a\"], [0.8888888888888888, \"#fdca26\"], [1.0, \"#f0f921\"]], \"type\": \"histogram2dcontour\"}], \"mesh3d\": [{\"colorbar\": {\"outlinewidth\": 0, \"ticks\": \"\"}, \"type\": \"mesh3d\"}], \"parcoords\": [{\"line\": {\"colorbar\": {\"outlinewidth\": 0, \"ticks\": \"\"}}, \"type\": \"parcoords\"}], \"pie\": [{\"automargin\": true, \"type\": \"pie\"}], \"scatter\": [{\"marker\": {\"colorbar\": {\"outlinewidth\": 0, \"ticks\": \"\"}}, \"type\": \"scatter\"}], \"scatter3d\": [{\"line\": {\"colorbar\": {\"outlinewidth\": 0, \"ticks\": \"\"}}, \"marker\": {\"colorbar\": {\"outlinewidth\": 0, \"ticks\": \"\"}}, \"type\": \"scatter3d\"}], \"scattercarpet\": [{\"marker\": {\"colorbar\": {\"outlinewidth\": 0, \"ticks\": \"\"}}, \"type\": \"scattercarpet\"}], \"scattergeo\": [{\"marker\": {\"colorbar\": {\"outlinewidth\": 0, \"ticks\": \"\"}}, \"type\": \"scattergeo\"}], \"scattergl\": [{\"marker\": {\"colorbar\": {\"outlinewidth\": 0, \"ticks\": \"\"}}, \"type\": \"scattergl\"}], \"scattermapbox\": [{\"marker\": {\"colorbar\": {\"outlinewidth\": 0, \"ticks\": \"\"}}, \"type\": \"scattermapbox\"}], \"scatterpolar\": [{\"marker\": {\"colorbar\": {\"outlinewidth\": 0, \"ticks\": \"\"}}, \"type\": \"scatterpolar\"}], \"scatterpolargl\": [{\"marker\": {\"colorbar\": {\"outlinewidth\": 0, \"ticks\": \"\"}}, \"type\": \"scatterpolargl\"}], \"scatterternary\": [{\"marker\": {\"colorbar\": {\"outlinewidth\": 0, \"ticks\": \"\"}}, \"type\": \"scatterternary\"}], \"surface\": [{\"colorbar\": {\"outlinewidth\": 0, \"ticks\": \"\"}, \"colorscale\": [[0.0, \"#0d0887\"], [0.1111111111111111, \"#46039f\"], [0.2222222222222222, \"#7201a8\"], [0.3333333333333333, \"#9c179e\"], [0.4444444444444444, \"#bd3786\"], [0.5555555555555556, \"#d8576b\"], [0.6666666666666666, \"#ed7953\"], [0.7777777777777778, \"#fb9f3a\"], [0.8888888888888888, \"#fdca26\"], [1.0, \"#f0f921\"]], \"type\": \"surface\"}], \"table\": [{\"cells\": {\"fill\": {\"color\": \"#EBF0F8\"}, \"line\": {\"color\": \"white\"}}, \"header\": {\"fill\": {\"color\": \"#C8D4E3\"}, \"line\": {\"color\": \"white\"}}, \"type\": \"table\"}]}, \"layout\": {\"annotationdefaults\": {\"arrowcolor\": \"#2a3f5f\", \"arrowhead\": 0, \"arrowwidth\": 1}, \"coloraxis\": {\"colorbar\": {\"outlinewidth\": 0, \"ticks\": \"\"}}, \"colorscale\": {\"diverging\": [[0, \"#8e0152\"], [0.1, \"#c51b7d\"], [0.2, \"#de77ae\"], [0.3, \"#f1b6da\"], [0.4, \"#fde0ef\"], [0.5, \"#f7f7f7\"], [0.6, \"#e6f5d0\"], [0.7, \"#b8e186\"], [0.8, \"#7fbc41\"], [0.9, \"#4d9221\"], [1, \"#276419\"]], \"sequential\": [[0.0, \"#0d0887\"], [0.1111111111111111, \"#46039f\"], [0.2222222222222222, \"#7201a8\"], [0.3333333333333333, \"#9c179e\"], [0.4444444444444444, \"#bd3786\"], [0.5555555555555556, \"#d8576b\"], [0.6666666666666666, \"#ed7953\"], [0.7777777777777778, \"#fb9f3a\"], [0.8888888888888888, \"#fdca26\"], [1.0, \"#f0f921\"]], \"sequentialminus\": [[0.0, \"#0d0887\"], [0.1111111111111111, \"#46039f\"], [0.2222222222222222, \"#7201a8\"], [0.3333333333333333, \"#9c179e\"], [0.4444444444444444, \"#bd3786\"], [0.5555555555555556, \"#d8576b\"], [0.6666666666666666, \"#ed7953\"], [0.7777777777777778, \"#fb9f3a\"], [0.8888888888888888, \"#fdca26\"], [1.0, \"#f0f921\"]]}, \"colorway\": [\"#636efa\", \"#EF553B\", \"#00cc96\", \"#ab63fa\", \"#FFA15A\", \"#19d3f3\", \"#FF6692\", \"#B6E880\", \"#FF97FF\", \"#FECB52\"], \"font\": {\"color\": \"#2a3f5f\"}, \"geo\": {\"bgcolor\": \"white\", \"lakecolor\": \"white\", \"landcolor\": \"#E5ECF6\", \"showlakes\": true, \"showland\": true, \"subunitcolor\": \"white\"}, \"hoverlabel\": {\"align\": \"left\"}, \"hovermode\": \"closest\", \"mapbox\": {\"style\": \"light\"}, \"paper_bgcolor\": \"white\", \"plot_bgcolor\": \"#E5ECF6\", \"polar\": {\"angularaxis\": {\"gridcolor\": \"white\", \"linecolor\": \"white\", \"ticks\": \"\"}, \"bgcolor\": \"#E5ECF6\", \"radialaxis\": {\"gridcolor\": \"white\", \"linecolor\": \"white\", \"ticks\": \"\"}}, \"scene\": {\"xaxis\": {\"backgroundcolor\": \"#E5ECF6\", \"gridcolor\": \"white\", \"gridwidth\": 2, \"linecolor\": \"white\", \"showbackground\": true, \"ticks\": \"\", \"zerolinecolor\": \"white\"}, \"yaxis\": {\"backgroundcolor\": \"#E5ECF6\", \"gridcolor\": \"white\", \"gridwidth\": 2, \"linecolor\": \"white\", \"showbackground\": true, \"ticks\": \"\", \"zerolinecolor\": \"white\"}, \"zaxis\": {\"backgroundcolor\": \"#E5ECF6\", \"gridcolor\": \"white\", \"gridwidth\": 2, \"linecolor\": \"white\", \"showbackground\": true, \"ticks\": \"\", \"zerolinecolor\": \"white\"}}, \"shapedefaults\": {\"line\": {\"color\": \"#2a3f5f\"}}, \"ternary\": {\"aaxis\": {\"gridcolor\": \"white\", \"linecolor\": \"white\", \"ticks\": \"\"}, \"baxis\": {\"gridcolor\": \"white\", \"linecolor\": \"white\", \"ticks\": \"\"}, \"bgcolor\": \"#E5ECF6\", \"caxis\": {\"gridcolor\": \"white\", \"linecolor\": \"white\", \"ticks\": \"\"}}, \"title\": {\"x\": 0.05}, \"xaxis\": {\"automargin\": true, \"gridcolor\": \"white\", \"linecolor\": \"white\", \"ticks\": \"\", \"title\": {\"standoff\": 15}, \"zerolinecolor\": \"white\", \"zerolinewidth\": 2}, \"yaxis\": {\"automargin\": true, \"gridcolor\": \"white\", \"linecolor\": \"white\", \"ticks\": \"\", \"title\": {\"standoff\": 15}, \"zerolinecolor\": \"white\", \"zerolinewidth\": 2}}}},\n",
       "                        {\"responsive\": true}\n",
       "                    ).then(function(){\n",
       "                            \n",
       "var gd = document.getElementById('39e45438-4271-434e-b8be-e635415a50cf');\n",
       "var x = new MutationObserver(function (mutations, observer) {{\n",
       "        var display = window.getComputedStyle(gd).display;\n",
       "        if (!display || display === 'none') {{\n",
       "            console.log([gd, 'removed!']);\n",
       "            Plotly.purge(gd);\n",
       "            observer.disconnect();\n",
       "        }}\n",
       "}});\n",
       "\n",
       "// Listen for the removal of the full notebook cells\n",
       "var notebookContainer = gd.closest('#notebook-container');\n",
       "if (notebookContainer) {{\n",
       "    x.observe(notebookContainer, {childList: true});\n",
       "}}\n",
       "\n",
       "// Listen for the clearing of the current output cell\n",
       "var outputEl = gd.closest('.output');\n",
       "if (outputEl) {{\n",
       "    x.observe(outputEl, {childList: true});\n",
       "}}\n",
       "\n",
       "                        })\n",
       "                };\n",
       "                });\n",
       "            </script>\n",
       "        </div>"
      ]
     },
     "metadata": {},
     "output_type": "display_data"
    }
   ],
   "source": [
    "df=getMergedDataForReport('India')\n",
    "rf=getRecoveredDataForReport('India')\n",
    "ddf=getDeathDataForReport('India')\n",
    "fig = px.line(df, x='Date', y='Count',color='type',range_y=[-1,df['Count'].max()+(10*df['Count'].max()/100)],range_x=[0,df.shape[0]/3+1])\n",
    "fig.show()\n",
    "fig = px.bar(df, x='Date', y='Count',color='type')\n",
    "fig.show()\n",
    "\n",
    "fig = go.Figure()\n",
    "fig.add_trace(go.Scatter(x=rf['Date'],y=rf['Count'],mode='lines+markers',\n",
    "                    name='Recovered'))\n",
    "fig.add_trace(go.Scatter(x=ddf['Date'],y=ddf['Count'],mode='lines+markers',\n",
    "                    name='Death'))\n",
    "# fig.update_layout(xaxis_type=\"log\", yaxis_type=\"log\")\n",
    "fig.show()\n",
    "\n",
    "# df=getMergedDataForReport('Canada')\n",
    "# fig = px.line(df, x='Date', y='Count',color='type',range_y=[-1,df['Count'].max()+(10*df['Count'].max()/100)],range_x=[0,df.shape[0]/3+1])\n",
    "# fig.show()\n",
    "# fig = px.bar(df, x='Date', y='Count',color='type')\n",
    "# fig.show()\n",
    "\n",
    "# df=getMergedDataForReport('US')\n",
    "# fig = px.line(df, x='Date', y='Count',color='type',range_y=[-1,df['Count'].max()+(10*df['Count'].max()/100)],range_x=[0,df.shape[0]/3+1])\n",
    "# fig.show()\n",
    "# fig = px.bar(df, x='Date', y='Count',color='type')\n",
    "# fig.show()\n"
   ]
  },
  {
   "cell_type": "code",
   "execution_count": null,
   "metadata": {},
   "outputs": [],
   "source": []
  }
 ],
 "metadata": {
  "kernelspec": {
   "display_name": "Python 3",
   "language": "python",
   "name": "python3"
  },
  "language_info": {
   "codemirror_mode": {
    "name": "ipython",
    "version": 3
   },
   "file_extension": ".py",
   "mimetype": "text/x-python",
   "name": "python",
   "nbconvert_exporter": "python",
   "pygments_lexer": "ipython3",
   "version": "3.7.6"
  }
 },
 "nbformat": 4,
 "nbformat_minor": 4
}
